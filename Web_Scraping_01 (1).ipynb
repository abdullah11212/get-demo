{
 "cells": [
  {
   "cell_type": "markdown",
   "metadata": {},
   "source": [
    "# Tutorial: Web Scraping with Python Using Beautiful Soup"
   ]
  },
  {
   "cell_type": "markdown",
   "metadata": {},
   "source": [
    "# What is Web Scraping?"
   ]
  },
  {
   "cell_type": "markdown",
   "metadata": {},
   "source": [
    "        Web scraping is a technique to access and extract information from a website."
   ]
  },
  {
   "cell_type": "markdown",
   "metadata": {},
   "source": [
    "# Why Web Scraping?"
   ]
  },
  {
   "cell_type": "markdown",
   "metadata": {},
   "source": [
    "        - Collect data that is not available through an API\n",
    "        - Automate the process of collecting data (Save time and effort) \n",
    "        - Collect data that is updated dynamically"
   ]
  },
  {
   "cell_type": "markdown",
   "metadata": {},
   "source": [
    "# Is Web Scraping Legal?"
   ]
  },
  {
   "cell_type": "markdown",
   "metadata": {},
   "source": [
    "        * Web scraping is legal as long as you’re not violating the website terms of service .\n",
    "        * If the website doesn’t have a terms of service, you should be fine (web scraping consumes server resources for the host website)."
   ]
  },
  {
   "cell_type": "markdown",
   "metadata": {},
   "source": [
    "# The Components of a Web Page"
   ]
  },
  {
   "cell_type": "markdown",
   "metadata": {},
   "source": [
    "        * HTML: The markup language that defines the structure of a web page.\n",
    "        * CSS: The language that defines the style of a web page.\n",
    "        * JavaScript: The language that defines the behavior of a web page."
   ]
  },
  {
   "cell_type": "markdown",
   "metadata": {},
   "source": [
    "## HTML Tree Structure"
   ]
  },
  {
   "cell_type": "markdown",
   "metadata": {},
   "source": [
    "    <html>\n",
    "        <head>\n",
    "            <title>Page Title</title>\n",
    "        </head>\n",
    "        <body>\n",
    "            <h1>Heading 1</h1>\n",
    "            <p>Paragraph 1</p>\n",
    "            <p>Paragraph 2</p>\n",
    "            <p>Paragraph 3</p>\n",
    "        </body>\n",
    "    </html>"
   ]
  },
  {
   "cell_type": "markdown",
   "metadata": {},
   "source": [
    "## CSS Classes and IDs\n"
   ]
  },
  {
   "cell_type": "markdown",
   "metadata": {},
   "source": [
    "\n",
    "        * CSS classes and IDs are used to identify specific elements on a web page.\n",
    "        * CSS classes are used to identify multiple elements on a web page.\n",
    "        * CSS IDs are used to identify a single element on a web page.\n",
    "* Class: \n",
    "```\n",
    "<p class=\"class1\"> Paragraph 1 </p>\n",
    "<h2 class=\"class1\"> Heading 2 </h2>\n",
    "```\n",
    "\n",
    "* ID: \n",
    "```\n",
    "<p id=\"id1\">Paragraph 1</p>\n",
    "```\n",
    "\n"
   ]
  },
  {
   "cell_type": "markdown",
   "metadata": {},
   "source": [
    "# How Does Web Scraping Work?"
   ]
  },
  {
   "cell_type": "markdown",
   "metadata": {},
   "source": [
    "<center> <img src=\"web.png\"> </center>"
   ]
  },
  {
   "cell_type": "markdown",
   "metadata": {},
   "source": [
    "        * We’re essentially doing the same thing a web browser does — sending a server request with a specific URL and asking the server to return the code for that page.\n",
    "        * But unlike a web browser, our web scraping code won’t interpret the page’s source code and display the page visually.\n",
    "        * Instead, we’ll write some custom code that filters through the page’s source code looking for specific elements we’ve specified, and extracting whatever content we want."
   ]
  },
  {
   "cell_type": "markdown",
   "metadata": {},
   "source": [
    "        * We write a code that sends a request to the server that’s hosting the page we specified.\n",
    "        * The server will return the source code — HTML— for the page \n",
    "        * We can then parse the HTML to extract the data we want."
   ]
  },
  {
   "cell_type": "markdown",
   "metadata": {},
   "source": [
    "<center> <img src=\"response.png\"> </center> "
   ]
  }
 ],
 "metadata": {
  "kernelspec": {
   "display_name": "Python 3 (ipykernel)",
   "language": "python",
   "name": "python3"
  },
  "language_info": {
   "codemirror_mode": {
    "name": "ipython",
    "version": 3
   },
   "file_extension": ".py",
   "mimetype": "text/x-python",
   "name": "python",
   "nbconvert_exporter": "python",
   "pygments_lexer": "ipython3",
   "version": "3.9.12"
  },
  "vscode": {
   "interpreter": {
    "hash": "cf09db7c5a43ebc020488360be383d2a4c3a085f9fc26d5b11b1a561cf0ad7de"
   }
  }
 },
 "nbformat": 4,
 "nbformat_minor": 2
}
