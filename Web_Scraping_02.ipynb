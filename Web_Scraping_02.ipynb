{
 "cells": [
  {
   "cell_type": "markdown",
   "metadata": {
    "id": "X1HAFLbSV61u"
   },
   "source": [
    "# Tutorial: Web Scraping with Python Using Beautiful Soup"
   ]
  },
  {
   "cell_type": "markdown",
   "metadata": {
    "id": "E6sPkMFbV61x"
   },
   "source": [
    "        * We write a code that sends a request to the server that’s hosting the page we specified.\n",
    "        * The server will return the source code — HTML— for the page \n",
    "        * We can then parse the HTML to extract the data we want."
   ]
  },
  {
   "cell_type": "markdown",
   "metadata": {
    "id": "xQ2l05UYV61x"
   },
   "source": [
    "<center> <img src=\"response.png\"> </center> "
   ]
  },
  {
   "cell_type": "markdown",
   "metadata": {
    "id": "a8DTiB6RV61y"
   },
   "source": [
    "# Installing the required packages\n"
   ]
  },
  {
   "cell_type": "code",
   "execution_count": 1,
   "metadata": {
    "executionInfo": {
     "elapsed": 2,
     "status": "ok",
     "timestamp": 1669808523198,
     "user": {
      "displayName": "Zero Grad",
      "userId": "01667150129135608723"
     },
     "user_tz": -120
    },
    "id": "Vbme9U5gV61y"
   },
   "outputs": [],
   "source": [
    "# !pip install requests\n",
    "# !pip install bs4"
   ]
  },
  {
   "cell_type": "markdown",
   "metadata": {
    "id": "c9drFALUV610"
   },
   "source": [
    "# Let's Start Scraping!"
   ]
  },
  {
   "cell_type": "markdown",
   "metadata": {
    "id": "QvCTpcbPV610"
   },
   "source": [
    "        * We’ll be using the Python library \"requests\" to send a request to the server and get the HTML code for the page.\n",
    "        * We’ll be using the Python library \"Beautiful Soup\" to parse the HTML code and extract the data we want."
   ]
  },
  {
   "cell_type": "code",
   "execution_count": 12,
   "metadata": {
    "executionInfo": {
     "elapsed": 697,
     "status": "ok",
     "timestamp": 1669808523894,
     "user": {
      "displayName": "Zero Grad",
      "userId": "01667150129135608723"
     },
     "user_tz": -120
    },
    "id": "JOZxTXXdV611"
   },
   "outputs": [],
   "source": [
    "import requests\n",
    "from bs4 import BeautifulSoup"
   ]
  },
  {
   "cell_type": "code",
   "execution_count": 13,
   "metadata": {
    "colab": {
     "base_uri": "https://localhost:8080/"
    },
    "executionInfo": {
     "elapsed": 745,
     "status": "ok",
     "timestamp": 1669808524637,
     "user": {
      "displayName": "Zero Grad",
      "userId": "01667150129135608723"
     },
     "user_tz": -120
    },
    "id": "WVeWIk8sV611",
    "outputId": "d6c90570-d38b-4f1c-ea2a-3842a3f00a5f"
   },
   "outputs": [
    {
     "data": {
      "text/plain": [
       "<Response [200]>"
      ]
     },
     "execution_count": 13,
     "metadata": {},
     "output_type": "execute_result"
    }
   ],
   "source": [
    "response = requests.get('https://wuzzuf.net/search/jobs/?q=machine+learning&a=hpb')\n",
    "response"
   ]
  },
  {
   "cell_type": "code",
   "execution_count": 14,
   "metadata": {
    "colab": {
     "base_uri": "https://localhost:8080/"
    },
    "executionInfo": {
     "elapsed": 1411,
     "status": "ok",
     "timestamp": 1669808526047,
     "user": {
      "displayName": "Zero Grad",
      "userId": "01667150129135608723"
     },
     "user_tz": -120
    },
    "id": "sB5wrKVNV612",
    "outputId": "7bfafc57-69b6-4406-e414-6535c5d494bb"
   },
   "outputs": [
    {
     "data": {
      "text/plain": [
       "<!DOCTYPE html>\n",
       "<html lang=\"en\" translate=\"no\">\n",
       "<head>\n",
       "<meta charset=\"utf-8\"/>\n",
       "<meta content=\"IE=edge\" http-equiv=\"X-UA-Compatible\"/>\n",
       "<meta content=\"width=device-width, initial-scale=1.0, shrink-to-fit=no\" name=\"viewport\"/>\n",
       "<meta content=\"Thu Dec 08 2022 18:30:44 GMT+0200\" http-equiv=\"expires\"/>\n",
       "<meta content=\"no-cache\" http-equiv=\"Pragma\"/>\n",
       "<meta content=\"no-cache, no-store, must-revalidate\" http-equiv=\"cache-control\"/>\n",
       "<meta content=\"notranslate\" name=\"googlebot\"/>\n",
       "<title data-react-helmet=\"true\">28 machine learning Jobs in Egypt – Discover Job Details Now!</title>\n",
       "<meta charset=\"utf-8\" data-react-helmet=\"true\"/><meta content=\"Explore 28 machine learning Jobs in Egypt. Discover exciting opportunities with a leading recruitment company. Start your job search today!\" data-react-helmet=\"true\" name=\"description\"/><meta content=\"jobs in Egypt, job in Egypt, careers egypt, jobs in Cairo, jobs in alexandria, employment in egypt, Egypt jobs, jobs vacancies, job vacancies in egypt, job search egypt, job vacancies egypt, job recruitment in egypt, job opportunities in egypt, jobs cairo, job vacancy egypt , وظائف مصر\" data-react-helmet=\"true\" name=\"keywords\"/><meta content=\"28 machine learning Jobs in Egypt – Discover Job Details Now!\" data-react-helmet=\"true\" property=\"og:title\"/><meta content=\"website\" data-react-helmet=\"true\" property=\"og:type\"/><meta content=\"https://wuzzuf.net/search/jobs/\" data-react-helmet=\"true\" property=\"og:url\"/><meta content=\"WUZZUF\" data-react-helmet=\"true\" property=\"og:site_name\"/><meta content=\"373086796047717\" data-react-helmet=\"true\" property=\"fb:app_id\"/><meta content=\"https://static.wuzzuf-data.net/search-page-og-image-bc0a066d44969c0f879dc5df1a6453f3.png\" data-react-helmet=\"true\" property=\"og:image\"/><meta content=\"Explore 28 machine learning Jobs in Egypt. Discover exciting opportunities with a leading recruitment company. Start your job search today!\" data-react-helmet=\"true\" property=\"og:description\"/><meta content=\"Maadi\" data-react-helmet=\"true\" property=\"og:locality\"/><meta content=\"Cairo\" data-react-helmet=\"true\" property=\"og:region\"/><meta content=\"Egypt\" data-react-helmet=\"true\" property=\"og:country-name\"/>\n",
       "<link data-react-helmet=\"true\" href=\"https://wuzzuf.net/search/jobs/\" rel=\"canonical\"/><link data-react-helmet=\"true\" href=\"https://wuzzuf.net/search/jobs?q=machine%20learning&amp;start=1\" rel=\"next\"/><link data-react-helmet=\"true\" href=\"https://wuzzuf.net/search/jobs/\" hreflang=\"en-EG\" rel=\"alternate\"/><link data-react-helmet=\"true\" href=\"https://wuzzuf.net/saudi/search/jobs/\" hreflang=\"en-SA\" rel=\"alternate\"/>\n",
       "<link href=\"/manifest.json\" rel=\"manifest\"/>\n",
       "<link href=\"https://wuzzuf.net/favicon.ico\" rel=\"icon\"/>\n",
       "<link as=\"script\" data-chunk=\"index\" href=\"https://static.wuzzuf-data.net/vendor-1730989531711.d5a1e34da2faa804ac81.js\" rel=\"preload\"/>\n",
       "<link as=\"script\" data-chunk=\"index\" href=\"https://static.wuzzuf-data.net/index-1730989531711.f46a33f8f8da2b9da406.js\" rel=\"preload\"/>\n",
       "<link as=\"script\" data-chunk=\"guest-job-search\" href=\"https://static.wuzzuf-data.net/7791-1730989531711.29d6deb590cc2661b828.js\" rel=\"preload\"/>\n",
       "<link as=\"script\" data-chunk=\"guest-job-search\" href=\"https://static.wuzzuf-data.net/7603-1730989531711.d6abfa790f44341b513d.js\" rel=\"preload\"/>\n",
       "<link as=\"script\" data-chunk=\"guest-job-search\" href=\"https://static.wuzzuf-data.net/3724-1730989531711.aa6f11b4eba9d96cd8c3.js\" rel=\"preload\"/>\n",
       "<link as=\"script\" data-chunk=\"guest-job-search\" href=\"https://static.wuzzuf-data.net/9778-1730989531711.526836e7e67afcfc94f9.js\" rel=\"preload\"/>\n",
       "<link as=\"script\" data-chunk=\"guest-job-search\" href=\"https://static.wuzzuf-data.net/990-1730989531711.cf26866471bbc7129465.js\" rel=\"preload\"/>\n",
       "<link as=\"script\" data-chunk=\"guest-job-search\" href=\"https://static.wuzzuf-data.net/2388-1730989531711.0dcdc517aeaa5df189f2.js\" rel=\"preload\"/>\n",
       "<link as=\"script\" data-chunk=\"guest-job-search\" href=\"https://static.wuzzuf-data.net/4688-1730989531711.b71d47bc3a49f8266e4e.js\" rel=\"preload\"/>\n",
       "<link as=\"script\" data-chunk=\"guest-job-search\" href=\"https://static.wuzzuf-data.net/2195-1730989531711.8cfbeee900a6d77f7821.js\" rel=\"preload\"/>\n",
       "<link as=\"script\" data-chunk=\"guest-job-search\" href=\"https://static.wuzzuf-data.net/8152-1730989531711.f1de7cc9640b9136c0a7.js\" rel=\"preload\"/>\n",
       "<link as=\"script\" data-chunk=\"guest-job-search\" href=\"https://static.wuzzuf-data.net/911-1730989531711.b869d54e28439f5259e7.js\" rel=\"preload\"/>\n",
       "<link as=\"script\" data-chunk=\"guest-job-search\" href=\"https://static.wuzzuf-data.net/6240-1730989531711.2374f2028b5aaf65b18b.js\" rel=\"preload\"/>\n",
       "<link as=\"script\" data-chunk=\"guest-job-search\" href=\"https://static.wuzzuf-data.net/8310-1730989531711.c749b3caf9e9239b5200.js\" rel=\"preload\"/>\n",
       "<link as=\"script\" data-chunk=\"guest-job-search\" href=\"https://static.wuzzuf-data.net/279-1730989531711.3895136e28b8deedff78.js\" rel=\"preload\"/>\n",
       "<link as=\"script\" data-chunk=\"guest-job-search\" href=\"https://static.wuzzuf-data.net/guest-footer-1730989531711.a5759f58de79639fccb9.js\" rel=\"preload\"/>\n",
       "<link as=\"script\" data-chunk=\"guest-job-search\" href=\"https://static.wuzzuf-data.net/4772-1730989531711.b835d942ee1c69fe4363.js\" rel=\"preload\"/>\n",
       "<link as=\"script\" data-chunk=\"guest-job-search\" href=\"https://static.wuzzuf-data.net/3411-1730989531711.1281a7a672eead1a931f.js\" rel=\"preload\"/>\n",
       "<link as=\"script\" data-chunk=\"guest-job-search\" href=\"https://static.wuzzuf-data.net/5981-1730989531711.8e9d8dc5ad7ed7082e0a.js\" rel=\"preload\"/>\n",
       "<link as=\"script\" data-chunk=\"guest-job-search\" href=\"https://static.wuzzuf-data.net/1238-1730989531711.6bfee1d1f48c63e7fc41.js\" rel=\"preload\"/>\n",
       "<link as=\"script\" data-chunk=\"guest-job-search\" href=\"https://static.wuzzuf-data.net/2025-1730989531711.b230e775dd9c14781401.js\" rel=\"preload\"/>\n",
       "<link as=\"script\" data-chunk=\"guest-job-search\" href=\"https://static.wuzzuf-data.net/8241-1730989531711.5b4c7d739d8c4b7b15b7.js\" rel=\"preload\"/>\n",
       "<link as=\"script\" data-chunk=\"guest-job-search\" href=\"https://static.wuzzuf-data.net/129-1730989531711.e375ff22a36f349053f2.js\" rel=\"preload\"/>\n",
       "<link as=\"script\" data-chunk=\"guest-job-search\" href=\"https://static.wuzzuf-data.net/guest-job-search-1730989531711.57233dbeb48b21b7b219.js\" rel=\"preload\"/>\n",
       "<link as=\"script\" data-chunk=\"job-search-components-job-search-page-search-bar-card-desktop\" href=\"https://static.wuzzuf-data.net/6016-1730989531711.b263cabad739499d48a5.js\" rel=\"preload\"/>\n",
       "<link as=\"script\" data-chunk=\"job-search-components-job-search-page-search-bar-card-desktop\" href=\"https://static.wuzzuf-data.net/3083-1730989531711.cb5e335bd13711f6d270.js\" rel=\"preload\"/>\n",
       "<link as=\"script\" data-chunk=\"job-search-components-job-search-page-search-bar-card-desktop\" href=\"https://static.wuzzuf-data.net/job-search-components-job-search-page-search-bar-card-desktop-1730989531711.2026cc70c5e3e3688cbe.js\" rel=\"preload\"/>\n",
       "<link as=\"style\" href=\"https://fonts.googleapis.com/css?family=Open+Sans:300,300i,400,400i,600,600i,700,700i&amp;display=swap\" onload=\"this.onload=null;this.rel='stylesheet'\" rel=\"preload\"/>\n",
       "<noscript><link href=\"https://fonts.googleapis.com/css?family=Open+Sans:300,300i,400,400i,600,600i,700,700i&amp;display=swap\" rel=\"stylesheet\"/></noscript>\n",
       "<style>\n",
       "        html, body { padding: 0; margin: 0; font-family: 'Open Sans', sans-serif; }\n",
       "        input, textarea, select, button { font-family: 'Open Sans', sans-serif; }\n",
       "        * { box-sizing: border-box; }\n",
       "    </style>\n",
       "<link href=\"https://static.wuzzuf-data.net/css/global.css\" media=\"print\" onload=\"this.onload=null;this.rel='stylesheet';this.media='all'\" rel=\"stylesheet\"/>\n",
       "<link href=\"https://static.wuzzuf-data.net/css/lib.css\" media=\"print\" onload=\"this.onload=null;this.rel='stylesheet';this.media='all'\" rel=\"stylesheet\" type=\"text/css\"/>\n",
       "</head>\n",
       "<body>\n",
       "<noscript><iframe height=\"0\" src=\"https://www.googletagmanager.com/ns.html?id=GTM-WR5C77B\" style=\"display:none;visibility:hidden\" width=\"0\"></iframe></noscript>\n",
       "<div id=\"app\"><div><style data-emotion=\"css 1jsz4vo\">.css-1jsz4vo{height:62px;position:relative;}</style><div class=\"css-1jsz4vo\"><style data-emotion=\"css 1605mlf\">.css-1605mlf{z-index:9998;display:-webkit-box;display:-webkit-flex;display:-ms-flexbox;display:flex;-webkit-align-items:center;-webkit-box-align:center;-ms-flex-align:center;align-items:center;-webkit-box-pack:center;-ms-flex-pack:center;-webkit-justify-content:center;justify-content:center;top:0;left:0;right:0;height:62px;width:100%;position:fixed;background-color:#ffffff;border-bottom:1px solid #D9DDE4;}</style><header class=\"css-1605mlf\"><style data-emotion=\"css 1kqcve2\">.css-1kqcve2{width:100%;max-width:1170px;display:-webkit-box;display:-webkit-flex;display:-ms-flexbox;display:flex;-webkit-align-items:center;-webkit-box-align:center;-ms-flex-align:center;align-items:center;-webkit-box-pack:justify;-webkit-justify-content:space-between;justify-content:space-between;padding:0 10px;}</style><div class=\"css-1kqcve2\"><style data-emotion=\"css yky53v\">.css-yky53v{margin-right:24px;}</style><style data-emotion=\"css hkk6sn\">.css-hkk6sn{display:-webkit-inline-box;display:-webkit-inline-flex;display:-ms-inline-flexbox;display:inline-flex;-webkit-align-items:start;-webkit-box-align:start;-ms-flex-align:start;align-items:start;position:relative;cursor:pointer;margin-right:24px;}</style><a aria-label=\"navigate to wuzzuf home page\" class=\"css-hkk6sn e19qcx5a0\" href=\"/jobs/egypt\"><style data-emotion=\"css 1hbwp7i\">.css-1hbwp7i{width:125px;}</style><svg aria-labelledby=\"wuzzuf-logo\" class=\"css-1hbwp7i\" viewbox=\"0 0 125 20\" xmlns=\"http://www.w3.org/2000/svg\"><path d=\"M23.724.001h4.906L22.583 20H18.17L14.315 7.96 10.489 20H6.046L0 .001h4.936L8.793 12.32 12.587 0h3.61l3.671 12.319L23.724 0zm9.147 17.552c-1.604-1.63-2.406-3.823-2.406-6.577V.001h4.689v11.036c0 1.54.432 2.714 1.296 3.524.864.81 2.046 1.215 3.548 1.215 1.48 0 2.648-.405 3.502-1.215.853-.81 1.28-1.985 1.28-3.524V0h4.689v10.975c0 2.754-.792 4.947-2.376 6.577C45.51 19.184 43.145 20 39.998 20s-5.523-.815-7.127-2.446zm18.416-.694L62.456 3.95H51.565V.001h16.69v3.17L57.15 16.052h11.106V20H51.287v-3.14zm18.803 0L81.258 3.95h-10.89V.001h16.69v3.17l-11.106 12.88h11.106v3.948H70.09v-3.14zm21.226.694c-1.605-1.63-2.407-3.823-2.407-6.577V.001h4.69v11.036c0 1.54.432 2.714 1.295 3.524.864.81 2.047 1.215 3.548 1.215 1.481 0 2.648-.405 3.502-1.215.853-.81 1.28-1.985 1.28-3.524V0h4.69v10.975c0 2.754-.793 4.947-2.376 6.577-1.584 1.631-3.949 2.446-7.096 2.446-3.147 0-5.522-.815-7.126-2.446zm23.279-5.733V20h-4.69V0H125l-1.08 3.982h-9.325V8.18h7.959l-.99 3.64h-6.97z\" fill=\"#0055D9\"></path></svg></a><div class=\"css-0\"><style data-emotion=\"css sxw4a6\">.css-sxw4a6{font-size:15px;font-weight:600;-webkit-text-decoration:none;text-decoration:none;margin-right:12px;padding:12px;cursor:pointer;display:-webkit-box;display:-webkit-flex;display:-ms-flexbox;display:flex;-webkit-align-items:center;-webkit-box-align:center;-ms-flex-align:center;align-items:center;color:#405678;}.css-sxw4a6:hover{color:#0055D9;}.css-sxw4a6:hover path{fill:#0055D9;}.css-sxw4a6:hover div{border-top:5px solid #0055D9;}</style><a class=\"css-sxw4a6\" href=\"#\">Browse Jobs<style data-emotion=\"css 1q4vxyr\">.css-1q4vxyr{margin-left:8px;}</style><style data-emotion=\"css ks9dan\">.css-ks9dan{display:-webkit-inline-box;display:-webkit-inline-flex;display:-ms-inline-flexbox;display:inline-flex;line-height:1em;width:16px;height:16px;margin-left:8px;}</style><i class=\"css-ks9dan efou2fk0\" size=\"16\"><svg height=\"16\" preserveaspectratio=\"none\" viewbox=\"0 0 24 24\" width=\"16\"><path d=\"M17.355 7.5L12 13.063 6.645 7.5 5 9.213l7 7.287 7-7.287z\" fill=\"#334B6F\"></path></svg></i></a></div><style data-emotion=\"css yujhzj\">.css-yujhzj{-webkit-flex:2;-ms-flex:2;flex:2;display:-webkit-box;display:-webkit-flex;display:-ms-flexbox;display:flex;-webkit-align-items:center;-webkit-box-align:center;-ms-flex-align:center;align-items:center;}</style><div class=\"css-yujhzj\"><style data-emotion=\"css logigj\">.css-logigj{width:110px;margin-right:12px;}</style><div class=\"css-logigj\"><style data-emotion=\"css 17x336t\">.css-17x336t{-webkit-text-decoration:none;text-decoration:none;color:#405678;font-size:15px;font-weight:600;}.css-17x336t:hover{color:#0055D9;}</style><a aria-label=\"navigate to employers page\" class=\"css-17x336t\" href=\"/recruitment/egypt\">For Employers</a></div><style data-emotion=\"css 1n13d7\">.css-1n13d7{display:-webkit-box;display:-webkit-flex;display:-ms-flexbox;display:flex;-webkit-align-items:center;-webkit-box-align:center;-ms-flex-align:center;align-items:center;max-width:400px;min-width:280px;}@media screen and (max-width: 1250px){.css-1n13d7{display:none;}}</style><form action=\"https://wuzzuf.net/search/jobs/\" class=\"css-1n13d7\" role=\"search\"><style data-emotion=\"css 1h3rtzg\">.css-1h3rtzg{-webkit-align-items:center;-webkit-box-align:center;-ms-flex-align:center;align-items:center;}</style><style data-emotion=\"css 18jdiq\">.css-18jdiq{width:100%;display:-webkit-box;display:-webkit-flex;display:-ms-flexbox;display:flex;-webkit-flex-direction:row;-ms-flex-direction:row;flex-direction:row;-webkit-align-items:flex-start;-webkit-box-align:flex-start;-ms-flex-align:flex-start;align-items:flex-start;-webkit-box-pack:justify;-webkit-justify-content:space-between;justify-content:space-between;-webkit-box-flex-wrap:nowrap;-webkit-flex-wrap:nowrap;-ms-flex-wrap:nowrap;flex-wrap:nowrap;-webkit-align-items:center;-webkit-box-align:center;-ms-flex-align:center;align-items:center;}.css-18jdiq>*{width:100%;margin-left:1px;margin-right:1px;border-radius:0;}.css-18jdiq>:first-child{margin-left:0;border-top-left-radius:2px;border-bottom-left-radius:2px;}.css-18jdiq>:last-child{margin-right:0;border-top-right-radius:2px;border-bottom-right-radius:2px;}</style><div class=\"css-18jdiq e1ajijza0\"><style data-emotion=\"css 10if9qx\">.css-10if9qx{border-top-right-radius:0;border-bottom-right-radius:0;}</style><style data-emotion=\"css z60wl1\">.css-z60wl1{position:relative;max-width:420px;margin-right:0;}</style><div class=\"css-z60wl1\"><style data-emotion=\"css 1qwnzo8\">.css-1qwnzo8{color:#0D2955;background-color:#FAFAFB;border:1px solid;border-radius:2px;border-color:#D9DDE4;width:100%;letter-spacing:-0.47px;line-height:20px;font-size:15px;-webkit-transition:color .2s ease,background-color .2s ease,border-color .2s ease,box-shadow .2s ease;transition:color .2s ease,background-color .2s ease,border-color .2s ease,box-shadow .2s ease;padding:10px 8px;height:40px;border-top-right-radius:0;border-bottom-right-radius:0;}.css-1qwnzo8::-webkit-input-placeholder{color:#808EA5;}.css-1qwnzo8::-moz-placeholder{color:#808EA5;}.css-1qwnzo8::-webkit-input-placeholder{color:#808EA5;}.css-1qwnzo8::-moz-placeholder{color:#808EA5;}.css-1qwnzo8:-ms-input-placeholder{color:#808EA5;}.css-1qwnzo8::placeholder{color:#808EA5;}.css-1qwnzo8:hover{border-color:#BFC6D2;}.css-1qwnzo8:focus{outline:none;border-color:#4D93FF;box-shadow:rgba(0, 0, 0, 0.075) 0px 1px 1px inset,rgba(0, 126, 255, 0.1) 0px 0px 0px 3px;}.css-1qwnzo8:disabled{cursor:not-allowed;border-color:#D9DDE4;opacity:0.5;}</style><input class=\"css-1qwnzo8 e1n2h7jb1\" name=\"q\" placeholder=\"Search jobs, companies..\" value=\"\"/></div><style data-emotion=\"css 1fcl7nt\">.css-1fcl7nt{width:auto;border-top-left-radius:0;border-bottom-left-radius:0;border-left:none;margin-left:0;}</style><style data-emotion=\"css 122domy\">.css-122domy{min-height:auto;min-width:auto;padding:8px;vertical-align:middle;width:auto;border-top-left-radius:0;border-bottom-left-radius:0;border-left:none;margin-left:0;}</style><style data-emotion=\"css 1av5yxm\">.css-1av5yxm{display:-webkit-inline-box;display:-webkit-inline-flex;display:-ms-inline-flexbox;display:inline-flex;-webkit-box-pack:center;-ms-flex-pack:center;-webkit-justify-content:center;justify-content:center;-webkit-align-items:center;-webkit-box-align:center;-ms-flex-align:center;align-items:center;font-size:15px;padding:0 12px;border:1px solid transparent;border-radius:2px;-webkit-text-decoration:none;text-decoration:none;text-align:center;-webkit-user-select:none;-moz-user-select:none;-ms-user-select:none;user-select:none;cursor:pointer;min-width:80px;-webkit-transition:color .2s ease,background-color .2s ease,border-color .2s ease;transition:color .2s ease,background-color .2s ease,border-color .2s ease;min-height:40px;line-height:32px;color:#4D6182;background-color:#EBEDF0;border-color:#D9DDE4;min-height:auto;min-width:auto;padding:8px;vertical-align:middle;width:auto;border-top-left-radius:0;border-bottom-left-radius:0;border-left:none;margin-left:0;}.css-1av5yxm:focus{outline:none;}.css-1av5yxm:disabled{opacity:0.25;cursor:not-allowed;}.css-1av5yxm:hover{background-color:#D9DDE4;}.css-1av5yxm:active{background-color:#CCD2DB;}.css-1av5yxm:focus{border-color:#80B2FF;}.css-1av5yxm:disabled{opacity:0.5;}.css-1av5yxm:disabled:hover{background-color:#EBEDF0;}</style><button class=\"css-1av5yxm ezfki8j0\" type=\"submit\"><style data-emotion=\"css yb1q05\">.css-yb1q05{display:-webkit-inline-box;display:-webkit-inline-flex;display:-ms-inline-flexbox;display:inline-flex;line-height:1em;width:22px;height:22px;}</style><i class=\"css-yb1q05 efou2fk0\" size=\"22\"><svg height=\"22\" preserveaspectratio=\"none\" viewbox=\"0 0 24 24\" width=\"22\"><path d=\"M15.462 10.615a4.852 4.852 0 0 0-4.847-4.846 4.852 4.852 0 0 0-4.846 4.846 4.852 4.852 0 0 0 4.846 4.847 4.852 4.852 0 0 0 4.847-4.847zm5.538 9c0 .758-.627 1.385-1.385 1.385-.367 0-.724-.151-.973-.411l-3.71-3.7a7.598 7.598 0 0 1-4.317 1.342A7.613 7.613 0 0 1 3 10.615 7.613 7.613 0 0 1 10.615 3a7.613 7.613 0 0 1 7.616 7.615c0 1.536-.465 3.05-1.342 4.316l3.71 3.71c.25.25.401.607.401.974z\" fill=\"#4D6182\"></path></svg></i></button></div><input name=\"a\" type=\"hidden\" value=\"navbg\"/></form></div><style data-emotion=\"css s5xdrg\">.css-s5xdrg{display:-webkit-box;display:-webkit-flex;display:-ms-flexbox;display:flex;-webkit-align-items:center;-webkit-box-align:center;-ms-flex-align:center;align-items:center;}</style><div class=\"css-s5xdrg\"><style data-emotion=\"css 1i4qxnm\">.css-1i4qxnm{height:40px;border-radius:4px;color:#4D6182;font-size:15px;font-weight:600;margin-right:4px;padding-inline:12px;}</style><style data-emotion=\"css o2wcxc\">.css-o2wcxc{display:-webkit-inline-box;display:-webkit-inline-flex;display:-ms-inline-flexbox;display:inline-flex;-webkit-box-pack:center;-ms-flex-pack:center;-webkit-justify-content:center;justify-content:center;-webkit-align-items:center;-webkit-box-align:center;-ms-flex-align:center;align-items:center;font-size:15px;padding:0 12px;border:1px solid transparent;border-radius:2px;-webkit-text-decoration:none;text-decoration:none;text-align:center;-webkit-user-select:none;-moz-user-select:none;-ms-user-select:none;user-select:none;cursor:pointer;min-width:80px;-webkit-transition:color .2s ease,background-color .2s ease,border-color .2s ease;transition:color .2s ease,background-color .2s ease,border-color .2s ease;min-height:32px;line-height:22px;color:#4D6182;background-color:transparent;border-color:transparent;height:40px;border-radius:4px;color:#4D6182;font-size:15px;font-weight:600;margin-right:4px;padding-inline:12px;}.css-o2wcxc:focus{outline:none;}.css-o2wcxc:disabled{opacity:0.25;cursor:not-allowed;}.css-o2wcxc:hover{background-color:#EBEDF0;}.css-o2wcxc:active{background-color:#D9DDE4;}.css-o2wcxc:focus{border-color:#80B2FF;}.css-o2wcxc:disabled{opacity:0.5;}.css-o2wcxc:disabled:hover{background-color:transparent;}</style><a aria-label=\"navigate to create a new job post \" btntype=\"subtle\" class=\"css-o2wcxc eswc9qo0\" href=\"/employer/register\"><style data-emotion=\"css ydg8ex\">.css-ydg8ex{margin-top:7px;}</style><style data-emotion=\"css 1fdpd19\">.css-1fdpd19{display:-webkit-inline-box;display:-webkit-inline-flex;display:-ms-inline-flexbox;display:inline-flex;line-height:1em;width:25px;height:25px;margin-top:7px;}</style><i class=\"css-1fdpd19 efou2fk0\" size=\"25\"><svg height=\"25\" preserveaspectratio=\"none\" viewbox=\"0 0 24 24\" width=\"25\"><path d=\"M10.5 4.875V3.375H7.5V4.875H10.5ZM3 7.125V13.875C3 14.2875 3.3375 14.625 3.75 14.625H14.25C14.6625 14.625 15 14.2875 15 13.875V7.125C15 6.7125 14.6625 6.375 14.25 6.375H3.75C3.3375 6.375 3 6.7125 3 7.125ZM15 4.875C15.8325 4.875 16.5 5.5425 16.5 6.375V14.625C16.5 15.4575 15.8325 16.125 15 16.125H3C2.1675 16.125 1.5 15.4575 1.5 14.625L1.5075 6.375C1.5075 5.5425 2.1675 4.875 3 4.875H6V3.375C6 2.5425 6.6675 1.875 7.5 1.875H10.5C11.3325 1.875 12 2.5425 12 3.375V4.875H15Z\" fill=\"#4D6182\"></path></svg></i>Post Job</a><style data-emotion=\"css no09ly\">.css-no09ly{height:24px;width:1px;background-color:#D9DDE4;margin-right:16px;}</style><span class=\"css-no09ly\"></span><style data-emotion=\"css b2lniy\">.css-b2lniy{height:40px;color:#0055D9;border:1px solid #0055D9;border-radius:4px;padding-block:8px;padding-inline:10px;font-size:15px;font-weight:600;}.css-b2lniy:hover{background-color:#E6EFFF;}</style><style data-emotion=\"css 1txfvqn\">.css-1txfvqn{display:-webkit-inline-box;display:-webkit-inline-flex;display:-ms-inline-flexbox;display:inline-flex;-webkit-box-pack:center;-ms-flex-pack:center;-webkit-justify-content:center;justify-content:center;-webkit-align-items:center;-webkit-box-align:center;-ms-flex-align:center;align-items:center;font-size:15px;padding:0 12px;border:1px solid transparent;border-radius:2px;-webkit-text-decoration:none;text-decoration:none;text-align:center;-webkit-user-select:none;-moz-user-select:none;-ms-user-select:none;user-select:none;cursor:pointer;min-width:80px;-webkit-transition:color .2s ease,background-color .2s ease,border-color .2s ease;transition:color .2s ease,background-color .2s ease,border-color .2s ease;min-height:32px;line-height:22px;color:#4D6182;background-color:transparent;border-color:transparent;height:40px;color:#0055D9;border:1px solid #0055D9;border-radius:4px;padding-block:8px;padding-inline:10px;font-size:15px;font-weight:600;}.css-1txfvqn:focus{outline:none;}.css-1txfvqn:disabled{opacity:0.25;cursor:not-allowed;}.css-1txfvqn:hover{background-color:#EBEDF0;}.css-1txfvqn:active{background-color:#D9DDE4;}.css-1txfvqn:focus{border-color:#80B2FF;}.css-1txfvqn:disabled{opacity:0.5;}.css-1txfvqn:disabled:hover{background-color:transparent;}.css-1txfvqn:hover{background-color:#E6EFFF;}</style><a aria-label=\"navigate to login page\" btntype=\"subtle\" class=\"css-1txfvqn eswc9qo0\" href=\"/login\">Log in</a><style data-emotion=\"css d37o1i\">.css-d37o1i{height:40px;margin-right:6px;border-radius:4px;margin-left:12px;padding-block:8px;padding-inline:18px;font-size:15px;font-weight:600;}</style><style data-emotion=\"css 1ith43a\">.css-1ith43a{display:-webkit-inline-box;display:-webkit-inline-flex;display:-ms-inline-flexbox;display:inline-flex;-webkit-box-pack:center;-ms-flex-pack:center;-webkit-justify-content:center;justify-content:center;-webkit-align-items:center;-webkit-box-align:center;-ms-flex-align:center;align-items:center;font-size:15px;padding:0 12px;border:1px solid transparent;border-radius:2px;-webkit-text-decoration:none;text-decoration:none;text-align:center;-webkit-user-select:none;-moz-user-select:none;-ms-user-select:none;user-select:none;cursor:pointer;min-width:80px;-webkit-transition:color .2s ease,background-color .2s ease,border-color .2s ease;transition:color .2s ease,background-color .2s ease,border-color .2s ease;min-height:32px;line-height:22px;color:#ffffff;background-color:#0055D9;height:40px;margin-right:6px;border-radius:4px;margin-left:12px;padding-block:8px;padding-inline:18px;font-size:15px;font-weight:600;}.css-1ith43a:focus{outline:none;}.css-1ith43a:disabled{opacity:0.25;cursor:not-allowed;}.css-1ith43a:hover{background-color:#0046B2;}.css-1ith43a:active{background-color:#00327F;}.css-1ith43a:focus{border-color:#80B2FF;}.css-1ith43a:disabled:hover{background-color:#0055D9;}</style><a aria-label=\"navigate to sign up page\" btntype=\"primary\" class=\"css-1ith43a eswc9qo0\" href=\"/register\">Get Started</a><style data-emotion=\"css 1r5gb7q\">.css-1r5gb7q{display:inline-block;}</style><div class=\"css-1r5gb7q\"><div class=\"css-0\"><style data-emotion=\"css 1nj8fkr\">.css-1nj8fkr{line-height:1em;padding:8px;vertical-align:middle;border:none;border-radius:4px;}.css-1nj8fkr:hover{background-color:#EBEDF0;}.css-1nj8fkr:hover path{fill:#001433;}.css-1nj8fkr:focus{border:none;}</style><style data-emotion=\"css bb8ilh\">.css-bb8ilh{min-height:auto;min-width:auto;padding:8px;vertical-align:middle;line-height:1em;padding:8px;vertical-align:middle;border:none;border-radius:4px;}.css-bb8ilh:hover{background-color:#EBEDF0;}.css-bb8ilh:hover path{fill:#001433;}.css-bb8ilh:focus{border:none;}</style><style data-emotion=\"css uprxoi\">.css-uprxoi{display:-webkit-inline-box;display:-webkit-inline-flex;display:-ms-inline-flexbox;display:inline-flex;-webkit-box-pack:center;-ms-flex-pack:center;-webkit-justify-content:center;justify-content:center;-webkit-align-items:center;-webkit-box-align:center;-ms-flex-align:center;align-items:center;font-size:15px;padding:0 12px;border:1px solid transparent;border-radius:2px;-webkit-text-decoration:none;text-decoration:none;text-align:center;-webkit-user-select:none;-moz-user-select:none;-ms-user-select:none;user-select:none;cursor:pointer;min-width:80px;-webkit-transition:color .2s ease,background-color .2s ease,border-color .2s ease;transition:color .2s ease,background-color .2s ease,border-color .2s ease;min-height:32px;line-height:22px;color:#4D6182;background-color:transparent;border-color:transparent;min-height:auto;min-width:auto;padding:8px;vertical-align:middle;line-height:1em;padding:8px;vertical-align:middle;border:none;border-radius:4px;}.css-uprxoi:focus{outline:none;}.css-uprxoi:disabled{opacity:0.25;cursor:not-allowed;}.css-uprxoi:hover{background-color:#EBEDF0;}.css-uprxoi:active{background-color:#D9DDE4;}.css-uprxoi:focus{border-color:#80B2FF;}.css-uprxoi:disabled{opacity:0.5;}.css-uprxoi:disabled:hover{background-color:transparent;}.css-uprxoi:hover{background-color:#EBEDF0;}.css-uprxoi:hover path{fill:#001433;}.css-uprxoi:focus{border:none;}</style><button aria-label=\"toggle navigation menu\" class=\"css-uprxoi ezfki8j0\" type=\"button\"><i class=\"css-yb1q05 efou2fk0\" size=\"22\"><svg height=\"22\" preserveaspectratio=\"none\" viewbox=\"0 0 24 24\" width=\"22\"><path d=\"M3 18h18v-2H3v2zm0-5h18v-2H3v2zm0-7v2h18V6H3z\" fill=\"#4D6182\"></path></svg></i></button></div></div></div></div></header></div><style data-emotion=\"css ryrhs0\">.css-ryrhs0{background-color:#001E4C;height:auto;margin-bottom:24px;}</style><div class=\"css-ryrhs0\"><style data-emotion=\"css 1gecntv\">.css-1gecntv{max-width:1170px;width:100%;margin:0 auto;padding:0 16px;}@media screen and (max-width: 575px){.css-1gecntv{padding:0;}}</style><div class=\"css-1gecntv\"><style data-emotion=\"css 1odgltp\">.css-1odgltp{color:#ffffff;font-size:20px;font-weight:700;font-style:normal;letter-spacing:-0.5px;line-height:29px;margin-top:0;padding-top:16px;padding-bottom:16px;margin-bottom:0;}</style><h1 class=\"css-1odgltp\">machine learning  Jobs in Egypt and the MENA Region</h1></div></div><style data-emotion=\"css 1omce3u\">.css-1omce3u{background-color:#F5F6F7;margin-top:0;}@media(max-width: 575px){.css-1omce3u{margin-top:0;}}</style><div class=\"css-1omce3u\"><style data-emotion=\"css g366dn\">.css-g366dn{max-width:1170px;padding:0 16px;margin:0 auto;width:100%;display:-webkit-box;display:-webkit-flex;display:-ms-flexbox;display:flex;-webkit-flex-direction:row;-ms-flex-direction:row;flex-direction:row;}@media screen and (max-width: 575px){.css-g366dn{padding:0;}}</style><div class=\"css-g366dn\"><style data-emotion=\"css 1r78b37\">.css-1r78b37{width:314px;min-width:314px;margin-right:16px;}@media(max-width: 991px){.css-1r78b37{display:none;}}</style><aside class=\"css-1r78b37\"><style data-emotion=\"css 1raccf6\">.css-1raccf6{border-radius:4px;}@media(min-width: 575px){.css-1raccf6{padding:16px;}}</style><style data-emotion=\"css 16dyq3s\">.css-16dyq3s{margin-bottom:12px;padding:24px 16px;background:#fff;border:1px solid #D9DDE4;border-radius:2px;border-radius:4px;}@media screen and (min-width: 575px){.css-16dyq3s{padding:32px;margin-bottom:16px;}}@media(min-width: 575px){.css-16dyq3s{padding:16px;}}</style><div class=\"css-16dyq3s e1v1l3u10\"><style data-emotion=\"css 1el5nvn\">.css-1el5nvn{padding-bottom:12px;border-bottom:1px solid #D9DDE4;margin-bottom:16px;}</style><div class=\"css-1el5nvn\"><style data-emotion=\"css ssyebr\">.css-ssyebr{font-size:14px;font-weight:700;font-style:normal;letter-spacing:-0.35px;line-height:22px;color:#001433;margin:0;}</style><h3 class=\"css-ssyebr\">Filters</h3><style data-emotion=\"css 1eoy87d\">.css-1eoy87d{display:-webkit-box;display:-webkit-flex;display:-ms-flexbox;display:flex;-webkit-box-pack:justify;-webkit-justify-content:space-between;justify-content:space-between;}</style><div class=\"css-1eoy87d\"><style data-emotion=\"css 2tcwqt\">.css-2tcwqt{font-size:13px;font-weight:400;font-style:normal;letter-spacing:-0.3px;line-height:20px;color:#808EA5;}</style><span class=\"css-2tcwqt\">0<!-- --> filters selected</span></div></div><style data-emotion=\"css 1ca33yw\">.css-1ca33yw{margin-bottom:16px;padding-bottom:16px;border-bottom:1px solid #D9DDE4;}</style><div class=\"css-1ca33yw\"><style data-emotion=\"css 4wx7kf\">.css-4wx7kf{font-size:14px;font-weight:700;font-style:normal;letter-spacing:-0.35px;line-height:22px;cursor:pointer;color:#001433;margin:0;display:-webkit-box;display:-webkit-flex;display:-ms-flexbox;display:flex;-webkit-align-items:center;-webkit-box-align:center;-ms-flex-align:center;align-items:center;-webkit-box-pack:justify;-webkit-justify-content:space-between;justify-content:space-between;}</style><h3 class=\"css-4wx7kf\"><span>Workplace<!-- --> <style data-emotion=\"css 158icaa\">.css-158icaa{margin-left:4px;}</style><style data-emotion=\"css 1k076aq\">.css-1k076aq{font-size:12px;font-weight:600;display:-webkit-inline-box;display:-webkit-inline-flex;display:-ms-inline-flexbox;display:inline-flex;-webkit-align-items:center;-webkit-box-align:center;-ms-flex-align:center;align-items:center;min-height:20px;margin-right:4px;border-radius:2px;max-width:196px;white-space:nowrap;overflow:hidden;cursor:default;text-overflow:ellipsis;padding:0 2px;background-color:#E0F2EB;color:#19553C;margin-left:4px;}</style><span class=\"css-1k076aq eoyjyou0\" type=\"success\">New</span></span><style data-emotion=\"css g2bwf1\">.css-g2bwf1{-webkit-transition:0.1s linear -webkit-transform;transition:0.1s linear transform;transform-origin:center center;-webkit-transform:rotateZ(0deg);-moz-transform:rotateZ(0deg);-ms-transform:rotateZ(0deg);transform:rotateZ(0deg);}</style><style data-emotion=\"css 1f9i3c9\">.css-1f9i3c9{display:-webkit-inline-box;display:-webkit-inline-flex;display:-ms-inline-flexbox;display:inline-flex;line-height:1em;width:20px;height:20px;-webkit-transition:0.1s linear -webkit-transform;transition:0.1s linear transform;transform-origin:center center;-webkit-transform:rotateZ(0deg);-moz-transform:rotateZ(0deg);-ms-transform:rotateZ(0deg);transform:rotateZ(0deg);}</style><i class=\"css-1f9i3c9 efou2fk0\" size=\"20\"><svg height=\"20\" preserveaspectratio=\"none\" viewbox=\"0 0 24 24\" width=\"20\"><path d=\"M12 7.5l-7 7.287L6.645 16.5 12 10.937l5.355 5.563L19 14.787z\" fill=\"#001433\"></path></svg></i></h3><style data-emotion=\"css yz1nei\">.css-yz1nei{margin-top:16px;}</style><div class=\"css-yz1nei\"><style data-emotion=\"css c0o9fp\">.css-c0o9fp{padding-left:16px;}</style><div class=\"css-c0o9fp\"></div></div></div><div class=\"css-1ca33yw\"><h3 class=\"css-4wx7kf\"><span>Country<!-- --> </span><style data-emotion=\"css uhtlw2\">.css-uhtlw2{-webkit-transition:0.1s linear -webkit-transform;transition:0.1s linear transform;transform-origin:center center;-webkit-transform:rotateZ(180deg);-moz-transform:rotateZ(180deg);-ms-transform:rotateZ(180deg);transform:rotateZ(180deg);}</style><style data-emotion=\"css 1oy4qip\">.css-1oy4qip{display:-webkit-inline-box;display:-webkit-inline-flex;display:-ms-inline-flexbox;display:inline-flex;line-height:1em;width:20px;height:20px;-webkit-transition:0.1s linear -webkit-transform;transition:0.1s linear transform;transform-origin:center center;-webkit-transform:rotateZ(180deg);-moz-transform:rotateZ(180deg);-ms-transform:rotateZ(180deg);transform:rotateZ(180deg);}</style><i class=\"css-1oy4qip efou2fk0\" size=\"20\"><svg height=\"20\" preserveaspectratio=\"none\" viewbox=\"0 0 24 24\" width=\"20\"><path d=\"M12 7.5l-7 7.287L6.645 16.5 12 10.937l5.355 5.563L19 14.787z\" fill=\"#001433\"></path></svg></i></h3></div><div class=\"css-1ca33yw\"><h3 class=\"css-4wx7kf\"><span>City<!-- --> </span><i class=\"css-1oy4qip efou2fk0\" size=\"20\"><svg height=\"20\" preserveaspectratio=\"none\" viewbox=\"0 0 24 24\" width=\"20\"><path d=\"M12 7.5l-7 7.287L6.645 16.5 12 10.937l5.355 5.563L19 14.787z\" fill=\"#001433\"></path></svg></i></h3></div><div class=\"css-1ca33yw\"><h3 class=\"css-4wx7kf\"><span>Area<!-- --> </span><i class=\"css-1oy4qip efou2fk0\" size=\"20\"><svg height=\"20\" preserveaspectratio=\"none\" viewbox=\"0 0 24 24\" width=\"20\"><path d=\"M12 7.5l-7 7.287L6.645 16.5 12 10.937l5.355 5.563L19 14.787z\" fill=\"#001433\"></path></svg></i></h3></div><div class=\"css-1ca33yw\"><h3 class=\"css-4wx7kf\"><span>Career Level<!-- --> </span><i class=\"css-1oy4qip efou2fk0\" size=\"20\"><svg height=\"20\" preserveaspectratio=\"none\" viewbox=\"0 0 24 24\" width=\"20\"><path d=\"M12 7.5l-7 7.287L6.645 16.5 12 10.937l5.355 5.563L19 14.787z\" fill=\"#001433\"></path></svg></i></h3></div><div class=\"css-1ca33yw\"><h3 class=\"css-4wx7kf\"><span>Years of experience</span><i class=\"css-1oy4qip efou2fk0\" size=\"20\"><svg height=\"20\" preserveaspectratio=\"none\" viewbox=\"0 0 24 24\" width=\"20\"><path d=\"M12 7.5l-7 7.287L6.645 16.5 12 10.937l5.355 5.563L19 14.787z\" fill=\"#001433\"></path></svg></i></h3></div><div class=\"css-1ca33yw\"><h3 class=\"css-4wx7kf\"><span>Job Category<!-- --> </span><i class=\"css-1oy4qip efou2fk0\" size=\"20\"><svg height=\"20\" preserveaspectratio=\"none\" viewbox=\"0 0 24 24\" width=\"20\"><path d=\"M12 7.5l-7 7.287L6.645 16.5 12 10.937l5.355 5.563L19 14.787z\" fill=\"#001433\"></path></svg></i></h3></div><div class=\"css-1ca33yw\"><h3 class=\"css-4wx7kf\"><span>Job Type<!-- --> </span><i class=\"css-1oy4qip efou2fk0\" size=\"20\"><svg height=\"20\" preserveaspectratio=\"none\" viewbox=\"0 0 24 24\" width=\"20\"><path d=\"M12 7.5l-7 7.287L6.645 16.5 12 10.937l5.355 5.563L19 14.787z\" fill=\"#001433\"></path></svg></i></h3></div><style data-emotion=\"css 18uqayh\">.css-18uqayh{margin-bottom:16px;}</style><div class=\"css-18uqayh\"><style data-emotion=\"css 1d5tds3\">.css-1d5tds3{font-size:14px;font-weight:700;font-style:normal;letter-spacing:-0.35px;line-height:22px;cursor:pointer;margin:0;color:#001433;display:-webkit-box;display:-webkit-flex;display:-ms-flexbox;display:flex;-webkit-align-items:center;-webkit-box-align:center;-ms-flex-align:center;align-items:center;-webkit-box-pack:justify;-webkit-justify-content:space-between;justify-content:space-between;}</style><h3 class=\"css-1d5tds3\"><span>Date Posted</span><i class=\"css-1oy4qip efou2fk0\" size=\"20\"><svg height=\"20\" preserveaspectratio=\"none\" viewbox=\"0 0 24 24\" width=\"20\"><path d=\"M12 7.5l-7 7.287L6.645 16.5 12 10.937l5.355 5.563L19 14.787z\" fill=\"#001433\"></path></svg></i></h3></div></div><style data-emotion=\"css y0mn5g\">.css-y0mn5g{margin:8px auto 0;text-align:center;}</style><div class=\"css-y0mn5g\" id=\"div-gpt-ad-1359997785009-0\"></div></aside><style data-emotion=\"css 9i2afk\">@media screen and (min-width: 992px){.css-9i2afk{max-width:calc(100% - 314px - 16px);}}</style><div class=\"css-9i2afk\"><style data-emotion=\"css 19mf8iw\">@media(min-width: 575px){.css-19mf8iw{padding:24px;}}</style><style data-emotion=\"css 13hf9up\">.css-13hf9up{margin-bottom:12px;padding:24px 16px;background:#fff;border:1px solid #D9DDE4;border-radius:2px;}@media screen and (min-width: 575px){.css-13hf9up{padding:32px;margin-bottom:16px;}}@media(min-width: 575px){.css-13hf9up{padding:24px;}}</style><div class=\"css-13hf9up e1v1l3u10\"><style data-emotion=\"css rqgsqp\">.css-rqgsqp{position:relative;z-index:1;}</style><div class=\"css-rqgsqp\"><div><style data-emotion=\"css zjik7\">.css-zjik7{display:-webkit-box;display:-webkit-flex;display:-ms-flexbox;display:flex;}</style><div class=\"css-zjik7\"><style data-emotion=\"css mtv4c7\">.css-mtv4c7{-webkit-box-flex:1;-webkit-flex-grow:1;-ms-flex-positive:1;flex-grow:1;margin-right:0;}</style><div class=\"css-mtv4c7\"><style data-emotion=\"css 1guk87j\">.css-1guk87j{border-top-right-radius:0;border-bottom-right-radius:0;height:48px;min-height:48px;}</style><style data-emotion=\"css 150a24d\">.css-150a24d{position:relative;}</style><div class=\"css-150a24d\"><style data-emotion=\"css 1ode3cm\">.css-1ode3cm{left:0;}</style><style data-emotion=\"css 1igbm66\">.css-1igbm66{position:absolute;top:0;bottom:0;display:-webkit-inline-box;display:-webkit-inline-flex;display:-ms-inline-flexbox;display:inline-flex;-webkit-align-items:center;-webkit-box-align:center;-ms-flex-align:center;align-items:center;-webkit-box-pack:center;-ms-flex-pack:center;-webkit-justify-content:center;justify-content:center;padding:0 8px;left:0;}</style><span class=\"css-1igbm66 e1n2h7jb0\"><style data-emotion=\"css b80bsd\">.css-b80bsd{display:-webkit-inline-box;display:-webkit-inline-flex;display:-ms-inline-flexbox;display:inline-flex;line-height:1em;width:16px;height:16px;}</style><i class=\"css-b80bsd efou2fk0\" size=\"16\"><svg height=\"16\" preserveaspectratio=\"none\" viewbox=\"0 0 24 24\" width=\"16\"><path d=\"M15.462 10.615a4.852 4.852 0 0 0-4.847-4.846 4.852 4.852 0 0 0-4.846 4.846 4.852 4.852 0 0 0 4.846 4.847 4.852 4.852 0 0 0 4.847-4.847zm5.538 9c0 .758-.627 1.385-1.385 1.385-.367 0-.724-.151-.973-.411l-3.71-3.7a7.598 7.598 0 0 1-4.317 1.342A7.613 7.613 0 0 1 3 10.615 7.613 7.613 0 0 1 10.615 3a7.613 7.613 0 0 1 7.616 7.615c0 1.536-.465 3.05-1.342 4.316l3.71 3.71c.25.25.401.607.401.974z\" fill=\"#808EA5\"></path></svg></i></span><style data-emotion=\"css 83zaor\">.css-83zaor{color:#0D2955;background-color:#FAFAFB;border:1px solid;border-radius:2px;border-color:#D9DDE4;width:100%;letter-spacing:-0.47px;line-height:20px;font-size:15px;-webkit-transition:color .2s ease,background-color .2s ease,border-color .2s ease,box-shadow .2s ease;transition:color .2s ease,background-color .2s ease,border-color .2s ease,box-shadow .2s ease;padding:10px 8px;height:40px;padding-left:32px;border-top-right-radius:0;border-bottom-right-radius:0;height:48px;min-height:48px;}.css-83zaor::-webkit-input-placeholder{color:#808EA5;}.css-83zaor::-moz-placeholder{color:#808EA5;}.css-83zaor::-webkit-input-placeholder{color:#808EA5;}.css-83zaor::-moz-placeholder{color:#808EA5;}.css-83zaor:-ms-input-placeholder{color:#808EA5;}.css-83zaor::placeholder{color:#808EA5;}.css-83zaor:hover{border-color:#BFC6D2;}.css-83zaor:focus{outline:none;border-color:#4D93FF;box-shadow:rgba(0, 0, 0, 0.075) 0px 1px 1px inset,rgba(0, 126, 255, 0.1) 0px 0px 0px 3px;}.css-83zaor:disabled{cursor:not-allowed;border-color:#D9DDE4;opacity:0.5;}</style><input class=\"css-83zaor e1n2h7jb1\" placeholder=\"Search by Job Title, Keywords, or Location (e.g. Sales in Cairo)\" value=\"machine learning\"/></div></div><style data-emotion=\"css fyhq8g\">.css-fyhq8g{width:110px;border-top-left-radius:0;border-bottom-left-radius:0;}</style><style data-emotion=\"css k8tgjc\">.css-k8tgjc{display:-webkit-inline-box;display:-webkit-inline-flex;display:-ms-inline-flexbox;display:inline-flex;-webkit-box-pack:center;-ms-flex-pack:center;-webkit-justify-content:center;justify-content:center;-webkit-align-items:center;-webkit-box-align:center;-ms-flex-align:center;align-items:center;font-size:15px;padding:0 12px;border:1px solid transparent;border-radius:2px;-webkit-text-decoration:none;text-decoration:none;text-align:center;-webkit-user-select:none;-moz-user-select:none;-ms-user-select:none;user-select:none;cursor:pointer;min-width:80px;-webkit-transition:color .2s ease,background-color .2s ease,border-color .2s ease;transition:color .2s ease,background-color .2s ease,border-color .2s ease;min-height:40px;line-height:32px;color:#ffffff;background-color:#0055D9;width:110px;border-top-left-radius:0;border-bottom-left-radius:0;}.css-k8tgjc:focus{outline:none;}.css-k8tgjc:disabled{opacity:0.25;cursor:not-allowed;}.css-k8tgjc:hover{background-color:#0046B2;}.css-k8tgjc:active{background-color:#00327F;}.css-k8tgjc:focus{border-color:#80B2FF;}.css-k8tgjc:disabled:hover{background-color:#0055D9;}</style><button class=\"css-k8tgjc ezfki8j0\" type=\"submit\">Search</button></div></div><div tabindex=\"1\"></div></div><style data-emotion=\"css osele2\">.css-osele2{display:-webkit-box;display:-webkit-flex;display:-ms-flexbox;display:flex;-webkit-box-pack:justify;-webkit-justify-content:space-between;justify-content:space-between;margin-top:8px;-webkit-align-items:flex-start;-webkit-box-align:flex-start;-ms-flex-align:flex-start;align-items:flex-start;}</style><div class=\"css-osele2\"><style data-emotion=\"css 105j07e\">.css-105j07e{font-size:14px;font-weight:400;font-style:normal;letter-spacing:-0.35px;line-height:22px;cursor:pointer;color:#0055D9;display:-webkit-inline-box;display:-webkit-inline-flex;display:-ms-inline-flexbox;display:inline-flex;-webkit-align-items:center;-webkit-box-align:center;-ms-flex-align:center;align-items:center;}</style><span class=\"css-105j07e\" role=\"button\"><style data-emotion=\"css qamjgr\">.css-qamjgr{margin-right:4px;}</style><style data-emotion=\"css 17dp6dw\">.css-17dp6dw{display:-webkit-inline-box;display:-webkit-inline-flex;display:-ms-inline-flexbox;display:inline-flex;line-height:1em;width:16px;height:16px;margin-right:4px;}</style><i class=\"css-17dp6dw efou2fk0\" size=\"16\"><svg height=\"16\" preserveaspectratio=\"none\" viewbox=\"0 0 24 24\" width=\"16\"><path d=\"M14.787 19l1.713-1.645L10.937 12 16.5 6.645 14.787 5 7.5 12z\" fill=\"#0055D9\"></path></svg></i>Back to all jobs</span><style data-emotion=\"css xkh9ud\">.css-xkh9ud{font-size:14px;font-weight:400;font-style:normal;letter-spacing:-0.35px;line-height:22px;color:#4D6182;max-width:300px;text-align:right;margin-left:auto;}</style><span class=\"css-xkh9ud\"><strong>28</strong> Jobs found</span></div></div><div><style data-emotion=\"css 33hzuz\">@media screen and (min-width: 576px){.css-33hzuz{padding:16px 24px;}}@media screen and (max-width: 575px){.css-33hzuz{padding:16px;margin-bottom:12px;border-radius:0;border-left:0;border-right:0;}}</style><style data-emotion=\"css 1gatmva\">.css-1gatmva{margin-bottom:12px;padding:24px 16px;background:#fff;border:1px solid #D9DDE4;border-radius:2px;}@media screen and (min-width: 575px){.css-1gatmva{padding:32px;margin-bottom:16px;}}@media screen and (min-width: 576px){.css-1gatmva{padding:16px 24px;}}@media screen and (max-width: 575px){.css-1gatmva{padding:16px;margin-bottom:12px;border-radius:0;border-left:0;border-right:0;}}</style><div class=\"css-1gatmva e1v1l3u10\"><style data-emotion=\"css pkv5jc\">.css-pkv5jc{position:relative;min-height:60px;}</style><div class=\"css-pkv5jc\"><style data-emotion=\"css laomuu\">.css-laomuu{padding-right:60px;}</style><div class=\"css-laomuu\"><style data-emotion=\"css m604qf\">.css-m604qf{font-size:16px;font-weight:600;font-style:normal;letter-spacing:-0.4px;line-height:24px;color:#0055D9;margin:0;}</style><h2 class=\"css-m604qf\"><style data-emotion=\"css o171kl\">.css-o171kl{-webkit-text-decoration:none;text-decoration:none;color:inherit;}</style><a class=\"css-o171kl\" href=\"https://wuzzuf.net/jobs/p/ow9y8zcxQbne-Machine-Learning-Manager-kcsc-Cairo-Egypt\" rel=\"noreferrer\" target=\"_blank\">Machine Learning Manager</a></h2><style data-emotion=\"css d7j1kk\">.css-d7j1kk{margin-bottom:8px;overflow:hidden;text-overflow:ellipsis;}</style><div class=\"css-d7j1kk\"><style data-emotion=\"css 17s97q8\">.css-17s97q8{font-size:12px;font-weight:600;font-style:normal;letter-spacing:-0.27px;line-height:19px;color:#001433;-webkit-text-decoration:none;text-decoration:none;}</style><a class=\"css-17s97q8\" href=\"https://wuzzuf.net/jobs/careers/kcsc-Saudi Arabia-114714\" rel=\"noreferrer\" target=\"_blank\">kcsc -</a> <style data-emotion=\"css 5wys0k\">.css-5wys0k{font-size:12px;font-weight:600;font-style:normal;letter-spacing:-0.27px;line-height:19px;color:#4D6182;}</style><span class=\"css-5wys0k\">Cairo, <!-- -->Egypt </span><style data-emotion=\"css do6t5g\">.css-do6t5g{font-size:12px;font-weight:400;font-style:normal;letter-spacing:-0.27px;line-height:19px;color:#808EA5;}</style><div class=\"css-do6t5g\">19 days<!-- --> ago</div></div></div><style data-emotion=\"css y4udm8\">.css-y4udm8{font-size:13px;font-weight:600;font-style:normal;letter-spacing:-0.3px;line-height:20px;color:#4D6182;}</style><div class=\"css-y4udm8\"><style data-emotion=\"css 1lh32fc\">.css-1lh32fc{display:-webkit-box;display:-webkit-flex;display:-ms-flexbox;display:flex;margin-bottom:8px;-webkit-align-items:center;-webkit-box-align:center;-ms-flex-align:center;align-items:center;-webkit-box-flex-wrap:wrap;-webkit-flex-wrap:wrap;-ms-flex-wrap:wrap;flex-wrap:wrap;}</style><div class=\"css-1lh32fc\"><style data-emotion=\"css n2jc4m\">.css-n2jc4m{display:-webkit-inline-box;display:-webkit-inline-flex;display:-ms-inline-flexbox;display:inline-flex;-webkit-align-items:center;-webkit-box-align:center;-ms-flex-align:center;align-items:center;-webkit-text-decoration:none;text-decoration:none;color:inherit;margin-bottom:4px;}</style><a class=\"css-n2jc4m\" href=\"/a/Full-Time-Jobs-in-Egypt\"><style data-emotion=\"css adtuo7\">.css-adtuo7{cursor:pointer;padding:0 4px;border-radius:4px;}</style><style data-emotion=\"css 1ve4b75\">.css-1ve4b75{font-size:12px;font-weight:600;display:-webkit-inline-box;display:-webkit-inline-flex;display:-ms-inline-flexbox;display:inline-flex;-webkit-align-items:center;-webkit-box-align:center;-ms-flex-align:center;align-items:center;min-height:20px;margin-right:4px;border-radius:2px;max-width:196px;white-space:nowrap;overflow:hidden;cursor:default;text-overflow:ellipsis;padding:2px 4px;background-color:#EBEDF0;color:#001433;cursor:pointer;padding:0 4px;border-radius:4px;}</style><span class=\"css-1ve4b75 eoyjyou0\">Full Time</span></a><a href=\"/a/On-Site-Jobs-in-Egypt\"><style data-emotion=\"css 1i1n6hw\">.css-1i1n6hw{cursor:pointer;padding:0 4px;border-radius:4px;margin-bottom:4px;}</style><style data-emotion=\"css o1vzmt\">.css-o1vzmt{font-size:12px;font-weight:600;display:-webkit-inline-box;display:-webkit-inline-flex;display:-ms-inline-flexbox;display:inline-flex;-webkit-align-items:center;-webkit-box-align:center;-ms-flex-align:center;align-items:center;min-height:20px;margin-right:4px;border-radius:2px;max-width:196px;white-space:nowrap;overflow:hidden;cursor:default;text-overflow:ellipsis;padding:2px 4px;background-color:#EBEDF0;color:#001433;cursor:pointer;padding:0 4px;border-radius:4px;margin-bottom:4px;}</style><span class=\"css-o1vzmt eoyjyou0\">On-site</span></a></div><div><a class=\"css-o171kl\" href=\"/a/Manager-Jobs-in-Egypt\">Manager</a> <span>· <!-- -->5 - 10 Yrs of Exp</span><a class=\"css-o171kl\" href=\"/a/IT-Software-Development-Jobs-in-Egypt\"> <!-- -->· <!-- -->IT/Software Development</a><a class=\"css-o171kl\" href=\"/a/Engineering-Telecom-Technology-Jobs-in-Egypt\"> <!-- -->· <!-- -->Engineering - Telecom/Technology</a> <!-- -->·<!-- --> <style data-emotion=\"css 5x9pm1\">.css-5x9pm1{-webkit-text-decoration:none;text-decoration:none;color:inherit;max-width:calc(100vw / 2 - 32px);white-space:nowrap;overflow:hidden;text-overflow:ellipsis;display:-webkit-inline-box;display:-webkit-inline-flex;display:-ms-inline-flexbox;display:inline-flex;}</style><a class=\"css-5x9pm1\" href=\"/a/Learning-Jobs-in-Egypt\"><span><strong class=\"highlight\">learning</strong></span></a><a class=\"css-5x9pm1\" href=\"/a/Communication-Jobs-in-Egypt\"> <!-- -->· <!-- -->Communication</a> <!-- -->·<!-- --> <a class=\"css-5x9pm1\" href=\"/a/Machine-Learning-Jobs-in-Egypt\"><span><strong class=\"highlight\">Machine</strong><span> </span><strong class=\"highlight\">Learning</strong></span></a><a class=\"css-5x9pm1\" href=\"/a/Python-Jobs-in-Egypt\"> <!-- -->· <!-- -->Python</a><a class=\"css-5x9pm1\" href=\"/a/Computer-Science-Jobs-in-Egypt\"> <!-- -->· <!-- -->Computer Science</a><a class=\"css-5x9pm1\" href=\"/a/Software-Jobs-in-Egypt\"> <!-- -->· <!-- -->Software</a></div></div></div></div><div class=\"css-1gatmva e1v1l3u10\"><div class=\"css-pkv5jc\"><a href=\"https://wuzzuf.net/jobs/careers/EpsilonAI-Egypt-65111\" rel=\"noreferrer\" target=\"_blank\"><style data-emotion=\"css 17095x3\">.css-17095x3{position:absolute;right:0;top:0;width:60px;height:60px;object-fit:contain;object-position:center center;}</style></a><div class=\"css-laomuu\"><h2 class=\"css-m604qf\"><a class=\"css-o171kl\" href=\"https://wuzzuf.net/jobs/p/s09wN1eMjfMY-Data-Science-Instructor-EpsilonAI-Cairo-Egypt\" rel=\"noreferrer\" target=\"_blank\">Data Science Instructor</a></h2><div class=\"css-d7j1kk\"><a class=\"css-17s97q8\" href=\"https://wuzzuf.net/jobs/careers/EpsilonAI-Egypt-65111\" rel=\"noreferrer\" target=\"_blank\">EpsilonAI -</a> <span class=\"css-5wys0k\">Nasr City, <!-- -->Cairo, <!-- -->Egypt </span><div class=\"css-do6t5g\">2 months<!-- --> ago</div></div></div><div class=\"css-y4udm8\"><div class=\"css-1lh32fc\"><a class=\"css-n2jc4m\" href=\"/a/Full-Time-Jobs-in-Egypt\"><span class=\"css-1ve4b75 eoyjyou0\">Full Time</span></a><a class=\"css-n2jc4m\" href=\"/a/Part-Time-Jobs-in-Egypt\"><span class=\"css-1ve4b75 eoyjyou0\">Part Time</span></a></div><div><a class=\"css-o171kl\" href=\"/a/Experienced-Jobs-in-Egypt\">Experienced</a> <span>· <!-- -->1+ Yrs of Exp</span><a class=\"css-o171kl\" href=\"/a/IT-Software-Development-Jobs-in-Egypt\"> <!-- -->· <!-- -->IT/Software Development</a><a class=\"css-o171kl\" href=\"/a/Engineering-Telecom-Technology-Jobs-in-Egypt\"> <!-- -->· <!-- -->Engineering - Telecom/Technology</a><a class=\"css-o171kl\" href=\"/a/Training-Instructor-Jobs-in-Egypt\"> <!-- -->· <!-- -->Training/Instructor</a><a class=\"css-5x9pm1\" href=\"/a/Data-Science-Jobs-in-Egypt\"> <!-- -->· <!-- -->Data Science</a><a class=\"css-5x9pm1\" href=\"/a/Computer-Science-Jobs-in-Egypt\"> <!-- -->· <!-- -->Computer Science</a><a class=\"css-5x9pm1\" href=\"/a/Computer-Engineering-Jobs-in-Egypt\"> <!-- -->· <!-- -->Computer Engineering</a><a class=\"css-5x9pm1\" href=\"/a/Python-Jobs-in-Egypt\"> <!-- -->· <!-- -->Python</a> <!-- -->·<!-- --> <a class=\"css-5x9pm1\" href=\"/a/Machine-Learning-Jobs-in-Egypt\"><span><strong class=\"highlight\">Machine</strong><span> </span><strong class=\"highlight\">Learning</strong></span></a> <!-- -->·<!-- --> <a class=\"css-5x9pm1\" href=\"/a/Deep-Learning-Jobs-in-Egypt\"><span><span>Deep </span><strong class=\"highlight\">Learning</strong></span></a><a class=\"css-5x9pm1\" href=\"/a/Artificial-Intelligence-AI-Jobs-in-Egypt\"> <!-- -->· <!-- -->Artificial Intelligence (AI)</a></div></div></div></div><div class=\"css-1gatmva e1v1l3u10\"><div class=\"css-pkv5jc\"><div class=\"css-laomuu\"><h2 class=\"css-m604qf\"><a class=\"css-o171kl\" href=\"https://wuzzuf.net/jobs/p/eRVXqix8zgJQ-Machinist-Mechanical-Engineer-kpec-international-Larnaca-Cyprus\" rel=\"noreferrer\" target=\"_blank\">Machinist / Mechanical Engineer</a></h2><div class=\"css-d7j1kk\"><a class=\"css-17s97q8\" href=\"https://wuzzuf.net/jobs/careers/kpec international-Cyprus-114653\" rel=\"noreferrer\" target=\"_blank\">kpec international -</a> <span class=\"css-5wys0k\">Larnaca, <!-- -->Cyprus </span><div class=\"css-do6t5g\">20 days<!-- --> ago</div></div></div><div class=\"css-y4udm8\"><div class=\"css-1lh32fc\"><a class=\"css-n2jc4m\" href=\"/a/Full-Time-Jobs-in-Cyprus\"><span class=\"css-1ve4b75 eoyjyou0\">Full Time</span></a><a href=\"/a/On-Site-Jobs-in-Cyprus\"><span class=\"css-o1vzmt eoyjyou0\">On-site</span></a></div><div><a class=\"css-o171kl\" href=\"/a/Experienced-Jobs-in-Cyprus\">Experienced</a> <span>· <!-- -->5 - 20 Yrs of Exp</span><a class=\"css-o171kl\" href=\"/a/Engineering-Mechanical-Electrical-Jobs-in-Cyprus\"> <!-- -->· <!-- -->Engineering - Mechanical/Electrical</a><a class=\"css-5x9pm1\" href=\"/a/Mechanical-Engineer-Jobs-in-Cyprus\"> <!-- -->· <!-- -->Mechanical engineer</a><a class=\"css-5x9pm1\" href=\"/a/Engineer-Jobs-in-Cyprus\"> <!-- -->· <!-- -->engineer</a><a class=\"css-5x9pm1\" href=\"/a/Maintenance-Jobs-in-Cyprus\"> <!-- -->· <!-- -->Maintenance</a><a class=\"css-5x9pm1\" href=\"/a/Mechanical-Engineering-Jobs-in-Cyprus\"> <!-- -->· <!-- -->Mechanical Engineering</a><a class=\"css-5x9pm1\" href=\"/a/Electrical-Engineering-Jobs-in-Cyprus\"> <!-- -->· <!-- -->Electrical Engineering</a><a class=\"css-5x9pm1\" href=\"/a/Assembly-Jobs-in-Cyprus\"> <!-- -->· <!-- -->Assembly</a><a class=\"css-5x9pm1\" href=\"/a/Drawings-Jobs-in-Cyprus\"> <!-- -->· <!-- -->Drawings</a><a class=\"css-5x9pm1\" href=\"/a/Engineering-Jobs-in-Cyprus\"> <!-- -->· <!-- -->Engineering</a><a class=\"css-5x9pm1\" href=\"/a/Machinery-Jobs-in-Cyprus\"> <!-- -->· <!-- -->Machinery</a></div></div></div></div><div class=\"css-1gatmva e1v1l3u10\"><div class=\"css-pkv5jc\"><a href=\"https://wuzzuf.net/jobs/careers/RMG-Egypt-77001\" rel=\"noreferrer\" target=\"_blank\"></a><div class=\"css-laomuu\"><h2 class=\"css-m604qf\"><a class=\"css-o171kl\" href=\"https://wuzzuf.net/jobs/p/YqALuLpVSgcA-Senior-AI-Engineer-RMG-Cairo-Egypt\" rel=\"noreferrer\" target=\"_blank\">Senior AI Engineer</a></h2><div class=\"css-d7j1kk\"><a class=\"css-17s97q8\" href=\"https://wuzzuf.net/jobs/careers/RMG-Egypt-77001\" rel=\"noreferrer\" target=\"_blank\">RMG -</a> <span class=\"css-5wys0k\">Cairo, <!-- -->Egypt </span><div class=\"css-do6t5g\">12 days<!-- --> ago</div></div></div><div class=\"css-y4udm8\"><div class=\"css-1lh32fc\"><a class=\"css-n2jc4m\" href=\"/a/Full-Time-Jobs-in-Egypt\"><span class=\"css-1ve4b75 eoyjyou0\">Full Time</span></a><a href=\"/a/Hybrid-Jobs-in-Egypt\"><span class=\"css-o1vzmt eoyjyou0\">Hybrid</span></a></div><div><a class=\"css-o171kl\" href=\"/a/Experienced-Jobs-in-Egypt\">Experienced</a> <span>· <!-- -->3 - 7 Yrs of Exp</span><a class=\"css-o171kl\" href=\"/a/IT-Software-Development-Jobs-in-Egypt\"> <!-- -->· <!-- -->IT/Software Development</a><a class=\"css-5x9pm1\" href=\"/a/Information-Technology-IT-Jobs-in-Egypt\"> <!-- -->· <!-- -->Information Technology (IT)</a><a class=\"css-5x9pm1\" href=\"/a/Artificial-Intelligence-AI-Jobs-in-Egypt\"> <!-- -->· <!-- -->Artificial Intelligence (AI)</a></div></div></div></div><div class=\"css-1gatmva e1v1l3u10\"><div class=\"css-pkv5jc\"><a href=\"https://wuzzuf.net/jobs/careers/StreetScan-Canada-104747\" rel=\"noreferrer\" target=\"_blank\"></a><div class=\"css-laomuu\"><h2 class=\"css-m604qf\"><a class=\"css-o171kl\" href=\"https://wuzzuf.net/jobs/p/ThCwX7BRCFwL-AWS-Cloud-Administrator-Citylogix-ME-Cairo-Egypt\" rel=\"noreferrer\" target=\"_blank\">AWS Cloud Administrator</a></h2><div class=\"css-d7j1kk\"><a class=\"css-17s97q8\" href=\"https://wuzzuf.net/jobs/careers/StreetScan-Canada-104747\" rel=\"noreferrer\" target=\"_blank\">Citylogix ME -</a> <span class=\"css-5wys0k\">New Cairo, <!-- -->Cairo, <!-- -->Egypt </span><div class=\"css-do6t5g\">13 days<!-- --> ago</div></div></div><div class=\"css-y4udm8\"><div class=\"css-1lh32fc\"><a class=\"css-n2jc4m\" href=\"/a/Full-Time-Jobs-in-Egypt\"><span class=\"css-1ve4b75 eoyjyou0\">Full Time</span></a><a href=\"/a/On-Site-Jobs-in-Egypt\"><span class=\"css-o1vzmt eoyjyou0\">On-site</span></a></div><div><a class=\"css-o171kl\" href=\"/a/Experienced-Jobs-in-Egypt\">Experienced</a> <span>· <!-- -->4 - 7 Yrs of Exp</span><a class=\"css-o171kl\" href=\"/a/IT-Software-Development-Jobs-in-Egypt\"> <!-- -->· <!-- -->IT/Software Development</a><a class=\"css-o171kl\" href=\"/a/Engineering-Telecom-Technology-Jobs-in-Egypt\"> <!-- -->· <!-- -->Engineering - Telecom/Technology</a><a class=\"css-5x9pm1\" href=\"/a/AWS-Jobs-in-Egypt\"> <!-- -->· <!-- -->AWS</a><a class=\"css-5x9pm1\" href=\"/a/Information-Technology-IT-Jobs-in-Egypt\"> <!-- -->· <!-- -->Information Technology (IT)</a><a class=\"css-5x9pm1\" href=\"/a/System-Admin-Jobs-in-Egypt\"> <!-- -->· <!-- -->System Admin</a><a class=\"css-5x9pm1\" href=\"/a/System-Administration-Jobs-in-Egypt\"> <!-- -->· <!-- -->System Administration</a><a class=\"css-5x9pm1\" href=\"/a/PostgreSQL-Jobs-in-Egypt\"> <!-- -->· <!-- -->PostgreSQL</a><a class=\"css-5x9pm1\" href=\"/a/Docker-Jobs-in-Egypt\"> <!-- -->· <!-- -->Docker</a><a class=\"css-5x9pm1\" href=\"/a/Node-Js-Jobs-in-Egypt\"> <!-- -->· <!-- -->Node.js</a></div></div></div></div><div class=\"css-1gatmva e1v1l3u10\"><div class=\"css-pkv5jc\"><a href=\"https://wuzzuf.net/jobs/careers/gbrands-com-555\" rel=\"noreferrer\" target=\"_blank\"></a><div class=\"css-laomuu\"><h2 class=\"css-m604qf\"><a class=\"css-o171kl\" href=\"https://wuzzuf.net/jobs/p/Rg4pXN5OhgKq-AI-Developer-Global-Brands-Cairo-Egypt\" rel=\"noreferrer\" target=\"_blank\">AI Developer</a></h2><div class=\"css-d7j1kk\"><a class=\"css-17s97q8\" href=\"https://wuzzuf.net/jobs/careers/gbrands-com-555\" rel=\"noreferrer\" target=\"_blank\">Global Brands -</a> <span class=\"css-5wys0k\">New Cairo, <!-- -->Cairo, <!-- -->Egypt </span><div class=\"css-do6t5g\">27 days<!-- --> ago</div></div></div><div class=\"css-y4udm8\"><div class=\"css-1lh32fc\"><a class=\"css-n2jc4m\" href=\"/a/Full-Time-Jobs-in-Egypt\"><span class=\"css-1ve4b75 eoyjyou0\">Full Time</span></a><a href=\"/a/Hybrid-Jobs-in-Egypt\"><span class=\"css-o1vzmt eoyjyou0\">Hybrid</span></a></div><div><a class=\"css-o171kl\" href=\"/a/Experienced-Jobs-in-Egypt\">Experienced</a> <span>· <!-- -->2+ Yrs of Exp</span><a class=\"css-o171kl\" href=\"/a/IT-Software-Development-Jobs-in-Egypt\"> <!-- -->· <!-- -->IT/Software Development</a><a class=\"css-5x9pm1\" href=\"/a/AI-Jobs-in-Egypt\"> <!-- -->· <!-- -->AI</a><a class=\"css-5x9pm1\" href=\"/a/Algorithms-Jobs-in-Egypt\"> <!-- -->· <!-- -->Algorithms</a><a class=\"css-5x9pm1\" href=\"/a/Analysis-Jobs-in-Egypt\"> <!-- -->· <!-- -->Analysis</a><a class=\"css-5x9pm1\" href=\"/a/Artificial-Intelligence-Jobs-in-Egypt\"> <!-- -->· <!-- -->Artificial Intelligence</a><a class=\"css-5x9pm1\" href=\"/a/AWS-Jobs-in-Egypt\"> <!-- -->· <!-- -->AWS</a><a class=\"css-5x9pm1\" href=\"/a/Computer-Science-Jobs-in-Egypt\"> <!-- -->· <!-- -->Computer Science</a><a class=\"css-5x9pm1\" href=\"/a/Information-Technology-IT-Jobs-in-Egypt\"> <!-- -->· <!-- -->Information Technology (IT)</a><a class=\"css-5x9pm1\" href=\"/a/Programming-Jobs-in-Egypt\"> <!-- -->· <!-- -->Programming</a><a class=\"css-5x9pm1\" href=\"/a/Python-Jobs-in-Egypt\"> <!-- -->· <!-- -->Python</a></div></div></div></div><div class=\"css-1gatmva e1v1l3u10\"><div class=\"css-pkv5jc\"><a href=\"https://wuzzuf.net/jobs/careers/WSC-Egypt-87343\" rel=\"noreferrer\" target=\"_blank\"></a><div class=\"css-laomuu\"><h2 class=\"css-m604qf\"><a class=\"css-o171kl\" href=\"https://wuzzuf.net/jobs/p/cFUfSM7fsxTu-Data-Scientist-WSC-Giza-Egypt\" rel=\"noreferrer\" target=\"_blank\">Data Scientist</a></h2><div class=\"css-d7j1kk\"><a class=\"css-17s97q8\" href=\"https://wuzzuf.net/jobs/careers/WSC-Egypt-87343\" rel=\"noreferrer\" target=\"_blank\">WSC -</a> <span class=\"css-5wys0k\">Giza, <!-- -->Egypt </span><div class=\"css-do6t5g\">25 days<!-- --> ago</div></div></div><div class=\"css-y4udm8\"><div class=\"css-1lh32fc\"><a class=\"css-n2jc4m\" href=\"/a/Full-Time-Jobs-in-Egypt\"><span class=\"css-1ve4b75 eoyjyou0\">Full Time</span></a><a href=\"/a/Hybrid-Jobs-in-Egypt\"><span class=\"css-o1vzmt eoyjyou0\">Hybrid</span></a></div><div><a class=\"css-o171kl\" href=\"/a/Experienced-Jobs-in-Egypt\">Experienced</a> <span>· <!-- -->3 - 5 Yrs of Exp</span><a class=\"css-o171kl\" href=\"/a/IT-Software-Development-Jobs-in-Egypt\"> <!-- -->· <!-- -->IT/Software Development</a><a class=\"css-o171kl\" href=\"/a/Analyst-Research-Jobs-in-Egypt\"> <!-- -->· <!-- -->Analyst/Research</a><a class=\"css-o171kl\" href=\"/a/Engineering-Telecom-Technology-Jobs-in-Egypt\"> <!-- -->· <!-- -->Engineering - Telecom/Technology</a><a class=\"css-5x9pm1\" href=\"/a/Computer-Science-Jobs-in-Egypt\"> <!-- -->· <!-- -->Computer Science</a><a class=\"css-5x9pm1\" href=\"/a/Data-Science-Jobs-in-Egypt\"> <!-- -->· <!-- -->Data Science</a><a class=\"css-5x9pm1\" href=\"/a/Data-Scientist-Jobs-in-Egypt\"> <!-- -->· <!-- -->data scientist</a><a class=\"css-5x9pm1\" href=\"/a/Engineering-Jobs-in-Egypt\"> <!-- -->· <!-- -->Engineering</a><a class=\"css-5x9pm1\" href=\"/a/Power-BI-Jobs-in-Egypt\"> <!-- -->· <!-- -->Power BI</a></div></div></div></div><div class=\"css-1gatmva e1v1l3u10\"><div class=\"css-pkv5jc\"><a href=\"https://wuzzuf.net/jobs/careers/Promech-Engineering-Egypt-21525\" rel=\"noreferrer\" target=\"_blank\"></a><div class=\"css-laomuu\"><h2 class=\"css-m604qf\"><a class=\"css-o171kl\" href=\"https://wuzzuf.net/jobs/p/kuJwvXnJzOKv-Cnc-sheet-metal-maintenance-engineer-Promech-Engineering-Cairo-Egypt\" rel=\"noreferrer\" target=\"_blank\">Cnc sheet metal maintenance engineer</a></h2><div class=\"css-d7j1kk\"><a class=\"css-17s97q8\" href=\"https://wuzzuf.net/jobs/careers/Promech-Engineering-Egypt-21525\" rel=\"noreferrer\" target=\"_blank\">Promech Engineering -</a> <span class=\"css-5wys0k\">Maadi, <!-- -->Cairo, <!-- -->Egypt </span><div class=\"css-do6t5g\">25 days<!-- --> ago</div></div></div><div class=\"css-y4udm8\"><div class=\"css-1lh32fc\"><a class=\"css-n2jc4m\" href=\"/a/Full-Time-Jobs-in-Egypt\"><span class=\"css-1ve4b75 eoyjyou0\">Full Time</span></a><a href=\"/a/On-Site-Jobs-in-Egypt\"><span class=\"css-o1vzmt eoyjyou0\">On-site</span></a></div><div><a class=\"css-o171kl\" href=\"/a/Experienced-Jobs-in-Egypt\">Experienced</a> <span>· <!-- -->3 - 5 Yrs of Exp</span><a class=\"css-o171kl\" href=\"/a/Manufacturing-Production-Jobs-in-Egypt\"> <!-- -->· <!-- -->Manufacturing/Production</a><a class=\"css-5x9pm1\" href=\"/a/Engineering-Jobs-in-Egypt\"> <!-- -->· <!-- -->Engineering</a><a class=\"css-5x9pm1\" href=\"/a/Sheet-Metal-Jobs-in-Egypt\"> <!-- -->· <!-- -->Sheet Metal</a><a class=\"css-5x9pm1\" href=\"/a/Maintenance-Jobs-in-Egypt\"> <!-- -->· <!-- -->Maintenance</a><a class=\"css-5x9pm1\" href=\"/a/Mechanical-Engineering-Jobs-in-Egypt\"> <!-- -->· <!-- -->Mechanical Engineering</a><a class=\"css-5x9pm1\" href=\"/a/Metal-Jobs-in-Egypt\"> <!-- -->· <!-- -->Metal</a><a class=\"css-5x9pm1\" href=\"/a/CNC-Jobs-in-Egypt\"> <!-- -->· <!-- -->CNC</a><a class=\"css-5x9pm1\" href=\"/a/Production-Jobs-in-Egypt\"> <!-- -->· <!-- -->Production</a></div></div></div></div><div class=\"css-1gatmva e1v1l3u10\"><div class=\"css-pkv5jc\"><a href=\"https://wuzzuf.net/jobs/careers/Qudra-Tech-Egypt-11913\" rel=\"noreferrer\" target=\"_blank\"></a><div class=\"css-laomuu\"><h2 class=\"css-m604qf\"><a class=\"css-o171kl\" href=\"https://wuzzuf.net/jobs/p/lewDJYtw0FhS-Senior-Full-Stack-Embedded-Engineering-Qudra-Tech-Riyadh-Saudi-Arabia\" rel=\"noreferrer\" target=\"_blank\">Senior Full Stack/ Embedded Engineering</a></h2><div class=\"css-d7j1kk\"><a class=\"css-17s97q8\" href=\"https://wuzzuf.net/jobs/careers/Qudra-Tech-Egypt-11913\" rel=\"noreferrer\" target=\"_blank\">Qudra Tech -</a> <span class=\"css-5wys0k\">Riyadh, <!-- -->Saudi Arabia </span><style data-emotion=\"css 4c4ojb\">.css-4c4ojb{font-size:12px;font-weight:400;font-style:normal;letter-spacing:-0.27px;line-height:19px;color:#2C9266;}</style><div class=\"css-4c4ojb\">3 days<!-- --> ago</div></div></div><div class=\"css-y4udm8\"><div class=\"css-1lh32fc\"><a class=\"css-n2jc4m\" href=\"/saudi/a/Full-Time-Jobs-in-Saudi-Arabia\"><span class=\"css-1ve4b75 eoyjyou0\">Full Time</span></a><a href=\"/saudi/a/On-Site-Jobs-in-Saudi-Arabia\"><span class=\"css-o1vzmt eoyjyou0\">On-site</span></a></div><div><a class=\"css-o171kl\" href=\"/saudi/a/Experienced-Jobs-in-Saudi-Arabia\">Experienced</a> <span>· <!-- -->5 - 7 Yrs of Exp</span><a class=\"css-o171kl\" href=\"/saudi/a/IT-Software-Development-Jobs-in-Saudi-Arabia\"> <!-- -->· <!-- -->IT/Software Development</a><a class=\"css-o171kl\" href=\"/saudi/a/Engineering-Telecom-Technology-Jobs-in-Saudi-Arabia\"> <!-- -->· <!-- -->Engineering - Telecom/Technology</a><a class=\"css-o171kl\" href=\"/saudi/a/Engineering-Jobs-in-Saudi-Arabia\"> <!-- -->· <!-- -->Engineering - Other</a><a class=\"css-5x9pm1\" href=\"/saudi/a/Angular-Jobs-in-Saudi-Arabia\"> <!-- -->· <!-- -->Angular</a><a class=\"css-5x9pm1\" href=\"/saudi/a/Computer-Science-Jobs-in-Saudi-Arabia\"> <!-- -->· <!-- -->Computer Science</a><a class=\"css-5x9pm1\" href=\"/saudi/a/CSS-Jobs-in-Saudi-Arabia\"> <!-- -->· <!-- -->CSS</a><a class=\"css-5x9pm1\" href=\"/saudi/a/Full-Stack-Jobs-in-Saudi-Arabia\"> <!-- -->· <!-- -->Full Stack</a><a class=\"css-5x9pm1\" href=\"/saudi/a/JavaScript-Jobs-in-Saudi-Arabia\"> <!-- -->· <!-- -->JavaScript</a><a class=\"css-5x9pm1\" href=\"/saudi/a/JQuery-Jobs-in-Saudi-Arabia\"> <!-- -->· <!-- -->jQuery</a><a class=\"css-5x9pm1\" href=\"/saudi/a/MVC-Jobs-in-Saudi-Arabia\"> <!-- -->· <!-- -->MVC</a></div></div></div></div><div class=\"css-1gatmva e1v1l3u10\"><div class=\"css-pkv5jc\"><a href=\"https://wuzzuf.net/jobs/careers/JRM-for-Communications-Egypt-920\" rel=\"noreferrer\" target=\"_blank\"></a><div class=\"css-laomuu\"><h2 class=\"css-m604qf\"><a class=\"css-o171kl\" href=\"https://wuzzuf.net/jobs/p/cZDpapTkgWEK-Senior-Software-Engineer-JRM-for-Communications-Cairo-Egypt\" rel=\"noreferrer\" target=\"_blank\">Senior Software Engineer</a></h2><div class=\"css-d7j1kk\"><a class=\"css-17s97q8\" href=\"https://wuzzuf.net/jobs/careers/JRM-for-Communications-Egypt-920\" rel=\"noreferrer\" target=\"_blank\">JRM for Communications -</a> <span class=\"css-5wys0k\">Nasr City, <!-- -->Cairo, <!-- -->Egypt </span><div class=\"css-do6t5g\">20 days<!-- --> ago</div></div></div><div class=\"css-y4udm8\"><div class=\"css-1lh32fc\"><a class=\"css-n2jc4m\" href=\"/a/Full-Time-Jobs-in-Egypt\"><span class=\"css-1ve4b75 eoyjyou0\">Full Time</span></a><a href=\"/a/Hybrid-Jobs-in-Egypt\"><span class=\"css-o1vzmt eoyjyou0\">Hybrid</span></a></div><div><a class=\"css-o171kl\" href=\"/a/Experienced-Jobs-in-Egypt\">Experienced</a> <span>· <!-- -->4 - 7 Yrs of Exp</span><a class=\"css-o171kl\" href=\"/a/IT-Software-Development-Jobs-in-Egypt\"> <!-- -->· <!-- -->IT/Software Development</a><a class=\"css-o171kl\" href=\"/a/Engineering-Telecom-Technology-Jobs-in-Egypt\"> <!-- -->· <!-- -->Engineering - Telecom/Technology</a><a class=\"css-5x9pm1\" href=\"/a/Software-Development-Jobs-in-Egypt\"> <!-- -->· <!-- -->Software Development</a><a class=\"css-5x9pm1\" href=\"/a/Software-Jobs-in-Egypt\"> <!-- -->· <!-- -->Software</a><a class=\"css-5x9pm1\" href=\"/a/Software-Engineering-Jobs-in-Egypt\"> <!-- -->· <!-- -->Software Engineering</a><a class=\"css-5x9pm1\" href=\"/a/Computer-Science-Jobs-in-Egypt\"> <!-- -->· <!-- -->Computer Science</a><a class=\"css-5x9pm1\" href=\"/a/Development-Jobs-in-Egypt\"> <!-- -->· <!-- -->Development</a><a class=\"css-5x9pm1\" href=\"/a/Python-Jobs-in-Egypt\"> <!-- -->· <!-- -->Python</a><a class=\"css-5x9pm1\" href=\"/a/Angular-Jobs-in-Egypt\"> <!-- -->· <!-- -->Angular</a><a class=\"css-5x9pm1\" href=\"/a/AWS-Jobs-in-Egypt\"> <!-- -->· <!-- -->AWS</a></div></div></div></div><div class=\"css-1gatmva e1v1l3u10\"><div class=\"css-pkv5jc\"><a href=\"https://wuzzuf.net/jobs/careers/Creative-Motion-Egypt-18862\" rel=\"noreferrer\" target=\"_blank\"></a><div class=\"css-laomuu\"><h2 class=\"css-m604qf\"><a class=\"css-o171kl\" href=\"https://wuzzuf.net/jobs/p/LDwe3rtVsisi-AI-Developer-Creative-Motion-Cairo-Egypt\" rel=\"noreferrer\" target=\"_blank\">AI Developer</a></h2><div class=\"css-d7j1kk\"><a class=\"css-17s97q8\" href=\"https://wuzzuf.net/jobs/careers/Creative-Motion-Egypt-18862\" rel=\"noreferrer\" target=\"_blank\">Creative Motion -</a> <span class=\"css-5wys0k\">Maadi, <!-- -->Cairo, <!-- -->Egypt </span><div class=\"css-do6t5g\">28 days<!-- --> ago</div></div></div><div class=\"css-y4udm8\"><div class=\"css-1lh32fc\"><a class=\"css-n2jc4m\" href=\"/a/Full-Time-Jobs-in-Egypt\"><span class=\"css-1ve4b75 eoyjyou0\">Full Time</span></a><a href=\"/a/On-Site-Jobs-in-Egypt\"><span class=\"css-o1vzmt eoyjyou0\">On-site</span></a></div><div><a class=\"css-o171kl\" href=\"/a/Experienced-Jobs-in-Egypt\">Experienced</a> <span>· <!-- -->1+ Yrs of Exp</span><a class=\"css-o171kl\" href=\"/a/IT-Software-Development-Jobs-in-Egypt\"> <!-- -->· <!-- -->IT/Software Development</a><a class=\"css-o171kl\" href=\"/a/Analyst-Research-Jobs-in-Egypt\"> <!-- -->· <!-- -->Analyst/Research</a><a class=\"css-o171kl\" href=\"/a/Engineering-Telecom-Technology-Jobs-in-Egypt\"> <!-- -->· <!-- -->Engineering - Telecom/Technology</a><a class=\"css-5x9pm1\" href=\"/a/Algorithms-Jobs-in-Egypt\"> <!-- -->· <!-- -->Algorithms</a><a class=\"css-5x9pm1\" href=\"/a/AI-Jobs-in-Egypt\"> <!-- -->· <!-- -->AI</a><a class=\"css-5x9pm1\" href=\"/a/C-Jobs-in-Egypt\"> <!-- -->· <!-- -->C</a><a class=\"css-5x9pm1\" href=\"/a/Computer-Science-Jobs-in-Egypt\"> <!-- -->· <!-- -->Computer Science</a><a class=\"css-5x9pm1\" href=\"/a/Data-Science-Jobs-in-Egypt\"> <!-- -->· <!-- -->Data Science</a><a class=\"css-5x9pm1\" href=\"/a/Development-Jobs-in-Egypt\"> <!-- -->· <!-- -->Development</a><a class=\"css-5x9pm1\" href=\"/a/Information-Technology-IT-Jobs-in-Egypt\"> <!-- -->· <!-- -->Information Technology (IT)</a></div></div></div></div><div class=\"css-1gatmva e1v1l3u10\"><div class=\"css-pkv5jc\"><a href=\"https://wuzzuf.net/jobs/careers/Enigma-Egypt-110718\" rel=\"noreferrer\" target=\"_blank\"></a><div class=\"css-laomuu\"><h2 class=\"css-m604qf\"><a class=\"css-o171kl\" href=\"https://wuzzuf.net/jobs/p/OTX39A8cjk58-Senior-Software-Engineer-Enigma-Giza-Egypt\" rel=\"noreferrer\" target=\"_blank\">Senior Software Engineer</a></h2><div class=\"css-d7j1kk\"><a class=\"css-17s97q8\" href=\"https://wuzzuf.net/jobs/careers/Enigma-Egypt-110718\" rel=\"noreferrer\" target=\"_blank\">Enigma -</a> <span class=\"css-5wys0k\">Sheikh Zayed, <!-- -->Giza, <!-- -->Egypt </span><div class=\"css-4c4ojb\">3 days<!-- --> ago</div></div></div><div class=\"css-y4udm8\"><div class=\"css-1lh32fc\"><a class=\"css-n2jc4m\" href=\"/a/Full-Time-Jobs-in-Egypt\"><span class=\"css-1ve4b75 eoyjyou0\">Full Time</span></a><a href=\"/a/On-Site-Jobs-in-Egypt\"><span class=\"css-o1vzmt eoyjyou0\">On-site</span></a></div><div><a class=\"css-o171kl\" href=\"/a/Experienced-Jobs-in-Egypt\">Experienced</a> <span>· <!-- -->5 - 10 Yrs of Exp</span><a class=\"css-o171kl\" href=\"/a/IT-Software-Development-Jobs-in-Egypt\"> <!-- -->· <!-- -->IT/Software Development</a><a class=\"css-o171kl\" href=\"/a/Engineering-Telecom-Technology-Jobs-in-Egypt\"> <!-- -->· <!-- -->Engineering - Telecom/Technology</a><a class=\"css-5x9pm1\" href=\"/a/Algorithms-Jobs-in-Egypt\"> <!-- -->· <!-- -->Algorithms</a><a class=\"css-5x9pm1\" href=\"/a/Computer-Science-Jobs-in-Egypt\"> <!-- -->· <!-- -->Computer Science</a><a class=\"css-5x9pm1\" href=\"/a/Information-Technology-IT-Jobs-in-Egypt\"> <!-- -->· <!-- -->Information Technology (IT)</a><a class=\"css-5x9pm1\" href=\"/a/Software-Engineering-Jobs-in-Egypt\"> <!-- -->· <!-- -->Software Engineering</a><a class=\"css-5x9pm1\" href=\"/a/Software-Development-Jobs-in-Egypt\"> <!-- -->· <!-- -->Software Development</a><a class=\"css-5x9pm1\" href=\"/a/Programming-Jobs-in-Egypt\"> <!-- -->· <!-- -->Programming</a><a class=\"css-5x9pm1\" href=\"/a/Python-Jobs-in-Egypt\"> <!-- -->· <!-- -->Python</a><a class=\"css-5x9pm1\" href=\"/a/Database-Jobs-in-Egypt\"> <!-- -->· <!-- -->Database</a></div></div></div></div><div class=\"css-1gatmva e1v1l3u10\"><div class=\"css-pkv5jc\"><a href=\"https://wuzzuf.net/jobs/careers/Elsewedy-industries-Egypt-49892\" rel=\"noreferrer\" target=\"_blank\"></a><div class=\"css-laomuu\"><h2 class=\"css-m604qf\"><a class=\"css-o171kl\" href=\"https://wuzzuf.net/jobs/p/nl9wbMXtgFkU-Planning-Section-Head-Elsewedy-industries-Cairo-Egypt\" rel=\"noreferrer\" target=\"_blank\">Planning Section Head</a></h2><div class=\"css-d7j1kk\"><a class=\"css-17s97q8\" href=\"https://wuzzuf.net/jobs/careers/Elsewedy-industries-Egypt-49892\" rel=\"noreferrer\" target=\"_blank\">Elsewedy industries -</a> <span class=\"css-5wys0k\">Cairo, <!-- -->Egypt </span><div class=\"css-do6t5g\">11 days<!-- --> ago</div></div></div><div class=\"css-y4udm8\"><div class=\"css-1lh32fc\"><a class=\"css-n2jc4m\" href=\"/a/Full-Time-Jobs-in-Egypt\"><span class=\"css-1ve4b75 eoyjyou0\">Full Time</span></a><a href=\"/a/On-Site-Jobs-in-Egypt\"><span class=\"css-o1vzmt eoyjyou0\">On-site</span></a></div><div><a class=\"css-o171kl\" href=\"/a/Manager-Jobs-in-Egypt\">Manager</a> <span>· <!-- -->5 - 10 Yrs of Exp</span><a class=\"css-o171kl\" href=\"/a/Logistics-Supply-Chain-Jobs-in-Egypt\"> <!-- -->· <!-- -->Logistics/Supply Chain</a><a class=\"css-o171kl\" href=\"/a/Manufacturing-Production-Jobs-in-Egypt\"> <!-- -->· <!-- -->Manufacturing/Production</a><a class=\"css-5x9pm1\" href=\"/a/Demand-Planning-Jobs-in-Egypt\"> <!-- -->· <!-- -->Demand Planning</a><a class=\"css-5x9pm1\" href=\"/a/Supply-Chain-Jobs-in-Egypt\"> <!-- -->· <!-- -->Supply Chain</a><a class=\"css-5x9pm1\" href=\"/a/Supply-Planning-Jobs-in-Egypt\"> <!-- -->· <!-- -->Supply Planning</a><a class=\"css-5x9pm1\" href=\"/a/MRP-Jobs-in-Egypt\"> <!-- -->· <!-- -->MRP</a><a class=\"css-5x9pm1\" href=\"/a/Material-Requirements-Planning-Jobs-in-Egypt\"> <!-- -->· <!-- -->Material Requirements Planning</a></div></div></div></div><div class=\"css-1gatmva e1v1l3u10\"><div class=\"css-pkv5jc\"><a href=\"https://wuzzuf.net/jobs/careers/GIG Egypt-Egypt-114172\" rel=\"noreferrer\" target=\"_blank\"></a><div class=\"css-laomuu\"><h2 class=\"css-m604qf\"><a class=\"css-o171kl\" href=\"https://wuzzuf.net/jobs/p/BI1PTjXzwCx9-Full-Stack-Developer-–-PHP-Laravel-React-Native-GIG-Egypt-Cairo-Egypt\" rel=\"noreferrer\" target=\"_blank\">Full Stack Developer – PHP Laravel / React Native</a></h2><div class=\"css-d7j1kk\"><a class=\"css-17s97q8\" href=\"https://wuzzuf.net/jobs/careers/GIG Egypt-Egypt-114172\" rel=\"noreferrer\" target=\"_blank\">GIG Egypt  -</a> <span class=\"css-5wys0k\">New Cairo, <!-- -->Cairo, <!-- -->Egypt </span><div class=\"css-do6t5g\">19 days<!-- --> ago</div></div></div><div class=\"css-y4udm8\"><div class=\"css-1lh32fc\"><a class=\"css-n2jc4m\" href=\"/a/Full-Time-Jobs-in-Egypt\"><span class=\"css-1ve4b75 eoyjyou0\">Full Time</span></a><a href=\"/a/On-Site-Jobs-in-Egypt\"><span class=\"css-o1vzmt eoyjyou0\">On-site</span></a></div><div><a class=\"css-o171kl\" href=\"/a/Experienced-Jobs-in-Egypt\">Experienced</a> <span>· <!-- -->2 - 4 Yrs of Exp</span><a class=\"css-o171kl\" href=\"/a/IT-Software-Development-Jobs-in-Egypt\"> <!-- -->· <!-- -->IT/Software Development</a><a class=\"css-5x9pm1\" href=\"/a/Full-Stack-Jobs-in-Egypt\"> <!-- -->· <!-- -->Full Stack</a><a class=\"css-5x9pm1\" href=\"/a/Full-Stack-Developer-Jobs-in-Egypt\"> <!-- -->· <!-- -->Full Stack Developer</a><a class=\"css-5x9pm1\" href=\"/a/Information-Technology-IT-Jobs-in-Egypt\"> <!-- -->· <!-- -->Information Technology (IT)</a><a class=\"css-5x9pm1\" href=\"/a/PHP-Laravel-Jobs-in-Egypt\"> <!-- -->· <!-- -->PHP Laravel</a><a class=\"css-5x9pm1\" href=\"/a/Laravel-Jobs-in-Egypt\"> <!-- -->· <!-- -->Laravel</a><a class=\"css-5x9pm1\" href=\"/a/Computer-Science-Jobs-in-Egypt\"> <!-- -->· <!-- -->Computer Science</a><a class=\"css-5x9pm1\" href=\"/a/Developer-Jobs-in-Egypt\"> <!-- -->· <!-- -->developer</a><a class=\"css-5x9pm1\" href=\"/a/Stack-Jobs-in-Egypt\"> <!-- -->· <!-- -->Stack</a></div></div></div></div><div class=\"css-1gatmva e1v1l3u10\"><div class=\"css-pkv5jc\"><a rel=\"noreferrer\" target=\"_blank\"></a><div class=\"css-laomuu\"><h2 class=\"css-m604qf\"><a class=\"css-o171kl\" href=\"https://wuzzuf.net/jobs/p/x81jX7bIHcBK-Technical-assistant-Cairo-Egypt\" rel=\"noreferrer\" target=\"_blank\">Technical assistant</a></h2><div class=\"css-d7j1kk\"><a class=\"css-17s97q8\" rel=\"noreferrer\" target=\"_blank\">Confidential -</a> <span class=\"css-5wys0k\">Cairo, <!-- -->Egypt </span><div class=\"css-4c4ojb\">7 days<!-- --> ago</div></div></div><div class=\"css-y4udm8\"><div class=\"css-1lh32fc\"><a class=\"css-n2jc4m\" href=\"/a/Full-Time-Jobs-in-Egypt\"><span class=\"css-1ve4b75 eoyjyou0\">Full Time</span></a><a href=\"/a/Hybrid-Jobs-in-Egypt\"><span class=\"css-o1vzmt eoyjyou0\">Hybrid</span></a></div><div><a class=\"css-o171kl\" href=\"/a/Entry-Level-Jobs-in-Egypt\">Entry Level</a> <span>· <!-- -->1 - 7 Yrs of Exp</span><a class=\"css-o171kl\" href=\"/a/Administration-Jobs-in-Egypt\"> <!-- -->· <!-- -->Administration</a><a class=\"css-5x9pm1\" href=\"/a/Technical-Assistance-Jobs-in-Egypt\"> <!-- -->· <!-- -->Technical Assistance</a><a class=\"css-5x9pm1\" href=\"/a/Marketing-Jobs-in-Egypt\"> <!-- -->· <!-- -->Marketing</a></div></div></div></div></div><style data-emotion=\"css 7o92qm\">.css-7o92qm{display:-webkit-box;display:-webkit-flex;display:-ms-flexbox;display:flex;-webkit-flex-direction:row-reverse;-ms-flex-direction:row-reverse;flex-direction:row-reverse;margin:24px 0;}</style><div class=\"css-7o92qm\"><style data-emotion=\"css e5a93e\">.css-e5a93e{list-style:none;padding:0;margin:0;display:-webkit-inline-box;display:-webkit-inline-flex;display:-ms-inline-flexbox;display:inline-flex;float:right;}</style><ul class=\"css-e5a93e\"><style data-emotion=\"css 8neukt\">.css-8neukt{color:#808EA5;font-family:Open Sans;font-size:12px;height:auto;line-height:20px;text-align:right;display:-webkit-inline-box;display:-webkit-inline-flex;display:-ms-inline-flexbox;display:inline-flex;-webkit-align-items:center;-webkit-box-align:center;-ms-flex-align:center;align-items:center;}</style><li class=\"css-8neukt\">Showing 1 - 15 of 28</li><style data-emotion=\"css 1q4vxyr\">.css-1q4vxyr{margin-left:8px;}</style><li class=\"css-1q4vxyr\" tabindex=\"0\"><style data-emotion=\"css 1dp1qob\">.css-1dp1qob{padding:0 12px;}</style><style data-emotion=\"css 4sf5j8\">.css-4sf5j8{min-height:auto;min-width:auto;padding:8px;vertical-align:middle;padding:0 12px;}</style><style data-emotion=\"css 18rqtbx\">.css-18rqtbx{display:-webkit-inline-box;display:-webkit-inline-flex;display:-ms-inline-flexbox;display:inline-flex;-webkit-box-pack:center;-ms-flex-pack:center;-webkit-justify-content:center;justify-content:center;-webkit-align-items:center;-webkit-box-align:center;-ms-flex-align:center;align-items:center;font-size:15px;padding:0 12px;border:1px solid transparent;border-radius:2px;-webkit-text-decoration:none;text-decoration:none;text-align:center;-webkit-user-select:none;-moz-user-select:none;-ms-user-select:none;user-select:none;cursor:pointer;min-width:80px;-webkit-transition:color .2s ease,background-color .2s ease,border-color .2s ease;transition:color .2s ease,background-color .2s ease,border-color .2s ease;min-height:40px;line-height:32px;color:#ffffff;background-color:#001433;min-height:auto;min-width:auto;padding:8px;vertical-align:middle;padding:0 12px;}.css-18rqtbx:focus{outline:none;}.css-18rqtbx:disabled{opacity:0.25;cursor:not-allowed;}.css-18rqtbx:hover{background-color:#0D2955;}.css-18rqtbx:active{background-color:#001E4C;}.css-18rqtbx:focus{border-color:#80B2FF;}.css-18rqtbx:disabled:hover{background-color:#1A345E;}</style><button class=\"css-18rqtbx ezfki8j0\" type=\"button\"><style data-emotion=\"css 1fcv3il\">.css-1fcv3il{color:inherit;-webkit-text-decoration:none;text-decoration:none;background:inherit;display:-webkit-inline-box;display:-webkit-inline-flex;display:-ms-inline-flexbox;display:inline-flex;}</style><a class=\"css-1fcv3il\" href=\"https://wuzzuf.net/search/jobs?q=machine%20learning&amp;start=0\">1</a></button></li><li class=\"css-1q4vxyr\" tabindex=\"0\"><style data-emotion=\"css 1dtj1k4\">.css-1dtj1k4{display:-webkit-inline-box;display:-webkit-inline-flex;display:-ms-inline-flexbox;display:inline-flex;-webkit-box-pack:center;-ms-flex-pack:center;-webkit-justify-content:center;justify-content:center;-webkit-align-items:center;-webkit-box-align:center;-ms-flex-align:center;align-items:center;font-size:15px;padding:0 12px;border:1px solid transparent;border-radius:2px;-webkit-text-decoration:none;text-decoration:none;text-align:center;-webkit-user-select:none;-moz-user-select:none;-ms-user-select:none;user-select:none;cursor:pointer;min-width:80px;-webkit-transition:color .2s ease,background-color .2s ease,border-color .2s ease;transition:color .2s ease,background-color .2s ease,border-color .2s ease;min-height:40px;line-height:32px;color:#4D6182;background-color:#EBEDF0;border-color:#D9DDE4;min-height:auto;min-width:auto;padding:8px;vertical-align:middle;padding:0 12px;}.css-1dtj1k4:focus{outline:none;}.css-1dtj1k4:disabled{opacity:0.25;cursor:not-allowed;}.css-1dtj1k4:hover{background-color:#D9DDE4;}.css-1dtj1k4:active{background-color:#CCD2DB;}.css-1dtj1k4:focus{border-color:#80B2FF;}.css-1dtj1k4:disabled{opacity:0.5;}.css-1dtj1k4:disabled:hover{background-color:#EBEDF0;}</style><button class=\"css-1dtj1k4 ezfki8j0\" type=\"button\"><a class=\"css-1fcv3il\" href=\"https://wuzzuf.net/search/jobs?q=machine%20learning&amp;start=1\">2</a></button></li><li class=\"css-1q4vxyr\"><style data-emotion=\"css 1si6wln\">.css-1si6wln{min-height:auto;min-width:auto;padding:8px;vertical-align:middle;}</style><style data-emotion=\"css zye1os\">.css-zye1os{display:-webkit-inline-box;display:-webkit-inline-flex;display:-ms-inline-flexbox;display:inline-flex;-webkit-box-pack:center;-ms-flex-pack:center;-webkit-justify-content:center;justify-content:center;-webkit-align-items:center;-webkit-box-align:center;-ms-flex-align:center;align-items:center;font-size:15px;padding:0 12px;border:1px solid transparent;border-radius:2px;-webkit-text-decoration:none;text-decoration:none;text-align:center;-webkit-user-select:none;-moz-user-select:none;-ms-user-select:none;user-select:none;cursor:pointer;min-width:80px;-webkit-transition:color .2s ease,background-color .2s ease,border-color .2s ease;transition:color .2s ease,background-color .2s ease,border-color .2s ease;min-height:40px;line-height:32px;color:#4D6182;background-color:#EBEDF0;border-color:#D9DDE4;min-height:auto;min-width:auto;padding:8px;vertical-align:middle;}.css-zye1os:focus{outline:none;}.css-zye1os:disabled{opacity:0.25;cursor:not-allowed;}.css-zye1os:hover{background-color:#D9DDE4;}.css-zye1os:active{background-color:#CCD2DB;}.css-zye1os:focus{border-color:#80B2FF;}.css-zye1os:disabled{opacity:0.5;}.css-zye1os:disabled:hover{background-color:#EBEDF0;}</style><button class=\"css-zye1os ezfki8j0\" type=\"button\"><a class=\"css-1fcv3il\" href=\"https://wuzzuf.net/search/jobs?q=machine%20learning&amp;start=1\"><i class=\"css-b80bsd efou2fk0\" size=\"16\"><svg height=\"16\" preserveaspectratio=\"none\" viewbox=\"0 0 24 24\" width=\"16\"><path d=\"M9.213 5L7.5 6.645 13.063 12 7.5 17.355 9.213 19l7.287-7z\" fill=\"#000\"></path></svg></i></a></button></li></ul></div><style data-emotion=\"css 1qtlctc\">.css-1qtlctc{margin:0 0 24px 0;}@media screen and (min-width: 992px){.css-1qtlctc{margin:24px 0;}}</style><div class=\"css-1qtlctc\"><style data-emotion=\"css 1ryimpd\">.css-1ryimpd{width:100%;margin-top:16px;padding:16px 12px 16px 16px;border:1px solid #D9DDE4;background-color:#ffffff;}@media screen and (min-width: 992px){.css-1ryimpd{margin-top:12px;padding:24px;border-radius:8px;}}</style><div class=\"css-1ryimpd\"><style data-emotion=\"css gjdkia\">.css-gjdkia{display:-webkit-box;display:-webkit-flex;display:-ms-flexbox;display:flex;-webkit-align-items:flex-start;-webkit-box-align:flex-start;-ms-flex-align:flex-start;align-items:flex-start;cursor:pointer;}</style><div class=\"css-gjdkia\"><style data-emotion=\"css 1x3lhr9\">.css-1x3lhr9{margin:0;-webkit-flex:1;-ms-flex:1;flex:1;color:#001433;font-size:16px;font-weight:600;font-style:normal;letter-spacing:-0.4px;line-height:24px;}</style><h4 class=\"css-1x3lhr9\">What are the top 10 popular jobs in Egypt Now?</h4><style data-emotion=\"css 1a9j7t6\">.css-1a9j7t6{display:-webkit-inline-box;display:-webkit-inline-flex;display:-ms-inline-flexbox;display:inline-flex;line-height:1em;width:24px;height:24px;}</style><i class=\"css-1a9j7t6 efou2fk0\" size=\"24\"><svg height=\"24\" preserveaspectratio=\"none\" viewbox=\"0 0 24 24\" width=\"24\"><path d=\"M19 13h-6v6h-2v-6H5v-2h6V5h2v6h6z\" fill=\"#001433\"></path></svg></i></div></div><div class=\"css-1ryimpd\"><div class=\"css-gjdkia\"><h4 class=\"css-1x3lhr9\">Egypt's Top 5 Companies Hiring in Egypt Now</h4><i class=\"css-1a9j7t6 efou2fk0\" size=\"24\"><svg height=\"24\" preserveaspectratio=\"none\" viewbox=\"0 0 24 24\" width=\"24\"><path d=\"M19 13h-6v6h-2v-6H5v-2h6V5h2v6h6z\" fill=\"#001433\"></path></svg></i></div></div><div class=\"css-1ryimpd\"><div class=\"css-gjdkia\"><h4 class=\"css-1x3lhr9\">What are the top 5 cities with open jobs in Egypt?</h4><i class=\"css-1a9j7t6 efou2fk0\" size=\"24\"><svg height=\"24\" preserveaspectratio=\"none\" viewbox=\"0 0 24 24\" width=\"24\"><path d=\"M19 13h-6v6h-2v-6H5v-2h6V5h2v6h6z\" fill=\"#001433\"></path></svg></i></div></div></div><style data-emotion=\"css 1lr4d9k\">.css-1lr4d9k{margin:0 auto 8px;text-align:center;}</style><div class=\"css-1lr4d9k\" id=\"div-gpt-ad-1359997972784-0\"></div><div class=\"css-1lr4d9k\" id=\"div-gpt-ad-1360000214950-0\"></div><style data-emotion=\"css bl2iyi\">.css-bl2iyi{margin-top:0;padding:12px;}@media screen and (max-width: 575px){.css-bl2iyi{border-left:0;border-right:0;}}@media screen and (min-width: 576px){.css-bl2iyi{margin-top:0;padding:24px;}}</style><style data-emotion=\"css 18h65m4\">.css-18h65m4{margin-bottom:12px;padding:24px 16px;background:#fff;border:1px solid #D9DDE4;border-radius:2px;margin-top:0;padding:12px;}@media screen and (min-width: 575px){.css-18h65m4{padding:32px;margin-bottom:16px;}}@media screen and (max-width: 575px){.css-18h65m4{border-left:0;border-right:0;}}@media screen and (min-width: 576px){.css-18h65m4{margin-top:0;padding:24px;}}</style><div class=\"css-18h65m4 e1v1l3u10\"><style data-emotion=\"css 14b717g\">.css-14b717g{font-size:16px;font-weight:700;font-style:normal;letter-spacing:-0.4px;line-height:24px;color:#001433;margin:0 0 24px;}@media screen and (max-width: 575px){.css-14b717g{margin:0 0 16px;}}</style><h2 class=\"css-14b717g\">Browse New Jobs in <!-- -->Egypt</h2><style data-emotion=\"css 1f3egm3\">.css-1f3egm3{display:-webkit-box;display:-webkit-flex;display:-ms-flexbox;display:flex;-webkit-box-flex-wrap:wrap;-webkit-flex-wrap:wrap;-ms-flex-wrap:wrap;flex-wrap:wrap;-webkit-box-pack:justify;-webkit-justify-content:space-between;justify-content:space-between;}</style><div class=\"css-1f3egm3\"><style data-emotion=\"css 2dsa5r\">.css-2dsa5r{font-size:14px;font-weight:400;font-style:normal;letter-spacing:-0.35px;line-height:22px;width:100%;color:#0055D9;margin:0;white-space:nowrap;overflow:hidden;text-overflow:ellipsis;}.css-2dsa5r:not(:last-child){margin:0 0 8px;}@media screen and (min-width: 575px){.css-2dsa5r{margin:0;width:50%;}}@media screen and (min-width: 800px){.css-2dsa5r{width:32%;}}</style><h3 class=\"css-2dsa5r\"><a class=\"css-o171kl\" href=\"/a/Accounting-Finance-Jobs-in-Egypt\">Accounting/Finance</a></h3><h3 class=\"css-2dsa5r\"><a class=\"css-o171kl\" href=\"/a/Administration-Jobs-in-Egypt\">Administration</a></h3><h3 class=\"css-2dsa5r\"><a class=\"css-o171kl\" href=\"/a/Analyst-Research-Jobs-in-Egypt\">Analyst/Research</a></h3><h3 class=\"css-2dsa5r\"><a class=\"css-o171kl\" href=\"/a/Android-Mobile-Development-Jobs-in-Egypt\">Android Jobs</a></h3><h3 class=\"css-2dsa5r\"><a class=\"css-o171kl\" href=\"/a/Banking-Jobs-in-Egypt\">Banking</a></h3><h3 class=\"css-2dsa5r\"><a class=\"css-o171kl\" href=\"/a/Business-Jobs-in-Egypt\">Business Development</a></h3><h3 class=\"css-2dsa5r\"><a class=\"css-o171kl\" href=\"/a/Executive-GM-Director-Jobs-in-Egypt\">C-Level Executive/GM/Director</a></h3><h3 class=\"css-2dsa5r\"><a class=\"css-o171kl\" href=\"/a/Creative-Design-Art-Jobs-in-Egypt\">Creative/Design/Art</a></h3><h3 class=\"css-2dsa5r\"><a class=\"css-o171kl\" href=\"/a/Customer-Service-Jobs-in-Egypt\">Customer Service/Support</a></h3><h3 class=\"css-2dsa5r\"><a class=\"css-o171kl\" href=\"/a/Education-Teaching-Jobs-in-Egypt\">Education/Teaching</a></h3><h3 class=\"css-2dsa5r\"><a class=\"css-o171kl\" href=\"/a/Engineering-Construction-Civil-Architecture-Jobs-in-Egypt\">Engineering - Construction/Civil/Architecture</a></h3><h3 class=\"css-2dsa5r\"><a class=\"css-o171kl\" href=\"/a/Engineering-Mechanical-Electrical-Jobs-in-Egypt\">Engineering - Mechanical/Electrical</a></h3><h3 class=\"css-2dsa5r\"><a class=\"css-o171kl\" href=\"/a/Engineering-Oil-Gas-Energy-Jobs-in-Egypt\">Engineering - Oil &amp; Gas/Energy</a></h3><h3 class=\"css-2dsa5r\"><a class=\"css-o171kl\" href=\"/a/Engineering-Jobs-in-Egypt\">Engineering - Other</a></h3><h3 class=\"css-2dsa5r\"><a class=\"css-o171kl\" href=\"/a/Engineering-Telecom-Technology-Jobs-in-Egypt\">Engineering - Telecom/Technology</a></h3><h3 class=\"css-2dsa5r\"><a class=\"css-o171kl\" href=\"/a/Fashion-Jobs-in-Egypt\">Fashion</a></h3><h3 class=\"css-2dsa5r\"><a class=\"css-o171kl\" href=\"/a/Hospitality-Hotels-Food-Jobs-in-Egypt\">Hospitality/Hotels/Food Services</a></h3><h3 class=\"css-2dsa5r\"><a class=\"css-o171kl\" href=\"/a/Human-Resources-HR-Jobs-in-Egypt\">Human Resources</a></h3><h3 class=\"css-2dsa5r\"><a class=\"css-o171kl\" href=\"/a/IT-Software-Development-Jobs-in-Egypt\">IT/Software Development</a></h3><h3 class=\"css-2dsa5r\"><a class=\"css-o171kl\" href=\"/a/Installation-Maintenance-Jobs-in-Egypt\">Installation/Maintenance/Repair</a></h3><h3 class=\"css-2dsa5r\"><a class=\"css-o171kl\" href=\"/a/Internships-Jobs-in-Egypt\">Internships in Egypt</a></h3><h3 class=\"css-2dsa5r\"><a class=\"css-o171kl\" href=\"/a/Legal-Jobs-in-Egypt\">Legal</a></h3><h3 class=\"css-2dsa5r\"><a class=\"css-o171kl\" href=\"/a/Logistics-Supply-Chain-Jobs-in-Egypt\">Logistics/Supply Chain</a></h3><h3 class=\"css-2dsa5r\"><a class=\"css-o171kl\" href=\"/a/Manufacturing-Production-Jobs-in-Egypt\">Manufacturing/Production</a></h3><h3 class=\"css-2dsa5r\"><a class=\"css-o171kl\" href=\"/a/Marketing-PR-Advertising-Jobs-in-Egypt\">Marketing/PR/Advertising</a></h3><h3 class=\"css-2dsa5r\"><a class=\"css-o171kl\" href=\"/a/Media-Journalism-Publishing-Jobs-in-Egypt\">Media/Journalism/Publishing</a></h3><h3 class=\"css-2dsa5r\"><a class=\"css-o171kl\" href=\"/a/Healthcare-Medical-Jobs-in-Egypt\">Medical/Healthcare</a></h3><h3 class=\"css-2dsa5r\"><a class=\"css-o171kl\" href=\"/a/Operations-Management-Jobs-in-Egypt\">Operations/Management</a></h3><h3 class=\"css-2dsa5r\"><a class=\"css-o171kl\" href=\"/a/Pharmaceutical-Jobs-in-Egypt\">Pharmaceutical</a></h3><h3 class=\"css-2dsa5r\"><a class=\"css-o171kl\" href=\"/a/Program-Project-Management-Jobs-in-Egypt\">Project/Program Management</a></h3><h3 class=\"css-2dsa5r\"><a class=\"css-o171kl\" href=\"/a/Purchasing-Procurement-Jobs-in-Egypt\">Purchasing/Procurement</a></h3><h3 class=\"css-2dsa5r\"><a class=\"css-o171kl\" href=\"/a/Quality-Jobs-in-Egypt\">Quality</a></h3><h3 class=\"css-2dsa5r\"><a class=\"css-o171kl\" href=\"/a/R-D-Science-Jobs-in-Egypt\">R&amp;D/Science</a></h3><h3 class=\"css-2dsa5r\"><a class=\"css-o171kl\" href=\"/a/Sales-Jobs-in-Egypt\">Sales/Retail</a></h3><h3 class=\"css-2dsa5r\"><a class=\"css-o171kl\" href=\"/a/Sports-Leisure-Jobs-in-Egypt\">Sports and Leisure</a></h3><h3 class=\"css-2dsa5r\"><a class=\"css-o171kl\" href=\"/a/Startup-Jobs-in-Egypt\">Startup Jobs</a></h3><h3 class=\"css-2dsa5r\"><a class=\"css-o171kl\" href=\"/a/Strategy-Consulting-Jobs-in-Egypt\">Strategy/Consulting</a></h3><h3 class=\"css-2dsa5r\"><a class=\"css-o171kl\" href=\"/a/Tourism-Travel-Jobs-in-Egypt\">Tourism/Travel</a></h3><h3 class=\"css-2dsa5r\"><a class=\"css-o171kl\" href=\"/a/Training-Instructor-Jobs-in-Egypt\">Training/Instructor</a></h3><h3 class=\"css-2dsa5r\"><a class=\"css-o171kl\" href=\"/a/Editorial-Writing-Jobs-in-Egypt\">Writing/Editorial</a></h3></div></div><div class=\"css-18h65m4 e1v1l3u10\"><h2 class=\"css-14b717g\">Browse Jobs By Location</h2><style data-emotion=\"css 5kov97\">.css-5kov97{display:-webkit-box;display:-webkit-flex;display:-ms-flexbox;display:flex;-webkit-box-flex-wrap:wrap;-webkit-flex-wrap:wrap;-ms-flex-wrap:wrap;flex-wrap:wrap;}</style><div class=\"css-5kov97\"><style data-emotion=\"css 1ruu6i\">.css-1ruu6i{font-size:14px;font-weight:400;font-style:normal;letter-spacing:-0.35px;line-height:22px;width:25%;padding-right:16px;color:#0055D9;margin:0;white-space:nowrap;overflow:hidden;text-overflow:ellipsis;}@media screen and (max-width: 575px){.css-1ruu6i{width:100%;}.css-1ruu6i+div{margin-top:8px;}}.css-1ruu6i:not(:last-child){margin:0 0 8px;}</style><h3 class=\"css-1ruu6i\"><a class=\"css-o171kl\" href=\"/a/Jobs-in-Cairo\">Jobs in <span>Cairo</span></a></h3><h3 class=\"css-1ruu6i\"><a class=\"css-o171kl\" href=\"/a/Jobs-in-Giza\">Jobs in <span>Giza</span></a></h3><h3 class=\"css-1ruu6i\"><a class=\"css-o171kl\" href=\"/a/Jobs-in-Alexandria\">Jobs in <span>Alexandria</span></a></h3><h3 class=\"css-1ruu6i\"><a class=\"css-o171kl\" href=\"/a/Jobs-in-Sharqia\">Jobs in <span>Sharqia</span></a></h3><h3 class=\"css-1ruu6i\"><a class=\"css-o171kl\" href=\"/a/Jobs-in-Riyadh\">Jobs in <span>Riyadh</span></a></h3><h3 class=\"css-1ruu6i\"><a class=\"css-o171kl\" href=\"/a/Jobs-in-Monufya\">Jobs in <span>Monufya</span></a></h3><h3 class=\"css-1ruu6i\"><a class=\"css-o171kl\" href=\"/a/Jobs-in-Qalubia\">Jobs in <span>Qalubia</span></a></h3><h3 class=\"css-1ruu6i\"><a class=\"css-o171kl\" href=\"/a/Jobs-in-Gharbia\">Jobs in <span>Gharbia</span></a></h3><h3 class=\"css-1ruu6i\"><a class=\"css-o171kl\" href=\"/a/Jobs-in-Red-Sea\">Jobs in <span>Red Sea</span></a></h3><h3 class=\"css-1ruu6i\"><a class=\"css-o171kl\" href=\"/a/Jobs-in-Dubai\">Jobs in <span>Dubai</span></a></h3><h3 class=\"css-1ruu6i\"><a class=\"css-o171kl\" href=\"/a/Jobs-in-Dakahlia\">Jobs in <span>Dakahlia</span></a></h3><h3 class=\"css-1ruu6i\"><a class=\"css-o171kl\" href=\"/a/Jobs-in-Suez\">Jobs in <span>Suez</span></a></h3><h3 class=\"css-1ruu6i\"><a class=\"css-o171kl\" href=\"/a/Jobs-in-Ismailia\">Jobs in <span>Ismailia</span></a></h3><h3 class=\"css-1ruu6i\"><a class=\"css-o171kl\" href=\"/a/Jobs-in-Damietta\">Jobs in <span>Damietta</span></a></h3><h3 class=\"css-1ruu6i\"><a class=\"css-o171kl\" href=\"/a/Jobs-in-Port-Said\">Jobs in <span>Port Said</span></a></h3><h3 class=\"css-1ruu6i\"><a class=\"css-o171kl\" href=\"/a/Jobs-in-Minya\">Jobs in <span>Minya</span></a></h3><h3 class=\"css-1ruu6i\"><a class=\"css-o171kl\" href=\"/a/Jobs-in-Beni-Suef\">Jobs in <span>Beni Suef</span></a></h3><h3 class=\"css-1ruu6i\"><a class=\"css-o171kl\" href=\"/a/Jobs-in-Matruh\">Jobs in <span>Matruh</span></a></h3><h3 class=\"css-1ruu6i\"><a class=\"css-o171kl\" href=\"/a/Jobs-in-Beheira\">Jobs in <span>Beheira</span></a></h3><h3 class=\"css-1ruu6i\"><a class=\"css-o171kl\" href=\"/a/Jobs-in-South-Sinai\">Jobs in <span>South Sinai</span></a></h3><h3 class=\"css-1ruu6i\"><a class=\"css-o171kl\" href=\"/a/Jobs-in-Sohag\">Jobs in <span>Sohag</span></a></h3><h3 class=\"css-1ruu6i\"><a class=\"css-o171kl\" href=\"/a/Jobs-in-Jeddah\">Jobs in <span>Jeddah</span></a></h3><h3 class=\"css-1ruu6i\"><a class=\"css-o171kl\" href=\"/a/Jobs-in-Assiut\">Jobs in <span>Assiut</span></a></h3><h3 class=\"css-1ruu6i\"><a class=\"css-o171kl\" href=\"/a/Jobs-in-Kafr-Alsheikh\">Jobs in <span>Kafr Alsheikh</span></a></h3><h3 class=\"css-1ruu6i\"><a class=\"css-o171kl\" href=\"/a/Jobs-in-Ajman\">Jobs in <span>Ajman</span></a></h3><h3 class=\"css-1ruu6i\"><a class=\"css-o171kl\" href=\"/a/Jobs-in-New-Cairo\">Jobs in <span>New Cairo</span></a></h3><h3 class=\"css-1ruu6i\"><a class=\"css-o171kl\" href=\"/a/Jobs-in-Maadi\">Jobs in <span>Maadi</span></a></h3><h3 class=\"css-1ruu6i\"><a class=\"css-o171kl\" href=\"/a/Jobs-in-Nasr-City\">Jobs in <span>Nasr City</span></a></h3><h3 class=\"css-1ruu6i\"><a class=\"css-o171kl\" href=\"/a/Jobs-in-6th-Of-October\">Jobs in <span>6th of October</span></a></h3><h3 class=\"css-1ruu6i\"><a class=\"css-o171kl\" href=\"/a/Jobs-in-Heliopolis\">Jobs in <span>Heliopolis</span></a></h3><h3 class=\"css-1ruu6i\"><a class=\"css-o171kl\" href=\"/a/Jobs-in-Sheikh-Zayed\">Jobs in <span>Sheikh Zayed</span></a></h3><h3 class=\"css-1ruu6i\"><a class=\"css-o171kl\" href=\"/a/Jobs-in-10th-Of-Ramadan-City\">Jobs in <span>10th of Ramadan City</span></a></h3><h3 class=\"css-1ruu6i\"><a class=\"css-o171kl\" href=\"/a/Jobs-in-Obour-City\">Jobs in <span>Obour City</span></a></h3><h3 class=\"css-1ruu6i\"><a class=\"css-o171kl\" href=\"/a/Jobs-in-Sheraton\">Jobs in <span>Sheraton</span></a></h3><h3 class=\"css-1ruu6i\"><a class=\"css-o171kl\" href=\"/a/Jobs-in-Dokki\">Jobs in <span>Dokki</span></a></h3><h3 class=\"css-1ruu6i\"><a class=\"css-o171kl\" href=\"/a/Jobs-in-Mohandessin\">Jobs in <span>Mohandessin</span></a></h3><h3 class=\"css-1ruu6i\"><a class=\"css-o171kl\" href=\"/a/Jobs-in-10th-Of-Ramadan-City\">Jobs in <span>10th of Ramadan City</span></a></h3><h3 class=\"css-1ruu6i\"><a class=\"css-o171kl\" href=\"/a/Jobs-in-Badr-City\">Jobs in <span>Badr City</span></a></h3><h3 class=\"css-1ruu6i\"><a class=\"css-o171kl\" href=\"/a/Jobs-in-Bourj-Alarab\">Jobs in <span>Bourj Alarab</span></a></h3><h3 class=\"css-1ruu6i\"><a class=\"css-o171kl\" href=\"/a/Jobs-in-Downtown\">Jobs in <span>Downtown</span></a></h3><h3 class=\"css-1ruu6i\"><a class=\"css-o171kl\" href=\"/a/Jobs-in-New-Capital\">Jobs in <span>New Capital</span></a></h3><h3 class=\"css-1ruu6i\"><a class=\"css-o171kl\" href=\"/a/Jobs-in-Mokattam\">Jobs in <span>Mokattam</span></a></h3><h3 class=\"css-1ruu6i\"><a class=\"css-o171kl\" href=\"/a/Jobs-in-Haram\">Jobs in <span>Haram</span></a></h3><h3 class=\"css-1ruu6i\"><a class=\"css-o171kl\" href=\"/a/Jobs-in-Alsadat-City\">Jobs in <span>Alsadat City</span></a></h3><h3 class=\"css-1ruu6i\"><a class=\"css-o171kl\" href=\"/a/Jobs-in-Giza\">Jobs in <span>Giza</span></a></h3><h3 class=\"css-1ruu6i\"><a class=\"css-o171kl\" href=\"/a/Jobs-in-Zamalek\">Jobs in <span>Zamalek</span></a></h3><h3 class=\"css-1ruu6i\"><a class=\"css-o171kl\" href=\"/a/Jobs-in-Katameya\">Jobs in <span>Katameya</span></a></h3><h3 class=\"css-1ruu6i\"><a class=\"css-o171kl\" href=\"/a/Jobs-in-Smouha\">Jobs in <span>Smouha</span></a></h3><h3 class=\"css-1ruu6i\"><a class=\"css-o171kl\" href=\"/a/Jobs-in-Abu-Rawash\">Jobs in <span>Abu Rawash</span></a></h3><h3 class=\"css-1ruu6i\"><a class=\"css-o171kl\" href=\"/a/Jobs-in-Ameria\">Jobs in <span>Ameria</span></a></h3></div></div></div></div></div><style data-emotion=\"css 1wpb30\">.css-1wpb30{margin-top:80px;background:#031431;color:#ffffff;display:-webkit-box;display:-webkit-flex;display:-ms-flexbox;display:flex;-webkit-box-pack:center;-ms-flex-pack:center;-webkit-justify-content:center;justify-content:center;padding-top:64px;padding-bottom:32px;}</style><footer class=\"css-1wpb30\"><style data-emotion=\"css 1gh88mr\">.css-1gh88mr{font-size:14px;line-height:20px;font-weight:400;width:100%;max-width:1170px;display:-webkit-box;display:-webkit-flex;display:-ms-flexbox;display:flex;-webkit-box-flex-flow:column;-webkit-flex-flow:column;-ms-flex-flow:column;flex-flow:column;-webkit-box-pack:justify;-webkit-justify-content:space-between;justify-content:space-between;padding:0 16px;}@media screen and (min-width: 992px){.css-1gh88mr{-webkit-box-flex-flow:row;-webkit-flex-flow:row;-ms-flex-flow:row;flex-flow:row;}}</style><div class=\"css-1gh88mr\"><style data-emotion=\"css 1hmrg1l\">.css-1hmrg1l{-webkit-flex:4;-ms-flex:4;flex:4;padding-right:50px;}</style><section class=\"css-1hmrg1l\"><style data-emotion=\"css 1fgdcyd\">.css-1fgdcyd{margin-bottom:24px;}</style><style data-emotion=\"css glzgy3\">.css-glzgy3{display:-webkit-inline-box;display:-webkit-inline-flex;display:-ms-inline-flexbox;display:inline-flex;-webkit-align-items:start;-webkit-box-align:start;-ms-flex-align:start;align-items:start;position:relative;cursor:pointer;margin-bottom:24px;}</style><a aria-label=\"navigate to wuzzuf home page\" class=\"css-glzgy3 e19qcx5a0\" href=\"/jobs/egypt\"><style data-emotion=\"css 1yrtvfx\">.css-1yrtvfx{width:125px;}.css-1yrtvfx path{fill:#fff;}</style><svg aria-labelledby=\"wuzzuf-logo\" class=\"css-1yrtvfx\" viewbox=\"0 0 125 20\" xmlns=\"http://www.w3.org/2000/svg\"><path d=\"M23.724.001h4.906L22.583 20H18.17L14.315 7.96 10.489 20H6.046L0 .001h4.936L8.793 12.32 12.587 0h3.61l3.671 12.319L23.724 0zm9.147 17.552c-1.604-1.63-2.406-3.823-2.406-6.577V.001h4.689v11.036c0 1.54.432 2.714 1.296 3.524.864.81 2.046 1.215 3.548 1.215 1.48 0 2.648-.405 3.502-1.215.853-.81 1.28-1.985 1.28-3.524V0h4.689v10.975c0 2.754-.792 4.947-2.376 6.577C45.51 19.184 43.145 20 39.998 20s-5.523-.815-7.127-2.446zm18.416-.694L62.456 3.95H51.565V.001h16.69v3.17L57.15 16.052h11.106V20H51.287v-3.14zm18.803 0L81.258 3.95h-10.89V.001h16.69v3.17l-11.106 12.88h11.106v3.948H70.09v-3.14zm21.226.694c-1.605-1.63-2.407-3.823-2.407-6.577V.001h4.69v11.036c0 1.54.432 2.714 1.295 3.524.864.81 2.047 1.215 3.548 1.215 1.481 0 2.648-.405 3.502-1.215.853-.81 1.28-1.985 1.28-3.524V0h4.69v10.975c0 2.754-.793 4.947-2.376 6.577-1.584 1.631-3.949 2.446-7.096 2.446-3.147 0-5.522-.815-7.126-2.446zm23.279-5.733V20h-4.69V0H125l-1.08 3.982h-9.325V8.18h7.959l-.99 3.64h-6.97z\" fill=\"#0055D9\"></path></svg></a><style data-emotion=\"css 18uqayh\">.css-18uqayh{margin-bottom:16px;}</style><div class=\"css-18uqayh\"><span>Employers and Recruiters, go to our </span><style data-emotion=\"css flkgsz\">.css-flkgsz{color:white;-webkit-text-decoration:underline;text-decoration:underline;}</style><a class=\"css-flkgsz\" href=\"/recruitment/egypt\">RECRUITMENT SERVICES.</a></div><style data-emotion=\"css vzvm2r\">.css-vzvm2r{margin:0 0 5px 0;font-weight:bold;}</style><span class=\"css-vzvm2r\">Members Directory:</span><style data-emotion=\"css 1j0qd6q\">.css-1j0qd6q{display:-webkit-box;display:-webkit-flex;display:-ms-flexbox;display:flex;-webkit-box-flex-wrap:wrap;-webkit-flex-wrap:wrap;-ms-flex-wrap:wrap;flex-wrap:wrap;padding-right:10px;margin-bottom:32px;}</style><div class=\"css-1j0qd6q\"><style data-emotion=\"css cjhlk2\">.css-cjhlk2{padding-top:8px;color:white;display:block;-webkit-text-decoration:none;text-decoration:none;color:white;margin-right:10px;-webkit-text-decoration:none;text-decoration:none;text-transform:uppercase;}.css-cjhlk2:hover{-webkit-text-decoration:underline;text-decoration:underline;}.css-cjhlk2:hover{-webkit-text-decoration:underline;text-decoration:underline;}@media screen and (min-width: 992px){.css-cjhlk2{margin-right:4px;}}</style><a aria-label=\"navigate to all job seekers with a a\" class=\"css-cjhlk2 e135gsrz1\" href=\"https://wuzzuf.net/directory/members/a\">a</a><a aria-label=\"navigate to all job seekers with a b\" class=\"css-cjhlk2 e135gsrz1\" href=\"https://wuzzuf.net/directory/members/b\">b</a><a aria-label=\"navigate to all job seekers with a c\" class=\"css-cjhlk2 e135gsrz1\" href=\"https://wuzzuf.net/directory/members/c\">c</a><a aria-label=\"navigate to all job seekers with a d\" class=\"css-cjhlk2 e135gsrz1\" href=\"https://wuzzuf.net/directory/members/d\">d</a><a aria-label=\"navigate to all job seekers with a e\" class=\"css-cjhlk2 e135gsrz1\" href=\"https://wuzzuf.net/directory/members/e\">e</a><a aria-label=\"navigate to all job seekers with a f\" class=\"css-cjhlk2 e135gsrz1\" href=\"https://wuzzuf.net/directory/members/f\">f</a><a aria-label=\"navigate to all job seekers with a g\" class=\"css-cjhlk2 e135gsrz1\" href=\"https://wuzzuf.net/directory/members/g\">g</a><a aria-label=\"navigate to all job seekers with a h\" class=\"css-cjhlk2 e135gsrz1\" href=\"https://wuzzuf.net/directory/members/h\">h</a><a aria-label=\"navigate to all job seekers with a i\" class=\"css-cjhlk2 e135gsrz1\" href=\"https://wuzzuf.net/directory/members/i\">i</a><a aria-label=\"navigate to all job seekers with a j\" class=\"css-cjhlk2 e135gsrz1\" href=\"https://wuzzuf.net/directory/members/j\">j</a><a aria-label=\"navigate to all job seekers with a k\" class=\"css-cjhlk2 e135gsrz1\" href=\"https://wuzzuf.net/directory/members/k\">k</a><a aria-label=\"navigate to all job seekers with a l\" class=\"css-cjhlk2 e135gsrz1\" href=\"https://wuzzuf.net/directory/members/l\">l</a><a aria-label=\"navigate to all job seekers with a m\" class=\"css-cjhlk2 e135gsrz1\" href=\"https://wuzzuf.net/directory/members/m\">m</a><a aria-label=\"navigate to all job seekers with a n\" class=\"css-cjhlk2 e135gsrz1\" href=\"https://wuzzuf.net/directory/members/n\">n</a><a aria-label=\"navigate to all job seekers with a o\" class=\"css-cjhlk2 e135gsrz1\" href=\"https://wuzzuf.net/directory/members/o\">o</a><a aria-label=\"navigate to all job seekers with a p\" class=\"css-cjhlk2 e135gsrz1\" href=\"https://wuzzuf.net/directory/members/p\">p</a><a aria-label=\"navigate to all job seekers with a q\" class=\"css-cjhlk2 e135gsrz1\" href=\"https://wuzzuf.net/directory/members/q\">q</a><a aria-label=\"navigate to all job seekers with a r\" class=\"css-cjhlk2 e135gsrz1\" href=\"https://wuzzuf.net/directory/members/r\">r</a><a aria-label=\"navigate to all job seekers with a s\" class=\"css-cjhlk2 e135gsrz1\" href=\"https://wuzzuf.net/directory/members/s\">s</a><a aria-label=\"navigate to all job seekers with a t\" class=\"css-cjhlk2 e135gsrz1\" href=\"https://wuzzuf.net/directory/members/t\">t</a><a aria-label=\"navigate to all job seekers with a u\" class=\"css-cjhlk2 e135gsrz1\" href=\"https://wuzzuf.net/directory/members/u\">u</a><a aria-label=\"navigate to all job seekers with a v\" class=\"css-cjhlk2 e135gsrz1\" href=\"https://wuzzuf.net/directory/members/v\">v</a><a aria-label=\"navigate to all job seekers with a w\" class=\"css-cjhlk2 e135gsrz1\" href=\"https://wuzzuf.net/directory/members/w\">w</a><a aria-label=\"navigate to all job seekers with a x\" class=\"css-cjhlk2 e135gsrz1\" href=\"https://wuzzuf.net/directory/members/x\">x</a><a aria-label=\"navigate to all job seekers with a y\" class=\"css-cjhlk2 e135gsrz1\" href=\"https://wuzzuf.net/directory/members/y\">y</a><a aria-label=\"navigate to all job seekers with a z\" class=\"css-cjhlk2 e135gsrz1\" href=\"https://wuzzuf.net/directory/members/z\">z</a><a aria-label=\"navigate to home\" class=\"css-cjhlk2 e135gsrz1\" href=\"https://wuzzuf.net/directory/members/non-latin\">#</a></div></section><style data-emotion=\"css 3o6d33\">.css-3o6d33{-webkit-flex:5;-ms-flex:5;flex:5;padding-bottom:32px;}@media screen and (min-width: 992px){.css-3o6d33{padding-right:50px;}}</style><section class=\"css-3o6d33\"><style data-emotion=\"css 18114ch\">.css-18114ch{font-size:18px;line-height:20px;letter-spacing:-0.4px;font-weight:600;margin-top:0;margin-bottom:8px;}</style><p class=\"css-18114ch\">Links</p><style data-emotion=\"css 1xlu65a\">.css-1xlu65a{-webkit-columns:2;columns:2;-webkit-column-count:2;column-count:2;}</style><div class=\"css-1xlu65a\"><style data-emotion=\"css uwrdmv\">.css-uwrdmv{padding-top:8px;color:white;display:block;-webkit-text-decoration:none;text-decoration:none;}.css-uwrdmv:hover{-webkit-text-decoration:underline;text-decoration:underline;}</style><a aria-label=\"navigate to wuzzuf blog\" class=\"css-uwrdmv e135gsrz3\" href=\"http://blog.wuzzuf.net/\" rel=\"noopener noreferrer\" target=\"_blank\">Blog</a><a aria-label=\"navigate to about us\" class=\"css-uwrdmv e135gsrz2\" href=\"/about-us\">About Us</a><a aria-label=\"navigate to employer home page\" class=\"css-uwrdmv e135gsrz2\" href=\"/recruitment/egypt\">Recruitment Services</a><a aria-label=\"navigate to wuzzuf feeds\" class=\"css-uwrdmv e135gsrz3\" href=\"https://wuzzuf.net/feeds/all-jobs.xml\">RSS</a><a aria-label=\"navigate to Jobs in Saudi Arabia job\" class=\"css-uwrdmv e135gsrz3\" href=\"https://wuzzuf.net/saudi/jobs\">Jobs in Saudi Arabia</a><a aria-label=\"navigate to Jobs in UAE job\" class=\"css-uwrdmv e135gsrz3\" href=\"https://wuzzuf.net/a/jobs-in-United%20Arab%20Emirates\">Jobs in UAE</a><a aria-label=\"navigate to wuzzuf Job Descriptions\" class=\"css-uwrdmv e135gsrz2\" href=\"/job-descriptions\">Job Descriptions</a><a aria-label=\"navigate to wuzzuf partners\" class=\"css-uwrdmv e135gsrz2\" href=\"/partners\">Partners</a><a aria-label=\"navigate to wuzzuf sitemap \" class=\"css-uwrdmv e135gsrz3\" href=\"https://wuzzuf.net/sitemap-updates\">Sitemap</a><a aria-label=\"navigate to wuzzuf contact us\" class=\"css-uwrdmv e135gsrz3\" href=\"https://wuzzuf.net/contact-us\">Contact Us</a><a aria-label=\"navigate to wuzzuf policies\" class=\"css-uwrdmv e135gsrz2\" href=\"/policies\">Privacy, Cookies, Terms &amp; Conditions</a><a aria-label=\"navigate to forasna home page\" class=\"css-uwrdmv e135gsrz3\" href=\"http://forasna.com/jobs/egypt\" rel=\"noopener noreferrer\" target=\"_blank\">وظائف مصر</a></div></section><style data-emotion=\"css 1t8pxvs\">.css-1t8pxvs{-webkit-flex:3;-ms-flex:3;flex:3;padding-right:50px;margin-bottom:32px;}</style><section class=\"css-1t8pxvs\"><style data-emotion=\"css 1s22u92\">.css-1s22u92{margin-bottom:32px;}</style><div class=\"css-1s22u92\"><style data-emotion=\"css 1m2yams\">.css-1m2yams{font-weight:600;margin-top:0;margin-bottom:8px;font-size:18px;}</style><p class=\"css-1m2yams\">Follow Us</p><style data-emotion=\"css 74n2tq\">.css-74n2tq{padding-top:12px;}</style><div class=\"css-74n2tq\"><a aria-label=\"wuzzuf facebook social page link\" href=\"https://www.facebook.com/wuzzuf\" rel=\"noopener noreferrer\" target=\"_blank\"><style data-emotion=\"css nkt64x\">.css-nkt64x{margin-right:10px;}</style><style data-emotion=\"css 1isj61a\">.css-1isj61a{display:-webkit-inline-box;display:-webkit-inline-flex;display:-ms-inline-flexbox;display:inline-flex;line-height:1em;width:28px;height:28px;margin-right:10px;}</style><i class=\"e135gsrz0 css-1isj61a efou2fk0\" size=\"28\"><svg height=\"28\" preserveaspectratio=\"none\" viewbox=\"0 0 24 24\" width=\"28\"><path d=\"M16.261 4.113v2.525l-1.498.004c-1.175 0-1.401.558-1.401 1.374v1.806h2.798l-.363 2.826h-2.435V20h-2.919v-7.352H8V9.822h2.443V7.74C10.443 5.319 11.918 4 14.08 4c1.03 0 1.92.078 2.181.113z\" fill=\"white\"></path></svg></i></a><a aria-label=\"wuzzuf twitter social page link\" href=\"https://twitter.com/wuzzuf\" rel=\"noopener noreferrer\" target=\"_blank\"><i class=\"e135gsrz0 css-1isj61a efou2fk0\" size=\"28\"><svg height=\"28\" preserveaspectratio=\"none\" viewbox=\"0 0 24 24\" width=\"28\"><path d=\"M18.362 8.572c.207 4.617-3.235 9.764-9.33 9.764A9.291 9.291 0 014 16.861a6.6 6.6 0 004.86-1.36 3.285 3.285 0 01-3.066-2.279c.514.099 1.02.07 1.482-.055-1.58-.318-2.669-1.74-2.633-3.26.442.245.949.393 1.487.41a3.286 3.286 0 01-1.016-4.383 9.318 9.318 0 006.766 3.43c-.479-2.054 1.079-4.03 3.197-4.03.945 0 1.798.398 2.396 1.036a6.565 6.565 0 002.085-.797 3.289 3.289 0 01-1.443 1.816A6.556 6.556 0 0020 6.872a6.664 6.664 0 01-1.638 1.7\" fill=\"white\"></path></svg></i></a><a aria-label=\"wuzzuf linkedin social page link\" href=\"https://www.linkedin.com/company/wuzzuf-com\" rel=\"noopener noreferrer\" target=\"_blank\"><i class=\"e135gsrz0 css-1isj61a efou2fk0\" size=\"28\"><svg height=\"28\" preserveaspectratio=\"none\" viewbox=\"0 0 24 24\" width=\"28\"><path d=\"M20 20h-3.288v-5.6c0-1.535-.583-2.392-1.798-2.392-1.322 0-2.012.892-2.012 2.393V20H9.733V9.333h3.169v1.437s.952-1.763 3.216-1.763c2.262 0 3.882 1.382 3.882 4.24V20zM5.954 7.937A1.961 1.961 0 014 5.968C4 4.881 4.874 4 5.954 4a1.96 1.96 0 011.953 1.968 1.96 1.96 0 01-1.953 1.969zM4.318 20H7.62V9.333H4.318V20z\" fill=\"white\"></path></svg></i></a><a aria-label=\"wuzzuf youtube social page link\" href=\"https://www.youtube.com/wuzzuf\" rel=\"noopener noreferrer\" target=\"_blank\"><i class=\"e135gsrz0 css-1isj61a efou2fk0\" size=\"28\"><svg height=\"28\" preserveaspectratio=\"none\" viewbox=\"0 0 24 24\" width=\"28\"><path d=\"M10.348 14.213V9.419l4.322 2.405-4.322 2.389zm9.492-5.624s-.157-1.176-.636-1.694c-.608-.68-1.29-.683-1.603-.722C15.362 6 12.004 6 12.004 6h-.008S8.638 6 6.4 6.173c-.313.04-.995.042-1.604.722-.479.518-.635 1.694-.635 1.694S4 9.969 4 11.349v1.295c0 1.381.16 2.762.16 2.762s.156 1.175.635 1.693c.61.68 1.409.658 1.765.73C7.84 17.958 12 18 12 18s3.362-.005 5.601-.178c.313-.04.995-.043 1.603-.723.48-.518.636-1.693.636-1.693s.16-1.38.16-2.762V11.35c0-1.38-.16-2.761-.16-2.761z\" fill=\"white\"></path></svg></i></a></div></div><style data-emotion=\"css 8xph5n\">.css-8xph5n{font-size:12px;line-height:16px;font-weight:400;}</style><span class=\"css-8xph5n\">© <!-- -->2024<!-- --> WUZZUF. All Rights Reserved. Owned by<!-- --> <style data-emotion=\"css 220rkc\">.css-220rkc{color:#fff;}</style><a aria-label=\"basharsoft page\" class=\"css-220rkc\" href=\"https://www.basharsoft.com/\" rel=\"noopener noreferrer\" target=\"_blank\">BasharSoft LLC.</a></span></section></div></footer></div></div>\n",
       "<script>\n",
       "        (function(){\n",
       "            var Wuzzuf = window.Wuzzuf = window.Wuzzuf || {};\n",
       "            Wuzzuf.country = {\"country\":\"Egypt\",\"countryId\":\"\",\"subFolder\":\"\",\"subFolderName\":\"egypt\",\"defaultCountryQueryParams\":\"\",\"capital\":\"Cairo\",\"jobseekerHomePage\":\"\\u002Fjobs\\u002Fegypt\",\"empHomePage\":\"\\u002Frecruitment\\u002Fegypt\",\"hrefLang\":\"en-EG\",\"viewerCountryIso\":\"eg\"};\n",
       "            Wuzzuf.headers = {\"host\":\"wuzzuf.net\",\"x-request-id\":\"4ae71a232213ad34e1916bd72d2946d3\",\"x-real-ip\":\"41.239.182.105\",\"x-forwarded-for\":\"41.239.182.105\",\"x-forwarded-host\":\"wuzzuf.net\",\"x-forwarded-port\":\"80\",\"x-forwarded-proto\":\"http\",\"x-forwarded-scheme\":\"http\",\"x-scheme\":\"http\",\"x-original-forwarded-for\":\"41.239.182.105, 130.176.183.242\",\"x-amzn-trace-id\":\"Root=1-6730f80e-5af397641dcf3f022883e12c\",\"cloudfront-is-mobile-viewer\":\"false\",\"cloudfront-viewer-asn\":\"8452\",\"cloudfront-is-smarttv-viewer\":\"false\",\"cloudfront-forwarded-proto\":\"https\",\"user-agent\":\"python-requests\\u002F2.31.0\",\"via\":\"1.1 05320c9e938aca851d2d618f965d8882.cloudfront.net (CloudFront)\",\"x-amz-cf-id\":\"9aqg-9uNJQUWKSZAzzWn2-L_TlFpL4pMFGJc6Kzd3m0O_V2gzkOgPQ==\",\"cloudfront-is-desktop-viewer\":\"true\",\"cloudfront-is-tablet-viewer\":\"false\",\"accept\":\"*\\u002F*\",\"accept-encoding\":\"gzip, deflate, br, zstd\",\"cloudfront-viewer-country\":\"EG\"};\n",
       "            Wuzzuf.isServerRendered = true;\n",
       "            Wuzzuf.initialStoreState = {\"badges\":{\"landingPage\":{\"timestamp\":null,\"providers\":null,\"loading\":false}},\"browsingPage\":{\"sets\":{},\"metaTemplateType\":{}},\"communityPages\":{\"internship\":{\"jobs\":{},\"filters\":{\"isLoading\":true,\"isError\":false,\"error\":null,\"sets\":{}},\"hotJobs\":null},\"alexandria\":{\"jobs\":{},\"filters\":{\"isLoading\":true,\"isError\":false,\"error\":null,\"sets\":{}},\"hotJobs\":null},\"android\":{\"jobs\":{},\"filters\":{\"isLoading\":true,\"isError\":false,\"error\":null,\"sets\":{}},\"hotJobs\":null},\"pharmaceutical\":{\"jobs\":{},\"filters\":{\"isLoading\":true,\"isError\":false,\"error\":null,\"sets\":{}},\"hotJobs\":null},\"workFromHome\":{\"jobs\":{},\"filters\":{\"isLoading\":true,\"isError\":false,\"error\":null,\"sets\":{}},\"hotJobs\":null},\"startups\":{\"jobs\":{},\"filters\":{\"isLoading\":true,\"isError\":false,\"error\":null,\"sets\":{}},\"hotJobs\":null}},\"entities\":{\"companyPlanBenefit\":{\"isLoading\":false,\"collection\":{},\"error\":null,\"timestamp\":null},\"applicationStatistics\":{\"isLoading\":false,\"collection\":{},\"error\":null,\"timestamp\":null},\"badge\":{\"isLoading\":false,\"collection\":{},\"error\":null,\"timestamp\":null},\"badgeGradeDetails\":{\"isLoading\":false,\"collection\":{},\"error\":null,\"timestamp\":null},\"company\":{\"collection\":{\"555\":{\"id\":\"555\",\"type\":\"company\",\"attributes\":{\"uniqueId\":\"c695bc8f-9373-11ea-add1-062a4819e772\",\"name\":\"Global Brands\",\"legalName\":null,\"logo\":\"Global-Brands-Egypt-555-1594649582.jpeg\",\"slug\":\"gbrands-com-555\",\"description\":\"Founded in 1997, Global Brands is a leading provider of IT Consulting, Technology and Outsourcing services. Global Brands provides IT solutions for small, mid-sized and enterprise businesses.     Our powerful tools, professional team and planned processes integrate to improve your business processes and accelerate your business results.    Global Brands competitive advantage comes from combining market-leading hardware and software products with consistent high-quality services.\",\"specialties\":[],\"hiringFor\":null,\"website\":\"www.gbrands.com\",\"facebookPage\":null,\"twitterAccount\":null,\"linkedinProfile\":\"https:\\u002F\\u002Fwww.linkedin.com\\u002Fcompany\\u002Fgbg-eg\\u002F\",\"blog\":null,\"onlinePresence\":{\"facebook\":null,\"twitter\":null,\"linkedin\":\"https:\\u002F\\u002Fwww.linkedin.com\\u002Fcompany\\u002Fgbg-eg\\u002F\",\"blog\":null,\"website\":\"www.gbrands.com\",\"instagram\":null,\"youtube\":null,\"vimeo\":null,\"behance\":null},\"establishedYear\":\"1997\",\"uniqueName\":\"Global Brands -w- 555\",\"taxId\":null,\"street\":null,\"isPersonal\":false,\"buildingNumber\":null,\"area\":null,\"publicStatus\":{\"id\":1,\"name\":\"Verified\"},\"statusUpdatedAt\":null,\"createdAt\":\"05\\u002F22\\u002F2012 21:18:03\",\"perks\":[]},\"links\":{\"self\":\"https:\\u002F\\u002Fwuzzuf.net\\u002Fapi\\u002Fcompany\\u002F555\",\"defaultLogoUrl\":\"https:\\u002F\\u002Fimages.wuzzuf-data.net\\u002Ffiles\\u002Fcompany_logo\\u002FGlobal-Brands-Egypt-555-1594649582.jpeg\",\"orgLogoUrl\":\"https:\\u002F\\u002Fimages.wuzzuf-data.net\\u002Ffiles\\u002Fcompany_logo\\u002FGlobal-Brands-Egypt-555-1594649582-org.jpeg\",\"smLogoUrl\":\"https:\\u002F\\u002Fimages.wuzzuf-data.net\\u002Ffiles\\u002Fcompany_logo\\u002FGlobal-Brands-Egypt-555-1594649582-sm.jpeg\",\"xsLogoUrl\":\"https:\\u002F\\u002Fimages.wuzzuf-data.net\\u002Ffiles\\u002Fcompany_logo\\u002FGlobal-Brands-Egypt-555-1594649582-xs.jpeg\",\"ogLogoUrl\":\"https:\\u002F\\u002Fimages.wuzzuf-data.net\\u002Ffiles\\u002Fcompany_logo\\u002FGlobal-Brands-Egypt-555-1594649582-og.jpeg\",\"defaultCoverUrl\":\"https:\\u002F\\u002Fimages.wuzzuf-data.net\\u002Ffiles\\u002Fcompany_covers\\u002F5926772246537bb602eb44.png\",\"coverUrl\":\"https:\\u002F\\u002Fimages.wuzzuf-data.net\\u002Ffiles\\u002Fcompany_covers\\u002Fthumbs\\u002F5926772246537bb602eb44.png\",\"profile\":\"jobs\\u002Fcareers\\u002Fgbrands-com-555\"},\"relationships\":{\"workIndustries\":{\"data\":[{\"id\":\"173595\",\"type\":\"companyWorkIndustry\"},{\"id\":\"173596\",\"type\":\"companyWorkIndustry\"},{\"id\":\"173597\",\"type\":\"companyWorkIndustry\"}]},\"featuredLogos\":{\"data\":[{\"id\":\"3408\",\"type\":\"companyFeaturedLogo\"}]},\"country\":{\"data\":{\"id\":\"56\",\"type\":\"country\"}},\"city\":{\"data\":{\"id\":\"1545\",\"type\":\"city\"}},\"size\":{\"data\":{\"id\":\"4\",\"type\":\"companySize\"}},\"type\":{\"data\":{\"id\":\"2\",\"type\":\"companyType\"}}}},\"920\":{\"id\":\"920\",\"type\":\"company\",\"attributes\":{\"uniqueId\":\"c69828b0-9373-11ea-add1-062a4819e772\",\"name\":\"JRM for Communications\",\"legalName\":null,\"logo\":\"JRM-for-Communications-Egypt-920.png\",\"slug\":\"JRM-for-Communications-Egypt-920\",\"description\":\"JRM for Communications is a regional institution leading the market through providing the latest technological solutions with a professional team committed to quality and providing creative solutions.\\nJRM was established in 1983 for the sole purpose of maintaining and repairing the telephone network in Marriott hotel. The company has gradually evolved in technicalities and the number of employees, each excelling in different fields. The founders of JRM for Communications were 3 main partners with different professional backgrounds who gave quality and uniqueness to their work. Consequently, JRM progressed over the years with outstanding credibility in the market and with consumers who knew that JRM would satisfy their requirements and needs to improve their businesses.\\nIn 1994, JRM became the sole authorized agent to Japanese tycoon NEC, a major international player in the telecommunications and IT market. Throughout the years, JRM has gained credibility with more international partners such as Dell EMC, Fortinet, Excel, VMware and more.\\nAt JRM, we strive to hire the best employees that can offer our customers the best service. We improve our employees’ skills by offering trainings that can enhance their capabilities. Our Engineers are offered specialized International trainings in countries such as Japan or England. These trainings do not only enhance our engineers’ technical expertise; however, they grant them the proper knowledge and tools for fast problem solving and reliable solutions. \\n\",\"specialties\":[],\"hiringFor\":null,\"website\":\"www.jrm.com.eg\",\"facebookPage\":\"facebook.com\\u002Fjrmforcommunications\",\"twitterAccount\":null,\"linkedinProfile\":null,\"blog\":null,\"onlinePresence\":{\"facebook\":\"facebook.com\\u002Fjrmforcommunications\",\"twitter\":null,\"linkedin\":null,\"blog\":null,\"website\":\"www.jrm.com.eg\",\"instagram\":null,\"youtube\":null,\"vimeo\":null,\"behance\":null},\"establishedYear\":\"1983\",\"uniqueName\":\"JRM for Communications -w- 920\",\"taxId\":null,\"street\":\".\",\"isPersonal\":false,\"buildingNumber\":\".\",\"area\":\".\",\"publicStatus\":{\"id\":1,\"name\":\"Verified\"},\"statusUpdatedAt\":null,\"createdAt\":\"02\\u002F19\\u002F2013 11:38:04\",\"perks\":[]},\"links\":{\"self\":\"https:\\u002F\\u002Fwuzzuf.net\\u002Fapi\\u002Fcompany\\u002F920\",\"defaultLogoUrl\":\"https:\\u002F\\u002Fimages.wuzzuf-data.net\\u002Ffiles\\u002Fcompany_logo\\u002FJRM-for-Communications-Egypt-920.png\",\"orgLogoUrl\":\"https:\\u002F\\u002Fimages.wuzzuf-data.net\\u002Ffiles\\u002Fcompany_logo\\u002FJRM-for-Communications-Egypt-920-org.png\",\"smLogoUrl\":\"https:\\u002F\\u002Fimages.wuzzuf-data.net\\u002Ffiles\\u002Fcompany_logo\\u002FJRM-for-Communications-Egypt-920-sm.png\",\"xsLogoUrl\":\"https:\\u002F\\u002Fimages.wuzzuf-data.net\\u002Ffiles\\u002Fcompany_logo\\u002FJRM-for-Communications-Egypt-920-xs.png\",\"ogLogoUrl\":\"https:\\u002F\\u002Fimages.wuzzuf-data.net\\u002Ffiles\\u002Fcompany_logo\\u002FJRM-for-Communications-Egypt-920-og.png\",\"defaultCoverUrl\":\"https:\\u002F\\u002Fimages.wuzzuf-data.net\\u002Ffiles\\u002Fcompany_covers\\u002F5926a2047bc002f2f856cde509dec655.jpeg\",\"coverUrl\":\"https:\\u002F\\u002Fimages.wuzzuf-data.net\\u002Ffiles\\u002Fcompany_covers\\u002Fthumbs\\u002F5926a2047bc002f2f856cde509dec655.jpeg\",\"profile\":\"jobs\\u002Fcareers\\u002FJRM-for-Communications-Egypt-920\"},\"relationships\":{\"workIndustries\":{\"data\":[{\"id\":\"156659\",\"type\":\"companyWorkIndustry\"},{\"id\":\"156660\",\"type\":\"companyWorkIndustry\"}]},\"featuredLogos\":{\"data\":[]},\"country\":{\"data\":{\"id\":\"56\",\"type\":\"country\"}},\"city\":{\"data\":{\"id\":\"1545\",\"type\":\"city\"}},\"size\":{\"data\":{\"id\":\"3\",\"type\":\"companySize\"}},\"type\":{\"data\":{\"id\":\"2\",\"type\":\"companyType\"}}}},\"11913\":{\"id\":\"11913\",\"type\":\"company\",\"attributes\":{\"uniqueId\":\"c6e379e3-9373-11ea-add1-062a4819e772\",\"name\":\"Qudra Tech\",\"legalName\":null,\"logo\":\"1491230897670b6ae828579.jpeg\",\"slug\":\"Qudra-Tech-Egypt-11913\",\"description\":\"Qudra-Tech is a market leader that encourages creativity and innovation among its core customer segments, offering comprehensive solutions based on a variety of products and technologies . It sets a high importance on developing and implementing clear, easy-to-use, and secure products that help clients optimize performance, maximize profits and increase efficiency.\\n\\nQudra-Tech is a firm specializing in the development and implementation of IOT enterprise and smart city solutions, such as parking management and guidance solutions, access control and identification management, in-depth footfall analysis, and RFID tracking systems.\\n\\nOur headquarters are located in Riyadh, the heart of Saudi Arabia, while our subsidiary are located in Cairo, Egypt. With over 15 years of expertise in security management, and parking facility site management, we offer a forward-thinking viewpoint. This diversity gives us the possibility to enter new markets and advance our technologies.\",\"specialties\":[{\"id\":27,\"name\":\"Computer Software\"},{\"id\":28,\"name\":\"Information Technology Services\"}],\"hiringFor\":null,\"website\":\"www.qudra-tech.com\",\"facebookPage\":null,\"twitterAccount\":null,\"linkedinProfile\":null,\"blog\":null,\"onlinePresence\":{\"facebook\":null,\"twitter\":null,\"linkedin\":null,\"blog\":null,\"website\":\"www.qudra-tech.com\",\"instagram\":null,\"youtube\":null,\"vimeo\":null,\"behance\":null},\"establishedYear\":null,\"uniqueName\":\"Qudra Tech -w- 11913\",\"taxId\":null,\"street\":null,\"isPersonal\":false,\"buildingNumber\":null,\"area\":null,\"publicStatus\":{\"id\":1,\"name\":\"Verified\"},\"statusUpdatedAt\":null,\"createdAt\":\"08\\u002F04\\u002F2015 13:53:58\",\"perks\":[]},\"links\":{\"self\":\"https:\\u002F\\u002Fwuzzuf.net\\u002Fapi\\u002Fcompany\\u002F11913\",\"defaultLogoUrl\":\"https:\\u002F\\u002Fimages.wuzzuf-data.net\\u002Ffiles\\u002Fcompany_logo\\u002F1491230897670b6ae828579.jpeg\",\"orgLogoUrl\":\"https:\\u002F\\u002Fimages.wuzzuf-data.net\\u002Ffiles\\u002Fcompany_logo\\u002F1491230897670b6ae828579-org.jpeg\",\"smLogoUrl\":\"https:\\u002F\\u002Fimages.wuzzuf-data.net\\u002Ffiles\\u002Fcompany_logo\\u002F1491230897670b6ae828579-sm.jpeg\",\"xsLogoUrl\":\"https:\\u002F\\u002Fimages.wuzzuf-data.net\\u002Ffiles\\u002Fcompany_logo\\u002F1491230897670b6ae828579-xs.jpeg\",\"ogLogoUrl\":\"https:\\u002F\\u002Fimages.wuzzuf-data.net\\u002Ffiles\\u002Fcompany_logo\\u002F1491230897670b6ae828579-og.jpeg\",\"profile\":\"jobs\\u002Fcareers\\u002FQudra-Tech-Egypt-11913\"},\"relationships\":{\"workIndustries\":{\"data\":[{\"id\":\"189854\",\"type\":\"companyWorkIndustry\"},{\"id\":\"189855\",\"type\":\"companyWorkIndustry\"}]},\"featuredLogos\":{\"data\":[]},\"country\":{\"data\":{\"id\":\"56\",\"type\":\"country\"}},\"city\":{\"data\":{\"id\":\"1545\",\"type\":\"city\"}},\"size\":{\"data\":{\"id\":\"2\",\"type\":\"companySize\"}},\"type\":{\"data\":null}}},\"18862\":{\"id\":\"18862\",\"type\":\"company\",\"attributes\":{\"uniqueId\":\"c714e64c-9373-11ea-add1-062a4819e772\",\"name\":\"Creative Motion\",\"legalName\":null,\"logo\":\"Creative-Motion-Egypt-18862-1477904494.png\",\"slug\":\"Creative-Motion-Egypt-18862\",\"description\":\" CREATIVE MOTION  is an integrated media solutions company with a wide array of marketing and design services. We strive to become part of your team, to create or enhance your corporate image, with maximum impact - on any media platform. All our work is developed in-house. We constantly focus on your target audience. This integrated approach helps you to make sure all of your business marketing needs are met successfully, with creativity, and on time. At Creative Motion, we help our clients identify goals, and then we take responsibility for providing Cross-platform tactics to accomplish them. We work within budget constraints and we meet deadlines. Creativity is our hallmark. We deliver results \",\"specialties\":[],\"hiringFor\":null,\"website\":\"http:\\u002F\\u002Fwww.creativemotion.ae\\u002Fcontactus.html\",\"facebookPage\":null,\"twitterAccount\":null,\"linkedinProfile\":null,\"blog\":null,\"onlinePresence\":{\"facebook\":null,\"twitter\":null,\"linkedin\":null,\"blog\":null,\"website\":\"http:\\u002F\\u002Fwww.creativemotion.ae\\u002Fcontactus.html\",\"instagram\":null,\"youtube\":null,\"vimeo\":null,\"behance\":null},\"establishedYear\":null,\"uniqueName\":\"Creative Motion -w- 18862\",\"taxId\":null,\"street\":\" التسعين\",\"isPersonal\":false,\"buildingNumber\":\"فيلا 377\",\"area\":\"التجمع الخامس\",\"publicStatus\":{\"id\":1,\"name\":\"Verified\"},\"statusUpdatedAt\":null,\"createdAt\":\"07\\u002F25\\u002F2016 17:03:45\",\"perks\":[]},\"links\":{\"self\":\"https:\\u002F\\u002Fwuzzuf.net\\u002Fapi\\u002Fcompany\\u002F18862\",\"defaultLogoUrl\":\"https:\\u002F\\u002Fimages.wuzzuf-data.net\\u002Ffiles\\u002Fcompany_logo\\u002FCreative-Motion-Egypt-18862-1477904494.png\",\"orgLogoUrl\":\"https:\\u002F\\u002Fimages.wuzzuf-data.net\\u002Ffiles\\u002Fcompany_logo\\u002FCreative-Motion-Egypt-18862-1477904494-org.png\",\"smLogoUrl\":\"https:\\u002F\\u002Fimages.wuzzuf-data.net\\u002Ffiles\\u002Fcompany_logo\\u002FCreative-Motion-Egypt-18862-1477904494-sm.png\",\"xsLogoUrl\":\"https:\\u002F\\u002Fimages.wuzzuf-data.net\\u002Ffiles\\u002Fcompany_logo\\u002FCreative-Motion-Egypt-18862-1477904494-xs.png\",\"ogLogoUrl\":\"https:\\u002F\\u002Fimages.wuzzuf-data.net\\u002Ffiles\\u002Fcompany_logo\\u002FCreative-Motion-Egypt-18862-1477904494-og.png\",\"profile\":\"jobs\\u002Fcareers\\u002FCreative-Motion-Egypt-18862\"},\"relationships\":{\"workIndustries\":{\"data\":[{\"id\":\"189711\",\"type\":\"companyWorkIndustry\"},{\"id\":\"189712\",\"type\":\"companyWorkIndustry\"},{\"id\":\"189713\",\"type\":\"companyWorkIndustry\"}]},\"featuredLogos\":{\"data\":[{\"id\":\"2114\",\"type\":\"companyFeaturedLogo\"}]},\"country\":{\"data\":{\"id\":\"56\",\"type\":\"country\"}},\"city\":{\"data\":{\"id\":\"1545\",\"type\":\"city\"}},\"size\":{\"data\":{\"id\":\"3\",\"type\":\"companySize\"}},\"type\":{\"data\":{\"id\":\"1\",\"type\":\"companyType\"}}}},\"21525\":{\"id\":\"21525\",\"type\":\"company\",\"attributes\":{\"uniqueId\":\"c727c334-9373-11ea-add1-062a4819e772\",\"name\":\"Promech Engineering\",\"legalName\":null,\"logo\":\"2128781807653e5c319e529.png\",\"slug\":\"Promech-Engineering-Egypt-21525\",\"description\":\"PROMECH  provide engineering solutions (software & hardware) for product development & manufacturing in the Middle East region with the latest affordable technologies worldwide,  to meet customers requirements of complete integrated solutions that increase business value and profitability. Ant, to help in knowledge transfer and people development in the region through well-trained staff and technical support expertise.\\n\\n\",\"specialties\":[],\"hiringFor\":null,\"website\":\"http:\\u002F\\u002Fpromech-eg.com\\u002F\",\"facebookPage\":null,\"twitterAccount\":null,\"linkedinProfile\":null,\"blog\":null,\"onlinePresence\":{\"facebook\":null,\"twitter\":null,\"linkedin\":null,\"blog\":null,\"website\":\"http:\\u002F\\u002Fpromech-eg.com\\u002F\",\"instagram\":null,\"youtube\":null,\"vimeo\":null,\"behance\":null},\"establishedYear\":\"\",\"uniqueName\":\"Promech Engineering -w- 21525\",\"taxId\":null,\"street\":null,\"isPersonal\":false,\"buildingNumber\":null,\"area\":null,\"publicStatus\":{\"id\":1,\"name\":\"Verified\"},\"statusUpdatedAt\":null,\"createdAt\":\"12\\u002F20\\u002F2016 15:02:57\",\"perks\":[]},\"links\":{\"self\":\"https:\\u002F\\u002Fwuzzuf.net\\u002Fapi\\u002Fcompany\\u002F21525\",\"defaultLogoUrl\":\"https:\\u002F\\u002Fimages.wuzzuf-data.net\\u002Ffiles\\u002Fcompany_logo\\u002F2128781807653e5c319e529.png\",\"orgLogoUrl\":\"https:\\u002F\\u002Fimages.wuzzuf-data.net\\u002Ffiles\\u002Fcompany_logo\\u002F2128781807653e5c319e529-org.png\",\"smLogoUrl\":\"https:\\u002F\\u002Fimages.wuzzuf-data.net\\u002Ffiles\\u002Fcompany_logo\\u002F2128781807653e5c319e529-sm.png\",\"xsLogoUrl\":\"https:\\u002F\\u002Fimages.wuzzuf-data.net\\u002Ffiles\\u002Fcompany_logo\\u002F2128781807653e5c319e529-xs.png\",\"ogLogoUrl\":\"https:\\u002F\\u002Fimages.wuzzuf-data.net\\u002Ffiles\\u002Fcompany_logo\\u002F2128781807653e5c319e529-og.png\",\"profile\":\"jobs\\u002Fcareers\\u002FPromech-Engineering-Egypt-21525\"},\"relationships\":{\"workIndustries\":{\"data\":[{\"id\":\"151386\",\"type\":\"companyWorkIndustry\"}]},\"featuredLogos\":{\"data\":[]},\"country\":{\"data\":{\"id\":\"56\",\"type\":\"country\"}},\"city\":{\"data\":{\"id\":\"1545\",\"type\":\"city\"}},\"size\":{\"data\":{\"id\":\"3\",\"type\":\"companySize\"}},\"type\":{\"data\":{\"id\":\"2\",\"type\":\"companyType\"}}}},\"49892\":{\"id\":\"49892\",\"type\":\"company\",\"attributes\":{\"uniqueId\":\"c7f8efb0-9373-11ea-add1-062a4819e772\",\"name\":\"Elsewedy industries\",\"legalName\":null,\"logo\":\"446705024662e6463d474c.jpeg\",\"slug\":\"Elsewedy-industries-Egypt-49892\",\"description\":\"El Sewedy Industries Group was established by Mr. Ahmed Sadek El Sewedy in 1938 in Egypt and across the Middle East as one of the market leaders in multiple competitive industries today.\\n\\nOver the past 80 years, The Group has succeeded in influencing the local market in various operational scopes; Energy Solutions, Manufacturing, Lighting systems & Fixtures, Building Materials, Retail and Real Estate Development.\\n\\nEl Sewedy Industries’ continuous research and development fulfills the unmet needs of the market leading the Group towards a brighter tomorrow.\\n\\nOur lifelong commitment to society is to comply with international guidelines in terms of industrial health & safety, environmental awareness and regulations.\\n\\nWe Build to Last.\",\"specialties\":[],\"hiringFor\":null,\"website\":\"https:\\u002F\\u002Fwww.elsewedy-ind.com\\u002F\",\"facebookPage\":\"https:\\u002F\\u002Fwww.facebook.com\\u002FElsewedyind\\u002F\",\"twitterAccount\":null,\"linkedinProfile\":\"https:\\u002F\\u002Fwww.linkedin.com\\u002Fcompany\\u002Felsewedyind\\u002F\",\"blog\":null,\"onlinePresence\":{\"facebook\":\"https:\\u002F\\u002Fwww.facebook.com\\u002FElsewedyind\\u002F\",\"twitter\":null,\"linkedin\":\"https:\\u002F\\u002Fwww.linkedin.com\\u002Fcompany\\u002Felsewedyind\\u002F\",\"blog\":null,\"website\":\"https:\\u002F\\u002Fwww.elsewedy-ind.com\\u002F\",\"instagram\":null,\"youtube\":null,\"vimeo\":null,\"behance\":null},\"establishedYear\":null,\"uniqueName\":\"Elsewedy industries -w- 49892\",\"taxId\":null,\"street\":\"شارع كيلوباترا من شارع الثوره\",\"isPersonal\":false,\"buildingNumber\":\"21\",\"area\":\"مصر الجديدة\",\"publicStatus\":{\"id\":1,\"name\":\"Verified\"},\"statusUpdatedAt\":null,\"createdAt\":\"12\\u002F05\\u002F2019 13:52:26\",\"perks\":[{\"id\":1,\"name\":\"medical insurance\"},{\"id\":2,\"name\":\"social insurance\"},{\"id\":5,\"name\":\"performance bonus\"},{\"id\":6,\"name\":\"maternity leave\"}]},\"links\":{\"self\":\"https:\\u002F\\u002Fwuzzuf.net\\u002Fapi\\u002Fcompany\\u002F49892\",\"defaultLogoUrl\":\"https:\\u002F\\u002Fimages.wuzzuf-data.net\\u002Ffiles\\u002Fcompany_logo\\u002F446705024662e6463d474c.jpeg\",\"orgLogoUrl\":\"https:\\u002F\\u002Fimages.wuzzuf-data.net\\u002Ffiles\\u002Fcompany_logo\\u002F446705024662e6463d474c-org.jpeg\",\"smLogoUrl\":\"https:\\u002F\\u002Fimages.wuzzuf-data.net\\u002Ffiles\\u002Fcompany_logo\\u002F446705024662e6463d474c-sm.jpeg\",\"xsLogoUrl\":\"https:\\u002F\\u002Fimages.wuzzuf-data.net\\u002Ffiles\\u002Fcompany_logo\\u002F446705024662e6463d474c-xs.jpeg\",\"ogLogoUrl\":\"https:\\u002F\\u002Fimages.wuzzuf-data.net\\u002Ffiles\\u002Fcompany_logo\\u002F446705024662e6463d474c-og.jpeg\",\"defaultCoverUrl\":\"https:\\u002F\\u002Fimages.wuzzuf-data.net\\u002Ffiles\\u002Fcompany_covers\\u002F15813740062457f1b78b5f.jpeg\",\"coverUrl\":\"https:\\u002F\\u002Fimages.wuzzuf-data.net\\u002Ffiles\\u002Fcompany_covers\\u002Fthumbs\\u002F15813740062457f1b78b5f.jpeg\",\"profile\":\"jobs\\u002Fcareers\\u002FElsewedy-industries-Egypt-49892\"},\"relationships\":{\"workIndustries\":{\"data\":[{\"id\":\"185155\",\"type\":\"companyWorkIndustry\"},{\"id\":\"185156\",\"type\":\"companyWorkIndustry\"},{\"id\":\"185157\",\"type\":\"companyWorkIndustry\"}]},\"featuredLogos\":{\"data\":[{\"id\":\"3756\",\"type\":\"companyFeaturedLogo\"}]},\"country\":{\"data\":{\"id\":\"56\",\"type\":\"country\"}},\"city\":{\"data\":{\"id\":\"1545\",\"type\":\"city\"}},\"size\":{\"data\":{\"id\":\"6\",\"type\":\"companySize\"}},\"type\":{\"data\":{\"id\":\"2\",\"type\":\"companyType\"}}}},\"65111\":{\"id\":\"65111\",\"type\":\"company\",\"attributes\":{\"uniqueId\":\"23352529-43fd-449d-a350-1da6918bf0f6\",\"name\":\"EpsilonAI\",\"legalName\":null,\"logo\":\"59522558065fea08f5fb3b.jpeg\",\"slug\":\"EpsilonAI-Egypt-65111\",\"description\":\"WHO WE ARE?\\n\\nWe are a leading provider of AI products and solutions, and we are helping organizations in the public and private sectors to overcome the common obstacles to successful AI adoption:\\n\\nFirst, by providing easy-to-use products and custom solutions that do not require extensive training or specialized skills to use.\\n\\nSecond, by providing consulting services, including help with the design and execution of effective AI strategies, as well as data audits.\\n\\nThird, by providing training courses, both broad for general business and technical audiences and highly customized for particular sectors, agencies and enterprises\\n\\nOur AI training programs are structured to cater to the skills and knowledge in various fields, balanced with theory and industrial experience that will enhance the professionals’ careers to become effective managers and leaders. The structured training will nourish professionals to gain sound knowledge and understanding of current methodologies and techniques in the respective discipline that is being applied to solve complex business problems worldwide. They will also enrich in relevant soft skills to improve their communication skills and leadership style within their working group and in the entire organization.\",\"specialties\":[],\"hiringFor\":null,\"website\":\"https:\\u002F\\u002Fepsiloneg.com\\u002F\",\"facebookPage\":\"https:\\u002F\\u002Fwww.facebook.com\\u002FEpsilonAII\",\"twitterAccount\":\"https:\\u002F\\u002Ftwitter.com\\u002Fepsilonaii\",\"linkedinProfile\":\"https:\\u002F\\u002Flinkedin.com\\u002Fcompany\\u002Fepsilonaii\",\"blog\":null,\"onlinePresence\":{\"facebook\":\"https:\\u002F\\u002Fwww.facebook.com\\u002FEpsilonAII\",\"twitter\":\"https:\\u002F\\u002Ftwitter.com\\u002Fepsilonaii\",\"linkedin\":\"https:\\u002F\\u002Flinkedin.com\\u002Fcompany\\u002Fepsilonaii\",\"blog\":null,\"website\":\"https:\\u002F\\u002Fepsiloneg.com\\u002F\",\"instagram\":null,\"youtube\":null,\"vimeo\":null,\"behance\":null},\"establishedYear\":null,\"uniqueName\":\"EpsilonAI -w- 65111\",\"taxId\":null,\"street\":\"عطيه الصوالحي\",\"isPersonal\":false,\"buildingNumber\":null,\"area\":\"مدينه نصر \",\"publicStatus\":{\"id\":1,\"name\":\"Verified\"},\"statusUpdatedAt\":null,\"createdAt\":\"06\\u002F17\\u002F2021 14:21:34\",\"perks\":[]},\"links\":{\"self\":\"https:\\u002F\\u002Fwuzzuf.net\\u002Fapi\\u002Fcompany\\u002F65111\",\"defaultLogoUrl\":\"https:\\u002F\\u002Fimages.wuzzuf-data.net\\u002Ffiles\\u002Fcompany_logo\\u002F59522558065fea08f5fb3b.jpeg\",\"orgLogoUrl\":\"https:\\u002F\\u002Fimages.wuzzuf-data.net\\u002Ffiles\\u002Fcompany_logo\\u002F59522558065fea08f5fb3b-org.jpeg\",\"smLogoUrl\":\"https:\\u002F\\u002Fimages.wuzzuf-data.net\\u002Ffiles\\u002Fcompany_logo\\u002F59522558065fea08f5fb3b-sm.jpeg\",\"xsLogoUrl\":\"https:\\u002F\\u002Fimages.wuzzuf-data.net\\u002Ffiles\\u002Fcompany_logo\\u002F59522558065fea08f5fb3b-xs.jpeg\",\"ogLogoUrl\":\"https:\\u002F\\u002Fimages.wuzzuf-data.net\\u002Ffiles\\u002Fcompany_logo\\u002F59522558065fea08f5fb3b-og.jpeg\",\"defaultCoverUrl\":\"https:\\u002F\\u002Fimages.wuzzuf-data.net\\u002Ffiles\\u002Fcompany_covers\\u002F7a0ddb46cc265f22c7d09851b5d6f026.png\",\"coverUrl\":\"https:\\u002F\\u002Fimages.wuzzuf-data.net\\u002Ffiles\\u002Fcompany_covers\\u002Fthumbs\\u002F7a0ddb46cc265f22c7d09851b5d6f026.png\",\"profile\":\"jobs\\u002Fcareers\\u002FEpsilonAI-Egypt-65111\"},\"relationships\":{\"workIndustries\":{\"data\":[{\"id\":\"166573\",\"type\":\"companyWorkIndustry\"},{\"id\":\"166574\",\"type\":\"companyWorkIndustry\"}]},\"featuredLogos\":{\"data\":[]},\"country\":{\"data\":{\"id\":\"56\",\"type\":\"country\"}},\"city\":{\"data\":{\"id\":\"1545\",\"type\":\"city\"}},\"size\":{\"data\":{\"id\":\"3\",\"type\":\"companySize\"}},\"type\":{\"data\":{\"id\":\"4\",\"type\":\"companyType\"}}}},\"77001\":{\"id\":\"77001\",\"type\":\"company\",\"attributes\":{\"uniqueId\":\"a5c2988f-2036-42ab-97f4-6fea5ca9db00\",\"name\":\"RMG\",\"legalName\":null,\"logo\":\"2500869656492050c1b565.jpeg\",\"slug\":\"RMG-Egypt-77001\",\"description\":\"RMG Group is one of the leading IT Systems Integrator in the Kingdom of Saudi Arabia. It is well positioned to lead the IT service industry in the Middle East by leveraging its strategic partnerships with world class technology vendors, solid service infrastructure and its commitment to the region. \\n\\nRMG activities include IT Consultations, Information Technology solutions, Professional Training, Graphic Design and E-marketing Solutions.\\n\\nThe Company has achieved a lot of success as well as given a lot of innovative solutions to its customers in GCC, Middle East and South Africa. \\nSince the beginning, we've focused on finding modern solution to increase efficiency as well as enhance the level of customer satisfaction.\\n\\nWe thrive on the mission of enabling the best business results through IDEAS, PEOPLE and TECHNOLOGY. As a total IT Infrastructure Solutions Provider, we provide a full spectrum of services that includes Consulting, Design, Implementation, Integration and a whole host of Outsourcing Services. In short, we address the entire cycle of a typical IT undertaking – from Consult, Build, Deploy to Manage.\",\"specialties\":[],\"hiringFor\":null,\"website\":\"http:\\u002F\\u002Frmg-sa.com\\u002F\",\"facebookPage\":null,\"twitterAccount\":null,\"linkedinProfile\":null,\"blog\":null,\"onlinePresence\":{\"facebook\":null,\"twitter\":null,\"linkedin\":null,\"blog\":null,\"website\":\"http:\\u002F\\u002Frmg-sa.com\\u002F\",\"instagram\":null,\"youtube\":null,\"vimeo\":null,\"behance\":null},\"establishedYear\":null,\"uniqueName\":\"RMG -w- 77001\",\"taxId\":null,\"street\":\"-\",\"isPersonal\":false,\"buildingNumber\":null,\"area\":\"-\",\"publicStatus\":{\"id\":1,\"name\":\"Verified\"},\"statusUpdatedAt\":null,\"createdAt\":\"04\\u002F20\\u002F2022 13:11:37\",\"perks\":[{\"id\":1,\"name\":\"medical insurance\"},{\"id\":2,\"name\":\"social insurance\"},{\"id\":8,\"name\":\"work from home\"},{\"id\":12,\"name\":\"family medical insurance\"}]},\"links\":{\"self\":\"https:\\u002F\\u002Fwuzzuf.net\\u002Fapi\\u002Fcompany\\u002F77001\",\"defaultLogoUrl\":\"https:\\u002F\\u002Fimages.wuzzuf-data.net\\u002Ffiles\\u002Fcompany_logo\\u002F2500869656492050c1b565.jpeg\",\"orgLogoUrl\":\"https:\\u002F\\u002Fimages.wuzzuf-data.net\\u002Ffiles\\u002Fcompany_logo\\u002F2500869656492050c1b565-org.jpeg\",\"smLogoUrl\":\"https:\\u002F\\u002Fimages.wuzzuf-data.net\\u002Ffiles\\u002Fcompany_logo\\u002F2500869656492050c1b565-sm.jpeg\",\"xsLogoUrl\":\"https:\\u002F\\u002Fimages.wuzzuf-data.net\\u002Ffiles\\u002Fcompany_logo\\u002F2500869656492050c1b565-xs.jpeg\",\"ogLogoUrl\":\"https:\\u002F\\u002Fimages.wuzzuf-data.net\\u002Ffiles\\u002Fcompany_logo\\u002F2500869656492050c1b565-og.jpeg\",\"profile\":\"jobs\\u002Fcareers\\u002FRMG-Egypt-77001\"},\"relationships\":{\"workIndustries\":{\"data\":[{\"id\":\"175067\",\"type\":\"companyWorkIndustry\"}]},\"featuredLogos\":{\"data\":[{\"id\":\"4402\",\"type\":\"companyFeaturedLogo\"}]},\"country\":{\"data\":{\"id\":\"56\",\"type\":\"country\"}},\"city\":{\"data\":{\"id\":\"1545\",\"type\":\"city\"}},\"size\":{\"data\":{\"id\":\"2\",\"type\":\"companySize\"}},\"type\":{\"data\":{\"id\":\"1\",\"type\":\"companyType\"}}}},\"87343\":{\"id\":\"87343\",\"type\":\"company\",\"attributes\":{\"uniqueId\":\"83e8b6d2-54d4-4bd2-aaa3-bc6d2e744389\",\"name\":\"WSC\",\"legalName\":null,\"logo\":\"202948012863ed8222345ba.png\",\"slug\":\"WSC-Egypt-87343\",\"description\":\"Wataniya Solutions Company for Communications and Information Technology, a leading company in the field of information systems and service provision, a national company for communications and information technology\",\"specialties\":[],\"hiringFor\":null,\"website\":\"https:\\u002F\\u002Fwww.wsc.com.sa\\u002F\",\"facebookPage\":null,\"twitterAccount\":null,\"linkedinProfile\":null,\"blog\":null,\"onlinePresence\":{\"facebook\":null,\"twitter\":null,\"linkedin\":null,\"blog\":null,\"website\":\"https:\\u002F\\u002Fwww.wsc.com.sa\\u002F\",\"instagram\":null,\"youtube\":null,\"vimeo\":null,\"behance\":null},\"establishedYear\":null,\"uniqueName\":\"WSC -w- 87343\",\"taxId\":null,\"street\":null,\"isPersonal\":false,\"buildingNumber\":null,\"area\":null,\"publicStatus\":{\"id\":1,\"name\":\"Verified\"},\"statusUpdatedAt\":null,\"createdAt\":\"02\\u002F16\\u002F2023 02:48:06\",\"perks\":[]},\"links\":{\"self\":\"https:\\u002F\\u002Fwuzzuf.net\\u002Fapi\\u002Fcompany\\u002F87343\",\"defaultLogoUrl\":\"https:\\u002F\\u002Fimages.wuzzuf-data.net\\u002Ffiles\\u002Fcompany_logo\\u002F202948012863ed8222345ba.png\",\"orgLogoUrl\":\"https:\\u002F\\u002Fimages.wuzzuf-data.net\\u002Ffiles\\u002Fcompany_logo\\u002F202948012863ed8222345ba-org.png\",\"smLogoUrl\":\"https:\\u002F\\u002Fimages.wuzzuf-data.net\\u002Ffiles\\u002Fcompany_logo\\u002F202948012863ed8222345ba-sm.png\",\"xsLogoUrl\":\"https:\\u002F\\u002Fimages.wuzzuf-data.net\\u002Ffiles\\u002Fcompany_logo\\u002F202948012863ed8222345ba-xs.png\",\"ogLogoUrl\":\"https:\\u002F\\u002Fimages.wuzzuf-data.net\\u002Ffiles\\u002Fcompany_logo\\u002F202948012863ed8222345ba-og.png\",\"profile\":\"jobs\\u002Fcareers\\u002FWSC-Egypt-87343\"},\"relationships\":{\"workIndustries\":{\"data\":[{\"id\":\"181159\",\"type\":\"companyWorkIndustry\"}]},\"featuredLogos\":{\"data\":[{\"id\":\"4395\",\"type\":\"companyFeaturedLogo\"}]},\"country\":{\"data\":{\"id\":\"56\",\"type\":\"country\"}},\"city\":{\"data\":null},\"size\":{\"data\":{\"id\":\"2\",\"type\":\"companySize\"}},\"type\":{\"data\":null}}},\"104747\":{\"id\":\"104747\",\"type\":\"company\",\"attributes\":{\"uniqueId\":\"db81207a-e860-4991-8e29-80f95439f5f0\",\"name\":\"Citylogix ME\",\"legalName\":null,\"logo\":\"13673425676666ff968c332.png\",\"slug\":\"StreetScan-Canada-104747\",\"description\":\"Citylogix (formally named Streetscan) is a premier data provider and analytics company serving smart cities’ transportation infrastructure needs. \\n\\nWe help local government secure its road-repair budget and prioritize maintenance projects, by supporting a data-driven way to assess the condition of its street network and right-of-way assets.\\n\\nOur pavement and sidewalk management service provide a fast, objective analysis, ensuring that repair and maintenance decisions are based on up-to-date and complete data. We employ 3-D imaging technology to detect and measure road defects, including cracking, bumps, surface distortions and surface texture. Plus, our 360° HD camera will provide optical imagery of the road surface and right-of-way assets such as pavement markings, metal objects, trees and more.\\n\\nCitylogix, our GIS web-based asset management software, provides unprecedented data management and budget optimization tools. Our clients have been creating data-driven Capital Improvement Plans while justifying their budgeting requests using the powerful yet user-friendly tools within Citylogix.\",\"specialties\":[{\"id\":27,\"name\":\"Computer Software\"}],\"hiringFor\":\"StreetScan\",\"website\":null,\"facebookPage\":null,\"twitterAccount\":null,\"linkedinProfile\":null,\"blog\":null,\"onlinePresence\":{\"facebook\":null,\"twitter\":null,\"linkedin\":null,\"blog\":null,\"website\":null,\"instagram\":null,\"youtube\":null,\"vimeo\":null,\"behance\":null},\"establishedYear\":null,\"uniqueName\":\"Citylogix ME -w- 104747\",\"taxId\":null,\"street\":null,\"isPersonal\":false,\"buildingNumber\":null,\"area\":null,\"publicStatus\":{\"id\":1,\"name\":\"Verified\"},\"statusUpdatedAt\":null,\"createdAt\":\"03\\u002F29\\u002F2024 22:33:28\",\"perks\":[]},\"links\":{\"self\":\"https:\\u002F\\u002Fwuzzuf.net\\u002Fapi\\u002Fcompany\\u002F104747\",\"defaultLogoUrl\":\"https:\\u002F\\u002Fimages.wuzzuf-data.net\\u002Ffiles\\u002Fcompany_logo\\u002F13673425676666ff968c332.png\",\"orgLogoUrl\":\"https:\\u002F\\u002Fimages.wuzzuf-data.net\\u002Ffiles\\u002Fcompany_logo\\u002F13673425676666ff968c332-org.png\",\"smLogoUrl\":\"https:\\u002F\\u002Fimages.wuzzuf-data.net\\u002Ffiles\\u002Fcompany_logo\\u002F13673425676666ff968c332-sm.png\",\"xsLogoUrl\":\"https:\\u002F\\u002Fimages.wuzzuf-data.net\\u002Ffiles\\u002Fcompany_logo\\u002F13673425676666ff968c332-xs.png\",\"ogLogoUrl\":\"https:\\u002F\\u002Fimages.wuzzuf-data.net\\u002Ffiles\\u002Fcompany_logo\\u002F13673425676666ff968c332-og.png\",\"defaultCoverUrl\":\"https:\\u002F\\u002Fimages.wuzzuf-data.net\\u002Ffiles\\u002Fcompany_covers\\u002F90868968066670190bd0a7.png\",\"coverUrl\":\"https:\\u002F\\u002Fimages.wuzzuf-data.net\\u002Ffiles\\u002Fcompany_covers\\u002Fthumbs\\u002F90868968066670190bd0a7.png\",\"profile\":\"jobs\\u002Fcareers\\u002FStreetScan-Canada-104747\"},\"relationships\":{\"workIndustries\":{\"data\":[{\"id\":\"183932\",\"type\":\"companyWorkIndustry\"},{\"id\":\"183933\",\"type\":\"companyWorkIndustry\"},{\"id\":\"183934\",\"type\":\"companyWorkIndustry\"}]},\"featuredLogos\":{\"data\":[]},\"country\":{\"data\":{\"id\":\"56\",\"type\":\"country\"}},\"city\":{\"data\":null},\"size\":{\"data\":{\"id\":\"3\",\"type\":\"companySize\"}},\"type\":{\"data\":{\"id\":\"2\",\"type\":\"companyType\"}}}},\"110718\":{\"id\":\"110718\",\"type\":\"company\",\"attributes\":{\"uniqueId\":\"385fb0b1-c1b6-41f8-b066-99b0cc2f427b\",\"name\":\"Enigma\",\"legalName\":null,\"logo\":\"167946581966e70096db2f7.png\",\"slug\":\"Enigma-Egypt-110718\",\"description\":\"Enigma is an IT Agency specialized in algorithms and artificial intelligence. We implement software and create hardware to execute complicated tasks saving time and money for our clients. If you're excited about shaping the future of automation and want to join a dynamic team explore our current openings today!\",\"specialties\":[{\"id\":23,\"name\":\"Computer and Network Security\"},{\"id\":25,\"name\":\"Computer Hardware\"},{\"id\":27,\"name\":\"Computer Software\"}],\"hiringFor\":\"Software Engineer\",\"website\":null,\"facebookPage\":null,\"twitterAccount\":null,\"linkedinProfile\":null,\"blog\":null,\"onlinePresence\":{\"facebook\":null,\"twitter\":null,\"linkedin\":null,\"blog\":null,\"website\":null,\"instagram\":null,\"youtube\":null,\"vimeo\":null,\"behance\":null},\"establishedYear\":null,\"uniqueName\":\"Enigma -w- 110718\",\"taxId\":null,\"street\":null,\"isPersonal\":true,\"buildingNumber\":null,\"area\":null,\"publicStatus\":{\"id\":1,\"name\":\"Verified\"},\"statusUpdatedAt\":null,\"createdAt\":\"07\\u002F20\\u002F2024 15:28:54\",\"perks\":[{\"id\":7,\"name\":\"flexible hours\"},{\"id\":8,\"name\":\"work from home\"},{\"id\":1,\"name\":\"medical insurance\"},{\"id\":2,\"name\":\"social insurance\"},{\"id\":5,\"name\":\"performance bonus\"}]},\"links\":{\"self\":\"https:\\u002F\\u002Fwuzzuf.net\\u002Fapi\\u002Fcompany\\u002F110718\",\"defaultLogoUrl\":\"https:\\u002F\\u002Fimages.wuzzuf-data.net\\u002Ffiles\\u002Fcompany_logo\\u002F167946581966e70096db2f7.png\",\"orgLogoUrl\":\"https:\\u002F\\u002Fimages.wuzzuf-data.net\\u002Ffiles\\u002Fcompany_logo\\u002F167946581966e70096db2f7-org.png\",\"smLogoUrl\":\"https:\\u002F\\u002Fimages.wuzzuf-data.net\\u002Ffiles\\u002Fcompany_logo\\u002F167946581966e70096db2f7-sm.png\",\"xsLogoUrl\":\"https:\\u002F\\u002Fimages.wuzzuf-data.net\\u002Ffiles\\u002Fcompany_logo\\u002F167946581966e70096db2f7-xs.png\",\"ogLogoUrl\":\"https:\\u002F\\u002Fimages.wuzzuf-data.net\\u002Ffiles\\u002Fcompany_logo\\u002F167946581966e70096db2f7-og.png\",\"defaultCoverUrl\":\"https:\\u002F\\u002Fimages.wuzzuf-data.net\\u002Ffiles\\u002Fcompany_covers\\u002F27137412466f67d445b9f2.png\",\"coverUrl\":\"https:\\u002F\\u002Fimages.wuzzuf-data.net\\u002Ffiles\\u002Fcompany_covers\\u002Fthumbs\\u002F27137412466f67d445b9f2.png\",\"profile\":\"jobs\\u002Fcareers\\u002FEnigma-Egypt-110718\"},\"relationships\":{\"workIndustries\":{\"data\":[{\"id\":\"189754\",\"type\":\"companyWorkIndustry\"},{\"id\":\"189755\",\"type\":\"companyWorkIndustry\"},{\"id\":\"189756\",\"type\":\"companyWorkIndustry\"}]},\"featuredLogos\":{\"data\":[]},\"country\":{\"data\":{\"id\":\"56\",\"type\":\"country\"}},\"city\":{\"data\":{\"id\":\"1550\",\"type\":\"city\"}},\"size\":{\"data\":{\"id\":\"1\",\"type\":\"companySize\"}},\"type\":{\"data\":{\"id\":\"2\",\"type\":\"companyType\"}}}},\"114172\":{\"id\":\"114172\",\"type\":\"company\",\"attributes\":{\"uniqueId\":\"7a9880fb-5c4b-4b33-881b-2f2821da654f\",\"name\":\"GIG Egypt \",\"legalName\":null,\"logo\":\"1050099260670630eb9bca2.png\",\"slug\":\"GIG Egypt-Egypt-114172\",\"description\":\"GIG-Egypt is a joint stock company, subject to the Egyptian Insurance Law 10\\u002F1981 and the amendment 118\\u002F2008, a member of the Egyptian Insurance Federation as well as the General Arab Insurance Federation (GAIF) and established by a shared Egyptian-Arab Capital and launched its insurance activities in July 1994.\\n\\nOur Vision that we’re shaping a valuable insurance ecosystem for the MENA region. and our mission is invested in; providing rewarding experiences to customers, building loyalty with employees, creating value for stakeholders, and serving the community as a committed citizen.\\n\\n- Values\\n\\nRespect - The client is our most valuable asset.\\n\\nLasting - We have long-term perspective on the value of our clients. Whereby the lifetime of a client relationship is seen as much greater value than the cost associated with any single transaction with client.\\n\\nRewarding - We are prepared to invest in value-adding services, at a sustainable cost, in the interest of improving client loyalty and growing market share.\",\"specialties\":[{\"id\":56,\"name\":\"Insurance\"}],\"hiringFor\":\"Help Desk Junior Specialist\",\"website\":\"https:\\u002F\\u002Fwww.gig.com.eg\\u002F\",\"facebookPage\":null,\"twitterAccount\":null,\"linkedinProfile\":null,\"blog\":null,\"onlinePresence\":{\"facebook\":null,\"twitter\":null,\"linkedin\":null,\"blog\":null,\"website\":\"https:\\u002F\\u002Fwww.gig.com.eg\\u002F\",\"instagram\":null,\"youtube\":null,\"vimeo\":null,\"behance\":null},\"establishedYear\":null,\"uniqueName\":\"GIG Egypt  -w- 114172\",\"taxId\":null,\"street\":null,\"isPersonal\":false,\"buildingNumber\":null,\"area\":null,\"publicStatus\":{\"id\":1,\"name\":\"Verified\"},\"statusUpdatedAt\":null,\"createdAt\":\"10\\u002F09\\u002F2024 10:09:00\",\"perks\":[]},\"links\":{\"self\":\"https:\\u002F\\u002Fwuzzuf.net\\u002Fapi\\u002Fcompany\\u002F114172\",\"defaultLogoUrl\":\"https:\\u002F\\u002Fimages.wuzzuf-data.net\\u002Ffiles\\u002Fcompany_logo\\u002F1050099260670630eb9bca2.png\",\"orgLogoUrl\":\"https:\\u002F\\u002Fimages.wuzzuf-data.net\\u002Ffiles\\u002Fcompany_logo\\u002F1050099260670630eb9bca2-org.png\",\"smLogoUrl\":\"https:\\u002F\\u002Fimages.wuzzuf-data.net\\u002Ffiles\\u002Fcompany_logo\\u002F1050099260670630eb9bca2-sm.png\",\"xsLogoUrl\":\"https:\\u002F\\u002Fimages.wuzzuf-data.net\\u002Ffiles\\u002Fcompany_logo\\u002F1050099260670630eb9bca2-xs.png\",\"ogLogoUrl\":\"https:\\u002F\\u002Fimages.wuzzuf-data.net\\u002Ffiles\\u002Fcompany_logo\\u002F1050099260670630eb9bca2-og.png\",\"defaultCoverUrl\":\"https:\\u002F\\u002Fimages.wuzzuf-data.net\\u002Ffiles\\u002Fcompany_covers\\u002F1420727226671a0f35c6b20.png\",\"coverUrl\":\"https:\\u002F\\u002Fimages.wuzzuf-data.net\\u002Ffiles\\u002Fcompany_covers\\u002Fthumbs\\u002F1420727226671a0f35c6b20.png\",\"profile\":\"jobs\\u002Fcareers\\u002FGIG Egypt-Egypt-114172\"},\"relationships\":{\"workIndustries\":{\"data\":[{\"id\":\"189246\",\"type\":\"companyWorkIndustry\"}]},\"featuredLogos\":{\"data\":[{\"id\":\"4515\",\"type\":\"companyFeaturedLogo\"}]},\"country\":{\"data\":{\"id\":\"56\",\"type\":\"country\"}},\"city\":{\"data\":{\"id\":\"1545\",\"type\":\"city\"}},\"size\":{\"data\":{\"id\":\"4\",\"type\":\"companySize\"}},\"type\":{\"data\":{\"id\":\"2\",\"type\":\"companyType\"}}}},\"114653\":{\"id\":\"114653\",\"type\":\"company\",\"attributes\":{\"uniqueId\":\"5b23185c-d1b4-47e2-b06c-7193ba291dac\",\"name\":\"kpec international\",\"legalName\":null,\"logo\":null,\"slug\":\"kpec international-Cyprus-114653\",\"description\":null,\"specialties\":[],\"hiringFor\":\"Machinist \\u002F Mechanical Engineer\",\"website\":null,\"facebookPage\":null,\"twitterAccount\":null,\"linkedinProfile\":null,\"blog\":null,\"onlinePresence\":{\"facebook\":null,\"twitter\":null,\"linkedin\":null,\"blog\":null,\"website\":null,\"instagram\":null,\"youtube\":null,\"vimeo\":null,\"behance\":null},\"establishedYear\":null,\"uniqueName\":\"kpec international -w- 114653\",\"taxId\":null,\"street\":null,\"isPersonal\":false,\"buildingNumber\":null,\"area\":null,\"publicStatus\":{\"id\":1,\"name\":\"Verified\"},\"statusUpdatedAt\":null,\"createdAt\":\"10\\u002F21\\u002F2024 12:14:40\",\"perks\":[]},\"links\":{\"self\":\"https:\\u002F\\u002Fwuzzuf.net\\u002Fapi\\u002Fcompany\\u002F114653\",\"profile\":\"jobs\\u002Fcareers\\u002Fkpec international-Cyprus-114653\"},\"relationships\":{\"workIndustries\":{\"data\":[]},\"featuredLogos\":{\"data\":[]},\"country\":{\"data\":{\"id\":\"49\",\"type\":\"country\"}},\"city\":{\"data\":null},\"size\":{\"data\":null},\"type\":{\"data\":null}}},\"114714\":{\"id\":\"114714\",\"type\":\"company\",\"attributes\":{\"uniqueId\":\"270c1ba5-9544-4d0d-9761-135bd6c3dc08\",\"name\":\"kcsc\",\"legalName\":null,\"logo\":null,\"slug\":\"kcsc-Saudi Arabia-114714\",\"description\":null,\"specialties\":[],\"hiringFor\":\"Learning Manager\",\"website\":null,\"facebookPage\":null,\"twitterAccount\":null,\"linkedinProfile\":null,\"blog\":null,\"onlinePresence\":{\"facebook\":null,\"twitter\":null,\"linkedin\":null,\"blog\":null,\"website\":null,\"instagram\":null,\"youtube\":null,\"vimeo\":null,\"behance\":null},\"establishedYear\":null,\"uniqueName\":\"kcsc -w- 114714\",\"taxId\":null,\"street\":null,\"isPersonal\":false,\"buildingNumber\":null,\"area\":null,\"publicStatus\":{\"id\":1,\"name\":\"Verified\"},\"statusUpdatedAt\":null,\"createdAt\":\"10\\u002F22\\u002F2024 11:11:40\",\"perks\":[]},\"links\":{\"self\":\"https:\\u002F\\u002Fwuzzuf.net\\u002Fapi\\u002Fcompany\\u002F114714\",\"profile\":\"jobs\\u002Fcareers\\u002Fkcsc-Saudi Arabia-114714\"},\"relationships\":{\"workIndustries\":{\"data\":[]},\"featuredLogos\":{\"data\":[]},\"country\":{\"data\":{\"id\":\"163\",\"type\":\"country\"}},\"city\":{\"data\":null},\"size\":{\"data\":null},\"type\":{\"data\":null}}}},\"isLoading\":false,\"error\":null,\"timestamp\":1731262480604},\"companyPublicStatus\":{\"isLoading\":false,\"collection\":{},\"error\":null,\"timestamp\":null},\"companyWorkIndustry\":{\"isLoading\":false,\"collection\":{},\"error\":null,\"timestamp\":null},\"companyGalleryItem\":{\"isLoading\":false,\"collection\":{},\"error\":null,\"timestamp\":null},\"externalCompany\":{\"isLoading\":false,\"collection\":{},\"error\":null,\"timestamp\":null},\"job\":{\"collection\":{\"62d3f507-afb6-401f-a611-29ea8db90fee\":{\"id\":\"62d3f507-afb6-401f-a611-29ea8db90fee\",\"type\":\"job\",\"attributes\":{\"jobType\":\"job\",\"applicationType\":\"internal\",\"status\":\"active\",\"title\":\"Machine Learning Manager\",\"description\":\"\\u003Cul\\u003E\\u003Cli\\u003EStudy and transform data science prototypes\\u003C\\u002Fli\\u003E\\u003Cli\\u003EDesign machine learning systems\\u003C\\u002Fli\\u003E\\u003Cli\\u003EResearch and implement appropriate ML algorithms and tools\\u003C\\u002Fli\\u003E\\u003Cli\\u003EDevelop machine learning applications according to requirements\\u003C\\u002Fli\\u003E\\u003Cli\\u003ESelect appropriate datasets and data representation methods\\u003C\\u002Fli\\u003E\\u003Cli\\u003ERun machine learning tests and experiments\\u003C\\u002Fli\\u003E\\u003Cli\\u003EPerform statistical analysis and fine-tuning using test results\\u003C\\u002Fli\\u003E\\u003Cli\\u003ETrain and retrain systems when necessary\\u003C\\u002Fli\\u003E\\u003Cli\\u003EExtend existing ML libraries and frameworks\\u003C\\u002Fli\\u003E\\u003Cli\\u003EKeep abreast of developments in the field\\u003C\\u002Fli\\u003E\\u003C\\u002Ful\\u003E\",\"requirements\":\"\\u003Cul\\u003E\\u003Cli\\u003EProven experience as a Machine Learning Engineer or similar role\\u003C\\u002Fli\\u003E\\u003Cli\\u003EUnderstanding of data structures, data modeling and software architecture\\u003C\\u002Fli\\u003E\\u003Cli\\u003EDeep knowledge of math, probability, statistics and algorithms\\u003C\\u002Fli\\u003E\\u003Cli\\u003EAbility to write robust code in Python, Java and R\\u003C\\u002Fli\\u003E\\u003Cli\\u003EFamiliarity with machine learning frameworks (like Keras or PyTorch) and libraries (like scikit-learn)\\u003C\\u002Fli\\u003E\\u003Cli\\u003EExcellent communication skills\\u003C\\u002Fli\\u003E\\u003Cli\\u003EAbility to work in a team\\u003C\\u002Fli\\u003E\\u003Cli\\u003EOutstanding analytical and problem-solving skills\\u003C\\u002Fli\\u003E\\u003Cli\\u003EBSc in Computer Science, Mathematics or similar field; Master’s degree is a plus\\u003C\\u002Fli\\u003E\\u003C\\u002Ful\\u003E\",\"salary\":{\"min\":10000,\"max\":20000,\"currency\":{\"id\":114,\"name\":\"Saudi Arabian Riyal\",\"code\":\"SAR\"},\"period\":{\"id\":4,\"name\":\"Per Month\"},\"additionalDetails\":null,\"isPaid\":true},\"keywords\":[{\"name\":\"learning\",\"browsePage\":\"a\\u002FLearning-Jobs-in-Egypt\"},{\"name\":\"Communication\",\"browsePage\":\"a\\u002FCommunication-Jobs-in-Egypt\"},{\"name\":\"Machine Learning\",\"browsePage\":\"a\\u002FMachine-Learning-Jobs-in-Egypt\"},{\"name\":\"Python\",\"browsePage\":\"a\\u002FPython-Jobs-in-Egypt\"},{\"name\":\"Computer Science\",\"browsePage\":\"a\\u002FComputer-Science-Jobs-in-Egypt\"},{\"name\":\"Software\",\"browsePage\":\"a\\u002FSoftware-Jobs-in-Egypt\"}],\"careerLevel\":{\"id\":7,\"name\":\"Manager\",\"hint\":null,\"browsePage\":\"a\\u002FManager-Jobs-in-Egypt\"},\"workplaceArrangement\":{\"id\":1,\"displayedName\":\"On-site\",\"browsePage\":\"a\\u002FOn-Site-Jobs-in-Egypt\"},\"location\":{\"country\":{\"id\":56,\"name\":\"Egypt\",\"code\":\"EG\"},\"city\":{\"id\":1545,\"name\":\"Cairo\",\"latitude\":\"30.05075900\",\"longitude\":\"31.23383900\"},\"area\":null},\"workExperienceYears\":{\"min\":5,\"max\":10},\"vacancies\":1,\"workRoles\":[{\"id\":16,\"name\":\"IT\\u002FSoftware Development\",\"browsePage\":\"a\\u002FIT-Software-Development-Jobs-in-Egypt\"},{\"id\":36,\"name\":\"Engineering - Telecom\\u002FTechnology\",\"browsePage\":\"a\\u002FEngineering-Telecom-Technology-Jobs-in-Egypt\"}],\"workTypes\":[{\"id\":1,\"name\":\"full_time\",\"displayedName\":\"Full Time\",\"browsePage\":\"a\\u002FFull-Time-Jobs-in-Egypt\"}],\"schools\":[],\"candidatePreferences\":{\"gender\":null,\"educationLevel\":{\"id\":14,\"name\":\"Bachelor's Degree\"},\"requiresBachelorDegree\":false,\"requiresGoodProfileMeter\":false,\"requiresAcademicExcellence\":false},\"hotScore\":0,\"logo\":null,\"slug\":\"ow9y8zcxQbne-Machine-Learning-Manager-kcsc-Cairo-Egypt\",\"uri\":\"jobs\\u002Fp\\u002Fow9y8zcxQbne-Machine-Learning-Manager-kcsc-Cairo-Egypt\",\"views\":210,\"redirectUrl\":null,\"tempWorkingFromHome\":false,\"hideCompany\":false,\"hideGender\":false,\"hideSalary\":false,\"settings\":{\"isAutoPosted\":true,\"isHighlighted\":null,\"isFeatured\":null},\"postedAt\":\"10\\u002F22\\u002F2024 11:13:26\",\"expireAt\":\"12\\u002F21\\u002F2024 11:13:26\"},\"links\":{\"self\":\"https:\\u002F\\u002Fwuzzuf.net\\u002Fapi\\u002Fjob\\u002F62d3f507-afb6-401f-a611-29ea8db90fee\"},\"relationships\":{\"company\":{\"data\":{\"id\":\"114714\",\"type\":\"company\"}}}},\"86bea6d4-d6d3-41fa-af31-48d710b8db12\":{\"id\":\"86bea6d4-d6d3-41fa-af31-48d710b8db12\",\"type\":\"job\",\"attributes\":{\"jobType\":\"job\",\"applicationType\":\"internal\",\"status\":\"active\",\"title\":\"Data Science Instructor\",\"description\":\"\\u003Cul\\u003E\\u003Cli\\u003EEpsilon AI Institute is hiring Data Science instructors who Manage and delivers the course materials to trainees in an engaging thought-provoking manner\\u003C\\u002Fli\\u003E\\u003Cli\\u003EThe successful candidate will be able to contribute to the delivery of topics relating to Artificial Intelligence, Machine Learning, Data Science and Programming\\u003C\\u002Fli\\u003E\\u003Cli\\u003EEngage in the classroom and reply to emails, Trainees’ questions, etc. within 24 hours on non-holiday weekdays.\\u003C\\u002Fli\\u003E\\u003Cli\\u003EEvaluate and grade Trainees' class work, assignments, and papers within the timeframe set forth by Epsilon AI policy providing effective feedback to guide Trainees' learning and success.\\u003C\\u002Fli\\u003E\\u003Cli\\u003EMaintain the cadence of the course: Keep Trainees on track, monitor each individual's progress, and design and implement learning or service interventions when Trainees fall behind\\u003C\\u002Fli\\u003E\\u003C\\u002Ful\\u003E\",\"requirements\":\"\\u003Cul\\u003E\\u003Cli\\u003EExpert level in Python including Numpy, Pandas, Scikit-learn\\u003C\\u002Fli\\u003E\\u003Cli\\u003EProficiency in Relational and non-relational databases, and Cloud computing with in-depth knowledge of machine learning and artificial intelligence libraries, and APIs.\\u003C\\u002Fli\\u003E\\u003Cli\\u003EStrong foundation in Mathematics\\u003C\\u002Fli\\u003E\\u003Cli\\u003EExpert level in MLlib\\u003C\\u002Fli\\u003E\\u003Cli\\u003EExcellent programming skills (including OOP and preferably functional programming)\\u003C\\u002Fli\\u003E\\u003Cli\\u003ESolid Understanding of Machine Learning Models; Data Preparation, Cleaning up data; Mathematics; Model Deployment\\u003C\\u002Fli\\u003E\\u003Cli\\u003ESolid understanding of Data Science techniques\\u003C\\u002Fli\\u003E\\u003Cli\\u003EExcellent software engineering skills (Agile methodologies, Git, continuous development, etc.)\\u003C\\u002Fli\\u003E\\u003Cli\\u003ELead project sprints, helping Trainees scope and execute larger technical projects to demonstrate mastery of each content module\\u003C\\u002Fli\\u003E\\u003Cli\\u003EDiligently respond to Trainees needs and questions during the course schedule\\u003C\\u002Fli\\u003E\\u003Cli\\u003EActs as a technical mentor guiding Trainees on a technical journey of discovery\\u003C\\u002Fli\\u003E\\u003Cli\\u003EWorking experience in data science\\u003C\\u002Fli\\u003E\\u003Cli\\u003EBachelor’s degree (or higher) in -Computer Science or related field preferred\\u003C\\u002Fli\\u003E\\u003Cli\\u003EA minimum of 1-year experience with research\\u002Fdevelopment\\u002Fapplication of Data Science\\u003C\\u002Fli\\u003E\\u003Cli\\u003EExperience using technology and interactive electronic materials to support teaching and learning.\\u003C\\u002Fli\\u003E\\u003Cli\\u003EExperience using a Learning Management System such as Google Classroom, Canvas\\u003C\\u002Fli\\u003E\\u003C\\u002Ful\\u003E\",\"salary\":{\"min\":null,\"max\":null,\"currency\":null,\"period\":null,\"additionalDetails\":null,\"isPaid\":true},\"keywords\":[{\"name\":\"Data Science\",\"browsePage\":\"a\\u002FData-Science-Jobs-in-Egypt\"},{\"name\":\"Computer Science\",\"browsePage\":\"a\\u002FComputer-Science-Jobs-in-Egypt\"},{\"name\":\"Computer Engineering\",\"browsePage\":\"a\\u002FComputer-Engineering-Jobs-in-Egypt\"},{\"name\":\"Python\",\"browsePage\":\"a\\u002FPython-Jobs-in-Egypt\"},{\"name\":\"Machine Learning\",\"browsePage\":\"a\\u002FMachine-Learning-Jobs-in-Egypt\"},{\"name\":\"Deep Learning\",\"browsePage\":\"a\\u002FDeep-Learning-Jobs-in-Egypt\"},{\"name\":\"Artificial Intelligence (AI)\",\"browsePage\":\"a\\u002FArtificial-Intelligence-AI-Jobs-in-Egypt\"},{\"name\":\"Software Engineering\",\"browsePage\":\"a\\u002FSoftware-Engineering-Jobs-in-Egypt\"},{\"name\":\"OOP\",\"browsePage\":\"a\\u002FOOP-Jobs-in-Egypt\"},{\"name\":\"Programming\",\"browsePage\":\"a\\u002FProgramming-Jobs-in-Egypt\"},{\"name\":\"Mathematics\",\"browsePage\":\"a\\u002FMathematics-Jobs-in-Egypt\"},{\"name\":\"Mathematics Teaching\",\"browsePage\":\"a\\u002FMathematics-Teaching-Jobs-in-Egypt\"},{\"name\":\"Mathematics Curriculum\",\"browsePage\":\"a\\u002FMathematics-Curriculum-Jobs-in-Egypt\"},{\"name\":\"applied mathematics\",\"browsePage\":\"a\\u002FApplied-Mathematics-Jobs-in-Egypt\"},{\"name\":\"Information Technology (IT)\",\"browsePage\":\"a\\u002FInformation-Technology-IT-Jobs-in-Egypt\"},{\"name\":\"Software Development\",\"browsePage\":\"a\\u002FSoftware-Development-Jobs-in-Egypt\"}],\"careerLevel\":{\"id\":6,\"name\":\"Experienced\",\"hint\":\"Non-Manager\",\"browsePage\":\"a\\u002FExperienced-Jobs-in-Egypt\"},\"workplaceArrangement\":null,\"location\":{\"country\":{\"id\":56,\"name\":\"Egypt\",\"code\":\"EG\"},\"city\":{\"id\":1545,\"name\":\"Cairo\",\"latitude\":\"30.05075900\",\"longitude\":\"31.23383900\"},\"area\":{\"id\":38,\"name\":\"Nasr City\",\"latitude\":\"30.05578000\",\"longitude\":\"31.34616400\"}},\"workExperienceYears\":{\"min\":1,\"max\":null},\"vacancies\":3,\"workRoles\":[{\"id\":16,\"name\":\"IT\\u002FSoftware Development\",\"browsePage\":\"a\\u002FIT-Software-Development-Jobs-in-Egypt\"},{\"id\":36,\"name\":\"Engineering - Telecom\\u002FTechnology\",\"browsePage\":\"a\\u002FEngineering-Telecom-Technology-Jobs-in-Egypt\"},{\"id\":41,\"name\":\"Training\\u002FInstructor\",\"browsePage\":\"a\\u002FTraining-Instructor-Jobs-in-Egypt\"}],\"workTypes\":[{\"id\":1,\"name\":\"full_time\",\"displayedName\":\"Full Time\",\"browsePage\":\"a\\u002FFull-Time-Jobs-in-Egypt\"},{\"id\":2,\"name\":\"part_time\",\"displayedName\":\"Part Time\",\"browsePage\":\"a\\u002FPart-Time-Jobs-in-Egypt\"}],\"schools\":[],\"candidatePreferences\":{\"gender\":null,\"educationLevel\":{\"id\":14,\"name\":\"Bachelor's Degree\"},\"requiresBachelorDegree\":false,\"requiresGoodProfileMeter\":false,\"requiresAcademicExcellence\":false},\"hotScore\":1,\"logo\":null,\"slug\":\"s09wN1eMjfMY-Data-Science-Instructor-EpsilonAI-Cairo-Egypt\",\"uri\":\"jobs\\u002Fp\\u002Fs09wN1eMjfMY-Data-Science-Instructor-EpsilonAI-Cairo-Egypt\",\"views\":746,\"redirectUrl\":null,\"tempWorkingFromHome\":false,\"hideCompany\":false,\"hideGender\":false,\"hideSalary\":true,\"settings\":{\"isAutoPosted\":null,\"isHighlighted\":null,\"isFeatured\":null},\"postedAt\":\"09\\u002F23\\u002F2024 11:24:02\",\"expireAt\":\"11\\u002F22\\u002F2024 11:24:02\"},\"links\":{\"self\":\"https:\\u002F\\u002Fwuzzuf.net\\u002Fapi\\u002Fjob\\u002F86bea6d4-d6d3-41fa-af31-48d710b8db12\"},\"relationships\":{\"company\":{\"data\":{\"id\":\"65111\",\"type\":\"company\"}}}},\"8ae5f800-dd1a-44ea-a055-d7a474a3fe3c\":{\"id\":\"8ae5f800-dd1a-44ea-a055-d7a474a3fe3c\",\"type\":\"job\",\"attributes\":{\"jobType\":\"job\",\"applicationType\":\"internal\",\"status\":\"active\",\"title\":\"Machinist \\u002F Mechanical Engineer\",\"description\":\"\\u003Cul\\u003E\\u003Cli\\u003EPlease see Below machinist \\u002F mechanical engineer Vacancy Based in (Cyprus) this is full time position and ideally looking for person that wants long term Employment with friendly family run Business. you must have the following below &nbsp;\\u003C\\u002Fli\\u003E\\u003Cli\\u003EPerform a full lifecycle product development (design, develop, test prototypes, manufacture and implement)\\u003C\\u002Fli\\u003E\\u003Cli\\u003EDesign systems and components that meet needs and requirements\\u003C\\u002Fli\\u003E\\u003Cli\\u003EProduce outline designs\\u003C\\u002Fli\\u003E\\u003Cli\\u003EConduct experiments methodically, analyse data and interpret results\\u003C\\u002Fli\\u003E\\u003Cli\\u003ETest and evaluate theoretical designs\\u003C\\u002Fli\\u003E\\u003Cli\\u003EIdentify, formulate and produce effective solutions to emerging problems\\u003C\\u002Fli\\u003E\\u003Cli\\u003EEvaluate final product’s overall performance, reliability and safety\\u003C\\u002Fli\\u003E\\u003Cli\\u003EAlter and modify design to meet requirements and to eliminate malfunctions\\u003C\\u002Fli\\u003E\\u003Cli\\u003EEstimate budget and scope of project\\u003C\\u002Fli\\u003E\\u003Cli\\u003ESolicit observations from operators\\u003C\\u002Fli\\u003E\\u003Cli\\u003EPrepare product reports and documentation\\u003C\\u002Fli\\u003E\\u003Cli\\u003EEngage in lifelong learning and develop new theories or methods\\u003C\\u002Fli\\u003E\\u003C\\u002Ful\\u003E\",\"requirements\":\"\\u003Cul\\u003E\\u003Cli\\u003EProven Machining Experience at least 5 years + - Ability to Measure in Metric &amp; Imperial Sizes - Able to operate Manual Lathes &amp; Milling Machinery &amp; Grinding Machines, Must Be able to Read Engineering Drawings &amp; Able to draw.\\u003C\\u002Fli\\u003E\\u003Cli\\u003EAbility to carry out re-engineering of all types of machinery components\\u003C\\u002Fli\\u003E\\u003Cli\\u003EMust have Mechanical Experience with stripping down components and carrying out Fault finding &amp; repairing and re-assembly.\\u003C\\u002Fli\\u003E\\u003Cli\\u003ETraining can be provided where Necessary\\u003C\\u002Fli\\u003E\\u003Cli\\u003EHelp with Relocation &amp; Accomodation Provided &amp; visa Applications.\\u003C\\u002Fli\\u003E\\u003Cli\\u003EWorking Hours 8am until 4.30 pm monday-Friday &amp; saturday Morning 7.30am until 11.30am\\u003C\\u002Fli\\u003E\\u003C\\u002Ful\\u003E\",\"salary\":{\"min\":22000,\"max\":30000,\"currency\":{\"id\":47,\"name\":\"Euro\",\"code\":\"EUR\"},\"period\":{\"id\":4,\"name\":\"Per Month\"},\"additionalDetails\":\"Overtime Available\",\"isPaid\":true},\"keywords\":[{\"name\":\"Mechanical engineer\",\"browsePage\":\"a\\u002FMechanical-Engineer-Jobs-in-Cyprus\"},{\"name\":\"engineer\",\"browsePage\":\"a\\u002FEngineer-Jobs-in-Cyprus\"},{\"name\":\"Maintenance\",\"browsePage\":\"a\\u002FMaintenance-Jobs-in-Cyprus\"},{\"name\":\"Mechanical Engineering\",\"browsePage\":\"a\\u002FMechanical-Engineering-Jobs-in-Cyprus\"},{\"name\":\"Electrical Engineering\",\"browsePage\":\"a\\u002FElectrical-Engineering-Jobs-in-Cyprus\"},{\"name\":\"Assembly\",\"browsePage\":\"a\\u002FAssembly-Jobs-in-Cyprus\"},{\"name\":\"Drawings\",\"browsePage\":\"a\\u002FDrawings-Jobs-in-Cyprus\"},{\"name\":\"Engineering\",\"browsePage\":\"a\\u002FEngineering-Jobs-in-Cyprus\"},{\"name\":\"Machinery\",\"browsePage\":\"a\\u002FMachinery-Jobs-in-Cyprus\"},{\"name\":\"Machines\",\"browsePage\":\"a\\u002FMachines-Jobs-in-Cyprus\"},{\"name\":\"Mechanical\",\"browsePage\":\"a\\u002FMechanical-Jobs-in-Cyprus\"},{\"name\":\"Training\",\"browsePage\":\"a\\u002FTraining-Jobs-in-Cyprus\"},{\"name\":\"Repairing\",\"browsePage\":\"a\\u002FRepairing-Jobs-in-Cyprus\"}],\"careerLevel\":{\"id\":6,\"name\":\"Experienced\",\"hint\":\"Non-Manager\",\"browsePage\":\"a\\u002FExperienced-Jobs-in-Cyprus\"},\"workplaceArrangement\":{\"id\":1,\"displayedName\":\"On-site\",\"browsePage\":\"a\\u002FOn-Site-Jobs-in-Cyprus\"},\"location\":{\"country\":{\"id\":49,\"name\":\"Cyprus\",\"code\":\"CY\"},\"city\":{\"id\":1482,\"name\":\"Larnaca\",\"latitude\":\"34.92291000\",\"longitude\":\"33.62330000\"},\"area\":null},\"workExperienceYears\":{\"min\":5,\"max\":20},\"vacancies\":2,\"workRoles\":[{\"id\":37,\"name\":\"Engineering - Mechanical\\u002FElectrical\",\"browsePage\":\"a\\u002FEngineering-Mechanical-Electrical-Jobs-in-Cyprus\"}],\"workTypes\":[{\"id\":1,\"name\":\"full_time\",\"displayedName\":\"Full Time\",\"browsePage\":\"a\\u002FFull-Time-Jobs-in-Cyprus\"}],\"schools\":[],\"candidatePreferences\":{\"gender\":null,\"educationLevel\":{\"id\":14,\"name\":\"Bachelor's Degree\"},\"requiresBachelorDegree\":false,\"requiresGoodProfileMeter\":false,\"requiresAcademicExcellence\":false},\"hotScore\":0,\"logo\":null,\"slug\":\"eRVXqix8zgJQ-Machinist-Mechanical-Engineer-kpec-international-Larnaca-Cyprus\",\"uri\":\"jobs\\u002Fp\\u002FeRVXqix8zgJQ-Machinist-Mechanical-Engineer-kpec-international-Larnaca-Cyprus\",\"views\":273,\"redirectUrl\":null,\"tempWorkingFromHome\":false,\"hideCompany\":false,\"hideGender\":false,\"hideSalary\":false,\"settings\":{\"isAutoPosted\":true,\"isHighlighted\":null,\"isFeatured\":null},\"postedAt\":\"10\\u002F21\\u002F2024 12:40:49\",\"expireAt\":\"12\\u002F20\\u002F2024 12:40:49\"},\"links\":{\"self\":\"https:\\u002F\\u002Fwuzzuf.net\\u002Fapi\\u002Fjob\\u002F8ae5f800-dd1a-44ea-a055-d7a474a3fe3c\"},\"relationships\":{\"company\":{\"data\":{\"id\":\"114653\",\"type\":\"company\"}}}},\"a421346a-6808-4839-8f82-e42749e91f1b\":{\"id\":\"a421346a-6808-4839-8f82-e42749e91f1b\",\"type\":\"job\",\"attributes\":{\"jobType\":\"job\",\"applicationType\":\"internal\",\"status\":\"active\",\"title\":\"Senior AI Engineer\",\"description\":\"\\u003Cp\\u003EWe are looking for an Expert in Large Language Models with a strong background in \\u003Cstrong\\u003EMachine Learning (ML), Deep Learning (DL), and Natural Language Processing (NLP)\\u003C\\u002Fstrong\\u003E. The ideal candidate will have hands-on experience with \\u003Cstrong\\u003ELarge Language Models (LLMs)\\u003C\\u002Fstrong\\u003E, \\u003Cstrong\\u003EComputer Vision (CV)\\u003C\\u002Fstrong\\u003E, and delivering \\u003Cstrong\\u003EAI as a Service (AIaaS)\\u003C\\u002Fstrong\\u003E solutions. Proficiency in \\u003Cstrong\\u003EPython\\u003C\\u002Fstrong\\u003E is required to develop, implement, and optimize cutting-edge AI models for various applications.\\u003C\\u002Fp\\u003E\\u003Cp\\u003E\\u003Cstrong\\u003EKey Responsibilities:\\u003C\\u002Fstrong\\u003E\\u003C\\u002Fp\\u003E\\u003Cul\\u003E\\u003Cli\\u003EDevelop and fine-tune large-scale machine learning models, particularly LLMs.\\u003C\\u002Fli\\u003E\\u003Cli\\u003EDesign and deploy AI-driven solutions using deep learning techniques.\\u003C\\u002Fli\\u003E\\u003Cli\\u003EWork with NLP to create advanced language models and applications.\\u003C\\u002Fli\\u003E\\u003Cli\\u003ECollaborate on computer vision projects.\\u003C\\u002Fli\\u003E\\u003Cli\\u003EImplement AIaaS solutions tailored to client needs.\\u003C\\u002Fli\\u003E\\u003Cli\\u003EContinuously monitor and improve the performance of deployed AI models.\\u003C\\u002Fli\\u003E\\u003C\\u002Ful\\u003E\",\"requirements\":\"\\u003Cp\\u003E\\u003Cstrong\\u003EExperience:\\u003C\\u002Fstrong\\u003E\\u003C\\u002Fp\\u003E\\u003Cp\\u003E- 3 to 7 years of hands-on experience in developing and implementing solutions using Artificial Intelligence (AI), Machine Learning (ML), and Deep Learning (DL) technologies.\\u003C\\u002Fp\\u003E\\u003Cp\\u003E- Proven experience in developing and deploying ML\\u002FDL models in production environments.\\u003C\\u002Fp\\u003E\\u003Cp\\u003E\\u003Cstrong\\u003ETechnical Skills:\\u003C\\u002Fstrong\\u003E\\u003C\\u002Fp\\u003E\\u003Cp\\u003E- Proficiency in a programming language commonly used for large language models (LLM), such as Python.\\u003C\\u002Fp\\u003E\\u003Cp\\u003E- Experience with machine learning and deep learning frameworks and libraries (e.g., TensorFlow, PyTorch, Scikit-Learn).\\u003C\\u002Fp\\u003E\\u003Cp\\u003E- Strong understanding of algorithms and techniques related to NLP (Natural Language Processing), computer vision, and data classification and analysis.\\u003C\\u002Fp\\u003E\\u003Cp\\u003E- Ability to build predictive models, analyze performance, and fine-tune models for optimal results.\\u003C\\u002Fp\\u003E\\u003Cp\\u003E\\u003Cstrong\\u003ELearning and Adaptability:\\u003C\\u002Fstrong\\u003E\\u003C\\u002Fp\\u003E\\u003Cp\\u003E- Quick learner with the ability to stay up-to-date with the latest advancements and technologies in AI, ML, and DL fields.\\u003C\\u002Fp\\u003E\\u003Cp\\u003E- Capable of understanding and implementing new applications effectively to improve performance and solve complex problems.\\u003C\\u002Fp\\u003E\\u003Cp\\u003E\\u003Cstrong\\u003EEducational Qualifications:\\u003C\\u002Fstrong\\u003E\\u003C\\u002Fp\\u003E\\u003Cp\\u003E- Bachelor's degree in Computer Science, Software Engineering, or a related field. A Master’s degree is a plus.\\u003C\\u002Fp\\u003E\\u003Cp\\u003E- Professional certifications in AI or ML (e.g., Google AI Certification, Microsoft Azure AI Engineer) are an added advantage.\\u003C\\u002Fp\\u003E\",\"salary\":{\"min\":null,\"max\":null,\"currency\":null,\"period\":null,\"additionalDetails\":null,\"isPaid\":false},\"keywords\":[{\"name\":\"Information Technology (IT)\",\"browsePage\":\"a\\u002FInformation-Technology-IT-Jobs-in-Egypt\"},{\"name\":\"Artificial Intelligence (AI)\",\"browsePage\":\"a\\u002FArtificial-Intelligence-AI-Jobs-in-Egypt\"}],\"careerLevel\":{\"id\":6,\"name\":\"Experienced\",\"hint\":\"Non-Manager\",\"browsePage\":\"a\\u002FExperienced-Jobs-in-Egypt\"},\"workplaceArrangement\":{\"id\":3,\"displayedName\":\"Hybrid\",\"browsePage\":\"a\\u002FHybrid-Jobs-in-Egypt\"},\"location\":{\"country\":{\"id\":56,\"name\":\"Egypt\",\"code\":\"EG\"},\"city\":{\"id\":1545,\"name\":\"Cairo\",\"latitude\":\"30.05075900\",\"longitude\":\"31.23383900\"},\"area\":null},\"workExperienceYears\":{\"min\":3,\"max\":7},\"vacancies\":1,\"workRoles\":[{\"id\":16,\"name\":\"IT\\u002FSoftware Development\",\"browsePage\":\"a\\u002FIT-Software-Development-Jobs-in-Egypt\"}],\"workTypes\":[{\"id\":1,\"name\":\"full_time\",\"displayedName\":\"Full Time\",\"browsePage\":\"a\\u002FFull-Time-Jobs-in-Egypt\"}],\"schools\":[],\"candidatePreferences\":{\"gender\":null,\"educationLevel\":{\"id\":10,\"name\":\"Not Specified\"},\"requiresBachelorDegree\":false,\"requiresGoodProfileMeter\":false,\"requiresAcademicExcellence\":false},\"hotScore\":1,\"logo\":null,\"slug\":\"YqALuLpVSgcA-Senior-AI-Engineer-RMG-Cairo-Egypt\",\"uri\":\"jobs\\u002Fp\\u002FYqALuLpVSgcA-Senior-AI-Engineer-RMG-Cairo-Egypt\",\"views\":191,\"redirectUrl\":null,\"tempWorkingFromHome\":false,\"hideCompany\":false,\"hideGender\":false,\"hideSalary\":true,\"settings\":{\"isAutoPosted\":null,\"isHighlighted\":null,\"isFeatured\":null},\"postedAt\":\"10\\u002F29\\u002F2024 14:05:20\",\"expireAt\":\"12\\u002F28\\u002F2024 14:05:20\"},\"links\":{\"self\":\"https:\\u002F\\u002Fwuzzuf.net\\u002Fapi\\u002Fjob\\u002Fa421346a-6808-4839-8f82-e42749e91f1b\"},\"relationships\":{\"company\":{\"data\":{\"id\":\"77001\",\"type\":\"company\"}}}},\"6f40ece8-c3fb-4ac9-bc48-55bc2f554dd0\":{\"id\":\"6f40ece8-c3fb-4ac9-bc48-55bc2f554dd0\",\"type\":\"job\",\"attributes\":{\"jobType\":\"job\",\"applicationType\":\"internal\",\"status\":\"active\",\"title\":\"AWS Cloud Administrator\",\"description\":\"\\u003Cp\\u003EWe are seeking a highly skilled and experienced Senior AWS Administrator to manage our AWS servers, Docker instances, IAM securities, and monitoring. Experience with AWS services is mandatory. The ideal candidate will have approximately 7 years of experience in IT and 3 to 5 years of experience with AWS. \\u003C\\u002Fp\\u003E\\u003Cp\\u003E\\u003Cstrong\\u003EKey Responsibilities:\\u003C\\u002Fstrong\\u003E \\u003C\\u002Fp\\u003E\\u003Cul\\u003E\\u003Cli\\u003E\\u003Cstrong\\u003EAWS Server Management:\\u003C\\u002Fstrong\\u003E Oversee the setup, configuration, and maintenance of AWS servers, ensuring optimal performance, scalability, and security.\\u003C\\u002Fli\\u003E\\u003Cli\\u003E\\u003Cstrong\\u003EDocker Instances:\\u003C\\u002Fstrong\\u003E Manage and deploy Docker containers for various applications, ensuring efficient resource utilization and consistent performance.\\u003C\\u002Fli\\u003E\\u003Cli\\u003E\\u003Cstrong\\u003EIAM Securities:\\u003C\\u002Fstrong\\u003E Implement and manage AWS Identity and Access Management (IAM) policies to ensure secure and appropriate access to AWS resources.\\u003C\\u002Fli\\u003E\\u003Cli\\u003E\\u003Cstrong\\u003EMonitoring:\\u003C\\u002Fstrong\\u003E Set up and maintain monitoring solutions to proactively identify and address system issues, ensuring high availability and reliability of services.\\u003C\\u002Fli\\u003E\\u003Cli\\u003E\\u003Cstrong\\u003EAI data pipeline and model training: \\u003C\\u002Fstrong\\u003EManage data migration and transformation pipelines on AWS. Manage the infrastructure for AI model training and testing.\\u003C\\u002Fli\\u003E\\u003C\\u002Ful\\u003E\\u003Cp\\u003E\\u003Cimg src=\\\"data:image\\u002Fpng;base64,iVBORw0KGgoAAAANSUhEUgAAAAEAAAABCAYAAAAfFcSJAAAAAXNSR0IArs4c6QAAAARnQU1BAACxjwv8YQUAAAAJcEhZcwAADsMAAA7DAcdvqGQAAAANSURBVBhXY2BgYGAAAAAFAAGKM+MAAAAAAElFTkSuQmCC\\\" alt=\\\"Shape\\\"\\u003E\\u003C\\u002Fp\\u003E\",\"requirements\":\"\\u003Cp\\u003E\\u003Cstrong\\u003EPreferred Experience:\\u003C\\u002Fstrong\\u003E\\u003C\\u002Fp\\u003E\\u003Cul\\u003E\\u003Cli\\u003E\\u003Cstrong\\u003EPostgreSQL Databases:\\u003C\\u002Fstrong\\u003E Knowledge of managing and maintaining PostgreSQL databases, including performance tuning and backup strategies.\\u003C\\u002Fli\\u003E\\u003Cli\\u003E\\u003Cstrong\\u003EDistributed NoSQL Databases:\\u003C\\u002Fstrong\\u003E Experience with distributed NoSQL databases, ensuring data consistency and availability.\\u003C\\u002Fli\\u003E\\u003Cli\\u003E\\u003Cstrong\\u003ENodeJS Application Servers:\\u003C\\u002Fstrong\\u003E Understanding of deploying and managing NodeJS application servers, optimizing for performance and reliability.\\u003C\\u002Fli\\u003E\\u003Cli\\u003E\\u003Cstrong\\u003ETomcat Web Applications:\\u003C\\u002Fstrong\\u003E Experience in managing Tomcat web applications, including configuration, deployment, and performance tuning.\\u003C\\u002Fli\\u003E\\u003Cli\\u003E\\u003Cstrong\\u003EARCGIS Servers:\\u003C\\u002Fstrong\\u003E Familiarity with ARCGIS servers for managing and serving geographic information system &#40;GIS&#41; data.\\u003C\\u002Fli\\u003E\\u003Cli\\u003E\\u003Cstrong\\u003EMachine Learning Servers with Docker:\\u003C\\u002Fstrong\\u003E Experience in setting up and managing machine learning environments using Docker containers, ensuring efficient resource utilization.\\u003C\\u002Fli\\u003E\\u003C\\u002Ful\\u003E\\u003Cp\\u003E\\u003Cstrong\\u003EQualifications:\\u003C\\u002Fstrong\\u003E\\u003C\\u002Fp\\u003E\\u003Cul\\u003E\\u003Cli\\u003E\\u003Cstrong\\u003EEducation:\\u003C\\u002Fstrong\\u003E Bachelor’s degree in computer science, Information Technology, or a related field. Relevant certifications in AWS are a plus.\\u003C\\u002Fli\\u003E\\u003Cli\\u003E\\u003Cstrong\\u003EExperience:\\u003C\\u002Fstrong\\u003E Approximately 5-7 years of experience in IT, with 3 to 5 years specifically working with AWS services.\\u003C\\u002Fli\\u003E\\u003C\\u002Ful\\u003E\\u003Cp\\u003E\\u003Cstrong\\u003ESkills:\\u003C\\u002Fstrong\\u003E\\u003C\\u002Fp\\u003E\\u003Cul\\u003E\\u003Cli\\u003EProficiency in managing AWS infrastructure and services.\\u003C\\u002Fli\\u003E\\u003Cli\\u003EStrong understanding of Docker containerization and orchestration.\\u003C\\u002Fli\\u003E\\u003Cli\\u003EExpertise in IAM policies and security best practices.\\u003C\\u002Fli\\u003E\\u003Cli\\u003EProficient in monitoring and maintaining system performance.\\u003C\\u002Fli\\u003E\\u003Cli\\u003EFamiliarity with PostgreSQL and NoSQL databases.\\u003C\\u002Fli\\u003E\\u003Cli\\u003EExperience with NodeJS, Tomcat, and ARCGIS servers.\\u003C\\u002Fli\\u003E\\u003Cli\\u003EKnowledge of machine learning server setups using Docker.\\u003C\\u002Fli\\u003E\\u003C\\u002Ful\\u003E\\u003Cp\\u003E\\u003Cstrong\\u003EPersonal Attributes:\\u003C\\u002Fstrong\\u003E\\u003C\\u002Fp\\u003E\\u003Cul\\u003E\\u003Cli\\u003EExcellent problem-solving skills and the ability to troubleshoot complex issues.\\u003C\\u002Fli\\u003E\\u003Cli\\u003EStrong communication and collaboration skills.\\u003C\\u002Fli\\u003E\\u003Cli\\u003EAbility to work independently and as part of a team.\\u003C\\u002Fli\\u003E\\u003Cli\\u003EDetail-oriented with a focus on continuous improvement and innovation.\\u003C\\u002Fli\\u003E\\u003C\\u002Ful\\u003E\",\"salary\":{\"min\":20000,\"max\":35000,\"currency\":{\"id\":43,\"name\":\"Egyptian Pound\",\"code\":\"EGP\"},\"period\":{\"id\":4,\"name\":\"Per Month\"},\"additionalDetails\":\"Salary is based on experience. Bonus is negotiable.\",\"isPaid\":true},\"keywords\":[{\"name\":\"AWS\",\"browsePage\":\"a\\u002FAWS-Jobs-in-Egypt\"},{\"name\":\"Information Technology (IT)\",\"browsePage\":\"a\\u002FInformation-Technology-IT-Jobs-in-Egypt\"},{\"name\":\"System Admin\",\"browsePage\":\"a\\u002FSystem-Admin-Jobs-in-Egypt\"},{\"name\":\"System Administration\",\"browsePage\":\"a\\u002FSystem-Administration-Jobs-in-Egypt\"},{\"name\":\"PostgreSQL\",\"browsePage\":\"a\\u002FPostgreSQL-Jobs-in-Egypt\"},{\"name\":\"Docker\",\"browsePage\":\"a\\u002FDocker-Jobs-in-Egypt\"},{\"name\":\"Node.js\",\"browsePage\":\"a\\u002FNode-Js-Jobs-in-Egypt\"}],\"careerLevel\":{\"id\":6,\"name\":\"Experienced\",\"hint\":\"Non-Manager\",\"browsePage\":\"a\\u002FExperienced-Jobs-in-Egypt\"},\"workplaceArrangement\":{\"id\":1,\"displayedName\":\"On-site\",\"browsePage\":\"a\\u002FOn-Site-Jobs-in-Egypt\"},\"location\":{\"country\":{\"id\":56,\"name\":\"Egypt\",\"code\":\"EG\"},\"city\":{\"id\":1545,\"name\":\"Cairo\",\"latitude\":\"30.05075900\",\"longitude\":\"31.23383900\"},\"area\":{\"id\":17,\"name\":\"New Cairo\",\"latitude\":\"30.03330500\",\"longitude\":\"31.46239500\"}},\"workExperienceYears\":{\"min\":4,\"max\":7},\"vacancies\":1,\"workRoles\":[{\"id\":16,\"name\":\"IT\\u002FSoftware Development\",\"browsePage\":\"a\\u002FIT-Software-Development-Jobs-in-Egypt\"},{\"id\":36,\"name\":\"Engineering - Telecom\\u002FTechnology\",\"browsePage\":\"a\\u002FEngineering-Telecom-Technology-Jobs-in-Egypt\"}],\"workTypes\":[{\"id\":1,\"name\":\"full_time\",\"displayedName\":\"Full Time\",\"browsePage\":\"a\\u002FFull-Time-Jobs-in-Egypt\"}],\"schools\":[],\"candidatePreferences\":{\"gender\":null,\"educationLevel\":{\"id\":10,\"name\":\"Not Specified\"},\"requiresBachelorDegree\":false,\"requiresGoodProfileMeter\":false,\"requiresAcademicExcellence\":false},\"hotScore\":0,\"logo\":null,\"slug\":\"ThCwX7BRCFwL-AWS-Cloud-Administrator-Citylogix-ME-Cairo-Egypt\",\"uri\":\"jobs\\u002Fp\\u002FThCwX7BRCFwL-AWS-Cloud-Administrator-Citylogix-ME-Cairo-Egypt\",\"views\":169,\"redirectUrl\":null,\"tempWorkingFromHome\":false,\"hideCompany\":false,\"hideGender\":false,\"hideSalary\":false,\"settings\":{\"isAutoPosted\":null,\"isHighlighted\":null,\"isFeatured\":null},\"postedAt\":\"10\\u002F28\\u002F2024 17:32:24\",\"expireAt\":\"12\\u002F27\\u002F2024 17:32:24\"},\"links\":{\"self\":\"https:\\u002F\\u002Fwuzzuf.net\\u002Fapi\\u002Fjob\\u002F6f40ece8-c3fb-4ac9-bc48-55bc2f554dd0\"},\"relationships\":{\"company\":{\"data\":{\"id\":\"104747\",\"type\":\"company\"}}}},\"c445e999-c466-48e0-920f-3deca5638813\":{\"id\":\"c445e999-c466-48e0-920f-3deca5638813\",\"type\":\"job\",\"attributes\":{\"jobType\":\"job\",\"applicationType\":\"internal\",\"status\":\"active\",\"title\":\"AI Developer\",\"description\":\"\\u003Cp\\u003E\\u003Cstrong\\u003EPosition Overview:\\u003C\\u002Fstrong\\u003E We are seeking a talented AI Developer to join our innovative team. In this role, you will design, develop, and implement AI-driven solutions that enhance our products and services. You will work closely with data scientists and engineers to create scalable and efficient machine learning models.\\u003C\\u002Fp\\u003E\\u003Cp\\u003E\\u003Cstrong\\u003EKey Responsibilities:\\u003C\\u002Fstrong\\u003E\\u003C\\u002Fp\\u003E\\u003Cul\\u003E\\u003Cli\\u003EDevelop and deploy machine learning models and algorithms to solve complex problems.\\u003C\\u002Fli\\u003E\\u003Cli\\u003ECollaborate with cross-functional teams to identify and define AI opportunities within our products.\\u003C\\u002Fli\\u003E\\u003Cli\\u003EOptimize and enhance existing AI models for performance and accuracy.\\u003C\\u002Fli\\u003E\\u003Cli\\u003EConduct data preprocessing, feature engineering, and data analysis to support model development.\\u003C\\u002Fli\\u003E\\u003Cli\\u003EImplement AI solutions using frameworks and libraries such as TensorFlow, PyTorch, or scikit-learn.\\u003C\\u002Fli\\u003E\\u003Cli\\u003EStay up-to-date with the latest advancements in AI and machine learning technologies.\\u003C\\u002Fli\\u003E\\u003Cli\\u003EDocument and present technical solutions and findings to stakeholders.\\u003C\\u002Fli\\u003E\\u003C\\u002Ful\\u003E\",\"requirements\":\"\\u003Cul\\u003E\\u003Cli\\u003EBachelor’s or Master’s degree in Computer Science, Data Science, Artificial Intelligence, or a related field.\\u003C\\u002Fli\\u003E\\u003Cli\\u003EProven experience in developing AI or machine learning applications.\\u003C\\u002Fli\\u003E\\u003Cli\\u003EStrong programming skills in Python, R, or Java.\\u003C\\u002Fli\\u003E\\u003Cli\\u003EFamiliarity with machine learning algorithms and techniques, such as supervised and unsupervised learning, neural networks, and natural language processing.\\u003C\\u002Fli\\u003E\\u003Cli\\u003EExperience with data manipulation and analysis using tools like Pandas, NumPy, or SQL.\\u003C\\u002Fli\\u003E\\u003Cli\\u003EUnderstanding of cloud services (e.g., AWS, Google Cloud, Azure) for deploying AI solutions.\\u003C\\u002Fli\\u003E\\u003C\\u002Ful\\u003E\\u003Cp\\u003E\\u003Cstrong\\u003EPreferred Qualifications:\\u003C\\u002Fstrong\\u003E\\u003C\\u002Fp\\u003E\\u003Cul\\u003E\\u003Cli\\u003EExperience with deep learning frameworks (e.g., Keras, MXNet).\\u003C\\u002Fli\\u003E\\u003Cli\\u003EKnowledge of computer vision, natural language processing, or reinforcement learning.\\u003C\\u002Fli\\u003E\\u003Cli\\u003EFamiliarity with DevOps practices for machine learning deployments\\u003C\\u002Fli\\u003E\\u003C\\u002Ful\\u003E\",\"salary\":{\"min\":null,\"max\":null,\"currency\":null,\"period\":null,\"additionalDetails\":null,\"isPaid\":true},\"keywords\":[{\"name\":\"AI\",\"browsePage\":\"a\\u002FAI-Jobs-in-Egypt\"},{\"name\":\"Algorithms\",\"browsePage\":\"a\\u002FAlgorithms-Jobs-in-Egypt\"},{\"name\":\"Analysis\",\"browsePage\":\"a\\u002FAnalysis-Jobs-in-Egypt\"},{\"name\":\"Artificial Intelligence\",\"browsePage\":\"a\\u002FArtificial-Intelligence-Jobs-in-Egypt\"},{\"name\":\"AWS\",\"browsePage\":\"a\\u002FAWS-Jobs-in-Egypt\"},{\"name\":\"Computer Science\",\"browsePage\":\"a\\u002FComputer-Science-Jobs-in-Egypt\"},{\"name\":\"Information Technology (IT)\",\"browsePage\":\"a\\u002FInformation-Technology-IT-Jobs-in-Egypt\"},{\"name\":\"Programming\",\"browsePage\":\"a\\u002FProgramming-Jobs-in-Egypt\"},{\"name\":\"Python\",\"browsePage\":\"a\\u002FPython-Jobs-in-Egypt\"},{\"name\":\"Software Development\",\"browsePage\":\"a\\u002FSoftware-Development-Jobs-in-Egypt\"},{\"name\":\"SQL\",\"browsePage\":\"a\\u002FSQL-Jobs-in-Egypt\"},{\"name\":\"Java\",\"browsePage\":\"a\\u002FJava-Jobs-in-Egypt\"}],\"careerLevel\":{\"id\":6,\"name\":\"Experienced\",\"hint\":\"Non-Manager\",\"browsePage\":\"a\\u002FExperienced-Jobs-in-Egypt\"},\"workplaceArrangement\":{\"id\":3,\"displayedName\":\"Hybrid\",\"browsePage\":\"a\\u002FHybrid-Jobs-in-Egypt\"},\"location\":{\"country\":{\"id\":56,\"name\":\"Egypt\",\"code\":\"EG\"},\"city\":{\"id\":1545,\"name\":\"Cairo\",\"latitude\":\"30.05075900\",\"longitude\":\"31.23383900\"},\"area\":{\"id\":17,\"name\":\"New Cairo\",\"latitude\":\"30.03330500\",\"longitude\":\"31.46239500\"}},\"workExperienceYears\":{\"min\":2,\"max\":null},\"vacancies\":1,\"workRoles\":[{\"id\":16,\"name\":\"IT\\u002FSoftware Development\",\"browsePage\":\"a\\u002FIT-Software-Development-Jobs-in-Egypt\"}],\"workTypes\":[{\"id\":1,\"name\":\"full_time\",\"displayedName\":\"Full Time\",\"browsePage\":\"a\\u002FFull-Time-Jobs-in-Egypt\"}],\"schools\":[],\"candidatePreferences\":{\"gender\":null,\"educationLevel\":{\"id\":10,\"name\":\"Not Specified\"},\"requiresBachelorDegree\":false,\"requiresGoodProfileMeter\":false,\"requiresAcademicExcellence\":false},\"hotScore\":2,\"logo\":null,\"slug\":\"Rg4pXN5OhgKq-AI-Developer-Global-Brands-Cairo-Egypt\",\"uri\":\"jobs\\u002Fp\\u002FRg4pXN5OhgKq-AI-Developer-Global-Brands-Cairo-Egypt\",\"views\":976,\"redirectUrl\":null,\"tempWorkingFromHome\":false,\"hideCompany\":false,\"hideGender\":false,\"hideSalary\":true,\"settings\":{\"isAutoPosted\":null,\"isHighlighted\":null,\"isFeatured\":null},\"postedAt\":\"10\\u002F14\\u002F2024 11:48:35\",\"expireAt\":\"12\\u002F13\\u002F2024 11:48:35\"},\"links\":{\"self\":\"https:\\u002F\\u002Fwuzzuf.net\\u002Fapi\\u002Fjob\\u002Fc445e999-c466-48e0-920f-3deca5638813\"},\"relationships\":{\"company\":{\"data\":{\"id\":\"555\",\"type\":\"company\"}}}},\"33f13fa6-e209-41ef-b26c-d74782bb1ecb\":{\"id\":\"33f13fa6-e209-41ef-b26c-d74782bb1ecb\",\"type\":\"job\",\"attributes\":{\"jobType\":\"job\",\"applicationType\":\"internal\",\"status\":\"active\",\"title\":\"Data Scientist\",\"description\":\"\\u003Cul\\u003E\\u003Cli\\u003EData mining or extracting usable data from valuable data sources\\u003C\\u002Fli\\u003E\\u003Cli\\u003EUsing machine learning tools to select features, create and optimize classifiers\\u003C\\u002Fli\\u003E\\u003Cli\\u003ECarrying out the preprocessing of structured and unstructured data\\u003C\\u002Fli\\u003E\\u003Cli\\u003EEnhancing data collection procedures to include all relevant information for developing analytic systems\\u003C\\u002Fli\\u003E\\u003Cli\\u003EProcessing, cleansing, and validating the integrity of data to be used for analysis\\u003C\\u002Fli\\u003E\\u003Cli\\u003EAnalyzing large amounts of information to find patterns and solutions\\u003C\\u002Fli\\u003E\\u003Cli\\u003EDeveloping prediction systems and machine learning algorithms\\u003C\\u002Fli\\u003E\\u003Cli\\u003EPresenting results in a clear manner\\u003C\\u002Fli\\u003E\\u003Cli\\u003EPropose solutions and strategies to tackle business challenges\\u003C\\u002Fli\\u003E\\u003Cli\\u003ECollaborate with Business and IT teams\\u003C\\u002Fli\\u003E\\u003C\\u002Ful\\u003E\",\"requirements\":\"\\u003Cp\\u003EProgramming Skills – knowledge of statistical programming languages like R, Python, and database query languages like SQL, Hive, Pig is desirable. Familiarity with Scala, Java, or C++ is an added advantage.\\u003C\\u002Fp\\u003E\\u003Cp\\u003EStatistics – Good applied statistical skills, including knowledge of statistical tests, distributions, regression, maximum likelihood estimators, etc. Proficiency in statistics is essential for data-driven companies.\\u003C\\u002Fp\\u003E\\u003Cp\\u003EMachine Learning – good knowledge of machine learning methods like k-Nearest Neighbors, Naive Bayes, SVM, Decision Forests.\\u003C\\u002Fp\\u003E\\u003Cp\\u003EStrong Math Skills (Multivariable Calculus and Linear Algebra) - understanding the fundamentals of Multivariable Calculus and Linear Algebra is important as they form the basis of a lot of predictive performance or algorithm optimization techniques.\\u003C\\u002Fp\\u003E\\u003Cp\\u003EData Wrangling – proficiency in handling imperfections in data is an important aspect of a data scientist job description.\\u003C\\u002Fp\\u003E\\u003Cp\\u003EExperience with Data Visualization Tools like matplotlib , Tableau and must (\\u003Cstrong\\u003EMicrosoft Power BI)\\u003C\\u002Fstrong\\u003E that help to visually encode data\\u003C\\u002Fp\\u003E\\u003Cp\\u003EExcellent Communication Skills – it is incredibly important to describe findings to a technical and non-technical audience.\\u003C\\u002Fp\\u003E\\u003Cp\\u003EStrong Software Engineering Background\\u003C\\u002Fp\\u003E\\u003Cp\\u003EHands-on experience with data science tools\\u003C\\u002Fp\\u003E\\u003Cp\\u003EProblem-solving aptitude\\u003C\\u002Fp\\u003E\\u003Cp\\u003EAnalytical mind and great business sense\\u003C\\u002Fp\\u003E\\u003Cp\\u003EDegree in Computer Science, Engineering or relevant field is preferred\\u003C\\u002Fp\\u003E\\u003Cp\\u003EProven Experience as Data Analyst or Data Scientist\\u003C\\u002Fp\\u003E\",\"salary\":{\"min\":null,\"max\":null,\"currency\":null,\"period\":null,\"additionalDetails\":null,\"isPaid\":true},\"keywords\":[{\"name\":\"Computer Science\",\"browsePage\":\"a\\u002FComputer-Science-Jobs-in-Egypt\"},{\"name\":\"Data Science\",\"browsePage\":\"a\\u002FData-Science-Jobs-in-Egypt\"},{\"name\":\"data scientist\",\"browsePage\":\"a\\u002FData-Scientist-Jobs-in-Egypt\"},{\"name\":\"Engineering\",\"browsePage\":\"a\\u002FEngineering-Jobs-in-Egypt\"},{\"name\":\"Power BI\",\"browsePage\":\"a\\u002FPower-BI-Jobs-in-Egypt\"}],\"careerLevel\":{\"id\":6,\"name\":\"Experienced\",\"hint\":\"Non-Manager\",\"browsePage\":\"a\\u002FExperienced-Jobs-in-Egypt\"},\"workplaceArrangement\":{\"id\":3,\"displayedName\":\"Hybrid\",\"browsePage\":\"a\\u002FHybrid-Jobs-in-Egypt\"},\"location\":{\"country\":{\"id\":56,\"name\":\"Egypt\",\"code\":\"EG\"},\"city\":{\"id\":1550,\"name\":\"Giza\",\"latitude\":\"30.02063400\",\"longitude\":\"31.20886600\"},\"area\":null},\"workExperienceYears\":{\"min\":3,\"max\":5},\"vacancies\":1,\"workRoles\":[{\"id\":16,\"name\":\"IT\\u002FSoftware Development\",\"browsePage\":\"a\\u002FIT-Software-Development-Jobs-in-Egypt\"},{\"id\":26,\"name\":\"Analyst\\u002FResearch\",\"browsePage\":\"a\\u002FAnalyst-Research-Jobs-in-Egypt\"},{\"id\":36,\"name\":\"Engineering - Telecom\\u002FTechnology\",\"browsePage\":\"a\\u002FEngineering-Telecom-Technology-Jobs-in-Egypt\"}],\"workTypes\":[{\"id\":1,\"name\":\"full_time\",\"displayedName\":\"Full Time\",\"browsePage\":\"a\\u002FFull-Time-Jobs-in-Egypt\"}],\"schools\":[],\"candidatePreferences\":{\"gender\":null,\"educationLevel\":{\"id\":10,\"name\":\"Not Specified\"},\"requiresBachelorDegree\":false,\"requiresGoodProfileMeter\":false,\"requiresAcademicExcellence\":false},\"hotScore\":2,\"logo\":null,\"slug\":\"cFUfSM7fsxTu-Data-Scientist-WSC-Giza-Egypt\",\"uri\":\"jobs\\u002Fp\\u002FcFUfSM7fsxTu-Data-Scientist-WSC-Giza-Egypt\",\"views\":697,\"redirectUrl\":null,\"tempWorkingFromHome\":false,\"hideCompany\":false,\"hideGender\":false,\"hideSalary\":true,\"settings\":{\"isAutoPosted\":null,\"isHighlighted\":null,\"isFeatured\":null},\"postedAt\":\"10\\u002F16\\u002F2024 16:44:16\",\"expireAt\":\"12\\u002F15\\u002F2024 16:44:16\"},\"links\":{\"self\":\"https:\\u002F\\u002Fwuzzuf.net\\u002Fapi\\u002Fjob\\u002F33f13fa6-e209-41ef-b26c-d74782bb1ecb\"},\"relationships\":{\"company\":{\"data\":{\"id\":\"87343\",\"type\":\"company\"}}}},\"f2b3608e-b46a-4a17-acce-489372e8fa74\":{\"id\":\"f2b3608e-b46a-4a17-acce-489372e8fa74\",\"type\":\"job\",\"attributes\":{\"jobType\":\"job\",\"applicationType\":\"internal\",\"status\":\"active\",\"title\":\"Cnc sheet metal maintenance engineer\",\"description\":\"\\u003Cp\\u003EMaintenance Engineer for sheet metal CNC Machine Maintenance (Fiber laser, press brake, punch press, shear)\\u003C\\u002Fp\\u003E\\u003Cp\\u003E \\u003C\\u002Fp\\u003E\\u003Cp\\u003EPosition Overview:\\u003C\\u002Fp\\u003E\\u003Cp\\u003EAs an Mechanical Engineer specializing in sheet metal CNC Machine Maintenance, your primary responsibility will be to ensure the efficient operation, maintenance, and repair of computer numerical control (CNC) machines used in manufacturing processes. You will work closely with a team of engineers and technicians to fix, maintain and after sales services for several types of CNC machines.\\u003C\\u002Fp\\u003E\",\"requirements\":\"\\u003Cp\\u003E \\u003C\\u002Fp\\u003E\\u003Cp\\u003E1. CNC Machine Maintenance: Perform routine inspections and preventive maintenance on CNC machines to ensure optimal performance and minimize equipment failures. This includes assessing mechanical and hydraulic systems, troubleshooting, diagnosing and repairing mechanical malfunctions.\\u003C\\u002Fp\\u003E\\u003Cp\\u003E \\u003C\\u002Fp\\u003E\\u003Cp\\u003E2. Troubleshooting and Repairs: Investigate and resolve issues related to CNC machines promptly. Use diagnostic tools and knowledge of both mechanical & hydraulic systems to identify problems, repair or replace faulty components, and restore machines to operational status.\\u003C\\u002Fp\\u003E\\u003Cp\\u003E \\u003C\\u002Fp\\u003E\\u003Cp\\u003E3. Calibration and Alignment: Conduct regular calibration and alignment procedures on CNC machines to maintain accuracy and precision.\\u003C\\u002Fp\\u003E\\u003Cp\\u003E \\u003C\\u002Fp\\u003E\\u003Cp\\u003E4. Documentation and Reporting: Maintain accurate records of machine maintenance activities, including inspection reports, repairs performed, and replacement parts used.\\u003C\\u002Fp\\u003E\\u003Cp\\u003E \\u003C\\u002Fp\\u003E\\u003Cp\\u003E \\u003C\\u002Fp\\u003E\\u003Cp\\u003EQualifications and Requirements:\\u003C\\u002Fp\\u003E\\u003Cp\\u003E \\u003C\\u002Fp\\u003E\\u003Cp\\u003E- Bachelor's degree in Mechanical - Production Engineering or a related field.\\u003C\\u002Fp\\u003E\\u003Cp\\u003E \\u003C\\u002Fp\\u003E\\u003Cp\\u003E-Hard working\\u003C\\u002Fp\\u003E\\u003Cp\\u003E \\u003C\\u002Fp\\u003E\\u003Cp\\u003E- 3:5 Years experience in  maintenance of sheet metal CNC machines\\u003C\\u002Fp\\u003E\\u003Cp\\u003E \\u003C\\u002Fp\\u003E\\u003Cp\\u003E-Experience in CNC sheet metal machines (fiber laser, press brakes, punch press and shears) is a plus\\u003C\\u002Fp\\u003E\\u003Cp\\u003E- Proven experience in maintenance, troubleshooting, and repair of CNC machines or similar automated systems.\\u003C\\u002Fp\\u003E\\u003Cp\\u003E- Strong knowledge of mechanical and hydraulic systems, and components commonly used in CNC machines.\\u003C\\u002Fp\\u003E\\u003Cp\\u003E \\u003C\\u002Fp\\u003E\\u003Cp\\u003E- Familiarity with sheet metal CNC machines programming and operating controllers such as Delem, Esa, Cybelec, Fanuc.... Etc\\u003C\\u002Fp\\u003E\\u003Cp\\u003E- Excellent problem-solving skills and the ability to work under pressure to resolve urgent issues.\\u003C\\u002Fp\\u003E\\u003Cp\\u003E \\u003C\\u002Fp\\u003E\\u003Cp\\u003E- Effective communication skills\\u003C\\u002Fp\\u003E\\u003Cp\\u003E \\u003C\\u002Fp\\u003E\\u003Cp\\u003E- Ability to adapt to changing priorities and handle multiple tasks simultaneously.\\u003C\\u002Fp\\u003E\\u003Cp\\u003E \\u003C\\u002Fp\\u003E\\u003Cp\\u003E- Continuous learning mindset to stay updated with evolving technologies and industry trends.\\u003C\\u002Fp\\u003E\",\"salary\":{\"min\":null,\"max\":null,\"currency\":null,\"period\":null,\"additionalDetails\":null,\"isPaid\":true},\"keywords\":[{\"name\":\"Engineering\",\"browsePage\":\"a\\u002FEngineering-Jobs-in-Egypt\"},{\"name\":\"Sheet Metal\",\"browsePage\":\"a\\u002FSheet-Metal-Jobs-in-Egypt\"},{\"name\":\"Maintenance\",\"browsePage\":\"a\\u002FMaintenance-Jobs-in-Egypt\"},{\"name\":\"Mechanical Engineering\",\"browsePage\":\"a\\u002FMechanical-Engineering-Jobs-in-Egypt\"},{\"name\":\"Metal\",\"browsePage\":\"a\\u002FMetal-Jobs-in-Egypt\"},{\"name\":\"CNC\",\"browsePage\":\"a\\u002FCNC-Jobs-in-Egypt\"},{\"name\":\"Production\",\"browsePage\":\"a\\u002FProduction-Jobs-in-Egypt\"}],\"careerLevel\":{\"id\":6,\"name\":\"Experienced\",\"hint\":\"Non-Manager\",\"browsePage\":\"a\\u002FExperienced-Jobs-in-Egypt\"},\"workplaceArrangement\":{\"id\":1,\"displayedName\":\"On-site\",\"browsePage\":\"a\\u002FOn-Site-Jobs-in-Egypt\"},\"location\":{\"country\":{\"id\":56,\"name\":\"Egypt\",\"code\":\"EG\"},\"city\":{\"id\":1545,\"name\":\"Cairo\",\"latitude\":\"30.05075900\",\"longitude\":\"31.23383900\"},\"area\":{\"id\":20,\"name\":\"Maadi\",\"latitude\":\"29.95999400\",\"longitude\":\"31.27235900\"}},\"workExperienceYears\":{\"min\":3,\"max\":5},\"vacancies\":1,\"workRoles\":[{\"id\":20,\"name\":\"Manufacturing\\u002FProduction\",\"browsePage\":\"a\\u002FManufacturing-Production-Jobs-in-Egypt\"}],\"workTypes\":[{\"id\":1,\"name\":\"full_time\",\"displayedName\":\"Full Time\",\"browsePage\":\"a\\u002FFull-Time-Jobs-in-Egypt\"}],\"schools\":[],\"candidatePreferences\":{\"gender\":null,\"educationLevel\":{\"id\":10,\"name\":\"Not Specified\"},\"requiresBachelorDegree\":false,\"requiresGoodProfileMeter\":false,\"requiresAcademicExcellence\":false},\"hotScore\":0,\"logo\":null,\"slug\":\"kuJwvXnJzOKv-Cnc-sheet-metal-maintenance-engineer-Promech-Engineering-Cairo-Egypt\",\"uri\":\"jobs\\u002Fp\\u002FkuJwvXnJzOKv-Cnc-sheet-metal-maintenance-engineer-Promech-Engineering-Cairo-Egypt\",\"views\":124,\"redirectUrl\":null,\"tempWorkingFromHome\":false,\"hideCompany\":false,\"hideGender\":false,\"hideSalary\":true,\"settings\":{\"isAutoPosted\":null,\"isHighlighted\":null,\"isFeatured\":null},\"postedAt\":\"10\\u002F16\\u002F2024 16:17:06\",\"expireAt\":\"12\\u002F15\\u002F2024 16:17:06\"},\"links\":{\"self\":\"https:\\u002F\\u002Fwuzzuf.net\\u002Fapi\\u002Fjob\\u002Ff2b3608e-b46a-4a17-acce-489372e8fa74\"},\"relationships\":{\"company\":{\"data\":{\"id\":\"21525\",\"type\":\"company\"}}}},\"f460caaa-c72c-4afb-bf46-955c241dde45\":{\"id\":\"f460caaa-c72c-4afb-bf46-955c241dde45\",\"type\":\"job\",\"attributes\":{\"jobType\":\"job\",\"applicationType\":\"internal\",\"status\":\"active\",\"title\":\"Senior Full Stack\\u002F Embedded Engineering\",\"description\":\"\\u003Cp\\u003ERole Description\\u003C\\u002Fp\\u003E\\u003Cp\\u003EThis is a full-time role for a Full Stack Engineer at \\u003Cstrong\\u003EQudra Saudi Arabia\\u003C\\u002Fstrong\\u003E company &nbsp;located in \\u003Cstrong\\u003ERiyadh\\u003C\\u002Fstrong\\u003E. As a Full Stack Engineer in our KSA branch , you will be the all-in-one developer who is responsible for designing, developing, and maintaining web applications, desktop applications, mobile applications, and embedded applications. You will collaborate with cross-functional teams to gather requirements, architect scalable solutions, and ensure the seamless integration of front-end and back-end functionalities. This role requires strong problem-solving skills, attention to detail, and the ability to work in a fast-paced environment, understanding of data sheets and manuals .\\u003C\\u002Fp\\u003E\",\"requirements\":\"\\u003Cp\\u003EQualifications\\u003C\\u002Fp\\u003E\\u003Cp\\u003E&nbsp;\\u003C\\u002Fp\\u003E\\u003Cul\\u003E\\u003Cli\\u003EAs this job involves a lot of hardware-integration, you are required to have experience with hardware integration using SDKs (e.g. RFID, biometric devices, parking machines, ...etc)\\u003C\\u002Fli\\u003E\\u003Cli\\u003EYou must be very good in C#, Java and C++ languages.\\u003C\\u002Fli\\u003E\\u003Cli\\u003EExperience with front-end frameworks such as React or Angular, besides HTML, CSS, jQuery and JavaScript , Ajax, Web front-end .\\u003C\\u002Fli\\u003E\\u003Cli\\u003EExperience with back-end framework using C# ASP.net Core MVC (Razor and API), WinForms.\\u003C\\u002Fli\\u003E\\u003Cli\\u003EGood understanding for core topics, such as design patterns, OOP, multi-threading, and dependency injection.\\u003C\\u002Fli\\u003E\\u003Cli\\u003EKnow UI components such as Kendo UI or DevExpress.\\u003C\\u002Fli\\u003E\\u003Cli\\u003EKnowledge of database and SQL Server, T-SQL.\\u003C\\u002Fli\\u003E\\u003Cli\\u003EUnderstanding of RESTful APIs and SOAP\\u003C\\u002Fli\\u003E\\u003Cli\\u003EExperience with Desktop App Development (preferred with GTK)\\u003C\\u002Fli\\u003E\\u003Cli\\u003EExperience with Android App Development using Java\\u002Fkotlin (Native), Flutter, or Xamarin\\u003C\\u002Fli\\u003E\\u003Cli\\u003EGood background of embedded development (Arduino, ESP32, and Rockchip)\\u003C\\u002Fli\\u003E\\u003Cli\\u003EStrong knowledge of communication protocols (including TCP Sockets, UART, RS485, SPI, and I2C)\\u003C\\u002Fli\\u003E\\u003Cli\\u003EAbility to read the electronic schematics and identify the pins in microcontroller or CPU, and read datasheets.\\u003C\\u002Fli\\u003E\\u003Cli\\u003EGood background of the firmware generator \\\"buildroot\\\" configuration and building,, and knowledge of the Linux-kernel configuration, building, boot-loading and boot sequence, init process and busybox, init files, etc.\\u003C\\u002Fli\\u003E\\u003Cli\\u003E(Optional, preferred) Have AI\\u002Fdeep-learning experience with Python, TensorFlow, keras, and OpenCV. Know how to quantize the model, and model deployment for mobile\\u002Fembedded inference using the CPU\\u002FGPU\\u002FNPU.\\u003C\\u002Fli\\u003E\\u003Cli\\u003EExperience with version control systems (e.g., Git)\\u003C\\u002Fli\\u003E\\u003Cli\\u003EAbility to collaborate with cross-functional teams and communicate technical ideas effectively\\u003C\\u002Fli\\u003E\\u003Cli\\u003EBachelor's degree in Computer Science, Electronic \\u002F Telecommunication Engineering, or a related field.\\u003C\\u002Fli\\u003E\\u003Cli\\u003E5+ years of experience of Full Stack and\\u002For embedded development\\u003C\\u002Fli\\u003E\\u003Cli\\u003EMotivation and ability to learn new things quickly.\\u003C\\u002Fli\\u003E\\u003Cli\\u003EFluent Arabic speaker, with English skills\\u003C\\u002Fli\\u003E\\u003Cli\\u003E\\u003Cstrong\\u003ETransferable Saudi Iqama\\u003C\\u002Fstrong\\u003E\\u003C\\u002Fli\\u003E\\u003C\\u002Ful\\u003E\",\"salary\":{\"min\":null,\"max\":null,\"currency\":null,\"period\":null,\"additionalDetails\":null,\"isPaid\":true},\"keywords\":[{\"name\":\"Angular\",\"browsePage\":\"a\\u002FAngular-Jobs-in-Saudi-Arabia\"},{\"name\":\"Computer Science\",\"browsePage\":\"a\\u002FComputer-Science-Jobs-in-Saudi-Arabia\"},{\"name\":\"CSS\",\"browsePage\":\"a\\u002FCSS-Jobs-in-Saudi-Arabia\"},{\"name\":\"Full Stack\",\"browsePage\":\"a\\u002FFull-Stack-Jobs-in-Saudi-Arabia\"},{\"name\":\"JavaScript\",\"browsePage\":\"a\\u002FJavaScript-Jobs-in-Saudi-Arabia\"},{\"name\":\"jQuery\",\"browsePage\":\"a\\u002FJQuery-Jobs-in-Saudi-Arabia\"},{\"name\":\"MVC\",\"browsePage\":\"a\\u002FMVC-Jobs-in-Saudi-Arabia\"},{\"name\":\"Software Development\",\"browsePage\":\"a\\u002FSoftware-Development-Jobs-in-Saudi-Arabia\"},{\"name\":\"SQL\",\"browsePage\":\"a\\u002FSQL-Jobs-in-Saudi-Arabia\"},{\"name\":\"HTML\",\"browsePage\":\"a\\u002FHTML-Jobs-in-Saudi-Arabia\"},{\"name\":\"Engineering\",\"browsePage\":\"a\\u002FEngineering-Jobs-in-Saudi-Arabia\"},{\"name\":\"Information Technology (IT)\",\"browsePage\":\"a\\u002FInformation-Technology-IT-Jobs-in-Saudi-Arabia\"},{\"name\":\"Winforms\",\"browsePage\":\"a\\u002FWinforms-Jobs-in-Saudi-Arabia\"},{\"name\":\"hardware-integration\",\"browsePage\":\"a\\u002FHardware-Integration-Jobs-in-Saudi-Arabia\"},{\"name\":\"Python\",\"browsePage\":\"a\\u002FPython-Jobs-in-Saudi-Arabia\"},{\"name\":\"embedded inference\",\"browsePage\":\"a\\u002FEmbedded-Inference-Jobs-in-Saudi-Arabia\"},{\"name\":\"Arduino, ESP32, Rockchip\",\"browsePage\":\"a\\u002FArduino-ESP32-Rockchip-Jobs-in-Saudi-Arabia\"}],\"careerLevel\":{\"id\":6,\"name\":\"Experienced\",\"hint\":\"Non-Manager\",\"browsePage\":\"a\\u002FExperienced-Jobs-in-Saudi-Arabia\"},\"workplaceArrangement\":{\"id\":1,\"displayedName\":\"On-site\",\"browsePage\":\"a\\u002FOn-Site-Jobs-in-Saudi-Arabia\"},\"location\":{\"country\":{\"id\":163,\"name\":\"Saudi Arabia\",\"code\":\"SA\"},\"city\":{\"id\":4712,\"name\":\"Riyadh\",\"latitude\":\"24.63330000\",\"longitude\":\"46.71670000\"},\"area\":null},\"workExperienceYears\":{\"min\":5,\"max\":7},\"vacancies\":2,\"workRoles\":[{\"id\":16,\"name\":\"IT\\u002FSoftware Development\",\"browsePage\":\"a\\u002FIT-Software-Development-Jobs-in-Saudi-Arabia\"},{\"id\":36,\"name\":\"Engineering - Telecom\\u002FTechnology\",\"browsePage\":\"a\\u002FEngineering-Telecom-Technology-Jobs-in-Saudi-Arabia\"},{\"id\":39,\"name\":\"Engineering - Other\",\"browsePage\":\"a\\u002FEngineering-Jobs-in-Saudi-Arabia\"}],\"workTypes\":[{\"id\":1,\"name\":\"full_time\",\"displayedName\":\"Full Time\",\"browsePage\":\"a\\u002FFull-Time-Jobs-in-Saudi-Arabia\"}],\"schools\":[],\"candidatePreferences\":{\"gender\":null,\"educationLevel\":{\"id\":10,\"name\":\"Not Specified\"},\"requiresBachelorDegree\":false,\"requiresGoodProfileMeter\":false,\"requiresAcademicExcellence\":false},\"hotScore\":7,\"logo\":null,\"slug\":\"lewDJYtw0FhS-Senior-Full-Stack-Embedded-Engineering-Qudra-Tech-Riyadh-Saudi-Arabia\",\"uri\":\"jobs\\u002Fp\\u002FlewDJYtw0FhS-Senior-Full-Stack-Embedded-Engineering-Qudra-Tech-Riyadh-Saudi-Arabia\",\"views\":550,\"redirectUrl\":null,\"tempWorkingFromHome\":false,\"hideCompany\":false,\"hideGender\":false,\"hideSalary\":true,\"settings\":{\"isAutoPosted\":null,\"isHighlighted\":null,\"isFeatured\":true},\"postedAt\":\"11\\u002F07\\u002F2024 12:27:36\",\"expireAt\":\"01\\u002F06\\u002F2025 12:27:36\"},\"links\":{\"self\":\"https:\\u002F\\u002Fwuzzuf.net\\u002Fapi\\u002Fjob\\u002Ff460caaa-c72c-4afb-bf46-955c241dde45\"},\"relationships\":{\"company\":{\"data\":{\"id\":\"11913\",\"type\":\"company\"}}}},\"e3d2e02d-c58e-434e-b8fc-6501877dc043\":{\"id\":\"e3d2e02d-c58e-434e-b8fc-6501877dc043\",\"type\":\"job\",\"attributes\":{\"jobType\":\"job\",\"applicationType\":\"internal\",\"status\":\"active\",\"title\":\"Senior Software Engineer\",\"description\":\"\\u003Cp\\u003EWe are seeking an experienced Software Development Team Leader with a adequate background in AI and Machine Learning applied to Computer Vision and Natural Language Processing (NLP) problems. As a team leader, you will be responsible for leading a talented group of software developers and collaborating with cross-functional teams to deliver innovative solutions. This role requires proficiency in full stack software development, utilizing technologies such as Microsoft .Net Core, and Python.\\u003C\\u002Fp\\u003E\\u003Cp\\u003E\\u003Cstrong\\u003EResponsibilities:\\u003C\\u002Fstrong\\u003E\\u003C\\u002Fp\\u003E\\u003Cul\\u003E\\u003Cli\\u003ELead and manage a team of software developers, providing mentorship, guidance, and technical expertise to drive high-quality software development practices.\\u003C\\u002Fli\\u003E\\u003Cli\\u003ECollaborate with product managers, business development and other stakeholders to define project requirements and deliver AI and Machine Learning solutions that meet business objectives.\\u003C\\u002Fli\\u003E\\u003Cli\\u003EDrive the design, development, and implementation of software applications related to Computer Vision and NLP, leveraging AI and Machine Learning algorithms and frameworks.\\u003C\\u002Fli\\u003E\\u003Cli\\u003EEnsure the team follows best practices for software development, including code reviews, testing, and continuous integration\\u002Fcontinuous deployment (CI\\u002FCD) processes.\\u003C\\u002Fli\\u003E\\u003C\\u002Ful\\u003E\",\"requirements\":\"\\u003Cul\\u003E\\u003Cli\\u003EBachelor's degree in Computer Science, Engineering, or a related field.\\u003C\\u002Fli\\u003E\\u003Cli\\u003EGood expertise in AI and Machine Learning concepts, algorithms, and frameworks, specifically applied to Computer Vision and NLP problems.\\u003C\\u002Fli\\u003E\\u003Cli\\u003EProficiency in technologies such as \\u003Cstrong\\u003E.Net Core\\u003C\\u002Fstrong\\u003E, and Python with at least some exposure to Angular JavaScript Framework.\\u003C\\u002Fli\\u003E\\u003Cli\\u003EExperience with cloud platforms (e.g., AWS, Azure, or Google Cloud) and working in a DevOps environment is highly desirable.\\u003C\\u002Fli\\u003E\\u003Cli\\u003ESolid understanding of software development best practices, including code reviews, testing methodologies, and CI\\u002FCD processes.\\u003C\\u002Fli\\u003E\\u003Cli\\u003EExcellent problem-solving skills and ability to analyze complex technical challenges.\\u003C\\u002Fli\\u003E\\u003Cli\\u003EStrong communication and leadership skills.\\u003C\\u002Fli\\u003E\\u003C\\u002Ful\\u003E\",\"salary\":{\"min\":null,\"max\":null,\"currency\":null,\"period\":null,\"additionalDetails\":null,\"isPaid\":true},\"keywords\":[{\"name\":\"Software Development\",\"browsePage\":\"a\\u002FSoftware-Development-Jobs-in-Egypt\"},{\"name\":\"Software\",\"browsePage\":\"a\\u002FSoftware-Jobs-in-Egypt\"},{\"name\":\"Software Engineering\",\"browsePage\":\"a\\u002FSoftware-Engineering-Jobs-in-Egypt\"},{\"name\":\"Computer Science\",\"browsePage\":\"a\\u002FComputer-Science-Jobs-in-Egypt\"},{\"name\":\"Development\",\"browsePage\":\"a\\u002FDevelopment-Jobs-in-Egypt\"},{\"name\":\"Python\",\"browsePage\":\"a\\u002FPython-Jobs-in-Egypt\"},{\"name\":\"Angular\",\"browsePage\":\"a\\u002FAngular-Jobs-in-Egypt\"},{\"name\":\"AWS\",\"browsePage\":\"a\\u002FAWS-Jobs-in-Egypt\"},{\"name\":\"Engineering\",\"browsePage\":\"a\\u002FEngineering-Jobs-in-Egypt\"},{\"name\":\"Information Technology (IT)\",\"browsePage\":\"a\\u002FInformation-Technology-IT-Jobs-in-Egypt\"},{\"name\":\"Testing\",\"browsePage\":\"a\\u002FTesting-Jobs-in-Egypt\"},{\"name\":\"Troubleshooting\",\"browsePage\":\"a\\u002FTroubleshooting-Jobs-in-Egypt\"},{\"name\":\".Net Framework\",\"browsePage\":\"a\\u002FNet-Framework-Jobs-in-Egypt\"}],\"careerLevel\":{\"id\":6,\"name\":\"Experienced\",\"hint\":\"Non-Manager\",\"browsePage\":\"a\\u002FExperienced-Jobs-in-Egypt\"},\"workplaceArrangement\":{\"id\":3,\"displayedName\":\"Hybrid\",\"browsePage\":\"a\\u002FHybrid-Jobs-in-Egypt\"},\"location\":{\"country\":{\"id\":56,\"name\":\"Egypt\",\"code\":\"EG\"},\"city\":{\"id\":1545,\"name\":\"Cairo\",\"latitude\":\"30.05075900\",\"longitude\":\"31.23383900\"},\"area\":{\"id\":38,\"name\":\"Nasr City\",\"latitude\":\"30.05578000\",\"longitude\":\"31.34616400\"}},\"workExperienceYears\":{\"min\":4,\"max\":7},\"vacancies\":1,\"workRoles\":[{\"id\":16,\"name\":\"IT\\u002FSoftware Development\",\"browsePage\":\"a\\u002FIT-Software-Development-Jobs-in-Egypt\"},{\"id\":36,\"name\":\"Engineering - Telecom\\u002FTechnology\",\"browsePage\":\"a\\u002FEngineering-Telecom-Technology-Jobs-in-Egypt\"}],\"workTypes\":[{\"id\":1,\"name\":\"full_time\",\"displayedName\":\"Full Time\",\"browsePage\":\"a\\u002FFull-Time-Jobs-in-Egypt\"}],\"schools\":[],\"candidatePreferences\":{\"gender\":null,\"educationLevel\":{\"id\":14,\"name\":\"Bachelor's Degree\"},\"requiresBachelorDegree\":false,\"requiresGoodProfileMeter\":false,\"requiresAcademicExcellence\":false},\"hotScore\":0,\"logo\":null,\"slug\":\"cZDpapTkgWEK-Senior-Software-Engineer-JRM-for-Communications-Cairo-Egypt\",\"uri\":\"jobs\\u002Fp\\u002FcZDpapTkgWEK-Senior-Software-Engineer-JRM-for-Communications-Cairo-Egypt\",\"views\":363,\"redirectUrl\":null,\"tempWorkingFromHome\":false,\"hideCompany\":false,\"hideGender\":false,\"hideSalary\":true,\"settings\":{\"isAutoPosted\":null,\"isHighlighted\":null,\"isFeatured\":null},\"postedAt\":\"10\\u002F21\\u002F2024 13:49:49\",\"expireAt\":\"12\\u002F20\\u002F2024 13:49:49\"},\"links\":{\"self\":\"https:\\u002F\\u002Fwuzzuf.net\\u002Fapi\\u002Fjob\\u002Fe3d2e02d-c58e-434e-b8fc-6501877dc043\"},\"relationships\":{\"company\":{\"data\":{\"id\":\"920\",\"type\":\"company\"}}}},\"aa73be46-6fab-4218-a48f-9c58554631c6\":{\"id\":\"aa73be46-6fab-4218-a48f-9c58554631c6\",\"type\":\"job\",\"attributes\":{\"jobType\":\"job\",\"applicationType\":\"internal\",\"status\":\"active\",\"title\":\"AI Developer\",\"description\":\"\\u003Cp\\u003EWe are seeking a dedicated artificial intelligence engineer to join our growing company. You will work as part of a diverse team of software engineers, data scientists, and machine learning (ML) experts to develop new models and algorithms to apply artificial intelligence to solve real-world problems and change the future.\\u003C\\u002Fp\\u003E\\u003Cp\\u003EAs an artificial intelligence engineer, you will be expected to have a keen interest in artificial intelligence, machine learning, and staying current with the latest developments in a rapidly changing field. Your duties will include collecting and analyzing data sets to identify patterns and develop predictive algorithmic models.\\u003C\\u002Fp\\u003E\\u003Cp\\u003EResponsibilities\\u003C\\u002Fp\\u003E\\u003Cp\\u003EBelow are some of the responsibilities an artificial intelligence, machine learning engineer is expected to assume in their position:&nbsp;\\u003C\\u002Fp\\u003E\\u003Cp\\u003E1- Design and develop AI models to meet project requirements\\u003Cbr\\u003EConvert AI\\u002FML models into APIs that other developers can use\\u003Cbr\\u003E2- Perform statistical analysis on big data sets\\u003Cbr\\u003E3- Manage project infrastructure and the development of AI models and projects\\u003Cbr\\u003E4- Work with other machine learning engineers, data engineers, and AI engineers to develop machine learning models\\u003C\\u002Fp\\u003E\",\"requirements\":\"\\u003Cp\\u003E1- Bachelor’s degree or several years of experience in computer science, data science, software development, or another related field; a master’s degree is recommended\\u003Cbr\\u003E2- Solid understanding of common programming languages used in AI, such as Python, Java, C++, and R\\u003Cbr\\u003E3- Advanced knowledge of statistical and algorithmic models as well as of fundamental mathematical concepts, such as linear algebra and probability\\u003Cbr\\u003E4- Experience working with large data sets and writing efficient code capable of processing large data streams at speed\\u003Cbr\\u003E5- Familiarity with deep learning and machine learning algorithms and the use of popular AI\\u002FML frameworks\\u003Cbr\\u003E6- Excellent communication skills\\u003C\\u002Fp\\u003E\",\"salary\":{\"min\":null,\"max\":null,\"currency\":null,\"period\":null,\"additionalDetails\":null,\"isPaid\":true},\"keywords\":[{\"name\":\"Algorithms\",\"browsePage\":\"a\\u002FAlgorithms-Jobs-in-Egypt\"},{\"name\":\"AI\",\"browsePage\":\"a\\u002FAI-Jobs-in-Egypt\"},{\"name\":\"C\",\"browsePage\":\"a\\u002FC-Jobs-in-Egypt\"},{\"name\":\"Computer Science\",\"browsePage\":\"a\\u002FComputer-Science-Jobs-in-Egypt\"},{\"name\":\"Data Science\",\"browsePage\":\"a\\u002FData-Science-Jobs-in-Egypt\"},{\"name\":\"Development\",\"browsePage\":\"a\\u002FDevelopment-Jobs-in-Egypt\"},{\"name\":\"Information Technology (IT)\",\"browsePage\":\"a\\u002FInformation-Technology-IT-Jobs-in-Egypt\"},{\"name\":\"Java\",\"browsePage\":\"a\\u002FJava-Jobs-in-Egypt\"},{\"name\":\"Programming\",\"browsePage\":\"a\\u002FProgramming-Jobs-in-Egypt\"},{\"name\":\"Python\",\"browsePage\":\"a\\u002FPython-Jobs-in-Egypt\"},{\"name\":\"Software\",\"browsePage\":\"a\\u002FSoftware-Jobs-in-Egypt\"},{\"name\":\"Software Development\",\"browsePage\":\"a\\u002FSoftware-Development-Jobs-in-Egypt\"}],\"careerLevel\":{\"id\":6,\"name\":\"Experienced\",\"hint\":\"Non-Manager\",\"browsePage\":\"a\\u002FExperienced-Jobs-in-Egypt\"},\"workplaceArrangement\":{\"id\":1,\"displayedName\":\"On-site\",\"browsePage\":\"a\\u002FOn-Site-Jobs-in-Egypt\"},\"location\":{\"country\":{\"id\":56,\"name\":\"Egypt\",\"code\":\"EG\"},\"city\":{\"id\":1545,\"name\":\"Cairo\",\"latitude\":\"30.05075900\",\"longitude\":\"31.23383900\"},\"area\":{\"id\":20,\"name\":\"Maadi\",\"latitude\":\"29.95999400\",\"longitude\":\"31.27235900\"}},\"workExperienceYears\":{\"min\":1,\"max\":null},\"vacancies\":1,\"workRoles\":[{\"id\":16,\"name\":\"IT\\u002FSoftware Development\",\"browsePage\":\"a\\u002FIT-Software-Development-Jobs-in-Egypt\"},{\"id\":26,\"name\":\"Analyst\\u002FResearch\",\"browsePage\":\"a\\u002FAnalyst-Research-Jobs-in-Egypt\"},{\"id\":36,\"name\":\"Engineering - Telecom\\u002FTechnology\",\"browsePage\":\"a\\u002FEngineering-Telecom-Technology-Jobs-in-Egypt\"}],\"workTypes\":[{\"id\":1,\"name\":\"full_time\",\"displayedName\":\"Full Time\",\"browsePage\":\"a\\u002FFull-Time-Jobs-in-Egypt\"}],\"schools\":[],\"candidatePreferences\":{\"gender\":null,\"educationLevel\":{\"id\":10,\"name\":\"Not Specified\"},\"requiresBachelorDegree\":false,\"requiresGoodProfileMeter\":false,\"requiresAcademicExcellence\":false},\"hotScore\":2,\"logo\":null,\"slug\":\"LDwe3rtVsisi-AI-Developer-Creative-Motion-Cairo-Egypt\",\"uri\":\"jobs\\u002Fp\\u002FLDwe3rtVsisi-AI-Developer-Creative-Motion-Cairo-Egypt\",\"views\":1055,\"redirectUrl\":null,\"tempWorkingFromHome\":false,\"hideCompany\":false,\"hideGender\":false,\"hideSalary\":true,\"settings\":{\"isAutoPosted\":null,\"isHighlighted\":null,\"isFeatured\":null},\"postedAt\":\"10\\u002F13\\u002F2024 15:33:01\",\"expireAt\":\"12\\u002F12\\u002F2024 15:33:01\"},\"links\":{\"self\":\"https:\\u002F\\u002Fwuzzuf.net\\u002Fapi\\u002Fjob\\u002Faa73be46-6fab-4218-a48f-9c58554631c6\"},\"relationships\":{\"company\":{\"data\":{\"id\":\"18862\",\"type\":\"company\"}}}},\"a26a6a5d-1913-41a3-82bf-8fc6b613fde1\":{\"id\":\"a26a6a5d-1913-41a3-82bf-8fc6b613fde1\",\"type\":\"job\",\"attributes\":{\"jobType\":\"job\",\"applicationType\":\"internal\",\"status\":\"active\",\"title\":\"Senior Software Engineer\",\"description\":\"\\u003Cp\\u003EWe are seeking a talented and passionate Senior Software Engineer. Our office is in Ritzy Mall, Sheikh Zayed, Giza. We're flexible about work hours – sometimes you can work from home if you need to.\\u003C\\u002Fp\\u003E\\u003Cp\\u003EEnigma is an IT Agency specialized in algorithms and artificial intelligence. We implement software and create hardware to execute complicated tasks saving time and money for our clients.\\u003C\\u002Fp\\u003E\\u003Cp\\u003EOur office is a fun open space full of creativity and collaboration. We believe in building a culture of continuous learning, open communication, and mutual respect.\\u003C\\u002Fp\\u003E\\u003Cp\\u003EWe have been growing rapidly during the past months, with our automation solutions being used in the automotive industry . We're proud of the tangible impact our solutions have made in saving thousands of hours for our clients.&nbsp;\\u003C\\u002Fp\\u003E\\u003Cp\\u003E&nbsp;\\u003Cbr\\u003E\\u003Cstrong\\u003EResponsibilities:&nbsp;\\u003C\\u002Fstrong\\u003E\\u003C\\u002Fp\\u003E\\u003Cul\\u003E\\u003Cli\\u003EDevelop and maintain software applications, focusing on writing clean, efficient, and scalable code.\\u003C\\u002Fli\\u003E\\u003Cli\\u003ECollaborate with engineers to design and implement efficient and reliable software solutions.\\u003C\\u002Fli\\u003E\\u003Cli\\u003EWrite algorithms and optimize existing algorithms for performance and efficiency.\\u003C\\u002Fli\\u003E\\u003Cli\\u003ETroubleshoot and debug complex software issues and provide timely resolutions.\\u003C\\u002Fli\\u003E\\u003Cli\\u003EStay updated with the latest industry trends and propose innovation solutions.\\u003C\\u002Fli\\u003E\\u003C\\u002Ful\\u003E\\u003Cp\\u003E&nbsp;\\u003C\\u002Fp\\u003E\\u003Cp\\u003E\\u003Cstrong\\u003E&nbsp;Interview Process:&nbsp;\\u003C\\u002Fstrong\\u003E\\u003C\\u002Fp\\u003E\\u003Cul\\u003E\\u003Cli\\u003EWe chat online to get to know you\\u003C\\u002Fli\\u003E\\u003Cli\\u003EYou show us how you write code via a pair-programming session\\u003C\\u002Fli\\u003E\\u003Cli\\u003EWe meet in person and see how you design algorithms (Paid)\\u003C\\u002Fli\\u003E\\u003Cli\\u003EYou go through a whole working day to see how you'd really do the job (Paid)\\u003C\\u002Fli\\u003E\\u003C\\u002Ful\\u003E\",\"requirements\":\"\\u003Cul\\u003E\\u003Cli\\u003EStrong proficiency in programming languages and a deep understanding of their concepts and principles. \\u003C\\u002Fli\\u003E\\u003Cli\\u003EKnowledge of database systems and experience in designing efficient database structures. \\u003C\\u002Fli\\u003E\\u003Cli\\u003EStrong problem-solving skills and the ability to write efficient and optimized code. \\u003C\\u002Fli\\u003E\\u003Cli\\u003EFamiliarity with cloud platforms and services. \\u003C\\u002Fli\\u003E\\u003Cli\\u003EExperience with performance profiling and optimization techniques. \\u003C\\u002Fli\\u003E\\u003Cli\\u003EExcellent communication and collaboration skills. \\u003C\\u002Fli\\u003E\\u003C\\u002Ful\\u003E\\u003Cp\\u003E \\u003C\\u002Fp\\u003E\\u003Cp\\u003EGood to have:\\u003C\\u002Fp\\u003E\\u003Cul\\u003E\\u003Cli\\u003EExperience with distributed systems and microservices architecture. \\u003C\\u002Fli\\u003E\\u003Cli\\u003EKnowledge of machine learning frameworks and algorithms. \\u003C\\u002Fli\\u003E\\u003Cli\\u003EPython and TypeScript. \\u003C\\u002Fli\\u003E\\u003C\\u002Ful\\u003E\",\"salary\":{\"min\":100000,\"max\":200000,\"currency\":{\"id\":43,\"name\":\"Egyptian Pound\",\"code\":\"EGP\"},\"period\":{\"id\":4,\"name\":\"Per Month\"},\"additionalDetails\":null,\"isPaid\":true},\"keywords\":[{\"name\":\"Algorithms\",\"browsePage\":\"a\\u002FAlgorithms-Jobs-in-Egypt\"},{\"name\":\"Computer Science\",\"browsePage\":\"a\\u002FComputer-Science-Jobs-in-Egypt\"},{\"name\":\"Information Technology (IT)\",\"browsePage\":\"a\\u002FInformation-Technology-IT-Jobs-in-Egypt\"},{\"name\":\"Software Engineering\",\"browsePage\":\"a\\u002FSoftware-Engineering-Jobs-in-Egypt\"},{\"name\":\"Software Development\",\"browsePage\":\"a\\u002FSoftware-Development-Jobs-in-Egypt\"},{\"name\":\"Programming\",\"browsePage\":\"a\\u002FProgramming-Jobs-in-Egypt\"},{\"name\":\"Python\",\"browsePage\":\"a\\u002FPython-Jobs-in-Egypt\"},{\"name\":\"Database\",\"browsePage\":\"a\\u002FDatabase-Jobs-in-Egypt\"},{\"name\":\"React\",\"browsePage\":\"a\\u002FReact-Jobs-in-Egypt\"},{\"name\":\"JavaScript\",\"browsePage\":\"a\\u002FJavaScript-Jobs-in-Egypt\"},{\"name\":\"Typescript\",\"browsePage\":\"a\\u002FTypescript-Jobs-in-Egypt\"},{\"name\":\"Communication\",\"browsePage\":\"a\\u002FCommunication-Jobs-in-Egypt\"},{\"name\":\"Frameworks\",\"browsePage\":\"a\\u002FFrameworks-Jobs-in-Egypt\"},{\"name\":\"Cloud\",\"browsePage\":\"a\\u002FCloud-Jobs-in-Egypt\"},{\"name\":\"Microservices\",\"browsePage\":\"a\\u002FMicroservices-Jobs-in-Egypt\"}],\"careerLevel\":{\"id\":6,\"name\":\"Experienced\",\"hint\":\"Non-Manager\",\"browsePage\":\"a\\u002FExperienced-Jobs-in-Egypt\"},\"workplaceArrangement\":{\"id\":1,\"displayedName\":\"On-site\",\"browsePage\":\"a\\u002FOn-Site-Jobs-in-Egypt\"},\"location\":{\"country\":{\"id\":56,\"name\":\"Egypt\",\"code\":\"EG\"},\"city\":{\"id\":1550,\"name\":\"Giza\",\"latitude\":\"30.02063400\",\"longitude\":\"31.20886600\"},\"area\":{\"id\":79,\"name\":\"Sheikh Zayed\",\"latitude\":\"30.02000000\",\"longitude\":\"31.00000000\"}},\"workExperienceYears\":{\"min\":5,\"max\":10},\"vacancies\":1,\"workRoles\":[{\"id\":16,\"name\":\"IT\\u002FSoftware Development\",\"browsePage\":\"a\\u002FIT-Software-Development-Jobs-in-Egypt\"},{\"id\":36,\"name\":\"Engineering - Telecom\\u002FTechnology\",\"browsePage\":\"a\\u002FEngineering-Telecom-Technology-Jobs-in-Egypt\"}],\"workTypes\":[{\"id\":1,\"name\":\"full_time\",\"displayedName\":\"Full Time\",\"browsePage\":\"a\\u002FFull-Time-Jobs-in-Egypt\"}],\"schools\":[],\"candidatePreferences\":{\"gender\":null,\"educationLevel\":{\"id\":14,\"name\":\"Bachelor's Degree\"},\"requiresBachelorDegree\":false,\"requiresGoodProfileMeter\":false,\"requiresAcademicExcellence\":false},\"hotScore\":2,\"logo\":null,\"slug\":\"OTX39A8cjk58-Senior-Software-Engineer-Enigma-Giza-Egypt\",\"uri\":\"jobs\\u002Fp\\u002FOTX39A8cjk58-Senior-Software-Engineer-Enigma-Giza-Egypt\",\"views\":411,\"redirectUrl\":null,\"tempWorkingFromHome\":false,\"hideCompany\":false,\"hideGender\":false,\"hideSalary\":false,\"settings\":{\"isAutoPosted\":null,\"isHighlighted\":null,\"isFeatured\":null},\"postedAt\":\"11\\u002F07\\u002F2024 13:16:15\",\"expireAt\":\"01\\u002F06\\u002F2025 13:16:15\"},\"links\":{\"self\":\"https:\\u002F\\u002Fwuzzuf.net\\u002Fapi\\u002Fjob\\u002Fa26a6a5d-1913-41a3-82bf-8fc6b613fde1\"},\"relationships\":{\"company\":{\"data\":{\"id\":\"110718\",\"type\":\"company\"}}}},\"63bb3d68-b799-4287-be34-3c8a0c07ca0e\":{\"id\":\"63bb3d68-b799-4287-be34-3c8a0c07ca0e\",\"type\":\"job\",\"attributes\":{\"jobType\":\"job\",\"applicationType\":\"internal\",\"status\":\"active\",\"title\":\"Planning Section Head\",\"description\":\"\\u003Cp\\u003E\\u003Cstrong\\u003E1. Streamline and Delegate:\\u003C\\u002Fstrong\\u003E\\u003C\\u002Fp\\u003E\\u003Cul\\u003E\\u003Cli\\u003E\\u003Cstrong\\u003EIdentify core responsibilities:\\u003C\\u002Fstrong\\u003E Focus on the most critical tasks that directly impact demand forecasting, production planning, and inventory control.\\u003C\\u002Fli\\u003E\\u003Cli\\u003E\\u003Cstrong\\u003EDelegate effectively:\\u003C\\u002Fstrong\\u003E Assign routine tasks and responsibilities to team members, empowering them to take ownership.\\u003C\\u002Fli\\u003E\\u003Cli\\u003E\\u003Cstrong\\u003EEliminate redundancies:\\u003C\\u002Fstrong\\u003E Analyze workflows and eliminate any unnecessary steps or duplicated efforts.\\u003C\\u002Fli\\u003E\\u003C\\u002Ful\\u003E\\u003Cp\\u003E\\u003Cstrong\\u003E2. Automate Processes:\\u003C\\u002Fstrong\\u003E\\u003C\\u002Fp\\u003E\\u003Cul\\u003E\\u003Cli\\u003E\\u003Cstrong\\u003EImplement demand forecasting software:\\u003C\\u002Fstrong\\u003E Utilize tools that automate data analysis and forecasting, reducing manual effort and improving accuracy.\\u003C\\u002Fli\\u003E\\u003Cli\\u003E\\u003Cstrong\\u003EIntegrate systems:\\u003C\\u002Fstrong\\u003E Connect ERP, MRP, and other systems to automate data flow and reduce manual data entry.\\u003C\\u002Fli\\u003E\\u003Cli\\u003E\\u003Cstrong\\u003EAutomate reporting:\\u003C\\u002Fstrong\\u003E Utilize reporting tools to generate regular reports automatically, freeing up time for analysis and decision-making.\\u003C\\u002Fli\\u003E\\u003C\\u002Ful\\u003E\\u003Cp\\u003E\\u003Cstrong\\u003E3. Leverage Technology:\\u003C\\u002Fstrong\\u003E\\u003C\\u002Fp\\u003E\\u003Cul\\u003E\\u003Cli\\u003E\\u003Cstrong\\u003EAdopt advanced planning systems:\\u003C\\u002Fstrong\\u003E Implement advanced planning and scheduling (APS) software to optimize production plans and resource allocation.\\u003C\\u002Fli\\u003E\\u003Cli\\u003E\\u003Cstrong\\u003EUtilize data analytics:\\u003C\\u002Fstrong\\u003E Leverage data analytics to gain insights into demand patterns, production bottlenecks, and inventory trends.\\u003C\\u002Fli\\u003E\\u003Cli\\u003E\\u003Cstrong\\u003EExplore AI and machine learning:\\u003C\\u002Fstrong\\u003E Consider using AI and machine learning algorithms to improve forecasting accuracy and optimize inventory levels.\\u003C\\u002Fli\\u003E\\u003C\\u002Ful\\u003E\\u003Cp\\u003E\\u003Cstrong\\u003E4. Optimize Collaboration:\\u003C\\u002Fstrong\\u003E\\u003C\\u002Fp\\u003E\\u003Cul\\u003E\\u003Cli\\u003E\\u003Cstrong\\u003EImprove communication channels:\\u003C\\u002Fstrong\\u003E Establish clear communication channels with internal and external stakeholders to ensure efficient information flow.\\u003C\\u002Fli\\u003E\\u003Cli\\u003E\\u003Cstrong\\u003EFoster collaboration:\\u003C\\u002Fstrong\\u003E Encourage collaboration between departments and with suppliers to improve demand visibility and supply chain coordination.\\u003C\\u002Fli\\u003E\\u003Cli\\u003E\\u003Cstrong\\u003EUse collaborative platforms:\\u003C\\u002Fstrong\\u003E Utilize online platforms and tools to facilitate communication and information sharing.\\u003C\\u002Fli\\u003E\\u003C\\u002Ful\\u003E\\u003Cp\\u003E\\u003Cstrong\\u003E5. Focus on Continuous Improvement:\\u003C\\u002Fstrong\\u003E\\u003C\\u002Fp\\u003E\\u003Cul\\u003E\\u003Cli\\u003E\\u003Cstrong\\u003ERegularly review processes:\\u003C\\u002Fstrong\\u003E Periodically review and assess the effectiveness of demand and production planning processes.\\u003C\\u002Fli\\u003E\\u003Cli\\u003E\\u003Cstrong\\u003EIdentify areas for improvement:\\u003C\\u002Fstrong\\u003E Continuously seek opportunities to streamline workflows, automate tasks, and optimize resource utilization.\\u003C\\u002Fli\\u003E\\u003Cli\\u003E\\u003Cstrong\\u003EImplement best practices:\\u003C\\u002Fstrong\\u003E Stay abreast of industry best practices and implement relevant improvements to enhance efficiency.\\u003C\\u002Fli\\u003E\\u003C\\u002Ful\\u003E\",\"requirements\":\"\\u003Cp\\u003E&nbsp;\\u003C\\u002Fp\\u003E\\u003Cul\\u003E\\u003Cli\\u003EExcellent knowledge of production planning and quality control principles\\u003C\\u002Fli\\u003E\\u003Cli\\u003EExperience in MRP (Manufacturing resource planning)\\u003C\\u002Fli\\u003E\\u003Cli\\u003EWorking knowledge of MS Office and ERP systems\\u003C\\u002Fli\\u003E\\u003Cli\\u003EGood at math and statistics\\u003C\\u002Fli\\u003E\\u003Cli\\u003EStrong organizational and problem-solving skills\\u003C\\u002Fli\\u003E\\u003Cli\\u003EExcellent communication abilities\\u003C\\u002Fli\\u003E\\u003C\\u002Ful\\u003E\",\"salary\":{\"min\":null,\"max\":null,\"currency\":null,\"period\":null,\"additionalDetails\":null,\"isPaid\":true},\"keywords\":[{\"name\":\"Demand Planning\",\"browsePage\":\"a\\u002FDemand-Planning-Jobs-in-Egypt\"},{\"name\":\"Supply Chain\",\"browsePage\":\"a\\u002FSupply-Chain-Jobs-in-Egypt\"},{\"name\":\"Supply Planning\",\"browsePage\":\"a\\u002FSupply-Planning-Jobs-in-Egypt\"},{\"name\":\"MRP\",\"browsePage\":\"a\\u002FMRP-Jobs-in-Egypt\"},{\"name\":\"Material Requirements Planning\",\"browsePage\":\"a\\u002FMaterial-Requirements-Planning-Jobs-in-Egypt\"}],\"careerLevel\":{\"id\":7,\"name\":\"Manager\",\"hint\":null,\"browsePage\":\"a\\u002FManager-Jobs-in-Egypt\"},\"workplaceArrangement\":{\"id\":1,\"displayedName\":\"On-site\",\"browsePage\":\"a\\u002FOn-Site-Jobs-in-Egypt\"},\"location\":{\"country\":{\"id\":56,\"name\":\"Egypt\",\"code\":\"EG\"},\"city\":{\"id\":1545,\"name\":\"Cairo\",\"latitude\":\"30.05075900\",\"longitude\":\"31.23383900\"},\"area\":null},\"workExperienceYears\":{\"min\":5,\"max\":10},\"vacancies\":1,\"workRoles\":[{\"id\":18,\"name\":\"Logistics\\u002FSupply Chain\",\"browsePage\":\"a\\u002FLogistics-Supply-Chain-Jobs-in-Egypt\"},{\"id\":20,\"name\":\"Manufacturing\\u002FProduction\",\"browsePage\":\"a\\u002FManufacturing-Production-Jobs-in-Egypt\"}],\"workTypes\":[{\"id\":1,\"name\":\"full_time\",\"displayedName\":\"Full Time\",\"browsePage\":\"a\\u002FFull-Time-Jobs-in-Egypt\"}],\"schools\":[],\"candidatePreferences\":{\"gender\":null,\"educationLevel\":{\"id\":14,\"name\":\"Bachelor's Degree\"},\"requiresBachelorDegree\":false,\"requiresGoodProfileMeter\":false,\"requiresAcademicExcellence\":false},\"hotScore\":3,\"logo\":null,\"slug\":\"nl9wbMXtgFkU-Planning-Section-Head-Elsewedy-industries-Cairo-Egypt\",\"uri\":\"jobs\\u002Fp\\u002Fnl9wbMXtgFkU-Planning-Section-Head-Elsewedy-industries-Cairo-Egypt\",\"views\":510,\"redirectUrl\":null,\"tempWorkingFromHome\":false,\"hideCompany\":false,\"hideGender\":false,\"hideSalary\":true,\"settings\":{\"isAutoPosted\":null,\"isHighlighted\":null,\"isFeatured\":null},\"postedAt\":\"10\\u002F30\\u002F2024 13:02:23\",\"expireAt\":\"12\\u002F29\\u002F2024 13:02:23\"},\"links\":{\"self\":\"https:\\u002F\\u002Fwuzzuf.net\\u002Fapi\\u002Fjob\\u002F63bb3d68-b799-4287-be34-3c8a0c07ca0e\"},\"relationships\":{\"company\":{\"data\":{\"id\":\"49892\",\"type\":\"company\"}}}},\"48c9a9ea-e96b-44cc-8b1b-9e6bf71d2f6e\":{\"id\":\"48c9a9ea-e96b-44cc-8b1b-9e6bf71d2f6e\",\"type\":\"job\",\"attributes\":{\"jobType\":\"job\",\"applicationType\":\"internal\",\"status\":\"active\",\"title\":\"Full Stack Developer – PHP Laravel \\u002F React Native\",\"description\":\"\\u003Cp\\u003E\\u003Cstrong\\u003EDuties and Responsibilities:\\u003C\\u002Fstrong\\u003E\\u003C\\u002Fp\\u003E\\u003Cul\\u003E\\u003Cli\\u003EDesign, Develop, and Maintain cutting edge web-based PHP Applications, Restful APIs and Web Services.\\u003C\\u002Fli\\u003E\\u003Cli\\u003EHigh level of knowledge of PHP, Laravel Framework and Laravel Livewire.\\u003C\\u002Fli\\u003E\\u003Cli\\u003EGood Experience in iOS\\u002FAndroid React Native  Framework.\\u003C\\u002Fli\\u003E\\u003Cli\\u003EGood Experience in UX \\u002F UI, Responsive Web Design\\u003C\\u002Fli\\u003E\\u003Cli\\u003EFull Understanding of the MVC pattern.\\u003C\\u002Fli\\u003E\\u003Cli\\u003EHands on experience with SQL schema design, SOLID principles, REST API design.\\u003C\\u002Fli\\u003E\\u003Cli\\u003ESoftware testing (PHPUnit, PHPSpec, Behat).\\u003C\\u002Fli\\u003E\\u003Cli\\u003EEnsure HTML, CSS, and shared JavaScript is valid and consistent across applications.\\u003C\\u002Fli\\u003E\\u003Cli\\u003EPrepare and maintain all applications utilizing standard development tools.\\u003C\\u002Fli\\u003E\\u003Cli\\u003ELead the entire web application development life cycle right from concept stage to delivery and post launch support.\\u003C\\u002Fli\\u003E\\u003Cli\\u003EConvey effectively with all task progress, evaluations, suggestions, schedules along with technical and process issues.\\u003C\\u002Fli\\u003E\\u003Cli\\u003EDocument the development process, architecture, and standard components.\\u003C\\u002Fli\\u003E\\u003Cli\\u003ECoordinate with co-developers and keeps project manager well informed of the status of development effort and serves as liaison between development staff and project manager.\\u003C\\u002Fli\\u003E\\u003Cli\\u003EKeep abreast of new trends and Security best practices in web development.\\u003C\\u002Fli\\u003E\\u003C\\u002Ful\\u003E\\u003Cp\\u003E \\u003C\\u002Fp\\u003E\",\"requirements\":\"\\u003Cp\\u003E\\u003Cstrong\\u003EExperience&nbsp;\\u003C\\u002Fstrong\\u003E\\u003C\\u002Fp\\u003E\\u003Cul\\u003E\\u003Cli\\u003E2-4 years of Experience as&nbsp; a PHP Full Stack Developer.\\u003C\\u002Fli\\u003E\\u003Cli\\u003EBS degree in Computer Science, Engineering, MIS or similar relevant field.\\u003C\\u002Fli\\u003E\\u003Cli\\u003EBackend Technologies:\\u003Cul\\u003E\\u003Cli\\u003EPHP 8+, Laravel Framework.\\u003C\\u002Fli\\u003E\\u003Cli\\u003ERESTful API (REST), SOAP (JSON and XML data formats).\\u003C\\u002Fli\\u003E\\u003C\\u002Ful\\u003E\\u003C\\u002Fli\\u003E\\u003C\\u002Ful\\u003E\\u003Cp\\u003E&nbsp;\\u003C\\u002Fp\\u003E\\u003Cul\\u003E\\u003Cli\\u003EFrontend:\\u003Cul\\u003E\\u003Cli\\u003ELaravel Blade templating engine.\\u003C\\u002Fli\\u003E\\u003Cli\\u003ELaravel Livewire.\\u003C\\u002Fli\\u003E\\u003Cli\\u003EReact Native Mobile Cross-platform Framework\\u003C\\u002Fli\\u003E\\u003Cli\\u003EHTML, CSS, JavaScript.\\u003C\\u002Fli\\u003E\\u003Cli\\u003ETailwind CSS, Bootstrap, etc.\\u003C\\u002Fli\\u003E\\u003Cli\\u003ESASS, LESS, or other CSS frameworks.\\u003C\\u002Fli\\u003E\\u003Cli\\u003EUX, UI, Responsive Web Design.\\u003C\\u002Fli\\u003E\\u003C\\u002Ful\\u003E\\u003C\\u002Fli\\u003E\\u003C\\u002Ful\\u003E\\u003Cp\\u003E&nbsp;\\u003C\\u002Fp\\u003E\\u003Cul\\u003E\\u003Cli\\u003EDatabase:\\u003Cul\\u003E\\u003Cli\\u003EMySQL, Oracle, or any (RDBMS).\\u003C\\u002Fli\\u003E\\u003Cli\\u003EGoogle Firebase.\\u003C\\u002Fli\\u003E\\u003C\\u002Ful\\u003E\\u003C\\u002Fli\\u003E\\u003C\\u002Ful\\u003E\\u003Cp\\u003E&nbsp;\\u003C\\u002Fp\\u003E\\u003Cul\\u003E\\u003Cli\\u003EGeneral Knowledge:\\u003Cul\\u003E\\u003Cli\\u003EExperience using Git or similar version control software.\\u003C\\u002Fli\\u003E\\u003Cli\\u003EPayment Gateways.\\u003C\\u002Fli\\u003E\\u003Cli\\u003EExcellent coding standards and disciplined documenting of code.\\u003C\\u002Fli\\u003E\\u003Cli\\u003EKnowledge in Python, Machine Learning is a plus.\\u003C\\u002Fli\\u003E\\u003C\\u002Ful\\u003E\\u003C\\u002Fli\\u003E\\u003C\\u002Ful\\u003E\",\"salary\":{\"min\":null,\"max\":null,\"currency\":null,\"period\":null,\"additionalDetails\":null,\"isPaid\":true},\"keywords\":[{\"name\":\"Full Stack\",\"browsePage\":\"a\\u002FFull-Stack-Jobs-in-Egypt\"},{\"name\":\"Full Stack Developer\",\"browsePage\":\"a\\u002FFull-Stack-Developer-Jobs-in-Egypt\"},{\"name\":\"Information Technology (IT)\",\"browsePage\":\"a\\u002FInformation-Technology-IT-Jobs-in-Egypt\"},{\"name\":\"PHP Laravel\",\"browsePage\":\"a\\u002FPHP-Laravel-Jobs-in-Egypt\"},{\"name\":\"Laravel\",\"browsePage\":\"a\\u002FLaravel-Jobs-in-Egypt\"},{\"name\":\"Computer Science\",\"browsePage\":\"a\\u002FComputer-Science-Jobs-in-Egypt\"},{\"name\":\"developer\",\"browsePage\":\"a\\u002FDeveloper-Jobs-in-Egypt\"},{\"name\":\"Stack\",\"browsePage\":\"a\\u002FStack-Jobs-in-Egypt\"}],\"careerLevel\":{\"id\":6,\"name\":\"Experienced\",\"hint\":\"Non-Manager\",\"browsePage\":\"a\\u002FExperienced-Jobs-in-Egypt\"},\"workplaceArrangement\":{\"id\":1,\"displayedName\":\"On-site\",\"browsePage\":\"a\\u002FOn-Site-Jobs-in-Egypt\"},\"location\":{\"country\":{\"id\":56,\"name\":\"Egypt\",\"code\":\"EG\"},\"city\":{\"id\":1545,\"name\":\"Cairo\",\"latitude\":\"30.05075900\",\"longitude\":\"31.23383900\"},\"area\":{\"id\":17,\"name\":\"New Cairo\",\"latitude\":\"30.03330500\",\"longitude\":\"31.46239500\"}},\"workExperienceYears\":{\"min\":2,\"max\":4},\"vacancies\":1,\"workRoles\":[{\"id\":16,\"name\":\"IT\\u002FSoftware Development\",\"browsePage\":\"a\\u002FIT-Software-Development-Jobs-in-Egypt\"}],\"workTypes\":[{\"id\":1,\"name\":\"full_time\",\"displayedName\":\"Full Time\",\"browsePage\":\"a\\u002FFull-Time-Jobs-in-Egypt\"}],\"schools\":[],\"candidatePreferences\":{\"gender\":null,\"educationLevel\":{\"id\":14,\"name\":\"Bachelor's Degree\"},\"requiresBachelorDegree\":false,\"requiresGoodProfileMeter\":false,\"requiresAcademicExcellence\":false},\"hotScore\":1,\"logo\":null,\"slug\":\"BI1PTjXzwCx9-Full-Stack-Developer-–-PHP-Laravel-React-Native-GIG-Egypt-Cairo-Egypt\",\"uri\":\"jobs\\u002Fp\\u002FBI1PTjXzwCx9-Full-Stack-Developer-–-PHP-Laravel-React-Native-GIG-Egypt-Cairo-Egypt\",\"views\":466,\"redirectUrl\":null,\"tempWorkingFromHome\":false,\"hideCompany\":false,\"hideGender\":false,\"hideSalary\":true,\"settings\":{\"isAutoPosted\":null,\"isHighlighted\":null,\"isFeatured\":null},\"postedAt\":\"10\\u002F22\\u002F2024 16:27:28\",\"expireAt\":\"12\\u002F21\\u002F2024 16:27:28\"},\"links\":{\"self\":\"https:\\u002F\\u002Fwuzzuf.net\\u002Fapi\\u002Fjob\\u002F48c9a9ea-e96b-44cc-8b1b-9e6bf71d2f6e\"},\"relationships\":{\"company\":{\"data\":{\"id\":\"114172\",\"type\":\"company\"}}}},\"5063524b-2de5-41f5-bb24-80d989aaeffd\":{\"id\":\"5063524b-2de5-41f5-bb24-80d989aaeffd\",\"type\":\"job\",\"attributes\":{\"jobType\":\"job\",\"applicationType\":\"internal\",\"status\":\"active\",\"title\":\"Technical assistant\",\"description\":\"\\u003Ch3\\u003E&nbsp;\\u003C\\u002Fh3\\u003E\\u003Cp\\u003E\\u003Cstrong\\u003EObjective:\\u003C\\u002Fstrong\\u003E The Technical Assistant will support Director by managing technical and operational tasks associated with digital marketing, e-commerce platforms, and startup projects, with a strong emphasis on leveraging AI tools\\u003C\\u002Fp\\u003E\\u003Cp\\u003E\\u003Cstrong\\u003EKey Responsibilities:\\u003C\\u002Fstrong\\u003E\\u003C\\u002Fp\\u003E\\u003Col\\u003E\\u003Cli\\u003E\\u003Cstrong\\u003ETechnical Coordination:\\u003C\\u002Fstrong\\u003E Assist with the setup, management, and troubleshooting of digital marketing tools, e-commerce platforms, and AI-driven applications.\\u003C\\u002Fli\\u003E\\u003Cli\\u003E\\u003Cstrong\\u003EAI and Automation:\\u003C\\u002Fstrong\\u003E Implement and manage AI tools such as chatbots, analytics platforms, and automated marketing solutions.\\u003C\\u002Fli\\u003E\\u003Cli\\u003E\\u003Cstrong\\u003EData Analysis:\\u003C\\u002Fstrong\\u003E Utilize AI tools for gathering and analyzing large datasets to support strategic decisions and campaign optimization.\\u003C\\u002Fli\\u003E\\u003Cli\\u003E\\u003Cstrong\\u003EDocumentation and Reporting:\\u003C\\u002Fstrong\\u003E Maintain accurate records and prepare detailed reports on technology performance, project progress, and operational efficiency.\\u003C\\u002Fli\\u003E\\u003Cli\\u003E\\u003Cstrong\\u003EProject Management Support:\\u003C\\u002Fstrong\\u003E Coordinate project timelines, liaise with stakeholders, and ensure compliance with tech-driven project deliverables.\\u003C\\u002Fli\\u003E\\u003Cli\\u003E\\u003Cstrong\\u003EResearch and Development:\\u003C\\u002Fstrong\\u003E Stay abreast of advancements in AI, machine learning, and cloud technologies to continuously improve business operations.\\u003C\\u002Fli\\u003E\\u003C\\u002Fol\\u003E\\u003Cp\\u003E&nbsp;\\u003C\\u002Fp\\u003E\\u003Cp\\u003E&nbsp;\\u003C\\u002Fp\\u003E\\u003Cp\\u003E&nbsp;\\u003C\\u002Fp\\u003E\",\"requirements\":\"\\u003Cul\\u003E\\u003Cli\\u003EProficiency in digital marketing and e-commerce platforms, with a strong focus on AI and cloud technologies.\\u003C\\u002Fli\\u003E\\u003Cli\\u003EExperience with AI tools like chatbots, predictive analytics, and automated systems.\\u003C\\u002Fli\\u003E\\u003Cli\\u003EStrong analytical skills and proficiency in handling and interpreting data.\\u003C\\u002Fli\\u003E\\u003Cli\\u003EAbility to manage multiple tasks simultaneously and prioritize effectively.\\u003C\\u002Fli\\u003E\\u003Cli\\u003EIndependent problem-solving skills and a proactive approach.\\u003C\\u002Fli\\u003E\\u003Cli\\u003EExcellent communication skills.\\u003C\\u002Fli\\u003E\\u003C\\u002Ful\\u003E\",\"salary\":{\"min\":null,\"max\":null,\"currency\":null,\"period\":null,\"additionalDetails\":null,\"isPaid\":true},\"keywords\":[{\"name\":\"Technical Assistance\",\"browsePage\":\"a\\u002FTechnical-Assistance-Jobs-in-Egypt\"},{\"name\":\"Marketing\",\"browsePage\":\"a\\u002FMarketing-Jobs-in-Egypt\"}],\"careerLevel\":{\"id\":5,\"name\":\"Entry Level\",\"hint\":\"Junior Level \\u002F Fresh Grad\",\"browsePage\":\"a\\u002FEntry-Level-Jobs-in-Egypt\"},\"workplaceArrangement\":{\"id\":3,\"displayedName\":\"Hybrid\",\"browsePage\":\"a\\u002FHybrid-Jobs-in-Egypt\"},\"location\":{\"country\":{\"id\":56,\"name\":\"Egypt\",\"code\":\"EG\"},\"city\":{\"id\":1545,\"name\":\"Cairo\",\"latitude\":\"30.05075900\",\"longitude\":\"31.23383900\"},\"area\":null},\"workExperienceYears\":{\"min\":1,\"max\":7},\"vacancies\":1,\"workRoles\":[{\"id\":3,\"name\":\"Administration\",\"browsePage\":\"a\\u002FAdministration-Jobs-in-Egypt\"}],\"workTypes\":[{\"id\":1,\"name\":\"full_time\",\"displayedName\":\"Full Time\",\"browsePage\":\"a\\u002FFull-Time-Jobs-in-Egypt\"}],\"schools\":[],\"candidatePreferences\":{\"gender\":null,\"educationLevel\":{\"id\":10,\"name\":\"Not Specified\"},\"requiresBachelorDegree\":false,\"requiresGoodProfileMeter\":false,\"requiresAcademicExcellence\":false},\"hotScore\":1,\"logo\":null,\"slug\":\"x81jX7bIHcBK-Technical-assistant-Cairo-Egypt\",\"uri\":\"jobs\\u002Fp\\u002Fx81jX7bIHcBK-Technical-assistant-Cairo-Egypt\",\"views\":77,\"redirectUrl\":null,\"tempWorkingFromHome\":false,\"hideCompany\":true,\"hideGender\":true,\"hideSalary\":true,\"settings\":{\"isAutoPosted\":null,\"isHighlighted\":null,\"isFeatured\":null},\"postedAt\":\"11\\u002F03\\u002F2024 11:42:59\",\"expireAt\":\"01\\u002F02\\u002F2025 11:42:59\"},\"links\":{\"self\":\"https:\\u002F\\u002Fwuzzuf.net\\u002Fapi\\u002Fjob\\u002F5063524b-2de5-41f5-bb24-80d989aaeffd\"},\"relationships\":{\"company\":{\"data\":null}}}},\"isLoading\":false,\"error\":null,\"timestamp\":1731262479769},\"jobTemplate\":{\"isLoading\":false,\"collection\":{},\"error\":null,\"timestamp\":null},\"jobTemplateCategory\":{\"isLoading\":false,\"collection\":{},\"error\":null,\"timestamp\":null},\"learning\":{\"isLoading\":false,\"collection\":{},\"error\":null,\"timestamp\":null},\"talent\":{\"isLoading\":false,\"collection\":{},\"error\":null,\"timestamp\":null},\"talentEducation\":{\"isLoading\":false,\"collection\":{},\"error\":null,\"timestamp\":null},\"talentTag\":{\"isLoading\":false,\"collection\":{},\"error\":null,\"timestamp\":null},\"talentPreference\":{\"isLoading\":false,\"collection\":{},\"error\":null,\"timestamp\":null},\"talentWorkExperience\":{\"isLoading\":false,\"collection\":{},\"error\":null,\"timestamp\":null},\"talentWorkSamples\":{\"isLoading\":false,\"collection\":{},\"error\":null,\"timestamp\":null},\"trainingProgram\":{\"isLoading\":false,\"collection\":{},\"error\":null,\"timestamp\":null},\"trainingProvider\":{\"isLoading\":false,\"collection\":{},\"error\":null,\"timestamp\":null},\"user\":{\"isLoading\":false,\"collection\":{},\"error\":null,\"timestamp\":null},\"userOnlinePresence\":{\"isLoading\":false,\"collection\":{},\"error\":null,\"timestamp\":null},\"companyFeaturedLogo\":{\"isLoading\":false,\"collection\":{},\"error\":null,\"timestamp\":null}},\"jobPage\":{\"similarJobs\":{},\"recommendedJobsIds\":{\"isLoading\":false,\"collection\":[],\"error\":null}},\"jobSearch\":{\"sets\":{\"\\u002Fsearch\\u002Fjobs?q=machine%20learning\":{\"start\":0,\"resultsSet\":{\"62d3f507-afb6-401f-a611-29ea8db90fee\":{\"id\":\"62d3f507-afb6-401f-a611-29ea8db90fee\",\"type\":\"talentSearch\",\"attributes\":{\"computedFields\":[{\"name\":\"distance\",\"value\":[-1]},{\"name\":\"company_name\",\"value\":[\"kcsc\"]}],\"highlightedFields\":[{\"name\":\"skills\",\"snippets\":[\"\\u003Cem class=\\\"search-highlight\\\"\\u003Elearning\\u003C\\u002Fem\\u003E\",\"\\u003Cem class=\\\"search-highlight\\\"\\u003EMachine\\u003C\\u002Fem\\u003E \\u003Cem class=\\\"search-highlight\\\"\\u003ELearning\\u003C\\u002Fem\\u003E\"],\"value\":[\"learning\",\"Learning\",\"Machine\"]},{\"name\":\"requirements\",\"snippets\":[\"Proven experience as a \\u003Cem class=\\\"search-highlight\\\"\\u003EMachine\\u003C\\u002Fem\\u003E \\u003Cem class=\\\"search-highlight\\\"\\u003ELearning\\u003C\\u002Fem\\u003E Engineer or similar roleUnderstanding of data structures, data\",\"probability, statistics and algorithmsAbility to write robust code in Python, Java and RFamiliarity with \\u003Cem class=\\\"search-highlight\\\"\\u003Emachine\\u003C\\u002Fem\\u003E\",\"\\u003Cem class=\\\"search-highlight\\\"\\u003Elearning\\u003C\\u002Fem\\u003E frameworks (like Keras or PyTorch) and libraries (like scikit-\\u003Cem class=\\\"search-highlight\\\"\\u003Elearn\\u003C\\u002Fem\\u003E)Excellent communication\"],\"value\":[\"Learning\",\"Machine\",\"learning\",\"machine\",\"learn\"]},{\"name\":\"description\",\"snippets\":[\"Study and transform data science prototypesDesign \\u003Cem class=\\\"search-highlight\\\"\\u003Emachine\\u003C\\u002Fem\\u003E \\u003Cem class=\\\"search-highlight\\\"\\u003Elearning\\u003C\\u002Fem\\u003E systemsResearch and implement appropriate\",\"ML algorithms and toolsDevelop \\u003Cem class=\\\"search-highlight\\\"\\u003Emachine\\u003C\\u002Fem\\u003E \\u003Cem class=\\\"search-highlight\\\"\\u003Elearning\\u003C\\u002Fem\\u003E applications according to requirementsSelect appropriate\",\"datasets and data representation methodsRun \\u003Cem class=\\\"search-highlight\\\"\\u003Emachine\\u003C\\u002Fem\\u003E \\u003Cem class=\\\"search-highlight\\\"\\u003Elearning\\u003C\\u002Fem\\u003E tests and experimentsPerform statistical\"],\"value\":[\"learning\",\"machine\"]},{\"name\":\"job_title\",\"snippets\":[\"\\u003Cem class=\\\"search-highlight\\\"\\u003EMachine\\u003C\\u002Fem\\u003E \\u003Cem class=\\\"search-highlight\\\"\\u003ELearning\\u003C\\u002Fem\\u003E Manager\"],\"value\":[\"Learning\",\"Machine\"]}]},\"links\":{},\"relationships\":{},\"meta\":{\"score\":22.069656}},\"86bea6d4-d6d3-41fa-af31-48d710b8db12\":{\"id\":\"86bea6d4-d6d3-41fa-af31-48d710b8db12\",\"type\":\"talentSearch\",\"attributes\":{\"computedFields\":[{\"name\":\"distance\",\"value\":[-1]},{\"name\":\"company_name\",\"value\":[\"EpsilonAI\"]}],\"highlightedFields\":[{\"name\":\"skills\",\"snippets\":[\"\\u003Cem class=\\\"search-highlight\\\"\\u003EMachine\\u003C\\u002Fem\\u003E \\u003Cem class=\\\"search-highlight\\\"\\u003ELearning\\u003C\\u002Fem\\u003E\",\"Deep \\u003Cem class=\\\"search-highlight\\\"\\u003ELearning\\u003C\\u002Fem\\u003E\"],\"value\":[\"Learning\",\"Machine\"]},{\"name\":\"requirements\",\"snippets\":[\"Scikit-learnProficiency in Relational and non-relational databases, and Cloud computing with in-depth knowledge of \\u003Cem class=\\\"search-highlight\\\"\\u003Emachine\\u003C\\u002Fem\\u003E\",\"\\u003Cem class=\\\"search-highlight\\\"\\u003Elearning\\u003C\\u002Fem\\u003E and artificial intelligence libraries, and APIs.Strong foundation in MathematicsExpert level\",\"MLlibExcellent programming skills (including OOP and preferably functional programming)Solid Understanding of \\u003Cem class=\\\"search-highlight\\\"\\u003EMachine\\u003C\\u002Fem\\u003E\",\"\\u003Cem class=\\\"search-highlight\\\"\\u003ELearning\\u003C\\u002Fem\\u003E Models; Data Preparation, Cleaning up data; Mathematics; Model DeploymentSolid understanding\",\"using a \\u003Cem class=\\\"search-highlight\\\"\\u003ELearning\\u003C\\u002Fem\\u003E Management System such as Google Classroom, Canvas\"],\"value\":[\"learning\",\"Learning\",\"machine\",\"Machine\"]},{\"name\":\"description\",\"snippets\":[\"candidate will be able to contribute to the delivery of topics relating to Artificial Intelligence, \\u003Cem class=\\\"search-highlight\\\"\\u003EMachine\\u003C\\u002Fem\\u003E\",\"\\u003Cem class=\\\"search-highlight\\\"\\u003ELearning\\u003C\\u002Fem\\u003E, Data Science and ProgrammingEngage in the classroom and reply to emails, Trainees’ questions\",\"within the timeframe set forth by Epsilon AI policy providing effective feedback to guide Trainees' \\u003Cem class=\\\"search-highlight\\\"\\u003Elearning\\u003C\\u002Fem\\u003E\",\"of the course: Keep Trainees on track, monitor each individual's progress, and design and implement \\u003Cem class=\\\"search-highlight\\\"\\u003Elearning\\u003C\\u002Fem\\u003E\"],\"value\":[\"learning\",\"Learning\",\"Machine\"]}]},\"links\":{},\"relationships\":{},\"meta\":{\"score\":9.4229355}},\"8ae5f800-dd1a-44ea-a055-d7a474a3fe3c\":{\"id\":\"8ae5f800-dd1a-44ea-a055-d7a474a3fe3c\",\"type\":\"talentSearch\",\"attributes\":{\"computedFields\":[{\"name\":\"distance\",\"value\":[-1]},{\"name\":\"company_name\",\"value\":[\"kpec international\"]}],\"highlightedFields\":[{\"name\":\"skills\",\"snippets\":[\"\\u003Cem class=\\\"search-highlight\\\"\\u003EMachines\\u003C\\u002Fem\\u003E\"],\"value\":[\"Machines\"]},{\"name\":\"requirements\",\"snippets\":[\"to Measure in Metric & Imperial Sizes - Able to operate Manual Lathes & Milling Machinery & Grinding \\u003Cem class=\\\"search-highlight\\\"\\u003EMachines\\u003C\\u002Fem\\u003E\"],\"value\":[\"Machines\"]},{\"name\":\"description\",\"snippets\":[\"projectSolicit observations from operatorsPrepare product reports and documentationEngage in lifelong \\u003Cem class=\\\"search-highlight\\\"\\u003Elearning\\u003C\\u002Fem\\u003E\"],\"value\":[\"learning\"]}]},\"links\":{},\"relationships\":{},\"meta\":{\"score\":9.22526}},\"a421346a-6808-4839-8f82-e42749e91f1b\":{\"id\":\"a421346a-6808-4839-8f82-e42749e91f1b\",\"type\":\"talentSearch\",\"attributes\":{\"computedFields\":[{\"name\":\"distance\",\"value\":[-1]},{\"name\":\"company_name\",\"value\":[\"RMG\"]}],\"highlightedFields\":[{\"name\":\"requirements\",\"snippets\":[\"of hands-on experience in developing and implementing solutions using Artificial Intelligence (AI), \\u003Cem class=\\\"search-highlight\\\"\\u003EMachine\\u003C\\u002Fem\\u003E\",\"\\u003Cem class=\\\"search-highlight\\\"\\u003ELearning\\u003C\\u002Fem\\u003E (ML), and Deep \\u003Cem class=\\\"search-highlight\\\"\\u003ELearning\\u003C\\u002Fem\\u003E (DL) technologies.- Proven experience in developing and deploying ML\",\"programming language commonly used for large language models (LLM), such as Python.- Experience with \\u003Cem class=\\\"search-highlight\\\"\\u003Emachine\\u003C\\u002Fem\\u003E\",\"\\u003Cem class=\\\"search-highlight\\\"\\u003Elearning\\u003C\\u002Fem\\u003E and deep \\u003Cem class=\\\"search-highlight\\\"\\u003Elearning\\u003C\\u002Fem\\u003E frameworks and libraries (e.g., TensorFlow, PyTorch, Scikit-\\u003Cem class=\\\"search-highlight\\\"\\u003ELearn\\u003C\\u002Fem\\u003E).- Strong\",\"- Ability to build predictive models, analyze performance, and fine-tune models for optimal results.\\u003Cem class=\\\"search-highlight\\\"\\u003ELearning\\u003C\\u002Fem\\u003E\"],\"value\":[\"Learning\",\"Machine\",\"learning\",\"machine\",\"Learn\"]},{\"name\":\"description\",\"snippets\":[\"We are looking for an Expert in Large Language Models with a strong background in \\u003Cem class=\\\"search-highlight\\\"\\u003EMachine\\u003C\\u002Fem\\u003E \\u003Cem class=\\\"search-highlight\\\"\\u003ELearning\\u003C\\u002Fem\\u003E (ML\",\"), Deep \\u003Cem class=\\\"search-highlight\\\"\\u003ELearning\\u003C\\u002Fem\\u003E (DL), and Natural Language Processing (NLP).\",\"cutting-edge AI models for various applications.Key Responsibilities:Develop and fine-tune large-scale \\u003Cem class=\\\"search-highlight\\\"\\u003Emachine\\u003C\\u002Fem\\u003E\",\"\\u003Cem class=\\\"search-highlight\\\"\\u003Elearning\\u003C\\u002Fem\\u003E models, particularly LLMs.Design and deploy AI-driven solutions using deep \\u003Cem class=\\\"search-highlight\\\"\\u003Elearning\\u003C\\u002Fem\\u003E techniques.Work\"],\"value\":[\"learning\",\"Learning\",\"machine\",\"Machine\"]}]},\"links\":{},\"relationships\":{},\"meta\":{\"score\":7.2948318}},\"6f40ece8-c3fb-4ac9-bc48-55bc2f554dd0\":{\"id\":\"6f40ece8-c3fb-4ac9-bc48-55bc2f554dd0\",\"type\":\"talentSearch\",\"attributes\":{\"computedFields\":[{\"name\":\"distance\",\"value\":[-1]},{\"name\":\"company_name\",\"value\":[\"Citylogix ME\"]}],\"highlightedFields\":[{\"name\":\"requirements\",\"snippets\":[\": Familiarity with ARCGIS servers for managing and serving geographic information system (GIS) data.\\u003Cem class=\\\"search-highlight\\\"\\u003EMachine\\u003C\\u002Fem\\u003E\",\"\\u003Cem class=\\\"search-highlight\\\"\\u003ELearning\\u003C\\u002Fem\\u003E Servers with Docker: Experience in setting up and managing \\u003Cem class=\\\"search-highlight\\\"\\u003Emachine\\u003C\\u002Fem\\u003E \\u003Cem class=\\\"search-highlight\\\"\\u003Elearning\\u003C\\u002Fem\\u003E environments using\",\"with PostgreSQL and NoSQL databases.Experience with NodeJS, Tomcat, and ARCGIS servers.Knowledge of \\u003Cem class=\\\"search-highlight\\\"\\u003Emachine\\u003C\\u002Fem\\u003E\",\"\\u003Cem class=\\\"search-highlight\\\"\\u003Elearning\\u003C\\u002Fem\\u003E server setups using Docker.Personal Attributes:Excellent problem-solving skills and the ability\"],\"value\":[\"learning\",\"Learning\",\"machine\",\"Machine\"]}]},\"links\":{},\"relationships\":{},\"meta\":{\"score\":6.977034}},\"c445e999-c466-48e0-920f-3deca5638813\":{\"id\":\"c445e999-c466-48e0-920f-3deca5638813\",\"type\":\"talentSearch\",\"attributes\":{\"computedFields\":[{\"name\":\"distance\",\"value\":[-1]},{\"name\":\"company_name\",\"value\":[\"Global Brands\"]}],\"highlightedFields\":[{\"name\":\"requirements\",\"snippets\":[\"Science, Data Science, Artificial Intelligence, or a related field.Proven experience in developing AI or \\u003Cem class=\\\"search-highlight\\\"\\u003Emachine\\u003C\\u002Fem\\u003E\",\"\\u003Cem class=\\\"search-highlight\\\"\\u003Elearning\\u003C\\u002Fem\\u003E applications.Strong programming skills in Python, R, or Java.Familiarity with \\u003Cem class=\\\"search-highlight\\\"\\u003Emachine\\u003C\\u002Fem\\u003E \\u003Cem class=\\\"search-highlight\\\"\\u003Elearning\\u003C\\u002Fem\\u003E\",\"algorithms and techniques, such as supervised and unsupervised \\u003Cem class=\\\"search-highlight\\\"\\u003Elearning\\u003C\\u002Fem\\u003E, neural networks, and natural\",\"AWS, Google Cloud, Azure) for deploying AI solutions.Preferred Qualifications:Experience with deep \\u003Cem class=\\\"search-highlight\\\"\\u003Elearning\\u003C\\u002Fem\\u003E\",\"with DevOps practices for \\u003Cem class=\\\"search-highlight\\\"\\u003Emachine\\u003C\\u002Fem\\u003E \\u003Cem class=\\\"search-highlight\\\"\\u003Elearning\\u003C\\u002Fem\\u003E deployments\"],\"value\":[\"learning\",\"machine\"]},{\"name\":\"description\",\"snippets\":[\"You will work closely with data scientists and engineers to create scalable and efficient \\u003Cem class=\\\"search-highlight\\\"\\u003Emachine\\u003C\\u002Fem\\u003E \\u003Cem class=\\\"search-highlight\\\"\\u003Elearning\\u003C\\u002Fem\\u003E\",\"models.Key Responsibilities:Develop and deploy \\u003Cem class=\\\"search-highlight\\\"\\u003Emachine\\u003C\\u002Fem\\u003E \\u003Cem class=\\\"search-highlight\\\"\\u003Elearning\\u003C\\u002Fem\\u003E models and algorithms to solve complex\",\"development.Implement AI solutions using frameworks and libraries such as TensorFlow, PyTorch, or scikit-\\u003Cem class=\\\"search-highlight\\\"\\u003Elearn\\u003C\\u002Fem\\u003E.Stay\",\"up-to-date with the latest advancements in AI and \\u003Cem class=\\\"search-highlight\\\"\\u003Emachine\\u003C\\u002Fem\\u003E \\u003Cem class=\\\"search-highlight\\\"\\u003Elearning\\u003C\\u002Fem\\u003E technologies.Document and present\"],\"value\":[\"learning\",\"machine\",\"learn\"]}]},\"links\":{},\"relationships\":{},\"meta\":{\"score\":6.7566643}},\"33f13fa6-e209-41ef-b26c-d74782bb1ecb\":{\"id\":\"33f13fa6-e209-41ef-b26c-d74782bb1ecb\",\"type\":\"talentSearch\",\"attributes\":{\"computedFields\":[{\"name\":\"distance\",\"value\":[-1]},{\"name\":\"company_name\",\"value\":[\"WSC\"]}],\"highlightedFields\":[{\"name\":\"requirements\",\"snippets\":[\"Proficiency in statistics is essential for data-driven companies.\\u003Cem class=\\\"search-highlight\\\"\\u003EMachine\\u003C\\u002Fem\\u003E \\u003Cem class=\\\"search-highlight\\\"\\u003ELearning\\u003C\\u002Fem\\u003E – good knowledge of\",\"\\u003Cem class=\\\"search-highlight\\\"\\u003Emachine\\u003C\\u002Fem\\u003E \\u003Cem class=\\\"search-highlight\\\"\\u003Elearning\\u003C\\u002Fem\\u003E methods like k-Nearest Neighbors, Naive Bayes, SVM, Decision Forests.Strong Math Skills\"],\"value\":[\"learning\",\"Learning\",\"machine\",\"Machine\"]},{\"name\":\"description\",\"snippets\":[\"Data mining or extracting usable data from valuable data sourcesUsing \\u003Cem class=\\\"search-highlight\\\"\\u003Emachine\\u003C\\u002Fem\\u003E \\u003Cem class=\\\"search-highlight\\\"\\u003Elearning\\u003C\\u002Fem\\u003E tools to select\",\"analysisAnalyzing large amounts of information to find patterns and solutionsDeveloping prediction systems and \\u003Cem class=\\\"search-highlight\\\"\\u003Emachine\\u003C\\u002Fem\\u003E\",\"\\u003Cem class=\\\"search-highlight\\\"\\u003Elearning\\u003C\\u002Fem\\u003E algorithmsPresenting results in a clear mannerPropose solutions and strategies to tackle business\"],\"value\":[\"learning\",\"machine\"]}]},\"links\":{},\"relationships\":{},\"meta\":{\"score\":6.4539576}},\"f2b3608e-b46a-4a17-acce-489372e8fa74\":{\"id\":\"f2b3608e-b46a-4a17-acce-489372e8fa74\",\"type\":\"talentSearch\",\"attributes\":{\"computedFields\":[{\"name\":\"distance\",\"value\":[-1]},{\"name\":\"company_name\",\"value\":[\"Promech Engineering\"]}],\"highlightedFields\":[{\"name\":\"requirements\",\"snippets\":[\"CNC \\u003Cem class=\\\"search-highlight\\\"\\u003EMachine\\u003C\\u002Fem\\u003E Maintenance: Perform routine inspections and preventive maintenance on CNC \\u003Cem class=\\\"search-highlight\\\"\\u003Emachines\\u003C\\u002Fem\\u003E to ensure\",\"Troubleshooting and Repairs: Investigate and resolve issues related to CNC \\u003Cem class=\\\"search-highlight\\\"\\u003Emachines\\u003C\\u002Fem\\u003E promptly.\",\"and hydraulic systems, and components commonly used in CNC \\u003Cem class=\\\"search-highlight\\\"\\u003Emachines\\u003C\\u002Fem\\u003E. - Familiarity with sheet metal\",\"CNC \\u003Cem class=\\\"search-highlight\\\"\\u003Emachines\\u003C\\u002Fem\\u003E programming and operating controllers such as Delem, Esa, Cybelec, Fanuc....\",\"skills - Ability to adapt to changing priorities and handle multiple tasks simultaneously. - Continuous \\u003Cem class=\\\"search-highlight\\\"\\u003Elearning\\u003C\\u002Fem\\u003E\"],\"value\":[\"learning\",\"machines\",\"Machine\"]},{\"name\":\"description\",\"snippets\":[\"Maintenance Engineer for sheet metal CNC \\u003Cem class=\\\"search-highlight\\\"\\u003EMachine\\u003C\\u002Fem\\u003E Maintenance (Fiber laser, press brake, punch press,\",\"shear) Position Overview:As an Mechanical Engineer specializing in sheet metal CNC \\u003Cem class=\\\"search-highlight\\\"\\u003EMachine\\u003C\\u002Fem\\u003E Maintenance\",\"will be to ensure the efficient operation, maintenance, and repair of computer numerical control (CNC) \\u003Cem class=\\\"search-highlight\\\"\\u003Emachines\\u003C\\u002Fem\\u003E\",\"team of engineers and technicians to fix, maintain and after sales services for several types of CNC \\u003Cem class=\\\"search-highlight\\\"\\u003Emachines\\u003C\\u002Fem\\u003E\"],\"value\":[\"machines\",\"Machine\"]}]},\"links\":{},\"relationships\":{},\"meta\":{\"score\":6.421381}},\"f460caaa-c72c-4afb-bf46-955c241dde45\":{\"id\":\"f460caaa-c72c-4afb-bf46-955c241dde45\",\"type\":\"talentSearch\",\"attributes\":{\"computedFields\":[{\"name\":\"distance\",\"value\":[-1]},{\"name\":\"company_name\",\"value\":[\"Qudra Tech\"]}],\"highlightedFields\":[{\"name\":\"requirements\",\"snippets\":[\"RFID, biometric devices, parking \\u003Cem class=\\\"search-highlight\\\"\\u003Emachines\\u003C\\u002Fem\\u003E, ...etc)You must be very good in C#, Java and C++ languages.Experience\",\"(Optional, preferred) Have AI\\u002Fdeep-\\u003Cem class=\\\"search-highlight\\\"\\u003Elearning\\u003C\\u002Fem\\u003E experience with Python, TensorFlow, keras, and OpenCV.\",\"related field.5+ years of experience of Full Stack and\\u002For embedded developmentMotivation and ability to \\u003Cem class=\\\"search-highlight\\\"\\u003Elearn\\u003C\\u002Fem\\u003E\"],\"value\":[\"learning\",\"learn\",\"machines\"]}]},\"links\":{},\"relationships\":{},\"meta\":{\"score\":6.42119}},\"e3d2e02d-c58e-434e-b8fc-6501877dc043\":{\"id\":\"e3d2e02d-c58e-434e-b8fc-6501877dc043\",\"type\":\"talentSearch\",\"attributes\":{\"computedFields\":[{\"name\":\"distance\",\"value\":[-1]},{\"name\":\"company_name\",\"value\":[\"JRM for Communications\"]}],\"highlightedFields\":[{\"name\":\"requirements\",\"snippets\":[\"Bachelor's degree in Computer Science, Engineering, or a related field.Good expertise in AI and \\u003Cem class=\\\"search-highlight\\\"\\u003EMachine\\u003C\\u002Fem\\u003E\",\"\\u003Cem class=\\\"search-highlight\\\"\\u003ELearning\\u003C\\u002Fem\\u003E concepts, algorithms, and frameworks, specifically applied to Computer Vision and NLP problems.Proficiency\"],\"value\":[\"Learning\",\"Machine\"]},{\"name\":\"description\",\"snippets\":[\"We are seeking an experienced Software Development Team Leader with a adequate background in AI and \\u003Cem class=\\\"search-highlight\\\"\\u003EMachine\\u003C\\u002Fem\\u003E\",\"\\u003Cem class=\\\"search-highlight\\\"\\u003ELearning\\u003C\\u002Fem\\u003E applied to Computer Vision and Natural Language Processing (NLP) problems.\",\"managers, business development and other stakeholders to define project requirements and deliver AI and \\u003Cem class=\\\"search-highlight\\\"\\u003EMachine\\u003C\\u002Fem\\u003E\",\"\\u003Cem class=\\\"search-highlight\\\"\\u003ELearning\\u003C\\u002Fem\\u003E solutions that meet business objectives.Drive the design, development, and implementation of\",\"software applications related to Computer Vision and NLP, leveraging AI and \\u003Cem class=\\\"search-highlight\\\"\\u003EMachine\\u003C\\u002Fem\\u003E \\u003Cem class=\\\"search-highlight\\\"\\u003ELearning\\u003C\\u002Fem\\u003E algorithms\"],\"value\":[\"Learning\",\"Machine\"]}]},\"links\":{},\"relationships\":{},\"meta\":{\"score\":6.27352}},\"aa73be46-6fab-4218-a48f-9c58554631c6\":{\"id\":\"aa73be46-6fab-4218-a48f-9c58554631c6\",\"type\":\"talentSearch\",\"attributes\":{\"computedFields\":[{\"name\":\"distance\",\"value\":[-1]},{\"name\":\"company_name\",\"value\":[\"Creative Motion\"]}],\"highlightedFields\":[{\"name\":\"requirements\",\"snippets\":[\"and writing efficient code capable of processing large data streams at speed5- Familiarity with deep \\u003Cem class=\\\"search-highlight\\\"\\u003Elearning\\u003C\\u002Fem\\u003E\",\"and \\u003Cem class=\\\"search-highlight\\\"\\u003Emachine\\u003C\\u002Fem\\u003E \\u003Cem class=\\\"search-highlight\\\"\\u003Elearning\\u003C\\u002Fem\\u003E algorithms and the use of popular AI\\u002FML frameworks6- Excellent communication skills\"],\"value\":[\"learning\",\"machine\"]},{\"name\":\"description\",\"snippets\":[\"You will work as part of a diverse team of software engineers, data scientists, and \\u003Cem class=\\\"search-highlight\\\"\\u003Emachine\\u003C\\u002Fem\\u003E \\u003Cem class=\\\"search-highlight\\\"\\u003Elearning\\u003C\\u002Fem\\u003E\",\"\\u003Cem class=\\\"search-highlight\\\"\\u003Elearning\\u003C\\u002Fem\\u003E, and staying current with the latest developments in a rapidly changing field.\",\"algorithmic models.ResponsibilitiesBelow are some of the responsibilities an artificial intelligence, \\u003Cem class=\\\"search-highlight\\\"\\u003Emachine\\u003C\\u002Fem\\u003E\",\"\\u003Cem class=\\\"search-highlight\\\"\\u003Elearning\\u003C\\u002Fem\\u003E engineer is expected to assume in their position: 1- Design and develop AI models to meet project\",\"\\u003Cem class=\\\"search-highlight\\\"\\u003Elearning\\u003C\\u002Fem\\u003E engineers, data engineers, and AI engineers to develop \\u003Cem class=\\\"search-highlight\\\"\\u003Emachine\\u003C\\u002Fem\\u003E \\u003Cem class=\\\"search-highlight\\\"\\u003Elearning\\u003C\\u002Fem\\u003E models\"],\"value\":[\"learning\",\"machine\"]}]},\"links\":{},\"relationships\":{},\"meta\":{\"score\":6.1877623}},\"a26a6a5d-1913-41a3-82bf-8fc6b613fde1\":{\"id\":\"a26a6a5d-1913-41a3-82bf-8fc6b613fde1\",\"type\":\"talentSearch\",\"attributes\":{\"computedFields\":[{\"name\":\"distance\",\"value\":[-1]},{\"name\":\"company_name\",\"value\":[\"Enigma\"]}],\"highlightedFields\":[{\"name\":\"requirements\",\"snippets\":[\"Knowledge of \\u003Cem class=\\\"search-highlight\\\"\\u003Emachine\\u003C\\u002Fem\\u003E \\u003Cem class=\\\"search-highlight\\\"\\u003Elearning\\u003C\\u002Fem\\u003E frameworks and algorithms. Python and TypeScript. \"],\"value\":[\"learning\",\"machine\"]},{\"name\":\"description\",\"snippets\":[\"We believe in building a culture of continuous \\u003Cem class=\\\"search-highlight\\\"\\u003Elearning\\u003C\\u002Fem\\u003E, open communication, and mutual respect.We have\"],\"value\":[\"learning\"]}]},\"links\":{},\"relationships\":{},\"meta\":{\"score\":6.1865096}},\"63bb3d68-b799-4287-be34-3c8a0c07ca0e\":{\"id\":\"63bb3d68-b799-4287-be34-3c8a0c07ca0e\",\"type\":\"talentSearch\",\"attributes\":{\"computedFields\":[{\"name\":\"distance\",\"value\":[-1]},{\"name\":\"company_name\",\"value\":[\"Elsewedy industries\"]}],\"highlightedFields\":[{\"name\":\"description\",\"snippets\":[\"to gain insights into demand patterns, production bottlenecks, and inventory trends.Explore AI and \\u003Cem class=\\\"search-highlight\\\"\\u003Emachine\\u003C\\u002Fem\\u003E\",\"\\u003Cem class=\\\"search-highlight\\\"\\u003Elearning\\u003C\\u002Fem\\u003E: Consider using AI and \\u003Cem class=\\\"search-highlight\\\"\\u003Emachine\\u003C\\u002Fem\\u003E \\u003Cem class=\\\"search-highlight\\\"\\u003Elearning\\u003C\\u002Fem\\u003E algorithms to improve forecasting accuracy and optimize\"],\"value\":[\"learning\",\"machine\"]}]},\"links\":{},\"relationships\":{},\"meta\":{\"score\":6.0076222}},\"48c9a9ea-e96b-44cc-8b1b-9e6bf71d2f6e\":{\"id\":\"48c9a9ea-e96b-44cc-8b1b-9e6bf71d2f6e\",\"type\":\"talentSearch\",\"attributes\":{\"computedFields\":[{\"name\":\"distance\",\"value\":[-1]},{\"name\":\"company_name\",\"value\":[\"GIG Egypt \"]}],\"highlightedFields\":[{\"name\":\"requirements\",\"snippets\":[\"software.Payment Gateways.Excellent coding standards and disciplined documenting of code.Knowledge in Python, \\u003Cem class=\\\"search-highlight\\\"\\u003EMachine\\u003C\\u002Fem\\u003E\",\"\\u003Cem class=\\\"search-highlight\\\"\\u003ELearning\\u003C\\u002Fem\\u003E is a plus.\"],\"value\":[\"Learning\",\"Machine\"]}]},\"links\":{},\"relationships\":{},\"meta\":{\"score\":5.7138705}},\"5063524b-2de5-41f5-bb24-80d989aaeffd\":{\"id\":\"5063524b-2de5-41f5-bb24-80d989aaeffd\",\"type\":\"talentSearch\",\"attributes\":{\"computedFields\":[{\"name\":\"distance\",\"value\":[-1]},{\"name\":\"company_name\",\"value\":[\"\"]}],\"highlightedFields\":[{\"name\":\"description\",\"snippets\":[\"with tech-driven project deliverables.Research and Development: Stay abreast of advancements in AI, \\u003Cem class=\\\"search-highlight\\\"\\u003Emachine\\u003C\\u002Fem\\u003E\",\"\\u003Cem class=\\\"search-highlight\\\"\\u003Elearning\\u003C\\u002Fem\\u003E, and cloud technologies to continuously improve business operations.   \"],\"value\":[\"learning\",\"machine\"]}]},\"links\":{},\"relationships\":{},\"meta\":{\"score\":5.380032}}},\"resultsOrder\":[\"62d3f507-afb6-401f-a611-29ea8db90fee\",\"86bea6d4-d6d3-41fa-af31-48d710b8db12\",\"8ae5f800-dd1a-44ea-a055-d7a474a3fe3c\",\"a421346a-6808-4839-8f82-e42749e91f1b\",\"6f40ece8-c3fb-4ac9-bc48-55bc2f554dd0\",\"c445e999-c466-48e0-920f-3deca5638813\",\"33f13fa6-e209-41ef-b26c-d74782bb1ecb\",\"f2b3608e-b46a-4a17-acce-489372e8fa74\",\"f460caaa-c72c-4afb-bf46-955c241dde45\",\"e3d2e02d-c58e-434e-b8fc-6501877dc043\",\"aa73be46-6fab-4218-a48f-9c58554631c6\",\"a26a6a5d-1913-41a3-82bf-8fc6b613fde1\",\"63bb3d68-b799-4287-be34-3c8a0c07ca0e\",\"48c9a9ea-e96b-44cc-8b1b-9e6bf71d2f6e\",\"5063524b-2de5-41f5-bb24-80d989aaeffd\"],\"resultsLoading\":false,\"totalResultsCount\":28,\"recommendedJobsResultsSet\":null,\"recommendedJobsResultsOrder\":null,\"recommendedJobsResultsLoading\":true,\"recommendedJobsTotalResultsCount\":null,\"correctedQuery\":null,\"filters\":[{\"count\":28,\"filters\":[{\"count\":28,\"isSelected\":true,\"name\":\"all\"},{\"count\":4,\"isSelected\":false,\"name\":\"Nasr City\"},{\"count\":4,\"isSelected\":false,\"name\":\"New Cairo\"},{\"count\":2,\"isSelected\":false,\"name\":\"6th of October\"},{\"count\":2,\"isSelected\":false,\"name\":\"Maadi\"},{\"count\":1,\"isSelected\":false,\"name\":\"Ameria\"},{\"count\":1,\"isSelected\":false,\"name\":\"Mohandessin\"},{\"count\":1,\"isSelected\":false,\"name\":\"New Capital\"},{\"count\":1,\"isSelected\":false,\"name\":\"Sheikh Zayed\"}],\"name\":\"area\",\"type\":\"talentAggregation\"},{\"count\":28,\"filters\":[{\"count\":28,\"isSelected\":true,\"name\":\"all\"},{\"count\":25,\"isSelected\":false,\"name\":\"Egypt\"},{\"count\":2,\"isSelected\":false,\"name\":\"Saudi Arabia\"},{\"count\":1,\"isSelected\":false,\"name\":\"Cyprus\"}],\"name\":\"country\",\"type\":\"talentAggregation\"},{\"count\":28,\"filters\":[{\"count\":28,\"isSelected\":true,\"name\":\"all\"},{\"count\":27,\"isSelected\":false,\"name\":\"full_time\"},{\"count\":1,\"isSelected\":false,\"name\":\"internship\"},{\"count\":1,\"isSelected\":false,\"name\":\"part_time\"},{\"count\":1,\"isSelected\":false,\"name\":\"shift_based\"}],\"name\":\"job_types\",\"type\":\"talentAggregation\"},{\"count\":28,\"filters\":[{\"count\":28,\"isSelected\":true,\"name\":\"all\"},{\"count\":18,\"isSelected\":false,\"name\":\"Cairo\"},{\"count\":5,\"isSelected\":false,\"name\":\"Giza\"},{\"count\":2,\"isSelected\":false,\"name\":\"Riyadh\"},{\"count\":1,\"isSelected\":false,\"name\":\"Alexandria\"},{\"count\":1,\"isSelected\":false,\"name\":\"Beni Suef\"},{\"count\":1,\"isSelected\":false,\"name\":\"Larnaca\"}],\"name\":\"city\",\"type\":\"talentAggregation\"},{\"count\":28,\"filters\":[{\"count\":28,\"isSelected\":true,\"name\":\"all\"},{\"count\":16,\"isSelected\":false,\"name\":\"within_1_month\"},{\"count\":2,\"isSelected\":false,\"name\":\"within_1_week\"}],\"name\":\"post_date\",\"type\":\"talentAggregation\"},{\"count\":28,\"filters\":[{\"count\":28,\"isSelected\":true,\"name\":\"all\"},{\"count\":18,\"isSelected\":false,\"name\":\"IT\\u002FSoftware Development\"},{\"count\":14,\"isSelected\":false,\"name\":\"Engineering - Telecom\\u002FTechnology\"},{\"count\":4,\"isSelected\":false,\"name\":\"Engineering - Other\"},{\"count\":4,\"isSelected\":false,\"name\":\"Installation\\u002FMaintenance\\u002FRepair\"},{\"count\":4,\"isSelected\":false,\"name\":\"Manufacturing\\u002FProduction\"},{\"count\":2,\"isSelected\":false,\"name\":\"Administration\"},{\"count\":2,\"isSelected\":false,\"name\":\"Analyst\\u002FResearch\"},{\"count\":1,\"isSelected\":false,\"name\":\"Creative\\u002FDesign\\u002FArt\"},{\"count\":1,\"isSelected\":false,\"name\":\"Engineering - Mechanical\\u002FElectrical\"},{\"count\":1,\"isSelected\":false,\"name\":\"Human Resources\"},{\"count\":1,\"isSelected\":false,\"name\":\"Logistics\\u002FSupply Chain\"},{\"count\":1,\"isSelected\":false,\"name\":\"Marketing\\u002FPR\\u002FAdvertising\"},{\"count\":1,\"isSelected\":false,\"name\":\"Operations\\u002FManagement\"},{\"count\":1,\"isSelected\":false,\"name\":\"Sales\\u002FRetail\"},{\"count\":1,\"isSelected\":false,\"name\":\"Training\\u002FInstructor\"}],\"name\":\"roles\",\"type\":\"talentAggregation\"},{\"count\":28,\"filters\":[{\"count\":28,\"isSelected\":true,\"name\":\"all\"},{\"count\":21,\"isSelected\":false,\"name\":\"Experienced\"},{\"count\":4,\"isSelected\":false,\"name\":\"Manager\"},{\"count\":3,\"isSelected\":false,\"name\":\"Entry Level\"}],\"name\":\"career_level\",\"type\":\"talentAggregation\"},{\"count\":28,\"filters\":[{\"count\":28,\"isSelected\":true,\"name\":\"all\"},{\"count\":19,\"isSelected\":false,\"name\":\"On-site\"},{\"count\":8,\"isSelected\":false,\"name\":\"Hybrid\"}],\"name\":\"workplace_arrangement\",\"type\":\"talentAggregation\"}],\"filtersLoading\":false,\"pageURL\":\"\\u002Fsearch\\u002Fjobs?q=machine%20learning\",\"timestamp\":1731262480604}},\"searchLog\":{},\"searchCriteriaLog\":{},\"searchResultsLog\":{}},\"learningBrowsePage\":{\"isLoading\":true,\"isLoadedBefore\":false,\"meta\":{\"totalCount\":0},\"error\":null,\"timestamp\":null},\"learningPostPage\":{\"isLoading\":true,\"isLoadedBefore\":false,\"error\":null,\"timestamp\":null,\"providerLearningPosts\":{},\"recommendedLearningPosts\":{},\"similarLearningPosts\":{}},\"learningSearch\":{\"sets\":{}},\"lookups\":{\"area\":{\"collection\":{\"17\":{\"id\":\"17\",\"type\":\"area\",\"attributes\":{\"name\":\"New Cairo\",\"translations\":null,\"latitude\":\"30.03330500\",\"longitude\":\"31.46239500\"},\"links\":{\"self\":\"https:\\u002F\\u002Fwuzzuf.net\\u002Fapi\\u002Farea\\u002F17\",\"browsePage\":\"a\\u002FJobs-in-New-Cairo\"},\"relationships\":{\"city\":{\"data\":{\"id\":\"1545\",\"type\":\"city\"}},\"variations\":{\"data\":[{\"id\":\"130\",\"type\":\"areaNameVariation\"},{\"id\":\"131\",\"type\":\"areaNameVariation\"},{\"id\":\"132\",\"type\":\"areaNameVariation\"},{\"id\":\"133\",\"type\":\"areaNameVariation\"},{\"id\":\"134\",\"type\":\"areaNameVariation\"},{\"id\":\"135\",\"type\":\"areaNameVariation\"},{\"id\":\"136\",\"type\":\"areaNameVariation\"},{\"id\":\"137\",\"type\":\"areaNameVariation\"},{\"id\":\"138\",\"type\":\"areaNameVariation\"},{\"id\":\"139\",\"type\":\"areaNameVariation\"},{\"id\":\"140\",\"type\":\"areaNameVariation\"},{\"id\":\"141\",\"type\":\"areaNameVariation\"},{\"id\":\"142\",\"type\":\"areaNameVariation\"},{\"id\":\"143\",\"type\":\"areaNameVariation\"},{\"id\":\"144\",\"type\":\"areaNameVariation\"},{\"id\":\"1481\",\"type\":\"areaNameVariation\"},{\"id\":\"1482\",\"type\":\"areaNameVariation\"},{\"id\":\"1483\",\"type\":\"areaNameVariation\"},{\"id\":\"1484\",\"type\":\"areaNameVariation\"}]}}},\"20\":{\"id\":\"20\",\"type\":\"area\",\"attributes\":{\"name\":\"Maadi\",\"translations\":null,\"latitude\":\"29.95999400\",\"longitude\":\"31.27235900\"},\"links\":{\"self\":\"https:\\u002F\\u002Fwuzzuf.net\\u002Fapi\\u002Farea\\u002F20\",\"browsePage\":\"a\\u002FJobs-in-Maadi\"},\"relationships\":{\"city\":{\"data\":{\"id\":\"1545\",\"type\":\"city\"}},\"variations\":{\"data\":[{\"id\":\"160\",\"type\":\"areaNameVariation\"},{\"id\":\"161\",\"type\":\"areaNameVariation\"},{\"id\":\"162\",\"type\":\"areaNameVariation\"},{\"id\":\"163\",\"type\":\"areaNameVariation\"},{\"id\":\"164\",\"type\":\"areaNameVariation\"},{\"id\":\"165\",\"type\":\"areaNameVariation\"}]}}},\"22\":{\"id\":\"22\",\"type\":\"area\",\"attributes\":{\"name\":\"Mokattam\",\"translations\":null,\"latitude\":\"30.02191700\",\"longitude\":\"31.30329000\"},\"links\":{\"self\":\"https:\\u002F\\u002Fwuzzuf.net\\u002Fapi\\u002Farea\\u002F22\",\"browsePage\":\"a\\u002FJobs-in-Mokattam\"},\"relationships\":{\"city\":{\"data\":{\"id\":\"1545\",\"type\":\"city\"}},\"variations\":{\"data\":[{\"id\":\"174\",\"type\":\"areaNameVariation\"},{\"id\":\"175\",\"type\":\"areaNameVariation\"},{\"id\":\"176\",\"type\":\"areaNameVariation\"},{\"id\":\"177\",\"type\":\"areaNameVariation\"},{\"id\":\"178\",\"type\":\"areaNameVariation\"},{\"id\":\"179\",\"type\":\"areaNameVariation\"},{\"id\":\"180\",\"type\":\"areaNameVariation\"}]}}},\"38\":{\"id\":\"38\",\"type\":\"area\",\"attributes\":{\"name\":\"Nasr City\",\"translations\":null,\"latitude\":\"30.05578000\",\"longitude\":\"31.34616400\"},\"links\":{\"self\":\"https:\\u002F\\u002Fwuzzuf.net\\u002Fapi\\u002Farea\\u002F38\",\"browsePage\":\"a\\u002FJobs-in-Nasr-City\"},\"relationships\":{\"city\":{\"data\":{\"id\":\"1545\",\"type\":\"city\"}},\"variations\":{\"data\":[{\"id\":\"292\",\"type\":\"areaNameVariation\"},{\"id\":\"293\",\"type\":\"areaNameVariation\"},{\"id\":\"294\",\"type\":\"areaNameVariation\"},{\"id\":\"295\",\"type\":\"areaNameVariation\"},{\"id\":\"296\",\"type\":\"areaNameVariation\"},{\"id\":\"297\",\"type\":\"areaNameVariation\"}]}}},\"40\":{\"id\":\"40\",\"type\":\"area\",\"attributes\":{\"name\":\"Heliopolis\",\"translations\":null,\"latitude\":\"30.09257500\",\"longitude\":\"31.32104600\"},\"links\":{\"self\":\"https:\\u002F\\u002Fwuzzuf.net\\u002Fapi\\u002Farea\\u002F40\",\"browsePage\":\"a\\u002FJobs-in-Heliopolis\"},\"relationships\":{\"city\":{\"data\":{\"id\":\"1545\",\"type\":\"city\"}},\"variations\":{\"data\":[{\"id\":\"301\",\"type\":\"areaNameVariation\"},{\"id\":\"302\",\"type\":\"areaNameVariation\"},{\"id\":\"303\",\"type\":\"areaNameVariation\"},{\"id\":\"304\",\"type\":\"areaNameVariation\"},{\"id\":\"305\",\"type\":\"areaNameVariation\"},{\"id\":\"306\",\"type\":\"areaNameVariation\"},{\"id\":\"307\",\"type\":\"areaNameVariation\"},{\"id\":\"308\",\"type\":\"areaNameVariation\"}]}}},\"43\":{\"id\":\"43\",\"type\":\"area\",\"attributes\":{\"name\":\"Badr City\",\"translations\":null,\"latitude\":\"30.13645500\",\"longitude\":\"31.75420000\"},\"links\":{\"self\":\"https:\\u002F\\u002Fwuzzuf.net\\u002Fapi\\u002Farea\\u002F43\",\"browsePage\":\"a\\u002FJobs-in-Badr-City\"},\"relationships\":{\"city\":{\"data\":{\"id\":\"1545\",\"type\":\"city\"}},\"variations\":{\"data\":[{\"id\":\"321\",\"type\":\"areaNameVariation\"},{\"id\":\"322\",\"type\":\"areaNameVariation\"},{\"id\":\"323\",\"type\":\"areaNameVariation\"}]}}},\"44\":{\"id\":\"44\",\"type\":\"area\",\"attributes\":{\"name\":\"Obour City\",\"translations\":null,\"latitude\":\"30.21373300\",\"longitude\":\"31.46599500\"},\"links\":{\"self\":\"https:\\u002F\\u002Fwuzzuf.net\\u002Fapi\\u002Farea\\u002F44\",\"browsePage\":\"a\\u002FJobs-in-Obour-City\"},\"relationships\":{\"city\":{\"data\":{\"id\":\"1545\",\"type\":\"city\"}},\"variations\":{\"data\":[{\"id\":\"324\",\"type\":\"areaNameVariation\"},{\"id\":\"325\",\"type\":\"areaNameVariation\"},{\"id\":\"326\",\"type\":\"areaNameVariation\"},{\"id\":\"327\",\"type\":\"areaNameVariation\"},{\"id\":\"328\",\"type\":\"areaNameVariation\"},{\"id\":\"329\",\"type\":\"areaNameVariation\"},{\"id\":\"330\",\"type\":\"areaNameVariation\"}]}}},\"45\":{\"id\":\"45\",\"type\":\"area\",\"attributes\":{\"name\":\"Downtown\",\"translations\":null,\"latitude\":\"30.04443850\",\"longitude\":\"31.23567440\"},\"links\":{\"self\":\"https:\\u002F\\u002Fwuzzuf.net\\u002Fapi\\u002Farea\\u002F45\",\"browsePage\":\"a\\u002FJobs-in-Downtown\"},\"relationships\":{\"city\":{\"data\":{\"id\":\"1545\",\"type\":\"city\"}},\"variations\":{\"data\":[{\"id\":\"331\",\"type\":\"areaNameVariation\"},{\"id\":\"332\",\"type\":\"areaNameVariation\"},{\"id\":\"333\",\"type\":\"areaNameVariation\"},{\"id\":\"334\",\"type\":\"areaNameVariation\"},{\"id\":\"335\",\"type\":\"areaNameVariation\"},{\"id\":\"336\",\"type\":\"areaNameVariation\"}]}}},\"46\":{\"id\":\"46\",\"type\":\"area\",\"attributes\":{\"name\":\"Zamalek\",\"translations\":null,\"latitude\":\"30.06670000\",\"longitude\":\"31.21670000\"},\"links\":{\"self\":\"https:\\u002F\\u002Fwuzzuf.net\\u002Fapi\\u002Farea\\u002F46\",\"browsePage\":\"a\\u002FJobs-in-Zamalek\"},\"relationships\":{\"city\":{\"data\":{\"id\":\"1545\",\"type\":\"city\"}},\"variations\":{\"data\":[{\"id\":\"337\",\"type\":\"areaNameVariation\"},{\"id\":\"338\",\"type\":\"areaNameVariation\"},{\"id\":\"339\",\"type\":\"areaNameVariation\"},{\"id\":\"340\",\"type\":\"areaNameVariation\"},{\"id\":\"341\",\"type\":\"areaNameVariation\"}]}}},\"49\":{\"id\":\"49\",\"type\":\"area\",\"attributes\":{\"name\":\"Katameya\",\"translations\":null,\"latitude\":\"29.99913000\",\"longitude\":\"31.40613200\"},\"links\":{\"self\":\"https:\\u002F\\u002Fwuzzuf.net\\u002Fapi\\u002Farea\\u002F49\",\"browsePage\":\"a\\u002FJobs-in-Katameya\"},\"relationships\":{\"city\":{\"data\":{\"id\":\"1545\",\"type\":\"city\"}},\"variations\":{\"data\":[{\"id\":\"352\",\"type\":\"areaNameVariation\"},{\"id\":\"353\",\"type\":\"areaNameVariation\"},{\"id\":\"354\",\"type\":\"areaNameVariation\"},{\"id\":\"355\",\"type\":\"areaNameVariation\"},{\"id\":\"356\",\"type\":\"areaNameVariation\"},{\"id\":\"357\",\"type\":\"areaNameVariation\"}]}}},\"53\":{\"id\":\"53\",\"type\":\"area\",\"attributes\":{\"name\":\"Sheraton\",\"translations\":null,\"latitude\":\"30.10554800\",\"longitude\":\"31.37698500\"},\"links\":{\"self\":\"https:\\u002F\\u002Fwuzzuf.net\\u002Fapi\\u002Farea\\u002F53\",\"browsePage\":\"a\\u002FJobs-in-Sheraton\"},\"relationships\":{\"city\":{\"data\":{\"id\":\"1545\",\"type\":\"city\"}},\"variations\":{\"data\":[{\"id\":\"374\",\"type\":\"areaNameVariation\"},{\"id\":\"375\",\"type\":\"areaNameVariation\"},{\"id\":\"376\",\"type\":\"areaNameVariation\"},{\"id\":\"377\",\"type\":\"areaNameVariation\"}]}}},\"55\":{\"id\":\"55\",\"type\":\"area\",\"attributes\":{\"name\":\"10th of Ramadan City\",\"translations\":null,\"latitude\":\"30.26737000\",\"longitude\":\"31.73264000\"},\"links\":{\"self\":\"https:\\u002F\\u002Fwuzzuf.net\\u002Fapi\\u002Farea\\u002F55\",\"browsePage\":\"a\\u002FJobs-in-10th-Of-Ramadan-City\"},\"relationships\":{\"city\":{\"data\":{\"id\":\"1545\",\"type\":\"city\"}},\"variations\":{\"data\":[{\"id\":\"389\",\"type\":\"areaNameVariation\"},{\"id\":\"390\",\"type\":\"areaNameVariation\"},{\"id\":\"391\",\"type\":\"areaNameVariation\"},{\"id\":\"392\",\"type\":\"areaNameVariation\"},{\"id\":\"393\",\"type\":\"areaNameVariation\"},{\"id\":\"394\",\"type\":\"areaNameVariation\"},{\"id\":\"395\",\"type\":\"areaNameVariation\"},{\"id\":\"396\",\"type\":\"areaNameVariation\"}]}}},\"61\":{\"id\":\"61\",\"type\":\"area\",\"attributes\":{\"name\":\"Giza\",\"translations\":null,\"latitude\":\"30.01670000\",\"longitude\":\"31.21670000\"},\"links\":{\"self\":\"https:\\u002F\\u002Fwuzzuf.net\\u002Fapi\\u002Farea\\u002F61\",\"browsePage\":\"a\\u002FJobs-in-Giza\"},\"relationships\":{\"city\":{\"data\":{\"id\":\"1550\",\"type\":\"city\"}},\"variations\":{\"data\":[{\"id\":\"437\",\"type\":\"areaNameVariation\"},{\"id\":\"438\",\"type\":\"areaNameVariation\"},{\"id\":\"439\",\"type\":\"areaNameVariation\"},{\"id\":\"440\",\"type\":\"areaNameVariation\"},{\"id\":\"441\",\"type\":\"areaNameVariation\"},{\"id\":\"442\",\"type\":\"areaNameVariation\"},{\"id\":\"443\",\"type\":\"areaNameVariation\"},{\"id\":\"444\",\"type\":\"areaNameVariation\"}]}}},\"63\":{\"id\":\"63\",\"type\":\"area\",\"attributes\":{\"name\":\"Dokki\",\"translations\":null,\"latitude\":\"30.04025500\",\"longitude\":\"31.20252600\"},\"links\":{\"self\":\"https:\\u002F\\u002Fwuzzuf.net\\u002Fapi\\u002Farea\\u002F63\",\"browsePage\":\"a\\u002FJobs-in-Dokki\"},\"relationships\":{\"city\":{\"data\":{\"id\":\"1550\",\"type\":\"city\"}},\"variations\":{\"data\":[{\"id\":\"455\",\"type\":\"areaNameVariation\"},{\"id\":\"456\",\"type\":\"areaNameVariation\"},{\"id\":\"457\",\"type\":\"areaNameVariation\"},{\"id\":\"458\",\"type\":\"areaNameVariation\"},{\"id\":\"459\",\"type\":\"areaNameVariation\"},{\"id\":\"460\",\"type\":\"areaNameVariation\"},{\"id\":\"461\",\"type\":\"areaNameVariation\"},{\"id\":\"462\",\"type\":\"areaNameVariation\"},{\"id\":\"463\",\"type\":\"areaNameVariation\"},{\"id\":\"464\",\"type\":\"areaNameVariation\"}]}}},\"64\":{\"id\":\"64\",\"type\":\"area\",\"attributes\":{\"name\":\"6th of October\",\"translations\":null,\"latitude\":\"29.93810000\",\"longitude\":\"30.91400000\"},\"links\":{\"self\":\"https:\\u002F\\u002Fwuzzuf.net\\u002Fapi\\u002Farea\\u002F64\",\"browsePage\":\"a\\u002FJobs-in-6th-Of-October\"},\"relationships\":{\"city\":{\"data\":{\"id\":\"1550\",\"type\":\"city\"}},\"variations\":{\"data\":[{\"id\":\"465\",\"type\":\"areaNameVariation\"},{\"id\":\"466\",\"type\":\"areaNameVariation\"},{\"id\":\"467\",\"type\":\"areaNameVariation\"},{\"id\":\"468\",\"type\":\"areaNameVariation\"},{\"id\":\"469\",\"type\":\"areaNameVariation\"},{\"id\":\"470\",\"type\":\"areaNameVariation\"},{\"id\":\"471\",\"type\":\"areaNameVariation\"},{\"id\":\"472\",\"type\":\"areaNameVariation\"},{\"id\":\"473\",\"type\":\"areaNameVariation\"},{\"id\":\"474\",\"type\":\"areaNameVariation\"},{\"id\":\"475\",\"type\":\"areaNameVariation\"},{\"id\":\"476\",\"type\":\"areaNameVariation\"},{\"id\":\"477\",\"type\":\"areaNameVariation\"},{\"id\":\"478\",\"type\":\"areaNameVariation\"}]}}},\"68\":{\"id\":\"68\",\"type\":\"area\",\"attributes\":{\"name\":\"Haram\",\"translations\":null,\"latitude\":\"30.00267900\",\"longitude\":\"31.17615800\"},\"links\":{\"self\":\"https:\\u002F\\u002Fwuzzuf.net\\u002Fapi\\u002Farea\\u002F68\",\"browsePage\":\"a\\u002FJobs-in-Haram\"},\"relationships\":{\"city\":{\"data\":{\"id\":\"1550\",\"type\":\"city\"}},\"variations\":{\"data\":[{\"id\":\"496\",\"type\":\"areaNameVariation\"},{\"id\":\"497\",\"type\":\"areaNameVariation\"},{\"id\":\"498\",\"type\":\"areaNameVariation\"},{\"id\":\"499\",\"type\":\"areaNameVariation\"},{\"id\":\"500\",\"type\":\"areaNameVariation\"},{\"id\":\"501\",\"type\":\"areaNameVariation\"},{\"id\":\"502\",\"type\":\"areaNameVariation\"},{\"id\":\"503\",\"type\":\"areaNameVariation\"},{\"id\":\"504\",\"type\":\"areaNameVariation\"},{\"id\":\"505\",\"type\":\"areaNameVariation\"},{\"id\":\"506\",\"type\":\"areaNameVariation\"},{\"id\":\"507\",\"type\":\"areaNameVariation\"},{\"id\":\"508\",\"type\":\"areaNameVariation\"},{\"id\":\"509\",\"type\":\"areaNameVariation\"},{\"id\":\"510\",\"type\":\"areaNameVariation\"},{\"id\":\"511\",\"type\":\"areaNameVariation\"},{\"id\":\"512\",\"type\":\"areaNameVariation\"},{\"id\":\"513\",\"type\":\"areaNameVariation\"},{\"id\":\"514\",\"type\":\"areaNameVariation\"},{\"id\":\"515\",\"type\":\"areaNameVariation\"},{\"id\":\"516\",\"type\":\"areaNameVariation\"},{\"id\":\"517\",\"type\":\"areaNameVariation\"},{\"id\":\"518\",\"type\":\"areaNameVariation\"},{\"id\":\"519\",\"type\":\"areaNameVariation\"},{\"id\":\"520\",\"type\":\"areaNameVariation\"},{\"id\":\"521\",\"type\":\"areaNameVariation\"},{\"id\":\"522\",\"type\":\"areaNameVariation\"},{\"id\":\"523\",\"type\":\"areaNameVariation\"},{\"id\":\"524\",\"type\":\"areaNameVariation\"},{\"id\":\"525\",\"type\":\"areaNameVariation\"}]}}},\"78\":{\"id\":\"78\",\"type\":\"area\",\"attributes\":{\"name\":\"Mohandessin\",\"translations\":null,\"latitude\":\"30.05310000\",\"longitude\":\"31.20170000\"},\"links\":{\"self\":\"https:\\u002F\\u002Fwuzzuf.net\\u002Fapi\\u002Farea\\u002F78\",\"browsePage\":\"a\\u002FJobs-in-Mohandessin\"},\"relationships\":{\"city\":{\"data\":{\"id\":\"1550\",\"type\":\"city\"}},\"variations\":{\"data\":[{\"id\":\"588\",\"type\":\"areaNameVariation\"},{\"id\":\"589\",\"type\":\"areaNameVariation\"},{\"id\":\"590\",\"type\":\"areaNameVariation\"},{\"id\":\"591\",\"type\":\"areaNameVariation\"},{\"id\":\"592\",\"type\":\"areaNameVariation\"},{\"id\":\"593\",\"type\":\"areaNameVariation\"},{\"id\":\"594\",\"type\":\"areaNameVariation\"},{\"id\":\"595\",\"type\":\"areaNameVariation\"},{\"id\":\"596\",\"type\":\"areaNameVariation\"},{\"id\":\"597\",\"type\":\"areaNameVariation\"},{\"id\":\"598\",\"type\":\"areaNameVariation\"}]}}},\"79\":{\"id\":\"79\",\"type\":\"area\",\"attributes\":{\"name\":\"Sheikh Zayed\",\"translations\":null,\"latitude\":\"30.02000000\",\"longitude\":\"31.00000000\"},\"links\":{\"self\":\"https:\\u002F\\u002Fwuzzuf.net\\u002Fapi\\u002Farea\\u002F79\",\"browsePage\":\"a\\u002FJobs-in-Sheikh-Zayed\"},\"relationships\":{\"city\":{\"data\":{\"id\":\"1550\",\"type\":\"city\"}},\"variations\":{\"data\":[{\"id\":\"599\",\"type\":\"areaNameVariation\"},{\"id\":\"600\",\"type\":\"areaNameVariation\"},{\"id\":\"601\",\"type\":\"areaNameVariation\"},{\"id\":\"602\",\"type\":\"areaNameVariation\"},{\"id\":\"603\",\"type\":\"areaNameVariation\"},{\"id\":\"604\",\"type\":\"areaNameVariation\"},{\"id\":\"605\",\"type\":\"areaNameVariation\"},{\"id\":\"606\",\"type\":\"areaNameVariation\"},{\"id\":\"607\",\"type\":\"areaNameVariation\"},{\"id\":\"608\",\"type\":\"areaNameVariation\"},{\"id\":\"609\",\"type\":\"areaNameVariation\"},{\"id\":\"610\",\"type\":\"areaNameVariation\"},{\"id\":\"611\",\"type\":\"areaNameVariation\"}]}}},\"81\":{\"id\":\"81\",\"type\":\"area\",\"attributes\":{\"name\":\"Abu Rawash\",\"translations\":null,\"latitude\":\"30.04265000\",\"longitude\":\"31.10047100\"},\"links\":{\"self\":\"https:\\u002F\\u002Fwuzzuf.net\\u002Fapi\\u002Farea\\u002F81\",\"browsePage\":\"a\\u002FJobs-in-Abu-Rawash\"},\"relationships\":{\"city\":{\"data\":{\"id\":\"1550\",\"type\":\"city\"}},\"variations\":{\"data\":[{\"id\":\"617\",\"type\":\"areaNameVariation\"},{\"id\":\"618\",\"type\":\"areaNameVariation\"},{\"id\":\"619\",\"type\":\"areaNameVariation\"},{\"id\":\"620\",\"type\":\"areaNameVariation\"},{\"id\":\"621\",\"type\":\"areaNameVariation\"},{\"id\":\"622\",\"type\":\"areaNameVariation\"}]}}},\"95\":{\"id\":\"95\",\"type\":\"area\",\"attributes\":{\"name\":\"Ameria\",\"translations\":null,\"latitude\":\"31.19754600\",\"longitude\":\"29.90216900\"},\"links\":{\"self\":\"https:\\u002F\\u002Fwuzzuf.net\\u002Fapi\\u002Farea\\u002F95\",\"browsePage\":\"a\\u002FJobs-in-Ameria\"},\"relationships\":{\"city\":{\"data\":{\"id\":\"1540\",\"type\":\"city\"}},\"variations\":{\"data\":[{\"id\":\"697\",\"type\":\"areaNameVariation\"},{\"id\":\"698\",\"type\":\"areaNameVariation\"},{\"id\":\"699\",\"type\":\"areaNameVariation\"},{\"id\":\"700\",\"type\":\"areaNameVariation\"},{\"id\":\"701\",\"type\":\"areaNameVariation\"}]}}},\"103\":{\"id\":\"103\",\"type\":\"area\",\"attributes\":{\"name\":\"Bourj Alarab\",\"translations\":null,\"latitude\":\"30.83586100\",\"longitude\":\"29.56258400\"},\"links\":{\"self\":\"https:\\u002F\\u002Fwuzzuf.net\\u002Fapi\\u002Farea\\u002F103\",\"browsePage\":\"a\\u002FJobs-in-Bourj-Alarab\"},\"relationships\":{\"city\":{\"data\":{\"id\":\"1540\",\"type\":\"city\"}},\"variations\":{\"data\":[{\"id\":\"727\",\"type\":\"areaNameVariation\"},{\"id\":\"728\",\"type\":\"areaNameVariation\"},{\"id\":\"729\",\"type\":\"areaNameVariation\"},{\"id\":\"730\",\"type\":\"areaNameVariation\"},{\"id\":\"731\",\"type\":\"areaNameVariation\"},{\"id\":\"732\",\"type\":\"areaNameVariation\"},{\"id\":\"733\",\"type\":\"areaNameVariation\"},{\"id\":\"734\",\"type\":\"areaNameVariation\"},{\"id\":\"735\",\"type\":\"areaNameVariation\"}]}}},\"105\":{\"id\":\"105\",\"type\":\"area\",\"attributes\":{\"name\":\"Smouha\",\"translations\":null,\"latitude\":\"31.21438900\",\"longitude\":\"29.94409100\"},\"links\":{\"self\":\"https:\\u002F\\u002Fwuzzuf.net\\u002Fapi\\u002Farea\\u002F105\",\"browsePage\":\"a\\u002FJobs-in-Smouha\"},\"relationships\":{\"city\":{\"data\":{\"id\":\"1540\",\"type\":\"city\"}},\"variations\":{\"data\":[{\"id\":\"738\",\"type\":\"areaNameVariation\"},{\"id\":\"739\",\"type\":\"areaNameVariation\"},{\"id\":\"740\",\"type\":\"areaNameVariation\"}]}}},\"226\":{\"id\":\"226\",\"type\":\"area\",\"attributes\":{\"name\":\"10th of Ramadan City\",\"translations\":null,\"latitude\":\"30.26737000\",\"longitude\":\"31.73264000\"},\"links\":{\"self\":\"https:\\u002F\\u002Fwuzzuf.net\\u002Fapi\\u002Farea\\u002F226\",\"browsePage\":\"a\\u002FJobs-in-10th-Of-Ramadan-City\"},\"relationships\":{\"city\":{\"data\":{\"id\":\"1563\",\"type\":\"city\"}},\"variations\":{\"data\":[{\"id\":\"1118\",\"type\":\"areaNameVariation\"},{\"id\":\"1119\",\"type\":\"areaNameVariation\"},{\"id\":\"1120\",\"type\":\"areaNameVariation\"},{\"id\":\"1121\",\"type\":\"areaNameVariation\"},{\"id\":\"1122\",\"type\":\"areaNameVariation\"},{\"id\":\"1123\",\"type\":\"areaNameVariation\"}]}}},\"269\":{\"id\":\"269\",\"type\":\"area\",\"attributes\":{\"name\":\"Alsadat City\",\"translations\":null,\"latitude\":\"30.37732000\",\"longitude\":\"30.53238000\"},\"links\":{\"self\":\"https:\\u002F\\u002Fwuzzuf.net\\u002Fapi\\u002Farea\\u002F269\",\"browsePage\":\"a\\u002FJobs-in-Alsadat-City\"},\"relationships\":{\"city\":{\"data\":{\"id\":\"1556\",\"type\":\"city\"}},\"variations\":{\"data\":[{\"id\":\"1277\",\"type\":\"areaNameVariation\"},{\"id\":\"1278\",\"type\":\"areaNameVariation\"},{\"id\":\"1279\",\"type\":\"areaNameVariation\"}]}}},\"357\":{\"id\":\"357\",\"type\":\"area\",\"attributes\":{\"name\":\"New Capital\",\"translations\":null,\"latitude\":\"29.99880250\",\"longitude\":\"31.73605610\"},\"links\":{\"self\":\"https:\\u002F\\u002Fwuzzuf.net\\u002Fapi\\u002Farea\\u002F357\",\"browsePage\":\"a\\u002FJobs-in-New-Capital\"},\"relationships\":{\"city\":{\"data\":{\"id\":\"1545\",\"type\":\"city\"}},\"variations\":{\"data\":[{\"id\":\"1490\",\"type\":\"areaNameVariation\"},{\"id\":\"1491\",\"type\":\"areaNameVariation\"},{\"id\":\"1492\",\"type\":\"areaNameVariation\"},{\"id\":\"1493\",\"type\":\"areaNameVariation\"}]}}}},\"isLoading\":false,\"timestamp\":null,\"error\":null},\"badgeCategory\":{\"isLoading\":false,\"timestamp\":null,\"collection\":{},\"error\":null},\"careerLevel\":{\"isLoading\":false,\"timestamp\":null,\"collection\":{},\"error\":null},\"city\":{\"collection\":{\"1540\":{\"id\":\"1540\",\"type\":\"city\",\"attributes\":{\"name\":\"Alexandria\",\"translations\":null,\"latitude\":\"31.21170300\",\"longitude\":\"29.91916800\",\"order\":null},\"links\":{\"self\":\"https:\\u002F\\u002Fwuzzuf.net\\u002Fapi\\u002Fcity\\u002F1540\",\"browsePage\":\"a\\u002FJobs-in-Alexandria\"},\"relationships\":{\"country\":{\"data\":{\"id\":\"56\",\"type\":\"country\"}}}},\"1541\":{\"id\":\"1541\",\"type\":\"city\",\"attributes\":{\"name\":\"Assiut\",\"translations\":null,\"latitude\":\"27.17913200\",\"longitude\":\"31.18596300\",\"order\":null},\"links\":{\"self\":\"https:\\u002F\\u002Fwuzzuf.net\\u002Fapi\\u002Fcity\\u002F1541\",\"browsePage\":\"a\\u002FJobs-in-Assiut\"},\"relationships\":{\"country\":{\"data\":{\"id\":\"56\",\"type\":\"country\"}}}},\"1543\":{\"id\":\"1543\",\"type\":\"city\",\"attributes\":{\"name\":\"Beheira\",\"translations\":null,\"latitude\":\"30.60470200\",\"longitude\":\"30.44616500\",\"order\":null},\"links\":{\"self\":\"https:\\u002F\\u002Fwuzzuf.net\\u002Fapi\\u002Fcity\\u002F1543\",\"browsePage\":\"a\\u002FJobs-in-Beheira\"},\"relationships\":{\"country\":{\"data\":{\"id\":\"56\",\"type\":\"country\"}}}},\"1544\":{\"id\":\"1544\",\"type\":\"city\",\"attributes\":{\"name\":\"Beni Suef\",\"translations\":null,\"latitude\":\"29.07388600\",\"longitude\":\"31.09865600\",\"order\":null},\"links\":{\"self\":\"https:\\u002F\\u002Fwuzzuf.net\\u002Fapi\\u002Fcity\\u002F1544\",\"browsePage\":\"a\\u002FJobs-in-Beni-Suef\"},\"relationships\":{\"country\":{\"data\":{\"id\":\"56\",\"type\":\"country\"}}}},\"1545\":{\"id\":\"1545\",\"type\":\"city\",\"attributes\":{\"name\":\"Cairo\",\"translations\":null,\"latitude\":\"30.05075900\",\"longitude\":\"31.23383900\",\"order\":null},\"links\":{\"self\":\"https:\\u002F\\u002Fwuzzuf.net\\u002Fapi\\u002Fcity\\u002F1545\",\"browsePage\":\"a\\u002FJobs-in-Cairo\"},\"relationships\":{\"country\":{\"data\":{\"id\":\"56\",\"type\":\"country\"}}}},\"1546\":{\"id\":\"1546\",\"type\":\"city\",\"attributes\":{\"name\":\"Dakahlia\",\"translations\":null,\"latitude\":\"31.04108300\",\"longitude\":\"31.47836900\",\"order\":null},\"links\":{\"self\":\"https:\\u002F\\u002Fwuzzuf.net\\u002Fapi\\u002Fcity\\u002F1546\",\"browsePage\":\"a\\u002FJobs-in-Dakahlia\"},\"relationships\":{\"country\":{\"data\":{\"id\":\"56\",\"type\":\"country\"}}}},\"1547\":{\"id\":\"1547\",\"type\":\"city\",\"attributes\":{\"name\":\"Damietta\",\"translations\":null,\"latitude\":\"31.42002400\",\"longitude\":\"31.81424400\",\"order\":null},\"links\":{\"self\":\"https:\\u002F\\u002Fwuzzuf.net\\u002Fapi\\u002Fcity\\u002F1547\",\"browsePage\":\"a\\u002FJobs-in-Damietta\"},\"relationships\":{\"country\":{\"data\":{\"id\":\"56\",\"type\":\"country\"}}}},\"1549\":{\"id\":\"1549\",\"type\":\"city\",\"attributes\":{\"name\":\"Gharbia\",\"translations\":null,\"latitude\":\"30.88748700\",\"longitude\":\"31.04771000\",\"order\":null},\"links\":{\"self\":\"https:\\u002F\\u002Fwuzzuf.net\\u002Fapi\\u002Fcity\\u002F1549\",\"browsePage\":\"a\\u002FJobs-in-Gharbia\"},\"relationships\":{\"country\":{\"data\":{\"id\":\"56\",\"type\":\"country\"}}}},\"1550\":{\"id\":\"1550\",\"type\":\"city\",\"attributes\":{\"name\":\"Giza\",\"translations\":null,\"latitude\":\"30.02063400\",\"longitude\":\"31.20886600\",\"order\":null},\"links\":{\"self\":\"https:\\u002F\\u002Fwuzzuf.net\\u002Fapi\\u002Fcity\\u002F1550\",\"browsePage\":\"a\\u002FJobs-in-Giza\"},\"relationships\":{\"country\":{\"data\":{\"id\":\"56\",\"type\":\"country\"}}}},\"1551\":{\"id\":\"1551\",\"type\":\"city\",\"attributes\":{\"name\":\"Ismailia\",\"translations\":null,\"latitude\":\"30.60350200\",\"longitude\":\"32.27262800\",\"order\":null},\"links\":{\"self\":\"https:\\u002F\\u002Fwuzzuf.net\\u002Fapi\\u002Fcity\\u002F1551\",\"browsePage\":\"a\\u002FJobs-in-Ismailia\"},\"relationships\":{\"country\":{\"data\":{\"id\":\"56\",\"type\":\"country\"}}}},\"1552\":{\"id\":\"1552\",\"type\":\"city\",\"attributes\":{\"name\":\"Kafr Alsheikh\",\"translations\":null,\"latitude\":\"31.30467100\",\"longitude\":\"30.92391000\",\"order\":null},\"links\":{\"self\":\"https:\\u002F\\u002Fwuzzuf.net\\u002Fapi\\u002Fcity\\u002F1552\",\"browsePage\":\"a\\u002FJobs-in-Kafr-Alsheikh\"},\"relationships\":{\"country\":{\"data\":{\"id\":\"56\",\"type\":\"country\"}}}},\"1554\":{\"id\":\"1554\",\"type\":\"city\",\"attributes\":{\"name\":\"Matruh\",\"translations\":null,\"latitude\":\"31.35714200\",\"longitude\":\"27.23747700\",\"order\":null},\"links\":{\"self\":\"https:\\u002F\\u002Fwuzzuf.net\\u002Fapi\\u002Fcity\\u002F1554\",\"browsePage\":\"a\\u002FJobs-in-Matruh\"},\"relationships\":{\"country\":{\"data\":{\"id\":\"56\",\"type\":\"country\"}}}},\"1555\":{\"id\":\"1555\",\"type\":\"city\",\"attributes\":{\"name\":\"Minya\",\"translations\":null,\"latitude\":\"28.08961600\",\"longitude\":\"30.76222200\",\"order\":null},\"links\":{\"self\":\"https:\\u002F\\u002Fwuzzuf.net\\u002Fapi\\u002Fcity\\u002F1555\",\"browsePage\":\"a\\u002FJobs-in-Minya\"},\"relationships\":{\"country\":{\"data\":{\"id\":\"56\",\"type\":\"country\"}}}},\"1556\":{\"id\":\"1556\",\"type\":\"city\",\"attributes\":{\"name\":\"Monufya\",\"translations\":null,\"latitude\":\"30.47111300\",\"longitude\":\"30.98713200\",\"order\":null},\"links\":{\"self\":\"https:\\u002F\\u002Fwuzzuf.net\\u002Fapi\\u002Fcity\\u002F1556\",\"browsePage\":\"a\\u002FJobs-in-Monufya\"},\"relationships\":{\"country\":{\"data\":{\"id\":\"56\",\"type\":\"country\"}}}},\"1559\":{\"id\":\"1559\",\"type\":\"city\",\"attributes\":{\"name\":\"Port Said\",\"translations\":null,\"latitude\":\"31.27072300\",\"longitude\":\"32.30057400\",\"order\":null},\"links\":{\"self\":\"https:\\u002F\\u002Fwuzzuf.net\\u002Fapi\\u002Fcity\\u002F1559\",\"browsePage\":\"a\\u002FJobs-in-Port-Said\"},\"relationships\":{\"country\":{\"data\":{\"id\":\"56\",\"type\":\"country\"}}}},\"1560\":{\"id\":\"1560\",\"type\":\"city\",\"attributes\":{\"name\":\"Qalubia\",\"translations\":null,\"latitude\":\"30.28010500\",\"longitude\":\"31.22444600\",\"order\":null},\"links\":{\"self\":\"https:\\u002F\\u002Fwuzzuf.net\\u002Fapi\\u002Fcity\\u002F1560\",\"browsePage\":\"a\\u002FJobs-in-Qalubia\"},\"relationships\":{\"country\":{\"data\":{\"id\":\"56\",\"type\":\"country\"}}}},\"1562\":{\"id\":\"1562\",\"type\":\"city\",\"attributes\":{\"name\":\"Red Sea\",\"translations\":null,\"latitude\":\"27.23254600\",\"longitude\":\"33.83757300\",\"order\":null},\"links\":{\"self\":\"https:\\u002F\\u002Fwuzzuf.net\\u002Fapi\\u002Fcity\\u002F1562\",\"browsePage\":\"a\\u002FJobs-in-Red-Sea\"},\"relationships\":{\"country\":{\"data\":{\"id\":\"56\",\"type\":\"country\"}}}},\"1563\":{\"id\":\"1563\",\"type\":\"city\",\"attributes\":{\"name\":\"Sharqia\",\"translations\":null,\"latitude\":\"30.73698000\",\"longitude\":\"31.70685100\",\"order\":null},\"links\":{\"self\":\"https:\\u002F\\u002Fwuzzuf.net\\u002Fapi\\u002Fcity\\u002F1563\",\"browsePage\":\"a\\u002FJobs-in-Sharqia\"},\"relationships\":{\"country\":{\"data\":{\"id\":\"56\",\"type\":\"country\"}}}},\"1564\":{\"id\":\"1564\",\"type\":\"city\",\"attributes\":{\"name\":\"Sohag\",\"translations\":null,\"latitude\":\"26.56037100\",\"longitude\":\"31.69566000\",\"order\":null},\"links\":{\"self\":\"https:\\u002F\\u002Fwuzzuf.net\\u002Fapi\\u002Fcity\\u002F1564\",\"browsePage\":\"a\\u002FJobs-in-Sohag\"},\"relationships\":{\"country\":{\"data\":{\"id\":\"56\",\"type\":\"country\"}}}},\"1565\":{\"id\":\"1565\",\"type\":\"city\",\"attributes\":{\"name\":\"South Sinai\",\"translations\":null,\"latitude\":\"29.01480500\",\"longitude\":\"33.91157400\",\"order\":null},\"links\":{\"self\":\"https:\\u002F\\u002Fwuzzuf.net\\u002Fapi\\u002Fcity\\u002F1565\",\"browsePage\":\"a\\u002FJobs-in-South-Sinai\"},\"relationships\":{\"country\":{\"data\":{\"id\":\"56\",\"type\":\"country\"}}}},\"1566\":{\"id\":\"1566\",\"type\":\"city\",\"attributes\":{\"name\":\"Suez\",\"translations\":null,\"latitude\":\"29.97380700\",\"longitude\":\"32.54806200\",\"order\":null},\"links\":{\"self\":\"https:\\u002F\\u002Fwuzzuf.net\\u002Fapi\\u002Fcity\\u002F1566\",\"browsePage\":\"a\\u002FJobs-in-Suez\"},\"relationships\":{\"country\":{\"data\":{\"id\":\"56\",\"type\":\"country\"}}}},\"4695\":{\"id\":\"4695\",\"type\":\"city\",\"attributes\":{\"name\":\"Jeddah\",\"translations\":null,\"latitude\":\"21.54330000\",\"longitude\":\"39.17280000\",\"order\":2},\"links\":{\"self\":\"https:\\u002F\\u002Fwuzzuf.net\\u002Fapi\\u002Fcity\\u002F4695\",\"browsePage\":\"a\\u002FJobs-in-Jeddah\"},\"relationships\":{\"country\":{\"data\":{\"id\":\"163\",\"type\":\"country\"}}}},\"4712\":{\"id\":\"4712\",\"type\":\"city\",\"attributes\":{\"name\":\"Riyadh\",\"translations\":null,\"latitude\":\"24.63330000\",\"longitude\":\"46.71670000\",\"order\":1},\"links\":{\"self\":\"https:\\u002F\\u002Fwuzzuf.net\\u002Fapi\\u002Fcity\\u002F4712\",\"browsePage\":\"a\\u002FJobs-in-Riyadh\"},\"relationships\":{\"country\":{\"data\":{\"id\":\"163\",\"type\":\"country\"}}}},\"5430\":{\"id\":\"5430\",\"type\":\"city\",\"attributes\":{\"name\":\"Ajman\",\"translations\":null,\"latitude\":\"25.41111000\",\"longitude\":\"55.43504000\",\"order\":null},\"links\":{\"self\":\"https:\\u002F\\u002Fwuzzuf.net\\u002Fapi\\u002Fcity\\u002F5430\",\"browsePage\":\"a\\u002FJobs-in-Ajman\"},\"relationships\":{\"country\":{\"data\":{\"id\":\"196\",\"type\":\"country\"}}}},\"5433\":{\"id\":\"5433\",\"type\":\"city\",\"attributes\":{\"name\":\"Dubai\",\"translations\":null,\"latitude\":\"25.06570000\",\"longitude\":\"55.17128000\",\"order\":null},\"links\":{\"self\":\"https:\\u002F\\u002Fwuzzuf.net\\u002Fapi\\u002Fcity\\u002F5433\",\"browsePage\":\"a\\u002FJobs-in-Dubai\"},\"relationships\":{\"country\":{\"data\":{\"id\":\"196\",\"type\":\"country\"}}}}},\"isLoading\":false,\"timestamp\":null,\"error\":null},\"companySize\":{\"isLoading\":false,\"timestamp\":null,\"collection\":{},\"error\":null},\"country\":{\"collection\":{\"56\":{\"id\":\"56\",\"type\":\"country\",\"attributes\":{\"name\":\"Egypt\",\"iso2Code\":\"EG\",\"translations\":null},\"links\":{\"self\":\"https:\\u002F\\u002Fwuzzuf.net\\u002Fapi\\u002Fcountry\\u002F56\"},\"relationships\":{\"currency\":{\"data\":{\"id\":\"43\",\"type\":\"currency\"}}}}},\"isLoading\":false,\"timestamp\":null,\"error\":null},\"currency\":{\"collection\":{\"43\":{\"id\":\"43\",\"type\":\"currency\",\"attributes\":{\"name\":\"Egyptian Pound\",\"code\":\"EGP\",\"symbol\":\"\",\"conversionRateToUsd\":0.0202943,\"translations\":null}}},\"isLoading\":false,\"timestamp\":null,\"error\":null},\"educationalDegree\":{\"isLoading\":false,\"timestamp\":null,\"collection\":{},\"error\":null},\"educationalGrade\":{\"isLoading\":false,\"timestamp\":null,\"collection\":{},\"error\":null},\"lookupLearningCategory\":{\"isLoading\":false,\"timestamp\":null,\"collection\":{},\"error\":null},\"onlinePresenceNetwork\":{\"isLoading\":false,\"timestamp\":null,\"collection\":{},\"error\":null},\"salaryPeriod\":{\"isLoading\":false,\"timestamp\":null,\"collection\":{},\"error\":null},\"school\":{\"isLoading\":false,\"timestamp\":null,\"collection\":{},\"error\":null},\"workIndustry\":{\"isLoading\":false,\"timestamp\":null,\"collection\":{},\"error\":null},\"workRole\":{\"collection\":{\"1\":{\"id\":\"1\",\"type\":\"workRole\",\"attributes\":{\"name\":\"Select\",\"translations\":null,\"searchName\":null},\"meta\":{}},\"2\":{\"id\":\"2\",\"type\":\"workRole\",\"attributes\":{\"name\":\"Accounting\\u002FFinance\",\"translations\":null,\"searchName\":\"Accounting-Finance-Jobs\"},\"links\":{\"browsePage\":\"a\\u002FAccounting-Finance-Jobs-in-Egypt\"},\"meta\":{\"image\":{\"small\":\"https:\\u002F\\u002Fimages.wuzzuf-data.net\\u002Ffiles\\u002Fassets\\u002Fwork-roles\\u002FAccounting-Finance-Jobs.jpg\",\"large\":\"https:\\u002F\\u002Fimages.wuzzuf-data.net\\u002Ffiles\\u002Fassets\\u002Fwork-roles\\u002FAccounting-Finance-Jobs-lrg.jpg\"}}},\"3\":{\"id\":\"3\",\"type\":\"workRole\",\"attributes\":{\"name\":\"Administration\",\"translations\":null,\"searchName\":\"Administration-Jobs\"},\"links\":{\"browsePage\":\"a\\u002FAdministration-Jobs-in-Egypt\"},\"meta\":{\"image\":{\"small\":\"https:\\u002F\\u002Fimages.wuzzuf-data.net\\u002Ffiles\\u002Fassets\\u002Fwork-roles\\u002FAdministration-Jobs.jpg\",\"large\":\"https:\\u002F\\u002Fimages.wuzzuf-data.net\\u002Ffiles\\u002Fassets\\u002Fwork-roles\\u002FAdministration-Jobs-lrg.jpg\"}}},\"4\":{\"id\":\"4\",\"type\":\"workRole\",\"attributes\":{\"name\":\"Banking\",\"translations\":null,\"searchName\":\"Banking-Jobs\"},\"links\":{\"browsePage\":\"a\\u002FBanking-Jobs-in-Egypt\"},\"meta\":{\"image\":{\"small\":\"https:\\u002F\\u002Fimages.wuzzuf-data.net\\u002Ffiles\\u002Fassets\\u002Fwork-roles\\u002FBanking-Jobs.jpg\",\"large\":\"https:\\u002F\\u002Fimages.wuzzuf-data.net\\u002Ffiles\\u002Fassets\\u002Fwork-roles\\u002FBanking-Jobs-lrg.jpg\"}}},\"5\":{\"id\":\"5\",\"type\":\"workRole\",\"attributes\":{\"name\":\"R&D\\u002FScience\",\"translations\":null,\"searchName\":\"R&D-Science-Jobs\"},\"links\":{\"browsePage\":\"a\\u002FR-D-Science-Jobs-in-Egypt\"},\"meta\":{\"image\":{\"small\":\"https:\\u002F\\u002Fimages.wuzzuf-data.net\\u002Ffiles\\u002Fassets\\u002Fwork-roles\\u002FR&D-Science-Jobs.jpg\",\"large\":\"https:\\u002F\\u002Fimages.wuzzuf-data.net\\u002Ffiles\\u002Fassets\\u002Fwork-roles\\u002FR&D-Science-Jobs-lrg.jpg\"}}},\"6\":{\"id\":\"6\",\"type\":\"workRole\",\"attributes\":{\"name\":\"Engineering - Construction\\u002FCivil\\u002FArchitecture\",\"translations\":null,\"searchName\":\"Engineering-Construction-Civil-Architecture-Jobs\"},\"links\":{\"browsePage\":\"a\\u002FEngineering-Construction-Civil-Architecture-Jobs-in-Egypt\"},\"meta\":{\"image\":{\"small\":\"https:\\u002F\\u002Fimages.wuzzuf-data.net\\u002Ffiles\\u002Fassets\\u002Fwork-roles\\u002FEngineering-Construction-Civil-Architecture-Jobs.jpg\",\"large\":\"https:\\u002F\\u002Fimages.wuzzuf-data.net\\u002Ffiles\\u002Fassets\\u002Fwork-roles\\u002FEngineering-Construction-Civil-Architecture-Jobs-lrg.jpg\"}}},\"7\":{\"id\":\"7\",\"type\":\"workRole\",\"attributes\":{\"name\":\"Business Development\",\"translations\":null,\"searchName\":\"Business-Jobs\"},\"links\":{\"browsePage\":\"a\\u002FBusiness-Jobs-in-Egypt\"},\"meta\":{\"image\":{\"small\":\"https:\\u002F\\u002Fimages.wuzzuf-data.net\\u002Ffiles\\u002Fassets\\u002Fwork-roles\\u002FBusiness-Jobs.jpg\",\"large\":\"https:\\u002F\\u002Fimages.wuzzuf-data.net\\u002Ffiles\\u002Fassets\\u002Fwork-roles\\u002FBusiness-Jobs-lrg.jpg\"}}},\"8\":{\"id\":\"8\",\"type\":\"workRole\",\"attributes\":{\"name\":\"Creative\\u002FDesign\\u002FArt\",\"translations\":null,\"searchName\":\"Creative-Design-Art-Jobs\"},\"links\":{\"browsePage\":\"a\\u002FCreative-Design-Art-Jobs-in-Egypt\"},\"meta\":{\"image\":{\"small\":\"https:\\u002F\\u002Fimages.wuzzuf-data.net\\u002Ffiles\\u002Fassets\\u002Fwork-roles\\u002FCreative-Design-Art-Jobs.jpg\",\"large\":\"https:\\u002F\\u002Fimages.wuzzuf-data.net\\u002Ffiles\\u002Fassets\\u002Fwork-roles\\u002FCreative-Design-Art-Jobs-lrg.jpg\"}}},\"9\":{\"id\":\"9\",\"type\":\"workRole\",\"attributes\":{\"name\":\"Customer Service\\u002FSupport\",\"translations\":null,\"searchName\":\"Customer-Service-Jobs \"},\"links\":{\"browsePage\":\"a\\u002FCustomer-Service-Jobs-in-Egypt\"},\"meta\":{\"image\":{\"small\":\"https:\\u002F\\u002Fimages.wuzzuf-data.net\\u002Ffiles\\u002Fassets\\u002Fwork-roles\\u002FCustomer-Service-Jobs.jpg\",\"large\":\"https:\\u002F\\u002Fimages.wuzzuf-data.net\\u002Ffiles\\u002Fassets\\u002Fwork-roles\\u002FCustomer-Service-Jobs-lrg.jpg\"}}},\"10\":{\"id\":\"10\",\"type\":\"workRole\",\"attributes\":{\"name\":\"Writing\\u002FEditorial\",\"translations\":null,\"searchName\":\"Editorial-Writing-Jobs\"},\"links\":{\"browsePage\":\"a\\u002FEditorial-Writing-Jobs-in-Egypt\"},\"meta\":{\"image\":{\"small\":\"https:\\u002F\\u002Fimages.wuzzuf-data.net\\u002Ffiles\\u002Fassets\\u002Fwork-roles\\u002FEditorial-Writing-Jobs.jpg\",\"large\":\"https:\\u002F\\u002Fimages.wuzzuf-data.net\\u002Ffiles\\u002Fassets\\u002Fwork-roles\\u002FEditorial-Writing-Jobs-lrg.jpg\"}}},\"13\":{\"id\":\"13\",\"type\":\"workRole\",\"attributes\":{\"name\":\"Hospitality\\u002FHotels\\u002FFood Services\",\"translations\":null,\"searchName\":\"Hospitality-Hotels-Food-Jobs\"},\"links\":{\"browsePage\":\"a\\u002FHospitality-Hotels-Food-Jobs-in-Egypt\"},\"meta\":{\"image\":{\"small\":\"https:\\u002F\\u002Fimages.wuzzuf-data.net\\u002Ffiles\\u002Fassets\\u002Fwork-roles\\u002FHospitality-Hotels-Food-Jobs.jpg\",\"large\":\"https:\\u002F\\u002Fimages.wuzzuf-data.net\\u002Ffiles\\u002Fassets\\u002Fwork-roles\\u002FHospitality-Hotels-Food-Jobs-lrg.jpg\"}}},\"14\":{\"id\":\"14\",\"type\":\"workRole\",\"attributes\":{\"name\":\"Human Resources\",\"translations\":null,\"searchName\":\"Human-Resources-HR-Jobs\"},\"links\":{\"browsePage\":\"a\\u002FHuman-Resources-HR-Jobs-in-Egypt\"},\"meta\":{\"image\":{\"small\":\"https:\\u002F\\u002Fimages.wuzzuf-data.net\\u002Ffiles\\u002Fassets\\u002Fwork-roles\\u002FHuman-Resources-HR-Jobs.jpg\",\"large\":\"https:\\u002F\\u002Fimages.wuzzuf-data.net\\u002Ffiles\\u002Fassets\\u002Fwork-roles\\u002FHuman-Resources-HR-Jobs-lrg.jpg\"}}},\"15\":{\"id\":\"15\",\"type\":\"workRole\",\"attributes\":{\"name\":\"Installation\\u002FMaintenance\\u002FRepair\",\"translations\":null,\"searchName\":\"Installation-Maintenance-Jobs\"},\"links\":{\"browsePage\":\"a\\u002FInstallation-Maintenance-Jobs-in-Egypt\"},\"meta\":{\"image\":{\"small\":\"https:\\u002F\\u002Fimages.wuzzuf-data.net\\u002Ffiles\\u002Fassets\\u002Fwork-roles\\u002FInstallation-Maintenance-Jobs.jpg\",\"large\":\"https:\\u002F\\u002Fimages.wuzzuf-data.net\\u002Ffiles\\u002Fassets\\u002Fwork-roles\\u002FInstallation-Maintenance-Jobs-lrg.jpg\"}}},\"16\":{\"id\":\"16\",\"type\":\"workRole\",\"attributes\":{\"name\":\"IT\\u002FSoftware Development\",\"translations\":null,\"searchName\":\"IT-Software-Development-Jobs\"},\"links\":{\"browsePage\":\"a\\u002FIT-Software-Development-Jobs-in-Egypt\"},\"meta\":{\"image\":{\"small\":\"https:\\u002F\\u002Fimages.wuzzuf-data.net\\u002Ffiles\\u002Fassets\\u002Fwork-roles\\u002FIT-Software-Development-Jobs.jpg\",\"large\":\"https:\\u002F\\u002Fimages.wuzzuf-data.net\\u002Ffiles\\u002Fassets\\u002Fwork-roles\\u002FIT-Software-Development-Jobs-lrg.jpg\"}}},\"17\":{\"id\":\"17\",\"type\":\"workRole\",\"attributes\":{\"name\":\"Legal\",\"translations\":null,\"searchName\":\"Legal-Jobs\"},\"links\":{\"browsePage\":\"a\\u002FLegal-Jobs-in-Egypt\"},\"meta\":{\"image\":{\"small\":\"https:\\u002F\\u002Fimages.wuzzuf-data.net\\u002Ffiles\\u002Fassets\\u002Fwork-roles\\u002FLegal-Jobs.jpg\",\"large\":\"https:\\u002F\\u002Fimages.wuzzuf-data.net\\u002Ffiles\\u002Fassets\\u002Fwork-roles\\u002FLegal-Jobs-lrg.jpg\"}}},\"18\":{\"id\":\"18\",\"type\":\"workRole\",\"attributes\":{\"name\":\"Logistics\\u002FSupply Chain\",\"translations\":null,\"searchName\":\"Logistics-Supply-Chain-Jobs\"},\"links\":{\"browsePage\":\"a\\u002FLogistics-Supply-Chain-Jobs-in-Egypt\"},\"meta\":{\"image\":{\"small\":\"https:\\u002F\\u002Fimages.wuzzuf-data.net\\u002Ffiles\\u002Fassets\\u002Fwork-roles\\u002FLogistics-Supply-Chain-Jobs.jpg\",\"large\":\"https:\\u002F\\u002Fimages.wuzzuf-data.net\\u002Ffiles\\u002Fassets\\u002Fwork-roles\\u002FLogistics-Supply-Chain-Jobs-lrg.jpg\"}}},\"19\":{\"id\":\"19\",\"type\":\"workRole\",\"attributes\":{\"name\":\"Operations\\u002FManagement\",\"translations\":null,\"searchName\":\"Operations-Management-Jobs\"},\"links\":{\"browsePage\":\"a\\u002FOperations-Management-Jobs-in-Egypt\"},\"meta\":{\"image\":{\"small\":\"https:\\u002F\\u002Fimages.wuzzuf-data.net\\u002Ffiles\\u002Fassets\\u002Fwork-roles\\u002FOperations-Management-Jobs.jpg\",\"large\":\"https:\\u002F\\u002Fimages.wuzzuf-data.net\\u002Ffiles\\u002Fassets\\u002Fwork-roles\\u002FOperations-Management-Jobs-lrg.jpg\"}}},\"20\":{\"id\":\"20\",\"type\":\"workRole\",\"attributes\":{\"name\":\"Manufacturing\\u002FProduction\",\"translations\":null,\"searchName\":\"Manufacturing-Production-Jobs\"},\"links\":{\"browsePage\":\"a\\u002FManufacturing-Production-Jobs-in-Egypt\"},\"meta\":{\"image\":{\"small\":\"https:\\u002F\\u002Fimages.wuzzuf-data.net\\u002Ffiles\\u002Fassets\\u002Fwork-roles\\u002FManufacturing-Production-Jobs.jpg\",\"large\":\"https:\\u002F\\u002Fimages.wuzzuf-data.net\\u002Ffiles\\u002Fassets\\u002Fwork-roles\\u002FManufacturing-Production-Jobs-lrg.jpg\"}}},\"21\":{\"id\":\"21\",\"type\":\"workRole\",\"attributes\":{\"name\":\"Marketing\\u002FPR\\u002FAdvertising\",\"translations\":null,\"searchName\":\"Marketing-PR-Advertising-Jobs\"},\"links\":{\"browsePage\":\"a\\u002FMarketing-PR-Advertising-Jobs-in-Egypt\"},\"meta\":{\"image\":{\"small\":\"https:\\u002F\\u002Fimages.wuzzuf-data.net\\u002Ffiles\\u002Fassets\\u002Fwork-roles\\u002FMarketing-PR-Advertising-Jobs.jpg\",\"large\":\"https:\\u002F\\u002Fimages.wuzzuf-data.net\\u002Ffiles\\u002Fassets\\u002Fwork-roles\\u002FMarketing-PR-Advertising-Jobs-lrg.jpg\"}}},\"22\":{\"id\":\"22\",\"type\":\"workRole\",\"attributes\":{\"name\":\"Medical\\u002FHealthcare\",\"translations\":null,\"searchName\":\"Healthcare-Medical-Jobs\"},\"links\":{\"browsePage\":\"a\\u002FHealthcare-Medical-Jobs-in-Egypt\"},\"meta\":{\"image\":{\"small\":\"https:\\u002F\\u002Fimages.wuzzuf-data.net\\u002Ffiles\\u002Fassets\\u002Fwork-roles\\u002FHealthcare-Medical-Jobs.jpg\",\"large\":\"https:\\u002F\\u002Fimages.wuzzuf-data.net\\u002Ffiles\\u002Fassets\\u002Fwork-roles\\u002FHealthcare-Medical-Jobs-lrg.jpg\"}}},\"23\":{\"id\":\"23\",\"type\":\"workRole\",\"attributes\":{\"name\":\"Other\",\"translations\":null,\"searchName\":null},\"meta\":{}},\"24\":{\"id\":\"24\",\"type\":\"workRole\",\"attributes\":{\"name\":\"Project\\u002FProgram Management\",\"translations\":null,\"searchName\":\"Program-Project-Management-Jobs\"},\"links\":{\"browsePage\":\"a\\u002FProgram-Project-Management-Jobs-in-Egypt\"},\"meta\":{\"image\":{\"small\":\"https:\\u002F\\u002Fimages.wuzzuf-data.net\\u002Ffiles\\u002Fassets\\u002Fwork-roles\\u002FProgram-Project-Management-Jobs.jpg\",\"large\":\"https:\\u002F\\u002Fimages.wuzzuf-data.net\\u002Ffiles\\u002Fassets\\u002Fwork-roles\\u002FProgram-Project-Management-Jobs-lrg.jpg\"}}},\"25\":{\"id\":\"25\",\"type\":\"workRole\",\"attributes\":{\"name\":\"Quality\",\"translations\":null,\"searchName\":\"Quality-Jobs\"},\"links\":{\"browsePage\":\"a\\u002FQuality-Jobs-in-Egypt\"},\"meta\":{\"image\":{\"small\":\"https:\\u002F\\u002Fimages.wuzzuf-data.net\\u002Ffiles\\u002Fassets\\u002Fwork-roles\\u002FQuality-Jobs.jpg\",\"large\":\"https:\\u002F\\u002Fimages.wuzzuf-data.net\\u002Ffiles\\u002Fassets\\u002Fwork-roles\\u002FQuality-Jobs-lrg.jpg\"}}},\"26\":{\"id\":\"26\",\"type\":\"workRole\",\"attributes\":{\"name\":\"Analyst\\u002FResearch\",\"translations\":null,\"searchName\":\"Analyst-Research-Jobs\"},\"links\":{\"browsePage\":\"a\\u002FAnalyst-Research-Jobs-in-Egypt\"},\"meta\":{\"image\":{\"small\":\"https:\\u002F\\u002Fimages.wuzzuf-data.net\\u002Ffiles\\u002Fassets\\u002Fwork-roles\\u002FAnalyst-Research-Jobs.jpg\",\"large\":\"https:\\u002F\\u002Fimages.wuzzuf-data.net\\u002Ffiles\\u002Fassets\\u002Fwork-roles\\u002FAnalyst-Research-Jobs-lrg.jpg\"}}},\"27\":{\"id\":\"27\",\"type\":\"workRole\",\"attributes\":{\"name\":\"Sales\\u002FRetail\",\"translations\":null,\"searchName\":\"Sales-Jobs\"},\"links\":{\"browsePage\":\"a\\u002FSales-Jobs-in-Egypt\"},\"meta\":{\"image\":{\"small\":\"https:\\u002F\\u002Fimages.wuzzuf-data.net\\u002Ffiles\\u002Fassets\\u002Fwork-roles\\u002FSales-Jobs.jpg\",\"large\":\"https:\\u002F\\u002Fimages.wuzzuf-data.net\\u002Ffiles\\u002Fassets\\u002Fwork-roles\\u002FSales-Jobs-lrg.jpg\"}}},\"28\":{\"id\":\"28\",\"type\":\"workRole\",\"attributes\":{\"name\":\"Media\\u002FJournalism\\u002FPublishing\",\"translations\":null,\"searchName\":\"Media-Journalism-Publishing-Jobs\"},\"links\":{\"browsePage\":\"a\\u002FMedia-Journalism-Publishing-Jobs-in-Egypt\"},\"meta\":{\"image\":{\"small\":\"https:\\u002F\\u002Fimages.wuzzuf-data.net\\u002Ffiles\\u002Fassets\\u002Fwork-roles\\u002FMedia-Journalism-Publishing-Jobs.jpg\",\"large\":\"https:\\u002F\\u002Fimages.wuzzuf-data.net\\u002Ffiles\\u002Fassets\\u002Fwork-roles\\u002FMedia-Journalism-Publishing-Jobs-lrg.jpg\"}}},\"29\":{\"id\":\"29\",\"type\":\"workRole\",\"attributes\":{\"name\":\"Sports and Leisure\",\"translations\":null,\"searchName\":\"Sports-Leisure-Jobs\"},\"links\":{\"browsePage\":\"a\\u002FSports-Leisure-Jobs-in-Egypt\"},\"meta\":{\"image\":{\"small\":\"https:\\u002F\\u002Fimages.wuzzuf-data.net\\u002Ffiles\\u002Fassets\\u002Fwork-roles\\u002FSports-Leisure-Jobs.jpg\",\"large\":\"https:\\u002F\\u002Fimages.wuzzuf-data.net\\u002Ffiles\\u002Fassets\\u002Fwork-roles\\u002FSports-Leisure-Jobs-lrg.jpg\"}}},\"30\":{\"id\":\"30\",\"type\":\"workRole\",\"attributes\":{\"name\":\"Fashion\",\"translations\":null,\"searchName\":\"Fashion-Jobs\"},\"links\":{\"browsePage\":\"a\\u002FFashion-Jobs-in-Egypt\"},\"meta\":{\"image\":{\"small\":\"https:\\u002F\\u002Fimages.wuzzuf-data.net\\u002Ffiles\\u002Fassets\\u002Fwork-roles\\u002FFashion-Jobs.jpg\",\"large\":\"https:\\u002F\\u002Fimages.wuzzuf-data.net\\u002Ffiles\\u002Fassets\\u002Fwork-roles\\u002FFashion-Jobs-lrg.jpg\"}}},\"31\":{\"id\":\"31\",\"type\":\"workRole\",\"attributes\":{\"name\":\"Pharmaceutical\",\"translations\":null,\"searchName\":\"Pharmaceutical-Jobs\"},\"links\":{\"browsePage\":\"a\\u002FPharmaceutical-Jobs-in-Egypt\"},\"meta\":{\"image\":{\"small\":\"https:\\u002F\\u002Fimages.wuzzuf-data.net\\u002Ffiles\\u002Fassets\\u002Fwork-roles\\u002FPharmaceutical-Jobs.jpg\",\"large\":\"https:\\u002F\\u002Fimages.wuzzuf-data.net\\u002Ffiles\\u002Fassets\\u002Fwork-roles\\u002FPharmaceutical-Jobs-lrg.jpg\"}}},\"32\":{\"id\":\"32\",\"type\":\"workRole\",\"attributes\":{\"name\":\"Tourism\\u002FTravel\",\"translations\":null,\"searchName\":\"Tourism-Travel-Jobs\"},\"links\":{\"browsePage\":\"a\\u002FTourism-Travel-Jobs-in-Egypt\"},\"meta\":{\"image\":{\"small\":\"https:\\u002F\\u002Fimages.wuzzuf-data.net\\u002Ffiles\\u002Fassets\\u002Fwork-roles\\u002FTourism-Travel-Jobs.jpg\",\"large\":\"https:\\u002F\\u002Fimages.wuzzuf-data.net\\u002Ffiles\\u002Fassets\\u002Fwork-roles\\u002FTourism-Travel-Jobs-lrg.jpg\"}}},\"33\":{\"id\":\"33\",\"type\":\"workRole\",\"attributes\":{\"name\":\"Purchasing\\u002FProcurement\",\"translations\":null,\"searchName\":\"Purchasing-Procurement-Jobs\"},\"links\":{\"browsePage\":\"a\\u002FPurchasing-Procurement-Jobs-in-Egypt\"},\"meta\":{\"image\":{\"small\":\"https:\\u002F\\u002Fimages.wuzzuf-data.net\\u002Ffiles\\u002Fassets\\u002Fwork-roles\\u002FPurchasing-Procurement-Jobs.jpg\",\"large\":\"https:\\u002F\\u002Fimages.wuzzuf-data.net\\u002Ffiles\\u002Fassets\\u002Fwork-roles\\u002FPurchasing-Procurement-Jobs-lrg.jpg\"}}},\"34\":{\"id\":\"34\",\"type\":\"workRole\",\"attributes\":{\"name\":\"Strategy\\u002FConsulting\",\"translations\":null,\"searchName\":\"Strategy-Consulting-Jobs\"},\"links\":{\"browsePage\":\"a\\u002FStrategy-Consulting-Jobs-in-Egypt\"},\"meta\":{\"image\":{\"small\":\"https:\\u002F\\u002Fimages.wuzzuf-data.net\\u002Ffiles\\u002Fassets\\u002Fwork-roles\\u002FStrategy-Consulting-Jobs.jpg\",\"large\":\"https:\\u002F\\u002Fimages.wuzzuf-data.net\\u002Ffiles\\u002Fassets\\u002Fwork-roles\\u002FStrategy-Consulting-Jobs-lrg.jpg\"}}},\"35\":{\"id\":\"35\",\"type\":\"workRole\",\"attributes\":{\"name\":\"C-Level Executive\\u002FGM\\u002FDirector\",\"translations\":null,\"searchName\":\"Executive-GM-Director-Jobs\"},\"links\":{\"browsePage\":\"a\\u002FExecutive-GM-Director-Jobs-in-Egypt\"},\"meta\":{\"image\":{\"small\":\"https:\\u002F\\u002Fimages.wuzzuf-data.net\\u002Ffiles\\u002Fassets\\u002Fwork-roles\\u002FExecutive-GM-Director-Jobs.jpg\",\"large\":\"https:\\u002F\\u002Fimages.wuzzuf-data.net\\u002Ffiles\\u002Fassets\\u002Fwork-roles\\u002FExecutive-GM-Director-Jobs-lrg.jpg\"}}},\"36\":{\"id\":\"36\",\"type\":\"workRole\",\"attributes\":{\"name\":\"Engineering - Telecom\\u002FTechnology\",\"translations\":null,\"searchName\":\"Engineering-Telecom-Technology-Jobs\"},\"links\":{\"browsePage\":\"a\\u002FEngineering-Telecom-Technology-Jobs-in-Egypt\"},\"meta\":{\"image\":{\"small\":\"https:\\u002F\\u002Fimages.wuzzuf-data.net\\u002Ffiles\\u002Fassets\\u002Fwork-roles\\u002FEngineering-Telecom-Technology-Jobs.jpg\",\"large\":\"https:\\u002F\\u002Fimages.wuzzuf-data.net\\u002Ffiles\\u002Fassets\\u002Fwork-roles\\u002FEngineering-Telecom-Technology-Jobs-lrg.jpg\"}}},\"37\":{\"id\":\"37\",\"type\":\"workRole\",\"attributes\":{\"name\":\"Engineering - Mechanical\\u002FElectrical\",\"translations\":null,\"searchName\":\"Engineering-Mechanical-Electrical-Jobs\"},\"links\":{\"browsePage\":\"a\\u002FEngineering-Mechanical-Electrical-Jobs-in-Egypt\"},\"meta\":{\"image\":{\"small\":\"https:\\u002F\\u002Fimages.wuzzuf-data.net\\u002Ffiles\\u002Fassets\\u002Fwork-roles\\u002FEngineering-Mechanical-Electrical-Jobs.jpg\",\"large\":\"https:\\u002F\\u002Fimages.wuzzuf-data.net\\u002Ffiles\\u002Fassets\\u002Fwork-roles\\u002FEngineering-Mechanical-Electrical-Jobs-lrg.jpg\"}}},\"38\":{\"id\":\"38\",\"type\":\"workRole\",\"attributes\":{\"name\":\"Engineering - Oil & Gas\\u002FEnergy\",\"translations\":null,\"searchName\":\"Engineering-Oil-Gas-Energy-Jobs\"},\"links\":{\"browsePage\":\"a\\u002FEngineering-Oil-Gas-Energy-Jobs-in-Egypt\"},\"meta\":{\"image\":{\"small\":\"https:\\u002F\\u002Fimages.wuzzuf-data.net\\u002Ffiles\\u002Fassets\\u002Fwork-roles\\u002FEngineering-Oil-Gas-Energy-Jobs.jpg\",\"large\":\"https:\\u002F\\u002Fimages.wuzzuf-data.net\\u002Ffiles\\u002Fassets\\u002Fwork-roles\\u002FEngineering-Oil-Gas-Energy-Jobs-lrg.jpg\"}}},\"39\":{\"id\":\"39\",\"type\":\"workRole\",\"attributes\":{\"name\":\"Engineering - Other\",\"translations\":null,\"searchName\":\"Engineering-Jobs\"},\"links\":{\"browsePage\":\"a\\u002FEngineering-Jobs-in-Egypt\"},\"meta\":{\"image\":{\"small\":\"https:\\u002F\\u002Fimages.wuzzuf-data.net\\u002Ffiles\\u002Fassets\\u002Fwork-roles\\u002FEngineering-Jobs.jpg\",\"large\":\"https:\\u002F\\u002Fimages.wuzzuf-data.net\\u002Ffiles\\u002Fassets\\u002Fwork-roles\\u002FEngineering-Jobs-lrg.jpg\"}}},\"40\":{\"id\":\"40\",\"type\":\"workRole\",\"attributes\":{\"name\":\"Education\\u002FTeaching\",\"translations\":null,\"searchName\":\"Education-Teaching-Jobs\"},\"links\":{\"browsePage\":\"a\\u002FEducation-Teaching-Jobs-in-Egypt\"},\"meta\":{\"image\":{\"small\":\"https:\\u002F\\u002Fimages.wuzzuf-data.net\\u002Ffiles\\u002Fassets\\u002Fwork-roles\\u002FEducation-Teaching-Jobs.jpg\",\"large\":\"https:\\u002F\\u002Fimages.wuzzuf-data.net\\u002Ffiles\\u002Fassets\\u002Fwork-roles\\u002FEducation-Teaching-Jobs-lrg.jpg\"}}},\"41\":{\"id\":\"41\",\"type\":\"workRole\",\"attributes\":{\"name\":\"Training\\u002FInstructor\",\"translations\":null,\"searchName\":\"Training-Instructor-Jobs\"},\"links\":{\"browsePage\":\"a\\u002FTraining-Instructor-Jobs-in-Egypt\"},\"meta\":{\"image\":{\"small\":\"https:\\u002F\\u002Fimages.wuzzuf-data.net\\u002Ffiles\\u002Fassets\\u002Fwork-roles\\u002FTraining-Instructor-Jobs.jpg\",\"large\":\"https:\\u002F\\u002Fimages.wuzzuf-data.net\\u002Ffiles\\u002Fassets\\u002Fwork-roles\\u002FTraining-Instructor-Jobs-lrg.jpg\"}}}},\"isLoading\":false,\"timestamp\":1731262479105,\"error\":null},\"referralList\":{\"isLoading\":false,\"timestamp\":null,\"collection\":{},\"error\":null},\"workExperienceYears\":{\"isLoading\":false,\"timestamp\":null,\"collection\":{},\"error\":null},\"lookupPackageBenefit\":{\"isLoading\":false,\"timestamp\":null,\"collection\":{},\"error\":null},\"lookupCompanyPlan\":{\"isLoading\":false,\"timestamp\":null,\"collection\":{},\"error\":null}},\"publicProfile\":{\"talent\":{\"loading\":true,\"data\":null,\"error\":null}},\"topLocations\":{\"timestamp\":1731262479174,\"citiesIds\":[\"1545\",\"1550\",\"1540\",\"1563\",\"4712\",\"1556\",\"1560\",\"1549\",\"1562\",\"5433\",\"1546\",\"1566\",\"1551\",\"1547\",\"1559\",\"1555\",\"1544\",\"1554\",\"1543\",\"1565\",\"1564\",\"4695\",\"1541\",\"1552\",\"5430\"],\"areasIds\":[\"17\",\"20\",\"38\",\"64\",\"40\",\"79\",\"226\",\"44\",\"53\",\"63\",\"78\",\"55\",\"43\",\"103\",\"45\",\"357\",\"22\",\"68\",\"269\",\"61\",\"46\",\"49\",\"105\",\"81\",\"95\"],\"isLoading\":false},\"cvSearch\":{\"sets\":{}},\"jobDescriptions\":{\"jobTemplateCategories\":{\"isLoading\":true,\"list\":[]},\"jobTemplates\":{\"isLoading\":true}},\"jobseekerLandingPages\":{\"recentJobs\":{},\"jobsCount\":{}},\"featuredLogoCompanyLookup\":{},\"subFolder\":{\"detectedCountry\":{\"id\":\"56\"}}};\n",
       "            Wuzzuf.serverRenderedURL = \"/search/jobs/?q=machine+learning&a=hpb\";\n",
       "            Wuzzuf.userType = \"guest\";\n",
       "        }());\n",
       "    </script>\n",
       "<script>\n",
       "        window.addEventListener('beforeinstallprompt', function(){\n",
       "            e.preventDefault();\n",
       "        });\n",
       "    </script>\n",
       "<script id=\"__LOADABLE_REQUIRED_CHUNKS__\" type=\"application/json\">[7791,7603,3724,9778,990,2388,4688,2195,8152,911,6240,8310,279,9825,4772,3411,5981,1238,2025,8241,129,9621,6016,3083,6677]</script><script id=\"__LOADABLE_REQUIRED_CHUNKS___ext\" type=\"application/json\">{\"namedChunks\":[\"guest-job-search\",\"job-search-components-job-search-page-search-bar-card-desktop\"]}</script>\n",
       "<script data-chunk=\"index\" defer=\"\" src=\"https://static.wuzzuf-data.net/vendor-1730989531711.d5a1e34da2faa804ac81.js\"></script>\n",
       "<script data-chunk=\"index\" defer=\"\" src=\"https://static.wuzzuf-data.net/index-1730989531711.f46a33f8f8da2b9da406.js\"></script>\n",
       "<script data-chunk=\"guest-job-search\" defer=\"\" src=\"https://static.wuzzuf-data.net/7791-1730989531711.29d6deb590cc2661b828.js\"></script>\n",
       "<script data-chunk=\"guest-job-search\" defer=\"\" src=\"https://static.wuzzuf-data.net/7603-1730989531711.d6abfa790f44341b513d.js\"></script>\n",
       "<script data-chunk=\"guest-job-search\" defer=\"\" src=\"https://static.wuzzuf-data.net/3724-1730989531711.aa6f11b4eba9d96cd8c3.js\"></script>\n",
       "<script data-chunk=\"guest-job-search\" defer=\"\" src=\"https://static.wuzzuf-data.net/9778-1730989531711.526836e7e67afcfc94f9.js\"></script>\n",
       "<script data-chunk=\"guest-job-search\" defer=\"\" src=\"https://static.wuzzuf-data.net/990-1730989531711.cf26866471bbc7129465.js\"></script>\n",
       "<script data-chunk=\"guest-job-search\" defer=\"\" src=\"https://static.wuzzuf-data.net/2388-1730989531711.0dcdc517aeaa5df189f2.js\"></script>\n",
       "<script data-chunk=\"guest-job-search\" defer=\"\" src=\"https://static.wuzzuf-data.net/4688-1730989531711.b71d47bc3a49f8266e4e.js\"></script>\n",
       "<script data-chunk=\"guest-job-search\" defer=\"\" src=\"https://static.wuzzuf-data.net/2195-1730989531711.8cfbeee900a6d77f7821.js\"></script>\n",
       "<script data-chunk=\"guest-job-search\" defer=\"\" src=\"https://static.wuzzuf-data.net/8152-1730989531711.f1de7cc9640b9136c0a7.js\"></script>\n",
       "<script data-chunk=\"guest-job-search\" defer=\"\" src=\"https://static.wuzzuf-data.net/911-1730989531711.b869d54e28439f5259e7.js\"></script>\n",
       "<script data-chunk=\"guest-job-search\" defer=\"\" src=\"https://static.wuzzuf-data.net/6240-1730989531711.2374f2028b5aaf65b18b.js\"></script>\n",
       "<script data-chunk=\"guest-job-search\" defer=\"\" src=\"https://static.wuzzuf-data.net/8310-1730989531711.c749b3caf9e9239b5200.js\"></script>\n",
       "<script data-chunk=\"guest-job-search\" defer=\"\" src=\"https://static.wuzzuf-data.net/279-1730989531711.3895136e28b8deedff78.js\"></script>\n",
       "<script data-chunk=\"guest-job-search\" defer=\"\" src=\"https://static.wuzzuf-data.net/guest-footer-1730989531711.a5759f58de79639fccb9.js\"></script>\n",
       "<script data-chunk=\"guest-job-search\" defer=\"\" src=\"https://static.wuzzuf-data.net/4772-1730989531711.b835d942ee1c69fe4363.js\"></script>\n",
       "<script data-chunk=\"guest-job-search\" defer=\"\" src=\"https://static.wuzzuf-data.net/3411-1730989531711.1281a7a672eead1a931f.js\"></script>\n",
       "<script data-chunk=\"guest-job-search\" defer=\"\" src=\"https://static.wuzzuf-data.net/5981-1730989531711.8e9d8dc5ad7ed7082e0a.js\"></script>\n",
       "<script data-chunk=\"guest-job-search\" defer=\"\" src=\"https://static.wuzzuf-data.net/1238-1730989531711.6bfee1d1f48c63e7fc41.js\"></script>\n",
       "<script data-chunk=\"guest-job-search\" defer=\"\" src=\"https://static.wuzzuf-data.net/2025-1730989531711.b230e775dd9c14781401.js\"></script>\n",
       "<script data-chunk=\"guest-job-search\" defer=\"\" src=\"https://static.wuzzuf-data.net/8241-1730989531711.5b4c7d739d8c4b7b15b7.js\"></script>\n",
       "<script data-chunk=\"guest-job-search\" defer=\"\" src=\"https://static.wuzzuf-data.net/129-1730989531711.e375ff22a36f349053f2.js\"></script>\n",
       "<script data-chunk=\"guest-job-search\" defer=\"\" src=\"https://static.wuzzuf-data.net/guest-job-search-1730989531711.57233dbeb48b21b7b219.js\"></script>\n",
       "<script data-chunk=\"job-search-components-job-search-page-search-bar-card-desktop\" defer=\"\" src=\"https://static.wuzzuf-data.net/6016-1730989531711.b263cabad739499d48a5.js\"></script>\n",
       "<script data-chunk=\"job-search-components-job-search-page-search-bar-card-desktop\" defer=\"\" src=\"https://static.wuzzuf-data.net/3083-1730989531711.cb5e335bd13711f6d270.js\"></script>\n",
       "<script data-chunk=\"job-search-components-job-search-page-search-bar-card-desktop\" defer=\"\" src=\"https://static.wuzzuf-data.net/job-search-components-job-search-page-search-bar-card-desktop-1730989531711.2026cc70c5e3e3688cbe.js\"></script>\n",
       "<script data-cf-beacon='{\"token\": \"c0ca6af573dc4cd5973fdbdea3c92282\"}' defer=\"\" src=\"https://static.cloudflareinsights.com/beacon.min.js\"></script>\n",
       "</body>\n",
       "</html>"
      ]
     },
     "execution_count": 14,
     "metadata": {},
     "output_type": "execute_result"
    }
   ],
   "source": [
    "soup = BeautifulSoup(response.content, 'lxml')\n",
    "soup"
   ]
  },
  {
   "cell_type": "code",
   "execution_count": 24,
   "metadata": {
    "colab": {
     "base_uri": "https://localhost:8080/"
    },
    "executionInfo": {
     "elapsed": 117,
     "status": "ok",
     "timestamp": 1669808526047,
     "user": {
      "displayName": "Zero Grad",
      "userId": "01667150129135608723"
     },
     "user_tz": -120
    },
    "id": "bV7DlARnV613",
    "outputId": "ddf4e84a-fc36-4a10-9789-0bb049828663"
   },
   "outputs": [
    {
     "data": {
      "text/plain": [
       "<div class=\"css-1lh32fc\"><style data-emotion=\"css n2jc4m\">.css-n2jc4m{display:-webkit-inline-box;display:-webkit-inline-flex;display:-ms-inline-flexbox;display:inline-flex;-webkit-align-items:center;-webkit-box-align:center;-ms-flex-align:center;align-items:center;-webkit-text-decoration:none;text-decoration:none;color:inherit;margin-bottom:4px;}</style><a class=\"css-n2jc4m\" href=\"/a/Full-Time-Jobs-in-Egypt\"><style data-emotion=\"css adtuo7\">.css-adtuo7{cursor:pointer;padding:0 4px;border-radius:4px;}</style><style data-emotion=\"css 1ve4b75\">.css-1ve4b75{font-size:12px;font-weight:600;display:-webkit-inline-box;display:-webkit-inline-flex;display:-ms-inline-flexbox;display:inline-flex;-webkit-align-items:center;-webkit-box-align:center;-ms-flex-align:center;align-items:center;min-height:20px;margin-right:4px;border-radius:2px;max-width:196px;white-space:nowrap;overflow:hidden;cursor:default;text-overflow:ellipsis;padding:2px 4px;background-color:#EBEDF0;color:#001433;cursor:pointer;padding:0 4px;border-radius:4px;}</style><span class=\"css-1ve4b75 eoyjyou0\">Full Time</span></a><a href=\"/a/On-Site-Jobs-in-Egypt\"><style data-emotion=\"css 1i1n6hw\">.css-1i1n6hw{cursor:pointer;padding:0 4px;border-radius:4px;margin-bottom:4px;}</style><style data-emotion=\"css o1vzmt\">.css-o1vzmt{font-size:12px;font-weight:600;display:-webkit-inline-box;display:-webkit-inline-flex;display:-ms-inline-flexbox;display:inline-flex;-webkit-align-items:center;-webkit-box-align:center;-ms-flex-align:center;align-items:center;min-height:20px;margin-right:4px;border-radius:2px;max-width:196px;white-space:nowrap;overflow:hidden;cursor:default;text-overflow:ellipsis;padding:2px 4px;background-color:#EBEDF0;color:#001433;cursor:pointer;padding:0 4px;border-radius:4px;margin-bottom:4px;}</style><span class=\"css-o1vzmt eoyjyou0\">On-site</span></a></div>"
      ]
     },
     "execution_count": 24,
     "metadata": {},
     "output_type": "execute_result"
    }
   ],
   "source": [
    "title = soup.find('div',\"css-1lh32fc\")\n",
    "title"
   ]
  },
  {
   "cell_type": "code",
   "execution_count": 25,
   "metadata": {
    "colab": {
     "base_uri": "https://localhost:8080/",
     "height": 36
    },
    "executionInfo": {
     "elapsed": 33,
     "status": "ok",
     "timestamp": 1669808526048,
     "user": {
      "displayName": "Zero Grad",
      "userId": "01667150129135608723"
     },
     "user_tz": -120
    },
    "id": "lv7eKPV7V613",
    "outputId": "1d53ad5a-87b1-4c7c-e38a-bc28cd6917c7"
   },
   "outputs": [
    {
     "data": {
      "text/plain": [
       "'Full TimeOn-site'"
      ]
     },
     "execution_count": 25,
     "metadata": {},
     "output_type": "execute_result"
    }
   ],
   "source": [
    "title.text"
   ]
  },
  {
   "cell_type": "code",
   "execution_count": 26,
   "metadata": {
    "colab": {
     "base_uri": "https://localhost:8080/"
    },
    "executionInfo": {
     "elapsed": 32,
     "status": "ok",
     "timestamp": 1669808526048,
     "user": {
      "displayName": "Zero Grad",
      "userId": "01667150129135608723"
     },
     "user_tz": -120
    },
    "id": "TxvYEmoHV614",
    "outputId": "e2b7c028-435b-46c6-97fd-5828cf223915"
   },
   "outputs": [
    {
     "data": {
      "text/plain": [
       "[<div class=\"css-1lh32fc\"><style data-emotion=\"css n2jc4m\">.css-n2jc4m{display:-webkit-inline-box;display:-webkit-inline-flex;display:-ms-inline-flexbox;display:inline-flex;-webkit-align-items:center;-webkit-box-align:center;-ms-flex-align:center;align-items:center;-webkit-text-decoration:none;text-decoration:none;color:inherit;margin-bottom:4px;}</style><a class=\"css-n2jc4m\" href=\"/a/Full-Time-Jobs-in-Egypt\"><style data-emotion=\"css adtuo7\">.css-adtuo7{cursor:pointer;padding:0 4px;border-radius:4px;}</style><style data-emotion=\"css 1ve4b75\">.css-1ve4b75{font-size:12px;font-weight:600;display:-webkit-inline-box;display:-webkit-inline-flex;display:-ms-inline-flexbox;display:inline-flex;-webkit-align-items:center;-webkit-box-align:center;-ms-flex-align:center;align-items:center;min-height:20px;margin-right:4px;border-radius:2px;max-width:196px;white-space:nowrap;overflow:hidden;cursor:default;text-overflow:ellipsis;padding:2px 4px;background-color:#EBEDF0;color:#001433;cursor:pointer;padding:0 4px;border-radius:4px;}</style><span class=\"css-1ve4b75 eoyjyou0\">Full Time</span></a><a href=\"/a/On-Site-Jobs-in-Egypt\"><style data-emotion=\"css 1i1n6hw\">.css-1i1n6hw{cursor:pointer;padding:0 4px;border-radius:4px;margin-bottom:4px;}</style><style data-emotion=\"css o1vzmt\">.css-o1vzmt{font-size:12px;font-weight:600;display:-webkit-inline-box;display:-webkit-inline-flex;display:-ms-inline-flexbox;display:inline-flex;-webkit-align-items:center;-webkit-box-align:center;-ms-flex-align:center;align-items:center;min-height:20px;margin-right:4px;border-radius:2px;max-width:196px;white-space:nowrap;overflow:hidden;cursor:default;text-overflow:ellipsis;padding:2px 4px;background-color:#EBEDF0;color:#001433;cursor:pointer;padding:0 4px;border-radius:4px;margin-bottom:4px;}</style><span class=\"css-o1vzmt eoyjyou0\">On-site</span></a></div>,\n",
       " <div class=\"css-1lh32fc\"><a class=\"css-n2jc4m\" href=\"/a/Full-Time-Jobs-in-Egypt\"><span class=\"css-1ve4b75 eoyjyou0\">Full Time</span></a><a class=\"css-n2jc4m\" href=\"/a/Part-Time-Jobs-in-Egypt\"><span class=\"css-1ve4b75 eoyjyou0\">Part Time</span></a></div>,\n",
       " <div class=\"css-1lh32fc\"><a class=\"css-n2jc4m\" href=\"/a/Full-Time-Jobs-in-Cyprus\"><span class=\"css-1ve4b75 eoyjyou0\">Full Time</span></a><a href=\"/a/On-Site-Jobs-in-Cyprus\"><span class=\"css-o1vzmt eoyjyou0\">On-site</span></a></div>,\n",
       " <div class=\"css-1lh32fc\"><a class=\"css-n2jc4m\" href=\"/a/Full-Time-Jobs-in-Egypt\"><span class=\"css-1ve4b75 eoyjyou0\">Full Time</span></a><a href=\"/a/Hybrid-Jobs-in-Egypt\"><span class=\"css-o1vzmt eoyjyou0\">Hybrid</span></a></div>,\n",
       " <div class=\"css-1lh32fc\"><a class=\"css-n2jc4m\" href=\"/a/Full-Time-Jobs-in-Egypt\"><span class=\"css-1ve4b75 eoyjyou0\">Full Time</span></a><a href=\"/a/On-Site-Jobs-in-Egypt\"><span class=\"css-o1vzmt eoyjyou0\">On-site</span></a></div>,\n",
       " <div class=\"css-1lh32fc\"><a class=\"css-n2jc4m\" href=\"/a/Full-Time-Jobs-in-Egypt\"><span class=\"css-1ve4b75 eoyjyou0\">Full Time</span></a><a href=\"/a/Hybrid-Jobs-in-Egypt\"><span class=\"css-o1vzmt eoyjyou0\">Hybrid</span></a></div>,\n",
       " <div class=\"css-1lh32fc\"><a class=\"css-n2jc4m\" href=\"/a/Full-Time-Jobs-in-Egypt\"><span class=\"css-1ve4b75 eoyjyou0\">Full Time</span></a><a href=\"/a/Hybrid-Jobs-in-Egypt\"><span class=\"css-o1vzmt eoyjyou0\">Hybrid</span></a></div>,\n",
       " <div class=\"css-1lh32fc\"><a class=\"css-n2jc4m\" href=\"/a/Full-Time-Jobs-in-Egypt\"><span class=\"css-1ve4b75 eoyjyou0\">Full Time</span></a><a href=\"/a/On-Site-Jobs-in-Egypt\"><span class=\"css-o1vzmt eoyjyou0\">On-site</span></a></div>,\n",
       " <div class=\"css-1lh32fc\"><a class=\"css-n2jc4m\" href=\"/saudi/a/Full-Time-Jobs-in-Saudi-Arabia\"><span class=\"css-1ve4b75 eoyjyou0\">Full Time</span></a><a href=\"/saudi/a/On-Site-Jobs-in-Saudi-Arabia\"><span class=\"css-o1vzmt eoyjyou0\">On-site</span></a></div>,\n",
       " <div class=\"css-1lh32fc\"><a class=\"css-n2jc4m\" href=\"/a/Full-Time-Jobs-in-Egypt\"><span class=\"css-1ve4b75 eoyjyou0\">Full Time</span></a><a href=\"/a/Hybrid-Jobs-in-Egypt\"><span class=\"css-o1vzmt eoyjyou0\">Hybrid</span></a></div>,\n",
       " <div class=\"css-1lh32fc\"><a class=\"css-n2jc4m\" href=\"/a/Full-Time-Jobs-in-Egypt\"><span class=\"css-1ve4b75 eoyjyou0\">Full Time</span></a><a href=\"/a/On-Site-Jobs-in-Egypt\"><span class=\"css-o1vzmt eoyjyou0\">On-site</span></a></div>,\n",
       " <div class=\"css-1lh32fc\"><a class=\"css-n2jc4m\" href=\"/a/Full-Time-Jobs-in-Egypt\"><span class=\"css-1ve4b75 eoyjyou0\">Full Time</span></a><a href=\"/a/On-Site-Jobs-in-Egypt\"><span class=\"css-o1vzmt eoyjyou0\">On-site</span></a></div>,\n",
       " <div class=\"css-1lh32fc\"><a class=\"css-n2jc4m\" href=\"/a/Full-Time-Jobs-in-Egypt\"><span class=\"css-1ve4b75 eoyjyou0\">Full Time</span></a><a href=\"/a/On-Site-Jobs-in-Egypt\"><span class=\"css-o1vzmt eoyjyou0\">On-site</span></a></div>,\n",
       " <div class=\"css-1lh32fc\"><a class=\"css-n2jc4m\" href=\"/a/Full-Time-Jobs-in-Egypt\"><span class=\"css-1ve4b75 eoyjyou0\">Full Time</span></a><a href=\"/a/On-Site-Jobs-in-Egypt\"><span class=\"css-o1vzmt eoyjyou0\">On-site</span></a></div>,\n",
       " <div class=\"css-1lh32fc\"><a class=\"css-n2jc4m\" href=\"/a/Full-Time-Jobs-in-Egypt\"><span class=\"css-1ve4b75 eoyjyou0\">Full Time</span></a><a href=\"/a/Hybrid-Jobs-in-Egypt\"><span class=\"css-o1vzmt eoyjyou0\">Hybrid</span></a></div>]"
      ]
     },
     "execution_count": 26,
     "metadata": {},
     "output_type": "execute_result"
    }
   ],
   "source": [
    "titles = soup.find_all('div',\"css-1lh32fc\")\n",
    "titles"
   ]
  },
  {
   "cell_type": "code",
   "execution_count": 27,
   "metadata": {
    "colab": {
     "base_uri": "https://localhost:8080/"
    },
    "executionInfo": {
     "elapsed": 29,
     "status": "ok",
     "timestamp": 1669808526048,
     "user": {
      "displayName": "Zero Grad",
      "userId": "01667150129135608723"
     },
     "user_tz": -120
    },
    "id": "gUVL9aHJV614",
    "outputId": "bf3ca5c5-19ef-4d03-e7c6-a5ea95689321"
   },
   "outputs": [
    {
     "data": {
      "text/plain": [
       "<div class=\"css-1lh32fc\"><style data-emotion=\"css n2jc4m\">.css-n2jc4m{display:-webkit-inline-box;display:-webkit-inline-flex;display:-ms-inline-flexbox;display:inline-flex;-webkit-align-items:center;-webkit-box-align:center;-ms-flex-align:center;align-items:center;-webkit-text-decoration:none;text-decoration:none;color:inherit;margin-bottom:4px;}</style><a class=\"css-n2jc4m\" href=\"/a/Full-Time-Jobs-in-Egypt\"><style data-emotion=\"css adtuo7\">.css-adtuo7{cursor:pointer;padding:0 4px;border-radius:4px;}</style><style data-emotion=\"css 1ve4b75\">.css-1ve4b75{font-size:12px;font-weight:600;display:-webkit-inline-box;display:-webkit-inline-flex;display:-ms-inline-flexbox;display:inline-flex;-webkit-align-items:center;-webkit-box-align:center;-ms-flex-align:center;align-items:center;min-height:20px;margin-right:4px;border-radius:2px;max-width:196px;white-space:nowrap;overflow:hidden;cursor:default;text-overflow:ellipsis;padding:2px 4px;background-color:#EBEDF0;color:#001433;cursor:pointer;padding:0 4px;border-radius:4px;}</style><span class=\"css-1ve4b75 eoyjyou0\">Full Time</span></a><a href=\"/a/On-Site-Jobs-in-Egypt\"><style data-emotion=\"css 1i1n6hw\">.css-1i1n6hw{cursor:pointer;padding:0 4px;border-radius:4px;margin-bottom:4px;}</style><style data-emotion=\"css o1vzmt\">.css-o1vzmt{font-size:12px;font-weight:600;display:-webkit-inline-box;display:-webkit-inline-flex;display:-ms-inline-flexbox;display:inline-flex;-webkit-align-items:center;-webkit-box-align:center;-ms-flex-align:center;align-items:center;min-height:20px;margin-right:4px;border-radius:2px;max-width:196px;white-space:nowrap;overflow:hidden;cursor:default;text-overflow:ellipsis;padding:2px 4px;background-color:#EBEDF0;color:#001433;cursor:pointer;padding:0 4px;border-radius:4px;margin-bottom:4px;}</style><span class=\"css-o1vzmt eoyjyou0\">On-site</span></a></div>"
      ]
     },
     "execution_count": 27,
     "metadata": {},
     "output_type": "execute_result"
    }
   ],
   "source": [
    "titles[0]"
   ]
  },
  {
   "cell_type": "code",
   "execution_count": 28,
   "metadata": {
    "colab": {
     "base_uri": "https://localhost:8080/",
     "height": 36
    },
    "executionInfo": {
     "elapsed": 26,
     "status": "ok",
     "timestamp": 1669808526048,
     "user": {
      "displayName": "Zero Grad",
      "userId": "01667150129135608723"
     },
     "user_tz": -120
    },
    "id": "avmw_CJTV614",
    "outputId": "246c58dc-35e5-4dfc-de5b-185b661b35b4"
   },
   "outputs": [
    {
     "data": {
      "text/plain": [
       "'Full TimeOn-site'"
      ]
     },
     "execution_count": 28,
     "metadata": {},
     "output_type": "execute_result"
    }
   ],
   "source": [
    "titles[0].text"
   ]
  },
  {
   "cell_type": "code",
   "execution_count": 29,
   "metadata": {
    "colab": {
     "base_uri": "https://localhost:8080/"
    },
    "executionInfo": {
     "elapsed": 26,
     "status": "ok",
     "timestamp": 1669808526049,
     "user": {
      "displayName": "Zero Grad",
      "userId": "01667150129135608723"
     },
     "user_tz": -120
    },
    "id": "l-sBtIRnV615",
    "outputId": "740a8197-1e4b-4bee-df11-5fe1eb1acf8d"
   },
   "outputs": [
    {
     "name": "stdout",
     "output_type": "stream",
     "text": [
      "Full TimeOn-site\n",
      "Full TimePart Time\n",
      "Full TimeOn-site\n",
      "Full TimeHybrid\n",
      "Full TimeOn-site\n",
      "Full TimeHybrid\n",
      "Full TimeHybrid\n",
      "Full TimeOn-site\n",
      "Full TimeOn-site\n",
      "Full TimeHybrid\n",
      "Full TimeOn-site\n",
      "Full TimeOn-site\n",
      "Full TimeOn-site\n",
      "Full TimeOn-site\n",
      "Full TimeHybrid\n"
     ]
    }
   ],
   "source": [
    "for title in titles:\n",
    "    print(title.text)"
   ]
  },
  {
   "cell_type": "code",
   "execution_count": 30,
   "metadata": {
    "colab": {
     "base_uri": "https://localhost:8080/"
    },
    "executionInfo": {
     "elapsed": 24,
     "status": "ok",
     "timestamp": 1669808526049,
     "user": {
      "displayName": "Zero Grad",
      "userId": "01667150129135608723"
     },
     "user_tz": -120
    },
    "id": "QkYPS3wiV615",
    "outputId": "9b6ecd02-34ba-422d-f995-9bb1292136bb"
   },
   "outputs": [
    {
     "data": {
      "text/plain": [
       "['Full Time',\n",
       " 'Full Time',\n",
       " 'Full Time',\n",
       " 'Full Time',\n",
       " 'Full Time',\n",
       " 'Full Time',\n",
       " 'Full Time',\n",
       " 'Full Time',\n",
       " 'Full Time',\n",
       " 'Full Time',\n",
       " 'Full Time',\n",
       " 'Full Time',\n",
       " 'Full Time',\n",
       " 'Full Time',\n",
       " 'Full Time']"
      ]
     },
     "execution_count": 30,
     "metadata": {},
     "output_type": "execute_result"
    }
   ],
   "source": [
    "titles_lst = [title.a.text for title in titles]\n",
    "titles_lst"
   ]
  },
  {
   "cell_type": "code",
   "execution_count": 31,
   "metadata": {
    "colab": {
     "base_uri": "https://localhost:8080/",
     "height": 36
    },
    "executionInfo": {
     "elapsed": 22,
     "status": "ok",
     "timestamp": 1669808526049,
     "user": {
      "displayName": "Zero Grad",
      "userId": "01667150129135608723"
     },
     "user_tz": -120
    },
    "id": "x6fiG-Y_V615",
    "outputId": "e1c52aaf-9f56-4089-d506-c0598baa19b0"
   },
   "outputs": [
    {
     "data": {
      "text/plain": [
       "'/a/Full-Time-Jobs-in-Egypt'"
      ]
     },
     "execution_count": 31,
     "metadata": {},
     "output_type": "execute_result"
    }
   ],
   "source": [
    "titles[0].a['href']"
   ]
  },
  {
   "cell_type": "code",
   "execution_count": 13,
   "metadata": {
    "colab": {
     "base_uri": "https://localhost:8080/",
     "height": 36
    },
    "executionInfo": {
     "elapsed": 22,
     "status": "ok",
     "timestamp": 1669808526049,
     "user": {
      "displayName": "Zero Grad",
      "userId": "01667150129135608723"
     },
     "user_tz": -120
    },
    "id": "R0EF_U2vV616",
    "outputId": "282c62a0-69cf-4b02-f72b-66a861d660cb"
   },
   "outputs": [
    {
     "data": {
      "text/plain": [
       "'https://wuzzuf.net/internship/xfKqVWXmST84-Machine-Learning-Intern-Talents-Arena-Cairo-Egypt?o=1&l=sp&t=sj&a=machine learning|search-v3|hpb'"
      ]
     },
     "execution_count": 13,
     "metadata": {},
     "output_type": "execute_result"
    }
   ],
   "source": [
    "'https://wuzzuf.net'+titles[0].a['href']"
   ]
  },
  {
   "cell_type": "code",
   "execution_count": 14,
   "metadata": {
    "colab": {
     "base_uri": "https://localhost:8080/"
    },
    "executionInfo": {
     "elapsed": 21,
     "status": "ok",
     "timestamp": 1669808526049,
     "user": {
      "displayName": "Zero Grad",
      "userId": "01667150129135608723"
     },
     "user_tz": -120
    },
    "id": "cA7YAFYJV616",
    "outputId": "41b5b658-c4a1-4e22-efff-c76793552e17"
   },
   "outputs": [
    {
     "data": {
      "text/plain": [
       "['https://wuzzuf.net/internship/xfKqVWXmST84-Machine-Learning-Intern-Talents-Arena-Cairo-Egypt?o=1&l=sp&t=sj&a=machine learning|search-v3|hpb',\n",
       " 'https://wuzzuf.net/jobs/p/SRYwwjHGOKb1-Senior-Machine-Learning-Data-Science-Engineer-Si-Ware-System-Cairo-Egypt?o=2&l=sp&t=sj&a=machine learning|search-v3|hpb',\n",
       " 'https://wuzzuf.net/internship/PbwdA9KxlckG-Machine-Learning-Mentor-Technu-Academy-Giza-Egypt?o=3&l=sp&t=sj&a=machine learning|search-v3|hpb',\n",
       " 'https://wuzzuf.net/jobs/p/ZjN6w6ZtgBO9-Machine-Learning-Engineer-Technu-Academy-Giza-Egypt?o=4&l=sp&t=sj&a=machine learning|search-v3|hpb',\n",
       " 'https://wuzzuf.net/jobs/p/3PQFoj7jQPQI-Learning-Associate-Learning-Development-Souq-com-for-E-Commerce-LLC-Cairo-Egypt?o=5&l=sp&t=sj&a=machine learning|search-v3|hpb',\n",
       " 'https://wuzzuf.net/jobs/p/cKUROmgXJVPH-Learning-Development-Officer---UAE-National-Amwaj-Rotana---Jumeirah-Beach-Residence-Dubai-United-Arab-Emirates?o=6&l=sp&t=sj&a=machine learning|search-v3|hpb',\n",
       " 'https://wuzzuf.net/jobs/p/H4tY3owYsIyO-Computer-Vision-Deep-Learning-Engineer-PowerCom-Cairo-Egypt?o=7&l=sp&t=sj&a=machine learning|search-v3|hpb',\n",
       " 'https://wuzzuf.net/jobs/p/joXEg5uPesA1-Learning-Development-Coordinator---GROW-Jeddah-Makkah-Province-Saudi-Arabia-Posted-on-07202023-DP-World-Limited-Jeddah-Saudi-Arabia?o=8&l=sp&t=sj&a=machine learning|search-v3|hpb',\n",
       " 'https://wuzzuf.net/jobs/p/SZ7J5WgeQQzh-Learning-and-Development-LD-Manager-for-a-Luxury-5-star-hotel-apt-resources-Dubai-United-Arab-Emirates?o=9&l=sp&t=sj&a=machine learning|search-v3|hpb',\n",
       " 'https://wuzzuf.net/jobs/p/gsWTviAzR4za-Data-Scientist-egabi-solutions-Cairo-Egypt?o=10&l=sp&t=sj&a=machine learning|search-v3|hpb',\n",
       " 'https://wuzzuf.net/jobs/p/7ecFYQvcGsIB-Data-Scientist-eT3---Tomorrow-Information-Technology-Cairo-Egypt?o=11&l=sp&t=sj&a=machine learning|search-v3|hpb',\n",
       " 'https://wuzzuf.net/jobs/p/gM5njZ8kiar0-AI-Engineer-Computer-Vision-Focus-Lumin-Giza-Egypt?o=12&l=sp&t=sj&a=machine learning|search-v3|hpb',\n",
       " 'https://wuzzuf.net/jobs/p/Lbrv99VhWmgv-Data-Engineer-Ibn-Sina-Pharma-Cairo-Egypt?o=13&l=sp&t=sj&a=machine learning|search-v3|hpb',\n",
       " 'https://wuzzuf.net/internship/cWw9mcxePyOz-AI-Intern-Barkotel-Cairo-Egypt?o=14&l=sp&t=sj&a=machine learning|search-v3|hpb',\n",
       " 'https://wuzzuf.net/internship/j9Jq6RR98xha-Graduate-Internship-Enterprise-Software-Engineering-eT3---Tomorrow-Information-Technology-Cairo-Egypt?o=15&l=sp&t=sj&a=machine learning|search-v3|hpb']"
      ]
     },
     "execution_count": 14,
     "metadata": {},
     "output_type": "execute_result"
    }
   ],
   "source": [
    "links = ['https://wuzzuf.net' + title.a['href'] for title in titles]\n",
    "links"
   ]
  },
  {
   "cell_type": "code",
   "execution_count": 15,
   "metadata": {
    "colab": {
     "base_uri": "https://localhost:8080/"
    },
    "executionInfo": {
     "elapsed": 19,
     "status": "ok",
     "timestamp": 1669808526050,
     "user": {
      "displayName": "Zero Grad",
      "userId": "01667150129135608723"
     },
     "user_tz": -120
    },
    "id": "C4WwtOxsV616",
    "outputId": "c033089c-8527-41b3-8d5b-d932d7596fc2"
   },
   "outputs": [
    {
     "data": {
      "text/plain": [
       "['https://wuzzuf.net/internship/xfKqVWXmST84-Machine-Learning-Intern-Talents-Arena-Cairo-Egypt?o=1&l=sp&t=sj&a=machine%20learning|search-v3|hpb',\n",
       " 'https://wuzzuf.net/jobs/p/SRYwwjHGOKb1-Senior-Machine-Learning-Data-Science-Engineer-Si-Ware-System-Cairo-Egypt?o=2&l=sp&t=sj&a=machine%20learning|search-v3|hpb',\n",
       " 'https://wuzzuf.net/internship/PbwdA9KxlckG-Machine-Learning-Mentor-Technu-Academy-Giza-Egypt?o=3&l=sp&t=sj&a=machine%20learning|search-v3|hpb',\n",
       " 'https://wuzzuf.net/jobs/p/ZjN6w6ZtgBO9-Machine-Learning-Engineer-Technu-Academy-Giza-Egypt?o=4&l=sp&t=sj&a=machine%20learning|search-v3|hpb',\n",
       " 'https://wuzzuf.net/jobs/p/3PQFoj7jQPQI-Learning-Associate-Learning-Development-Souq-com-for-E-Commerce-LLC-Cairo-Egypt?o=5&l=sp&t=sj&a=machine%20learning|search-v3|hpb',\n",
       " 'https://wuzzuf.net/jobs/p/cKUROmgXJVPH-Learning-Development-Officer---UAE-National-Amwaj-Rotana---Jumeirah-Beach-Residence-Dubai-United-Arab-Emirates?o=6&l=sp&t=sj&a=machine%20learning|search-v3|hpb',\n",
       " 'https://wuzzuf.net/jobs/p/H4tY3owYsIyO-Computer-Vision-Deep-Learning-Engineer-PowerCom-Cairo-Egypt?o=7&l=sp&t=sj&a=machine%20learning|search-v3|hpb',\n",
       " 'https://wuzzuf.net/jobs/p/joXEg5uPesA1-Learning-Development-Coordinator---GROW-Jeddah-Makkah-Province-Saudi-Arabia-Posted-on-07202023-DP-World-Limited-Jeddah-Saudi-Arabia?o=8&l=sp&t=sj&a=machine%20learning|search-v3|hpb',\n",
       " 'https://wuzzuf.net/jobs/p/SZ7J5WgeQQzh-Learning-and-Development-LD-Manager-for-a-Luxury-5-star-hotel-apt-resources-Dubai-United-Arab-Emirates?o=9&l=sp&t=sj&a=machine%20learning|search-v3|hpb',\n",
       " 'https://wuzzuf.net/jobs/p/gsWTviAzR4za-Data-Scientist-egabi-solutions-Cairo-Egypt?o=10&l=sp&t=sj&a=machine%20learning|search-v3|hpb',\n",
       " 'https://wuzzuf.net/jobs/p/7ecFYQvcGsIB-Data-Scientist-eT3---Tomorrow-Information-Technology-Cairo-Egypt?o=11&l=sp&t=sj&a=machine%20learning|search-v3|hpb',\n",
       " 'https://wuzzuf.net/jobs/p/gM5njZ8kiar0-AI-Engineer-Computer-Vision-Focus-Lumin-Giza-Egypt?o=12&l=sp&t=sj&a=machine%20learning|search-v3|hpb',\n",
       " 'https://wuzzuf.net/jobs/p/Lbrv99VhWmgv-Data-Engineer-Ibn-Sina-Pharma-Cairo-Egypt?o=13&l=sp&t=sj&a=machine%20learning|search-v3|hpb',\n",
       " 'https://wuzzuf.net/internship/cWw9mcxePyOz-AI-Intern-Barkotel-Cairo-Egypt?o=14&l=sp&t=sj&a=machine%20learning|search-v3|hpb',\n",
       " 'https://wuzzuf.net/internship/j9Jq6RR98xha-Graduate-Internship-Enterprise-Software-Engineering-eT3---Tomorrow-Information-Technology-Cairo-Egypt?o=15&l=sp&t=sj&a=machine%20learning|search-v3|hpb']"
      ]
     },
     "execution_count": 15,
     "metadata": {},
     "output_type": "execute_result"
    }
   ],
   "source": [
    "links = [('https://wuzzuf.net' + title.a['href']).replace(' ', '%20') for title in titles]\n",
    "links"
   ]
  },
  {
   "cell_type": "code",
   "execution_count": 16,
   "metadata": {
    "colab": {
     "base_uri": "https://localhost:8080/"
    },
    "executionInfo": {
     "elapsed": 15,
     "status": "ok",
     "timestamp": 1669808526050,
     "user": {
      "displayName": "Zero Grad",
      "userId": "01667150129135608723"
     },
     "user_tz": -120
    },
    "id": "uGo168snV616",
    "outputId": "e11ffc6a-cd3c-49d2-fe00-80e79c8db1a9"
   },
   "outputs": [
    {
     "data": {
      "text/plain": [
       "[<span class=\"css-1ve4b75 eoyjyou0\">Internship</span>,\n",
       " <span class=\"css-1ve4b75 eoyjyou0\">Full Time</span>,\n",
       " <span class=\"css-1ve4b75 eoyjyou0\">Internship</span>,\n",
       " <span class=\"css-1ve4b75 eoyjyou0\">Part Time</span>,\n",
       " <span class=\"css-1ve4b75 eoyjyou0\">Full Time</span>,\n",
       " <span class=\"css-1ve4b75 eoyjyou0\">Full Time</span>,\n",
       " <span class=\"css-1ve4b75 eoyjyou0\">Full Time</span>,\n",
       " <span class=\"css-1ve4b75 eoyjyou0\">Full Time</span>,\n",
       " <span class=\"css-1ve4b75 eoyjyou0\">Full Time</span>,\n",
       " <span class=\"css-1ve4b75 eoyjyou0\">Full Time</span>,\n",
       " <span class=\"css-1ve4b75 eoyjyou0\">Full Time</span>,\n",
       " <span class=\"css-1ve4b75 eoyjyou0\">Full Time</span>,\n",
       " <span class=\"css-1ve4b75 eoyjyou0\">Full Time</span>,\n",
       " <span class=\"css-1ve4b75 eoyjyou0\">Internship</span>,\n",
       " <span class=\"css-1ve4b75 eoyjyou0\">Internship</span>]"
      ]
     },
     "execution_count": 16,
     "metadata": {},
     "output_type": "execute_result"
    }
   ],
   "source": [
    "occupations = soup.find_all(\"span\", {'class': 'css-1ve4b75 eoyjyou0'})\n",
    "occupations"
   ]
  },
  {
   "cell_type": "code",
   "execution_count": 17,
   "metadata": {},
   "outputs": [
    {
     "data": {
      "text/plain": [
       "15"
      ]
     },
     "execution_count": 17,
     "metadata": {},
     "output_type": "execute_result"
    }
   ],
   "source": [
    "len(occupations)"
   ]
  },
  {
   "cell_type": "code",
   "execution_count": 18,
   "metadata": {},
   "outputs": [
    {
     "data": {
      "text/plain": [
       "15"
      ]
     },
     "execution_count": 18,
     "metadata": {},
     "output_type": "execute_result"
    }
   ],
   "source": [
    "len(titles)"
   ]
  },
  {
   "cell_type": "code",
   "execution_count": 19,
   "metadata": {
    "colab": {
     "base_uri": "https://localhost:8080/"
    },
    "executionInfo": {
     "elapsed": 13,
     "status": "ok",
     "timestamp": 1669808526050,
     "user": {
      "displayName": "Zero Grad",
      "userId": "01667150129135608723"
     },
     "user_tz": -120
    },
    "id": "6OtYLinXV616",
    "outputId": "b8576a7e-bd8d-4968-a3ee-b02b58a41980"
   },
   "outputs": [
    {
     "data": {
      "text/plain": [
       "[<div class=\"css-1lh32fc\"><style data-emotion=\"css n2jc4m\">.css-n2jc4m{display:-webkit-inline-box;display:-webkit-inline-flex;display:-ms-inline-flexbox;display:inline-flex;-webkit-align-items:center;-webkit-box-align:center;-ms-flex-align:center;align-items:center;-webkit-text-decoration:none;text-decoration:none;color:inherit;margin-bottom:4px;}</style><a class=\"css-n2jc4m\" href=\"/a/Internship-Jobs-in-Egypt\"><style data-emotion=\"css adtuo7\">.css-adtuo7{cursor:pointer;padding:0 4px;border-radius:4px;}</style><style data-emotion=\"css 1ve4b75\">.css-1ve4b75{font-size:12px;font-weight:600;display:-webkit-inline-box;display:-webkit-inline-flex;display:-ms-inline-flexbox;display:inline-flex;-webkit-align-items:center;-webkit-box-align:center;-ms-flex-align:center;align-items:center;min-height:20px;margin-right:4px;border-radius:2px;max-width:196px;white-space:nowrap;overflow:hidden;cursor:default;text-overflow:ellipsis;padding:2px 4px;background-color:#EBEDF0;color:#001433;cursor:pointer;padding:0 4px;border-radius:4px;}</style><span class=\"css-1ve4b75 eoyjyou0\">Internship</span></a></div>,\n",
       " <div class=\"css-1lh32fc\"><a class=\"css-n2jc4m\" href=\"/a/Full-Time-Jobs-in-Egypt\"><span class=\"css-1ve4b75 eoyjyou0\">Full Time</span></a></div>,\n",
       " <div class=\"css-1lh32fc\"><a class=\"css-n2jc4m\" href=\"/a/Internship-Jobs-in-Egypt\"><span class=\"css-1ve4b75 eoyjyou0\">Internship</span></a></div>,\n",
       " <div class=\"css-1lh32fc\"><a class=\"css-n2jc4m\" href=\"/a/Part-Time-Jobs-in-Egypt\"><span class=\"css-1ve4b75 eoyjyou0\">Part Time</span></a></div>,\n",
       " <div class=\"css-1lh32fc\"><a class=\"css-n2jc4m\" href=\"/a/Full-Time-Jobs-in-Egypt\"><span class=\"css-1ve4b75 eoyjyou0\">Full Time</span></a></div>,\n",
       " <div class=\"css-1lh32fc\"><a class=\"css-n2jc4m\" href=\"/a/Full-Time-Jobs-in-United-Arab-Emirates\"><span class=\"css-1ve4b75 eoyjyou0\">Full Time</span></a></div>,\n",
       " <div class=\"css-1lh32fc\"><a class=\"css-n2jc4m\" href=\"/a/Full-Time-Jobs-in-Egypt\"><span class=\"css-1ve4b75 eoyjyou0\">Full Time</span></a></div>,\n",
       " <div class=\"css-1lh32fc\"><a class=\"css-n2jc4m\" href=\"/a/Full-Time-Jobs-in-Saudi-Arabia\"><span class=\"css-1ve4b75 eoyjyou0\">Full Time</span></a></div>,\n",
       " <div class=\"css-1lh32fc\"><a class=\"css-n2jc4m\" href=\"/a/Full-Time-Jobs-in-United-Arab-Emirates\"><span class=\"css-1ve4b75 eoyjyou0\">Full Time</span></a></div>,\n",
       " <div class=\"css-1lh32fc\"><a class=\"css-n2jc4m\" href=\"/a/Full-Time-Jobs-in-Egypt\"><span class=\"css-1ve4b75 eoyjyou0\">Full Time</span></a></div>,\n",
       " <div class=\"css-1lh32fc\"><a class=\"css-n2jc4m\" href=\"/a/Full-Time-Jobs-in-Egypt\"><span class=\"css-1ve4b75 eoyjyou0\">Full Time</span></a></div>,\n",
       " <div class=\"css-1lh32fc\"><a class=\"css-n2jc4m\" href=\"/a/Full-Time-Jobs-in-Egypt\"><span class=\"css-1ve4b75 eoyjyou0\">Full Time</span></a></div>,\n",
       " <div class=\"css-1lh32fc\"><a class=\"css-n2jc4m\" href=\"/a/Full-Time-Jobs-in-Egypt\"><span class=\"css-1ve4b75 eoyjyou0\">Full Time</span></a></div>,\n",
       " <div class=\"css-1lh32fc\"><a class=\"css-n2jc4m\" href=\"/a/Internship-Jobs-in-Egypt\"><span class=\"css-1ve4b75 eoyjyou0\">Internship</span></a></div>,\n",
       " <div class=\"css-1lh32fc\"><a class=\"css-n2jc4m\" href=\"/a/Internship-Jobs-in-Egypt\"><span class=\"css-1ve4b75 eoyjyou0\">Internship</span></a></div>]"
      ]
     },
     "execution_count": 19,
     "metadata": {},
     "output_type": "execute_result"
    }
   ],
   "source": [
    "occupations = soup.find_all(\"div\", {'class': 'css-1lh32fc'})\n",
    "occupations"
   ]
  },
  {
   "cell_type": "code",
   "execution_count": 20,
   "metadata": {
    "colab": {
     "base_uri": "https://localhost:8080/"
    },
    "executionInfo": {
     "elapsed": 11,
     "status": "ok",
     "timestamp": 1669808526050,
     "user": {
      "displayName": "Zero Grad",
      "userId": "01667150129135608723"
     },
     "user_tz": -120
    },
    "id": "pCvEXY9PV617",
    "outputId": "bd11cae7-ce15-46bb-fe71-76c6dcb77999"
   },
   "outputs": [
    {
     "data": {
      "text/plain": [
       "<div class=\"css-1lh32fc\"><style data-emotion=\"css n2jc4m\">.css-n2jc4m{display:-webkit-inline-box;display:-webkit-inline-flex;display:-ms-inline-flexbox;display:inline-flex;-webkit-align-items:center;-webkit-box-align:center;-ms-flex-align:center;align-items:center;-webkit-text-decoration:none;text-decoration:none;color:inherit;margin-bottom:4px;}</style><a class=\"css-n2jc4m\" href=\"/a/Internship-Jobs-in-Egypt\"><style data-emotion=\"css adtuo7\">.css-adtuo7{cursor:pointer;padding:0 4px;border-radius:4px;}</style><style data-emotion=\"css 1ve4b75\">.css-1ve4b75{font-size:12px;font-weight:600;display:-webkit-inline-box;display:-webkit-inline-flex;display:-ms-inline-flexbox;display:inline-flex;-webkit-align-items:center;-webkit-box-align:center;-ms-flex-align:center;align-items:center;min-height:20px;margin-right:4px;border-radius:2px;max-width:196px;white-space:nowrap;overflow:hidden;cursor:default;text-overflow:ellipsis;padding:2px 4px;background-color:#EBEDF0;color:#001433;cursor:pointer;padding:0 4px;border-radius:4px;}</style><span class=\"css-1ve4b75 eoyjyou0\">Internship</span></a></div>"
      ]
     },
     "execution_count": 20,
     "metadata": {},
     "output_type": "execute_result"
    }
   ],
   "source": [
    "occupations[0]"
   ]
  },
  {
   "cell_type": "code",
   "execution_count": 21,
   "metadata": {
    "colab": {
     "base_uri": "https://localhost:8080/",
     "height": 109
    },
    "executionInfo": {
     "elapsed": 763,
     "status": "ok",
     "timestamp": 1669808526804,
     "user": {
      "displayName": "Zero Grad",
      "userId": "01667150129135608723"
     },
     "user_tz": -120
    },
    "id": "grBM4RkWV617",
    "outputId": "e1a67545-f8ae-40ff-e764-3c9a87c544b3"
   },
   "outputs": [
    {
     "data": {
      "text/plain": [
       "'Internship'"
      ]
     },
     "execution_count": 21,
     "metadata": {},
     "output_type": "execute_result"
    }
   ],
   "source": [
    "occupations[0].text"
   ]
  },
  {
   "cell_type": "code",
   "execution_count": 22,
   "metadata": {
    "colab": {
     "base_uri": "https://localhost:8080/",
     "height": 36
    },
    "executionInfo": {
     "elapsed": 31,
     "status": "ok",
     "timestamp": 1669808526804,
     "user": {
      "displayName": "Zero Grad",
      "userId": "01667150129135608723"
     },
     "user_tz": -120
    },
    "id": "c45fXPMfV617",
    "outputId": "eb3676bb-7597-4733-ab35-1ed0923cad81"
   },
   "outputs": [
    {
     "data": {
      "text/plain": [
       "'Full Time'"
      ]
     },
     "execution_count": 22,
     "metadata": {},
     "output_type": "execute_result"
    }
   ],
   "source": [
    "occupations[1].text"
   ]
  },
  {
   "cell_type": "code",
   "execution_count": 23,
   "metadata": {
    "colab": {
     "base_uri": "https://localhost:8080/",
     "height": 109
    },
    "executionInfo": {
     "elapsed": 31,
     "status": "ok",
     "timestamp": 1669808526805,
     "user": {
      "displayName": "Zero Grad",
      "userId": "01667150129135608723"
     },
     "user_tz": -120
    },
    "id": "FwzrzSE3V617",
    "outputId": "5e5fdaa3-45b4-4f12-a2df-39d2bccd39c7"
   },
   "outputs": [
    {
     "data": {
      "text/plain": [
       "'Internshi/p'"
      ]
     },
     "execution_count": 23,
     "metadata": {},
     "output_type": "execute_result"
    }
   ],
   "source": [
    "occupations[0].text[:9] + '/' + occupations[0].text[9:]"
   ]
  },
  {
   "cell_type": "code",
   "execution_count": 24,
   "metadata": {
    "colab": {
     "base_uri": "https://localhost:8080/"
    },
    "executionInfo": {
     "elapsed": 30,
     "status": "ok",
     "timestamp": 1669808526805,
     "user": {
      "displayName": "Zero Grad",
      "userId": "01667150129135608723"
     },
     "user_tz": -120
    },
    "id": "Wy6uf9teV617",
    "outputId": "e6d66ad9-2a8e-40f8-bd54-04bcf13b6b7a"
   },
   "outputs": [
    {
     "data": {
      "text/plain": [
       "['Internship',\n",
       " 'Full Time',\n",
       " 'Internship',\n",
       " 'Part Time',\n",
       " 'Full Time',\n",
       " 'Full Time',\n",
       " 'Full Time',\n",
       " 'Full Time',\n",
       " 'Full Time',\n",
       " 'Full Time',\n",
       " 'Full Time',\n",
       " 'Full Time',\n",
       " 'Full Time',\n",
       " 'Internship',\n",
       " 'Internship']"
      ]
     },
     "execution_count": 24,
     "metadata": {},
     "output_type": "execute_result"
    }
   ],
   "source": [
    "occupations_lst = [occupation.text for occupation in occupations]\n",
    "occupations_lst"
   ]
  },
  {
   "cell_type": "code",
   "execution_count": 25,
   "metadata": {
    "colab": {
     "base_uri": "https://localhost:8080/"
    },
    "executionInfo": {
     "elapsed": 27,
     "status": "ok",
     "timestamp": 1669808526805,
     "user": {
      "displayName": "Zero Grad",
      "userId": "01667150129135608723"
     },
     "user_tz": -120
    },
    "id": "2Wrx0uTKV617",
    "outputId": "e25d64eb-d21d-473f-f3e8-b392abb53d64"
   },
   "outputs": [
    {
     "data": {
      "text/plain": [
       "[<a class=\"css-17s97q8\" href=\"https://wuzzuf.net/jobs/careers/Talents-Arena-Egypt-33214\" rel=\"noreferrer\" target=\"_blank\">Talents Arena -</a>,\n",
       " <a class=\"css-17s97q8\" href=\"https://wuzzuf.net/jobs/careers/Si-Ware System-Egypt-91773\" rel=\"noreferrer\" target=\"_blank\">Si-Ware System -</a>,\n",
       " <a class=\"css-17s97q8\" href=\"https://wuzzuf.net/jobs/careers/Technu Academy-Egypt-90633\" rel=\"noreferrer\" target=\"_blank\">Technu Academy -</a>,\n",
       " <a class=\"css-17s97q8\" href=\"https://wuzzuf.net/jobs/careers/Technu Academy-Egypt-90633\" rel=\"noreferrer\" target=\"_blank\">Technu Academy -</a>,\n",
       " <a class=\"css-17s97q8\" href=\"https://wuzzuf.net/jobs/careers/Souq.com for E-Commerce LLC-Egypt-91779\" rel=\"noreferrer\" target=\"_blank\">Souq.com for E-Commerce LLC -</a>,\n",
       " <a class=\"css-17s97q8\" href=\"https://wuzzuf.net/jobs/careers/Amwaj Rotana - Jumeirah Beach Residence-United Arab Emirates-91897\" rel=\"noreferrer\" target=\"_blank\">Amwaj Rotana - Jumeirah Beach Residence -</a>,\n",
       " <a class=\"css-17s97q8\" href=\"https://wuzzuf.net/jobs/careers/PowerCom-Egypt-88773\" rel=\"noreferrer\" target=\"_blank\">PowerCom -</a>,\n",
       " <a class=\"css-17s97q8\" href=\"https://wuzzuf.net/jobs/careers/DP World Limited-Egypt-91798\" rel=\"noreferrer\" target=\"_blank\">DP World Limited -</a>,\n",
       " <a class=\"css-17s97q8\" href=\"https://wuzzuf.net/jobs/careers/apt resources-United Arab Emirates-91672\" rel=\"noreferrer\" target=\"_blank\">apt resources -</a>,\n",
       " <a class=\"css-17s97q8\" href=\"https://wuzzuf.net/jobs/careers/Egabi-Solutions-Egypt-58526\" rel=\"noreferrer\" target=\"_blank\">egabi solutions -</a>,\n",
       " <a class=\"css-17s97q8\" href=\"https://wuzzuf.net/jobs/careers/eT3---Tomorrow-Information-Technology-Egypt-5525\" rel=\"noreferrer\" target=\"_blank\">eT3 - Tomorrow Information Technology -</a>,\n",
       " <a class=\"css-17s97q8\" href=\"https://wuzzuf.net/jobs/careers/Excel-Systems-LLC-Egypt-13729\" rel=\"noreferrer\" target=\"_blank\">Lumin -</a>,\n",
       " <a class=\"css-17s97q8\" href=\"https://wuzzuf.net/jobs/careers/Ibn-Sina-Pharma-Egypt-7249\" rel=\"noreferrer\" target=\"_blank\">Ibn Sina Pharma -</a>,\n",
       " <a class=\"css-17s97q8\" href=\"https://wuzzuf.net/jobs/careers/Barkotel-Egypt-22778\" rel=\"noreferrer\" target=\"_blank\">Barkotel -</a>,\n",
       " <a class=\"css-17s97q8\" href=\"https://wuzzuf.net/jobs/careers/eT3---Tomorrow-Information-Technology-Egypt-5525\" rel=\"noreferrer\" target=\"_blank\">eT3 - Tomorrow Information Technology -</a>]"
      ]
     },
     "execution_count": 25,
     "metadata": {},
     "output_type": "execute_result"
    }
   ],
   "source": [
    "companies = soup.find_all(\"a\", {'class': 'css-17s97q8'})\n",
    "companies"
   ]
  },
  {
   "cell_type": "code",
   "execution_count": 26,
   "metadata": {
    "colab": {
     "base_uri": "https://localhost:8080/"
    },
    "executionInfo": {
     "elapsed": 24,
     "status": "ok",
     "timestamp": 1669808526805,
     "user": {
      "displayName": "Zero Grad",
      "userId": "01667150129135608723"
     },
     "user_tz": -120
    },
    "id": "wWDQZbt5V618",
    "outputId": "d9da25a2-7ef4-496b-df94-dca8334dc261"
   },
   "outputs": [
    {
     "data": {
      "text/plain": [
       "['Talents Arena -',\n",
       " 'Si-Ware System -',\n",
       " 'Technu Academy -',\n",
       " 'Technu Academy -',\n",
       " 'Souq.com for E-Commerce LLC -',\n",
       " 'Amwaj Rotana - Jumeirah Beach Residence -',\n",
       " 'PowerCom -',\n",
       " 'DP World Limited -',\n",
       " 'apt resources -',\n",
       " 'egabi solutions -',\n",
       " 'eT3 - Tomorrow Information Technology -',\n",
       " 'Lumin -',\n",
       " 'Ibn Sina Pharma -',\n",
       " 'Barkotel -',\n",
       " 'eT3 - Tomorrow Information Technology -']"
      ]
     },
     "execution_count": 26,
     "metadata": {},
     "output_type": "execute_result"
    }
   ],
   "source": [
    "companies_lst = [company.text for company in companies]\n",
    "companies_lst"
   ]
  },
  {
   "cell_type": "code",
   "execution_count": 27,
   "metadata": {
    "colab": {
     "base_uri": "https://localhost:8080/"
    },
    "executionInfo": {
     "elapsed": 22,
     "status": "ok",
     "timestamp": 1669808526805,
     "user": {
      "displayName": "Zero Grad",
      "userId": "01667150129135608723"
     },
     "user_tz": -120
    },
    "id": "ZcVWVjWKV618",
    "outputId": "f122a6ff-de2d-4ba4-ba7a-3fdb25bc0491"
   },
   "outputs": [
    {
     "data": {
      "text/plain": [
       "['Talents Arena',\n",
       " 'Si-Ware System',\n",
       " 'Technu Academy',\n",
       " 'Technu Academy',\n",
       " 'Souq.com for E-Commerce LLC',\n",
       " 'Amwaj Rotana Jumeirah Beach Residence',\n",
       " 'PowerCom',\n",
       " 'DP World Limited',\n",
       " 'apt resources',\n",
       " 'egabi solutions',\n",
       " 'eT3 Tomorrow Information Technology',\n",
       " 'Lumin',\n",
       " 'Ibn Sina Pharma',\n",
       " 'Barkotel',\n",
       " 'eT3 Tomorrow Information Technology']"
      ]
     },
     "execution_count": 27,
     "metadata": {},
     "output_type": "execute_result"
    }
   ],
   "source": [
    "companies_lst = [company.replace(' -', '') for company in companies_lst]\n",
    "companies_lst"
   ]
  },
  {
   "cell_type": "code",
   "execution_count": 28,
   "metadata": {
    "colab": {
     "base_uri": "https://localhost:8080/",
     "height": 54
    },
    "executionInfo": {
     "elapsed": 21,
     "status": "ok",
     "timestamp": 1669808526806,
     "user": {
      "displayName": "Zero Grad",
      "userId": "01667150129135608723"
     },
     "user_tz": -120
    },
    "id": "HljPMSLYV618",
    "outputId": "4f9feb52-8ea4-438b-9874-df2e7a30dbff"
   },
   "outputs": [
    {
     "data": {
      "text/plain": [
       "'InternshipStudent · Training/Instructor · Computer Science · Data Science · Machine Learning · Mechanical Engineering · Software Engineering · machine learning mentor · deep learning · AI · Artificial intelligence'"
      ]
     },
     "execution_count": 28,
     "metadata": {},
     "output_type": "execute_result"
    }
   ],
   "source": [
    "specs = soup.find_all(\"div\", {'class': 'css-y4udm8'})\n",
    "specs[2].text"
   ]
  },
  {
   "cell_type": "code",
   "execution_count": 29,
   "metadata": {
    "colab": {
     "base_uri": "https://localhost:8080/"
    },
    "executionInfo": {
     "elapsed": 20,
     "status": "ok",
     "timestamp": 1669808526806,
     "user": {
      "displayName": "Zero Grad",
      "userId": "01667150129135608723"
     },
     "user_tz": -120
    },
    "id": "ri2SW6qaV618",
    "outputId": "f819e42e-31f6-44f4-f9f6-7483ef263b96"
   },
   "outputs": [
    {
     "data": {
      "text/plain": [
       "['InternshipStudent',\n",
       " 'Training/Instructor',\n",
       " 'Computer Science',\n",
       " 'Data Science',\n",
       " 'Machine Learning',\n",
       " 'Mechanical Engineering',\n",
       " 'Software Engineering',\n",
       " 'machine learning mentor',\n",
       " 'deep learning',\n",
       " 'AI',\n",
       " 'Artificial intelligence']"
      ]
     },
     "execution_count": 29,
     "metadata": {},
     "output_type": "execute_result"
    }
   ],
   "source": [
    "specs[2].text.split(' · ')"
   ]
  },
  {
   "cell_type": "code",
   "execution_count": 30,
   "metadata": {
    "colab": {
     "base_uri": "https://localhost:8080/"
    },
    "executionInfo": {
     "elapsed": 18,
     "status": "ok",
     "timestamp": 1669808526806,
     "user": {
      "displayName": "Zero Grad",
      "userId": "01667150129135608723"
     },
     "user_tz": -120
    },
    "id": "e7J7hPmGV618",
    "outputId": "29259a71-4537-4634-a815-d6a14afe4c32"
   },
   "outputs": [
    {
     "name": "stdout",
     "output_type": "stream",
     "text": [
      "9\n",
      "11\n",
      "11\n",
      "12\n",
      "11\n",
      "11\n",
      "12\n",
      "11\n",
      "11\n",
      "11\n",
      "11\n",
      "12\n",
      "12\n",
      "10\n",
      "12\n"
     ]
    }
   ],
   "source": [
    "for spec in specs:\n",
    "    print(len(spec.text.split(' · ')))"
   ]
  },
  {
   "cell_type": "code",
   "execution_count": 31,
   "metadata": {
    "colab": {
     "base_uri": "https://localhost:8080/"
    },
    "executionInfo": {
     "elapsed": 17,
     "status": "ok",
     "timestamp": 1669808526806,
     "user": {
      "displayName": "Zero Grad",
      "userId": "01667150129135608723"
     },
     "user_tz": -120
    },
    "id": "MRu8_xNLV618",
    "outputId": "0275d548-16bf-4548-8e9d-75e599996483"
   },
   "outputs": [
    {
     "data": {
      "text/plain": [
       "['InternshipEntry Level · IT/Software Development · Algorithms · AI · Computer Science · Information Technology (IT) · Machine Learning · Python · NLP',\n",
       " 'Full TimeNot specified · IT/Software Development · Analyst/Research · Engineering - Telecom/Technology · Python · Software Engineering · Information Technology (IT) · Computer Science · Machine Learning · C++ · NLP',\n",
       " 'InternshipStudent · Training/Instructor · Computer Science · Data Science · Machine Learning · Mechanical Engineering · Software Engineering · machine learning mentor · deep learning · AI · Artificial intelligence',\n",
       " 'Part TimeEntry Level · 1 - 5 Yrs of Exp · Training/Instructor · AI · Artificial Intelligence · Machine Learning · Data Science · Deep Learning · Computer Vision · AI instructor · AI training · AI trainer',\n",
       " 'Full TimeNot specified · IT/Software Development · Engineering - Telecom/Technology · Training/Instructor · Python · Computer Science · Information Technology (IT) · Training · Machine Learning · Education · Learning',\n",
       " 'Full TimeNot specified · IT/Software Development · Engineering - Telecom/Technology · Education/Teaching · Education · Learning · Training · Information Technology (IT) · Computer Science · Teaching · E-Learning',\n",
       " 'Full TimeExperienced · 2+ Yrs of Exp · IT/Software Development · Engineering - Telecom/Technology · Computer Science · Computer Vision · Deep Learning · Engineering · Image Processing · Information Technology (IT) · Machine Learning · Programming',\n",
       " 'Full TimeNot specified · IT/Software Development · Engineering - Telecom/Technology · Education/Teaching · Education · Learning · Training · Information Technology (IT) · Computer Science · Teaching · E-Learning',\n",
       " 'Full TimeNot specified · Human Resources · IT/Software Development · Training/Instructor · Training · Human Resources (HR) · Information Technology (IT) · Computer Science · Software Development · Machine Learning · Learning',\n",
       " 'Full TimeExperienced · 3 - 7 Yrs of Exp · IT/Software Development · AI · ML · Data Analysis · Data Mining · Data Science · data scientist · Information Technology (IT) · Machine Learning',\n",
       " 'Full TimeExperienced · 2 - 5 Yrs of Exp · IT/Software Development · Engineering - Telecom/Technology · Data Science · Computer Science · Software Engineering · Python · Java · Machine Learning · Data Analytics',\n",
       " 'Full TimeEntry Level · 1 - 2 Yrs of Exp · IT/Software Development · AI · Artificial Intelligence · Computer Vision · Machine Learning · TensorFlow · Python · Computer Science · Programming · PyTorch',\n",
       " 'Full TimeExperienced · 1 - 3 Yrs of Exp · IT/Software Development · Analyst/Research · Engineering - Telecom/Technology · Big Data · AWS · Computer Engineering · Computer Science · Data Science · Design · Engineering',\n",
       " 'InternshipEntry Level · IT/Software Development · Sales/Retail · Engineering - Telecom/Technology · Artificial Intelligence · Computer Science · Software Engineering · Machine Learning · Computer Vision · Programming',\n",
       " 'InternshipEntry Level · 0 - 1 Yrs of Exp · IT/Software Development · Engineering - Telecom/Technology · Computer Science · Software Development · Software Engineering · Computer Engineering · Backend Development · Frontend Development · \\uf0a7\\tSoftware Testing · Data Engineering']"
      ]
     },
     "execution_count": 31,
     "metadata": {},
     "output_type": "execute_result"
    }
   ],
   "source": [
    "specs_lst = [spec.text for spec in specs]\n",
    "specs_lst"
   ]
  },
  {
   "cell_type": "code",
   "execution_count": 32,
   "metadata": {
    "colab": {
     "base_uri": "https://localhost:8080/"
    },
    "executionInfo": {
     "elapsed": 16,
     "status": "ok",
     "timestamp": 1669808526807,
     "user": {
      "displayName": "Zero Grad",
      "userId": "01667150129135608723"
     },
     "user_tz": -120
    },
    "id": "j3GvmFKjV619",
    "outputId": "3ef63504-8769-401d-949f-f2fef1c3f7da"
   },
   "outputs": [
    {
     "data": {
      "text/plain": [
       "{'Title': ['Machine Learning Intern',\n",
       "  'Senior Machine Learning/ Data Science Engineer',\n",
       "  'Machine Learning Mentor',\n",
       "  'Machine Learning Engineer',\n",
       "  'Learning Associate, Learning & Development',\n",
       "  'Learning & Development Officer - UAE National',\n",
       "  'Computer Vision / Deep Learning Engineer',\n",
       "  'Learning & Development Coordinator - GROW Jeddah, Makkah Province, Saudi Arabia Posted on 07/20/2023',\n",
       "  'Learning and Development (L&D) Manager for a Luxury 5 star hotel',\n",
       "  'Data Scientist',\n",
       "  'Data Scientist',\n",
       "  'AI Engineer (Computer Vision Focus)',\n",
       "  'Data Engineer',\n",
       "  'AI Intern',\n",
       "  'Graduate Internship: Enterprise Software Engineering'],\n",
       " 'Link': ['https://wuzzuf.net/internship/xfKqVWXmST84-Machine-Learning-Intern-Talents-Arena-Cairo-Egypt?o=1&l=sp&t=sj&a=machine%20learning|search-v3|hpb',\n",
       "  'https://wuzzuf.net/jobs/p/SRYwwjHGOKb1-Senior-Machine-Learning-Data-Science-Engineer-Si-Ware-System-Cairo-Egypt?o=2&l=sp&t=sj&a=machine%20learning|search-v3|hpb',\n",
       "  'https://wuzzuf.net/internship/PbwdA9KxlckG-Machine-Learning-Mentor-Technu-Academy-Giza-Egypt?o=3&l=sp&t=sj&a=machine%20learning|search-v3|hpb',\n",
       "  'https://wuzzuf.net/jobs/p/ZjN6w6ZtgBO9-Machine-Learning-Engineer-Technu-Academy-Giza-Egypt?o=4&l=sp&t=sj&a=machine%20learning|search-v3|hpb',\n",
       "  'https://wuzzuf.net/jobs/p/3PQFoj7jQPQI-Learning-Associate-Learning-Development-Souq-com-for-E-Commerce-LLC-Cairo-Egypt?o=5&l=sp&t=sj&a=machine%20learning|search-v3|hpb',\n",
       "  'https://wuzzuf.net/jobs/p/cKUROmgXJVPH-Learning-Development-Officer---UAE-National-Amwaj-Rotana---Jumeirah-Beach-Residence-Dubai-United-Arab-Emirates?o=6&l=sp&t=sj&a=machine%20learning|search-v3|hpb',\n",
       "  'https://wuzzuf.net/jobs/p/H4tY3owYsIyO-Computer-Vision-Deep-Learning-Engineer-PowerCom-Cairo-Egypt?o=7&l=sp&t=sj&a=machine%20learning|search-v3|hpb',\n",
       "  'https://wuzzuf.net/jobs/p/joXEg5uPesA1-Learning-Development-Coordinator---GROW-Jeddah-Makkah-Province-Saudi-Arabia-Posted-on-07202023-DP-World-Limited-Jeddah-Saudi-Arabia?o=8&l=sp&t=sj&a=machine%20learning|search-v3|hpb',\n",
       "  'https://wuzzuf.net/jobs/p/SZ7J5WgeQQzh-Learning-and-Development-LD-Manager-for-a-Luxury-5-star-hotel-apt-resources-Dubai-United-Arab-Emirates?o=9&l=sp&t=sj&a=machine%20learning|search-v3|hpb',\n",
       "  'https://wuzzuf.net/jobs/p/gsWTviAzR4za-Data-Scientist-egabi-solutions-Cairo-Egypt?o=10&l=sp&t=sj&a=machine%20learning|search-v3|hpb',\n",
       "  'https://wuzzuf.net/jobs/p/7ecFYQvcGsIB-Data-Scientist-eT3---Tomorrow-Information-Technology-Cairo-Egypt?o=11&l=sp&t=sj&a=machine%20learning|search-v3|hpb',\n",
       "  'https://wuzzuf.net/jobs/p/gM5njZ8kiar0-AI-Engineer-Computer-Vision-Focus-Lumin-Giza-Egypt?o=12&l=sp&t=sj&a=machine%20learning|search-v3|hpb',\n",
       "  'https://wuzzuf.net/jobs/p/Lbrv99VhWmgv-Data-Engineer-Ibn-Sina-Pharma-Cairo-Egypt?o=13&l=sp&t=sj&a=machine%20learning|search-v3|hpb',\n",
       "  'https://wuzzuf.net/internship/cWw9mcxePyOz-AI-Intern-Barkotel-Cairo-Egypt?o=14&l=sp&t=sj&a=machine%20learning|search-v3|hpb',\n",
       "  'https://wuzzuf.net/internship/j9Jq6RR98xha-Graduate-Internship-Enterprise-Software-Engineering-eT3---Tomorrow-Information-Technology-Cairo-Egypt?o=15&l=sp&t=sj&a=machine%20learning|search-v3|hpb'],\n",
       " 'Occupation': ['Internship',\n",
       "  'Full Time',\n",
       "  'Internship',\n",
       "  'Part Time',\n",
       "  'Full Time',\n",
       "  'Full Time',\n",
       "  'Full Time',\n",
       "  'Full Time',\n",
       "  'Full Time',\n",
       "  'Full Time',\n",
       "  'Full Time',\n",
       "  'Full Time',\n",
       "  'Full Time',\n",
       "  'Internship',\n",
       "  'Internship'],\n",
       " 'Company': ['Talents Arena',\n",
       "  'Si-Ware System',\n",
       "  'Technu Academy',\n",
       "  'Technu Academy',\n",
       "  'Souq.com for E-Commerce LLC',\n",
       "  'Amwaj Rotana Jumeirah Beach Residence',\n",
       "  'PowerCom',\n",
       "  'DP World Limited',\n",
       "  'apt resources',\n",
       "  'egabi solutions',\n",
       "  'eT3 Tomorrow Information Technology',\n",
       "  'Lumin',\n",
       "  'Ibn Sina Pharma',\n",
       "  'Barkotel',\n",
       "  'eT3 Tomorrow Information Technology'],\n",
       " 'Specs': ['InternshipEntry Level · IT/Software Development · Algorithms · AI · Computer Science · Information Technology (IT) · Machine Learning · Python · NLP',\n",
       "  'Full TimeNot specified · IT/Software Development · Analyst/Research · Engineering - Telecom/Technology · Python · Software Engineering · Information Technology (IT) · Computer Science · Machine Learning · C++ · NLP',\n",
       "  'InternshipStudent · Training/Instructor · Computer Science · Data Science · Machine Learning · Mechanical Engineering · Software Engineering · machine learning mentor · deep learning · AI · Artificial intelligence',\n",
       "  'Part TimeEntry Level · 1 - 5 Yrs of Exp · Training/Instructor · AI · Artificial Intelligence · Machine Learning · Data Science · Deep Learning · Computer Vision · AI instructor · AI training · AI trainer',\n",
       "  'Full TimeNot specified · IT/Software Development · Engineering - Telecom/Technology · Training/Instructor · Python · Computer Science · Information Technology (IT) · Training · Machine Learning · Education · Learning',\n",
       "  'Full TimeNot specified · IT/Software Development · Engineering - Telecom/Technology · Education/Teaching · Education · Learning · Training · Information Technology (IT) · Computer Science · Teaching · E-Learning',\n",
       "  'Full TimeExperienced · 2+ Yrs of Exp · IT/Software Development · Engineering - Telecom/Technology · Computer Science · Computer Vision · Deep Learning · Engineering · Image Processing · Information Technology (IT) · Machine Learning · Programming',\n",
       "  'Full TimeNot specified · IT/Software Development · Engineering - Telecom/Technology · Education/Teaching · Education · Learning · Training · Information Technology (IT) · Computer Science · Teaching · E-Learning',\n",
       "  'Full TimeNot specified · Human Resources · IT/Software Development · Training/Instructor · Training · Human Resources (HR) · Information Technology (IT) · Computer Science · Software Development · Machine Learning · Learning',\n",
       "  'Full TimeExperienced · 3 - 7 Yrs of Exp · IT/Software Development · AI · ML · Data Analysis · Data Mining · Data Science · data scientist · Information Technology (IT) · Machine Learning',\n",
       "  'Full TimeExperienced · 2 - 5 Yrs of Exp · IT/Software Development · Engineering - Telecom/Technology · Data Science · Computer Science · Software Engineering · Python · Java · Machine Learning · Data Analytics',\n",
       "  'Full TimeEntry Level · 1 - 2 Yrs of Exp · IT/Software Development · AI · Artificial Intelligence · Computer Vision · Machine Learning · TensorFlow · Python · Computer Science · Programming · PyTorch',\n",
       "  'Full TimeExperienced · 1 - 3 Yrs of Exp · IT/Software Development · Analyst/Research · Engineering - Telecom/Technology · Big Data · AWS · Computer Engineering · Computer Science · Data Science · Design · Engineering',\n",
       "  'InternshipEntry Level · IT/Software Development · Sales/Retail · Engineering - Telecom/Technology · Artificial Intelligence · Computer Science · Software Engineering · Machine Learning · Computer Vision · Programming',\n",
       "  'InternshipEntry Level · 0 - 1 Yrs of Exp · IT/Software Development · Engineering - Telecom/Technology · Computer Science · Software Development · Software Engineering · Computer Engineering · Backend Development · Frontend Development · \\uf0a7\\tSoftware Testing · Data Engineering']}"
      ]
     },
     "execution_count": 32,
     "metadata": {},
     "output_type": "execute_result"
    }
   ],
   "source": [
    "scraped_data = {}\n",
    "scraped_data['Title'] = titles_lst\n",
    "scraped_data['Link'] = links\n",
    "scraped_data['Occupation'] = occupations_lst\n",
    "scraped_data['Company'] = companies_lst\n",
    "scraped_data['Specs'] = specs_lst\n",
    "scraped_data"
   ]
  },
  {
   "cell_type": "code",
   "execution_count": 33,
   "metadata": {
    "colab": {
     "base_uri": "https://localhost:8080/",
     "height": 702
    },
    "executionInfo": {
     "elapsed": 13,
     "status": "ok",
     "timestamp": 1669808526807,
     "user": {
      "displayName": "Zero Grad",
      "userId": "01667150129135608723"
     },
     "user_tz": -120
    },
    "id": "56uP33XmV619",
    "outputId": "4ce09c02-2f7a-4a83-b1e3-0e0a5cb7d675"
   },
   "outputs": [
    {
     "name": "stderr",
     "output_type": "stream",
     "text": [
      "c:\\Users\\ahmad\\anaconda3\\lib\\site-packages\\numpy\\_distributor_init.py:30: UserWarning: loaded more than 1 DLL from .libs:\n",
      "c:\\Users\\ahmad\\anaconda3\\lib\\site-packages\\numpy\\.libs\\libopenblas.EL2C6PLE4ZYW3ECEVIV3OXXGRN2NRFM2.gfortran-win_amd64.dll\n",
      "c:\\Users\\ahmad\\anaconda3\\lib\\site-packages\\numpy\\.libs\\libopenblas.FB5AE2TYXYH2IJRDKGDGQ3XBKLKTF43H.gfortran-win_amd64.dll\n",
      "  warnings.warn(\"loaded more than 1 DLL from .libs:\"\n"
     ]
    },
    {
     "data": {
      "text/html": [
       "<div>\n",
       "<style scoped>\n",
       "    .dataframe tbody tr th:only-of-type {\n",
       "        vertical-align: middle;\n",
       "    }\n",
       "\n",
       "    .dataframe tbody tr th {\n",
       "        vertical-align: top;\n",
       "    }\n",
       "\n",
       "    .dataframe thead th {\n",
       "        text-align: right;\n",
       "    }\n",
       "</style>\n",
       "<table border=\"1\" class=\"dataframe\">\n",
       "  <thead>\n",
       "    <tr style=\"text-align: right;\">\n",
       "      <th></th>\n",
       "      <th>Title</th>\n",
       "      <th>Link</th>\n",
       "      <th>Occupation</th>\n",
       "      <th>Company</th>\n",
       "      <th>Specs</th>\n",
       "    </tr>\n",
       "  </thead>\n",
       "  <tbody>\n",
       "    <tr>\n",
       "      <th>0</th>\n",
       "      <td>Machine Learning Intern</td>\n",
       "      <td>https://wuzzuf.net/internship/xfKqVWXmST84-Mac...</td>\n",
       "      <td>Internship</td>\n",
       "      <td>Talents Arena</td>\n",
       "      <td>InternshipEntry Level · IT/Software Developmen...</td>\n",
       "    </tr>\n",
       "    <tr>\n",
       "      <th>1</th>\n",
       "      <td>Senior Machine Learning/ Data Science Engineer</td>\n",
       "      <td>https://wuzzuf.net/jobs/p/SRYwwjHGOKb1-Senior-...</td>\n",
       "      <td>Full Time</td>\n",
       "      <td>Si-Ware System</td>\n",
       "      <td>Full TimeNot specified · IT/Software Developme...</td>\n",
       "    </tr>\n",
       "    <tr>\n",
       "      <th>2</th>\n",
       "      <td>Machine Learning Mentor</td>\n",
       "      <td>https://wuzzuf.net/internship/PbwdA9KxlckG-Mac...</td>\n",
       "      <td>Internship</td>\n",
       "      <td>Technu Academy</td>\n",
       "      <td>InternshipStudent · Training/Instructor · Comp...</td>\n",
       "    </tr>\n",
       "    <tr>\n",
       "      <th>3</th>\n",
       "      <td>Machine Learning Engineer</td>\n",
       "      <td>https://wuzzuf.net/jobs/p/ZjN6w6ZtgBO9-Machine...</td>\n",
       "      <td>Part Time</td>\n",
       "      <td>Technu Academy</td>\n",
       "      <td>Part TimeEntry Level · 1 - 5 Yrs of Exp · Trai...</td>\n",
       "    </tr>\n",
       "    <tr>\n",
       "      <th>4</th>\n",
       "      <td>Learning Associate, Learning &amp; Development</td>\n",
       "      <td>https://wuzzuf.net/jobs/p/3PQFoj7jQPQI-Learnin...</td>\n",
       "      <td>Full Time</td>\n",
       "      <td>Souq.com for E-Commerce LLC</td>\n",
       "      <td>Full TimeNot specified · IT/Software Developme...</td>\n",
       "    </tr>\n",
       "    <tr>\n",
       "      <th>5</th>\n",
       "      <td>Learning &amp; Development Officer - UAE National</td>\n",
       "      <td>https://wuzzuf.net/jobs/p/cKUROmgXJVPH-Learnin...</td>\n",
       "      <td>Full Time</td>\n",
       "      <td>Amwaj Rotana Jumeirah Beach Residence</td>\n",
       "      <td>Full TimeNot specified · IT/Software Developme...</td>\n",
       "    </tr>\n",
       "    <tr>\n",
       "      <th>6</th>\n",
       "      <td>Computer Vision / Deep Learning Engineer</td>\n",
       "      <td>https://wuzzuf.net/jobs/p/H4tY3owYsIyO-Compute...</td>\n",
       "      <td>Full Time</td>\n",
       "      <td>PowerCom</td>\n",
       "      <td>Full TimeExperienced · 2+ Yrs of Exp · IT/Soft...</td>\n",
       "    </tr>\n",
       "    <tr>\n",
       "      <th>7</th>\n",
       "      <td>Learning &amp; Development Coordinator - GROW Jedd...</td>\n",
       "      <td>https://wuzzuf.net/jobs/p/joXEg5uPesA1-Learnin...</td>\n",
       "      <td>Full Time</td>\n",
       "      <td>DP World Limited</td>\n",
       "      <td>Full TimeNot specified · IT/Software Developme...</td>\n",
       "    </tr>\n",
       "    <tr>\n",
       "      <th>8</th>\n",
       "      <td>Learning and Development (L&amp;D) Manager for a L...</td>\n",
       "      <td>https://wuzzuf.net/jobs/p/SZ7J5WgeQQzh-Learnin...</td>\n",
       "      <td>Full Time</td>\n",
       "      <td>apt resources</td>\n",
       "      <td>Full TimeNot specified · Human Resources · IT/...</td>\n",
       "    </tr>\n",
       "    <tr>\n",
       "      <th>9</th>\n",
       "      <td>Data Scientist</td>\n",
       "      <td>https://wuzzuf.net/jobs/p/gsWTviAzR4za-Data-Sc...</td>\n",
       "      <td>Full Time</td>\n",
       "      <td>egabi solutions</td>\n",
       "      <td>Full TimeExperienced · 3 - 7 Yrs of Exp · IT/S...</td>\n",
       "    </tr>\n",
       "    <tr>\n",
       "      <th>10</th>\n",
       "      <td>Data Scientist</td>\n",
       "      <td>https://wuzzuf.net/jobs/p/7ecFYQvcGsIB-Data-Sc...</td>\n",
       "      <td>Full Time</td>\n",
       "      <td>eT3 Tomorrow Information Technology</td>\n",
       "      <td>Full TimeExperienced · 2 - 5 Yrs of Exp · IT/S...</td>\n",
       "    </tr>\n",
       "    <tr>\n",
       "      <th>11</th>\n",
       "      <td>AI Engineer (Computer Vision Focus)</td>\n",
       "      <td>https://wuzzuf.net/jobs/p/gM5njZ8kiar0-AI-Engi...</td>\n",
       "      <td>Full Time</td>\n",
       "      <td>Lumin</td>\n",
       "      <td>Full TimeEntry Level · 1 - 2 Yrs of Exp · IT/S...</td>\n",
       "    </tr>\n",
       "    <tr>\n",
       "      <th>12</th>\n",
       "      <td>Data Engineer</td>\n",
       "      <td>https://wuzzuf.net/jobs/p/Lbrv99VhWmgv-Data-En...</td>\n",
       "      <td>Full Time</td>\n",
       "      <td>Ibn Sina Pharma</td>\n",
       "      <td>Full TimeExperienced · 1 - 3 Yrs of Exp · IT/S...</td>\n",
       "    </tr>\n",
       "    <tr>\n",
       "      <th>13</th>\n",
       "      <td>AI Intern</td>\n",
       "      <td>https://wuzzuf.net/internship/cWw9mcxePyOz-AI-...</td>\n",
       "      <td>Internship</td>\n",
       "      <td>Barkotel</td>\n",
       "      <td>InternshipEntry Level · IT/Software Developmen...</td>\n",
       "    </tr>\n",
       "    <tr>\n",
       "      <th>14</th>\n",
       "      <td>Graduate Internship: Enterprise Software Engin...</td>\n",
       "      <td>https://wuzzuf.net/internship/j9Jq6RR98xha-Gra...</td>\n",
       "      <td>Internship</td>\n",
       "      <td>eT3 Tomorrow Information Technology</td>\n",
       "      <td>InternshipEntry Level · 0 - 1 Yrs of Exp · IT/...</td>\n",
       "    </tr>\n",
       "  </tbody>\n",
       "</table>\n",
       "</div>"
      ],
      "text/plain": [
       "                                                Title  \\\n",
       "0                             Machine Learning Intern   \n",
       "1      Senior Machine Learning/ Data Science Engineer   \n",
       "2                             Machine Learning Mentor   \n",
       "3                           Machine Learning Engineer   \n",
       "4          Learning Associate, Learning & Development   \n",
       "5       Learning & Development Officer - UAE National   \n",
       "6            Computer Vision / Deep Learning Engineer   \n",
       "7   Learning & Development Coordinator - GROW Jedd...   \n",
       "8   Learning and Development (L&D) Manager for a L...   \n",
       "9                                      Data Scientist   \n",
       "10                                     Data Scientist   \n",
       "11                AI Engineer (Computer Vision Focus)   \n",
       "12                                      Data Engineer   \n",
       "13                                          AI Intern   \n",
       "14  Graduate Internship: Enterprise Software Engin...   \n",
       "\n",
       "                                                 Link  Occupation  \\\n",
       "0   https://wuzzuf.net/internship/xfKqVWXmST84-Mac...  Internship   \n",
       "1   https://wuzzuf.net/jobs/p/SRYwwjHGOKb1-Senior-...   Full Time   \n",
       "2   https://wuzzuf.net/internship/PbwdA9KxlckG-Mac...  Internship   \n",
       "3   https://wuzzuf.net/jobs/p/ZjN6w6ZtgBO9-Machine...   Part Time   \n",
       "4   https://wuzzuf.net/jobs/p/3PQFoj7jQPQI-Learnin...   Full Time   \n",
       "5   https://wuzzuf.net/jobs/p/cKUROmgXJVPH-Learnin...   Full Time   \n",
       "6   https://wuzzuf.net/jobs/p/H4tY3owYsIyO-Compute...   Full Time   \n",
       "7   https://wuzzuf.net/jobs/p/joXEg5uPesA1-Learnin...   Full Time   \n",
       "8   https://wuzzuf.net/jobs/p/SZ7J5WgeQQzh-Learnin...   Full Time   \n",
       "9   https://wuzzuf.net/jobs/p/gsWTviAzR4za-Data-Sc...   Full Time   \n",
       "10  https://wuzzuf.net/jobs/p/7ecFYQvcGsIB-Data-Sc...   Full Time   \n",
       "11  https://wuzzuf.net/jobs/p/gM5njZ8kiar0-AI-Engi...   Full Time   \n",
       "12  https://wuzzuf.net/jobs/p/Lbrv99VhWmgv-Data-En...   Full Time   \n",
       "13  https://wuzzuf.net/internship/cWw9mcxePyOz-AI-...  Internship   \n",
       "14  https://wuzzuf.net/internship/j9Jq6RR98xha-Gra...  Internship   \n",
       "\n",
       "                                  Company  \\\n",
       "0                           Talents Arena   \n",
       "1                          Si-Ware System   \n",
       "2                          Technu Academy   \n",
       "3                          Technu Academy   \n",
       "4             Souq.com for E-Commerce LLC   \n",
       "5   Amwaj Rotana Jumeirah Beach Residence   \n",
       "6                                PowerCom   \n",
       "7                        DP World Limited   \n",
       "8                           apt resources   \n",
       "9                         egabi solutions   \n",
       "10    eT3 Tomorrow Information Technology   \n",
       "11                                  Lumin   \n",
       "12                        Ibn Sina Pharma   \n",
       "13                               Barkotel   \n",
       "14    eT3 Tomorrow Information Technology   \n",
       "\n",
       "                                                Specs  \n",
       "0   InternshipEntry Level · IT/Software Developmen...  \n",
       "1   Full TimeNot specified · IT/Software Developme...  \n",
       "2   InternshipStudent · Training/Instructor · Comp...  \n",
       "3   Part TimeEntry Level · 1 - 5 Yrs of Exp · Trai...  \n",
       "4   Full TimeNot specified · IT/Software Developme...  \n",
       "5   Full TimeNot specified · IT/Software Developme...  \n",
       "6   Full TimeExperienced · 2+ Yrs of Exp · IT/Soft...  \n",
       "7   Full TimeNot specified · IT/Software Developme...  \n",
       "8   Full TimeNot specified · Human Resources · IT/...  \n",
       "9   Full TimeExperienced · 3 - 7 Yrs of Exp · IT/S...  \n",
       "10  Full TimeExperienced · 2 - 5 Yrs of Exp · IT/S...  \n",
       "11  Full TimeEntry Level · 1 - 2 Yrs of Exp · IT/S...  \n",
       "12  Full TimeExperienced · 1 - 3 Yrs of Exp · IT/S...  \n",
       "13  InternshipEntry Level · IT/Software Developmen...  \n",
       "14  InternshipEntry Level · 0 - 1 Yrs of Exp · IT/...  "
      ]
     },
     "execution_count": 33,
     "metadata": {},
     "output_type": "execute_result"
    }
   ],
   "source": [
    "import pandas as pd\n",
    "df = pd.DataFrame(scraped_data)\n",
    "df"
   ]
  },
  {
   "cell_type": "code",
   "execution_count": 34,
   "metadata": {
    "executionInfo": {
     "elapsed": 13,
     "status": "ok",
     "timestamp": 1669808526807,
     "user": {
      "displayName": "Zero Grad",
      "userId": "01667150129135608723"
     },
     "user_tz": -120
    },
    "id": "Yin50ijaV619"
   },
   "outputs": [],
   "source": [
    "df.to_csv('mljobs.csv', index=False)"
   ]
  },
  {
   "cell_type": "code",
   "execution_count": 35,
   "metadata": {
    "executionInfo": {
     "elapsed": 2,
     "status": "ok",
     "timestamp": 1669808544416,
     "user": {
      "displayName": "Zero Grad",
      "userId": "01667150129135608723"
     },
     "user_tz": -120
    },
    "id": "N1O2YWzwV619"
   },
   "outputs": [],
   "source": [
    "from scrap_jobs import scrap"
   ]
  },
  {
   "cell_type": "code",
   "execution_count": 36,
   "metadata": {
    "id": "rQu7rlrcWFgF"
   },
   "outputs": [
    {
     "name": "stdout",
     "output_type": "stream",
     "text": [
      "Jobs Scraped Successfully\n"
     ]
    },
    {
     "data": {
      "text/plain": [
       "['Machine Learning Intern',\n",
       " 'Senior Machine Learning/ Data Science Engineer',\n",
       " 'Machine Learning Mentor',\n",
       " 'Machine Learning Engineer',\n",
       " 'Learning Associate, Learning & Development',\n",
       " 'Learning & Development Officer - UAE National',\n",
       " 'Computer Vision / Deep Learning Engineer',\n",
       " 'Learning & Development Coordinator - GROW Jeddah, Makkah Province, Saudi Arabia Posted on 07/20/2023',\n",
       " 'Learning and Development (L&D) Manager for a Luxury 5 star hotel',\n",
       " 'Data Scientist',\n",
       " 'Data Scientist',\n",
       " 'AI Engineer (Computer Vision Focus)',\n",
       " 'Data Engineer',\n",
       " 'AI Intern',\n",
       " 'Graduate Internship: Enterprise Software Engineering']"
      ]
     },
     "execution_count": 36,
     "metadata": {},
     "output_type": "execute_result"
    }
   ],
   "source": [
    "from titles import get_titles\n",
    "get_titles()"
   ]
  },
  {
   "cell_type": "code",
   "execution_count": 4,
   "metadata": {},
   "outputs": [
    {
     "data": {
      "text/plain": [
       "'https://wuzzuf.net/search/jobs/?q=data+scientist&a=hpb'"
      ]
     },
     "execution_count": 4,
     "metadata": {},
     "output_type": "execute_result"
    }
   ],
   "source": [
    "query = 'data scientist'\n",
    "query = query.replace(' ', '+')\n",
    "url ='https://wuzzuf.net/search/jobs/?q=' + query + '&a=hpb'\n",
    "url"
   ]
  },
  {
   "cell_type": "code",
   "execution_count": 46,
   "metadata": {},
   "outputs": [],
   "source": [
    "response = requests.get(url)\n",
    "soup = BeautifulSoup(response.content, 'lxml')\n"
   ]
  },
  {
   "cell_type": "code",
   "execution_count": 53,
   "metadata": {},
   "outputs": [],
   "source": [
    "soup.find('div', {'class': 'css-8neukt'})"
   ]
  },
  {
   "cell_type": "code",
   "execution_count": 55,
   "metadata": {},
   "outputs": [
    {
     "data": {
      "text/plain": [
       "'Showing 1 - 15 of 267112345'"
      ]
     },
     "execution_count": 55,
     "metadata": {},
     "output_type": "execute_result"
    }
   ],
   "source": [
    "soup.find(\"div\", {'class': 'css-7o92qm'}).text"
   ]
  },
  {
   "cell_type": "code",
   "execution_count": 57,
   "metadata": {},
   "outputs": [
    {
     "data": {
      "text/plain": [
       "'Showing 1 - 15 of 2671'"
      ]
     },
     "execution_count": 57,
     "metadata": {},
     "output_type": "execute_result"
    }
   ],
   "source": [
    "s = soup.find(\"li\", {'class': 'css-8neukt'}).text\n",
    "s"
   ]
  },
  {
   "cell_type": "code",
   "execution_count": 59,
   "metadata": {},
   "outputs": [
    {
     "data": {
      "text/plain": [
       "['Showing 1 - 15 ', '2671']"
      ]
     },
     "execution_count": 59,
     "metadata": {},
     "output_type": "execute_result"
    }
   ],
   "source": [
    "s.split('of ')"
   ]
  },
  {
   "cell_type": "code",
   "execution_count": 60,
   "metadata": {},
   "outputs": [
    {
     "data": {
      "text/plain": [
       "'2671'"
      ]
     },
     "execution_count": 60,
     "metadata": {},
     "output_type": "execute_result"
    }
   ],
   "source": [
    "s.split('of ')[1]"
   ]
  },
  {
   "cell_type": "code",
   "execution_count": 63,
   "metadata": {},
   "outputs": [
    {
     "data": {
      "text/plain": [
       "2671"
      ]
     },
     "execution_count": 63,
     "metadata": {},
     "output_type": "execute_result"
    }
   ],
   "source": [
    "jobs = int(s.split('of ')[1])\n",
    "jobs"
   ]
  },
  {
   "cell_type": "code",
   "execution_count": 65,
   "metadata": {},
   "outputs": [
    {
     "data": {
      "text/plain": [
       "178.06666666666666"
      ]
     },
     "execution_count": 65,
     "metadata": {},
     "output_type": "execute_result"
    }
   ],
   "source": [
    "jobs / 15"
   ]
  },
  {
   "cell_type": "code",
   "execution_count": 66,
   "metadata": {},
   "outputs": [
    {
     "data": {
      "text/plain": [
       "179"
      ]
     },
     "execution_count": 66,
     "metadata": {},
     "output_type": "execute_result"
    }
   ],
   "source": [
    "import math\n",
    "math.ceil( jobs / 15)"
   ]
  },
  {
   "cell_type": "code",
   "execution_count": null,
   "metadata": {},
   "outputs": [],
   "source": [
    "def find_no_of_pages(query):\n",
    "    query = query.replace(' ', '+')\n",
    "    url = 'https://wuzzuf.net/search/jobs/?q=' + query + '&a=hpb'\n",
    "    res = requests.get(url)\n",
    "    soup = BeautifulSoup(res.content, 'lxml')\n",
    "    txt = soup.find(\"li\", {'class': 'css-8neukt'}).text\n",
    "    jobs = int(s.split('of ')[1])\n",
    "    pages = math.ceil(jobs / 15)\n",
    "    return pages\n",
    "    "
   ]
  },
  {
   "cell_type": "code",
   "execution_count": 68,
   "metadata": {},
   "outputs": [
    {
     "name": "stdout",
     "output_type": "stream",
     "text": [
      "https://wuzzuf.net/search/jobs/?q=python%20developer&start=0\n",
      "https://wuzzuf.net/search/jobs/?q=python%20developer&start=1\n",
      "https://wuzzuf.net/search/jobs/?q=python%20developer&start=2\n"
     ]
    }
   ],
   "source": [
    "query = 'python developer'\n",
    "query = query.replace(' ', '%20')\n",
    "pages = 3\n",
    "for pageNo in range(pages):\n",
    "    print('https://wuzzuf.net/search/jobs/?q=' + query + '&start=' + str(pageNo))"
   ]
  },
  {
   "cell_type": "code",
   "execution_count": null,
   "metadata": {},
   "outputs": [],
   "source": []
  }
 ],
 "metadata": {
  "colab": {
   "provenance": []
  },
  "kernelspec": {
   "display_name": "Python 3 (ipykernel)",
   "language": "python",
   "name": "python3"
  },
  "language_info": {
   "codemirror_mode": {
    "name": "ipython",
    "version": 3
   },
   "file_extension": ".py",
   "mimetype": "text/x-python",
   "name": "python",
   "nbconvert_exporter": "python",
   "pygments_lexer": "ipython3",
   "version": "3.11.7"
  },
  "vscode": {
   "interpreter": {
    "hash": "cf09db7c5a43ebc020488360be383d2a4c3a085f9fc26d5b11b1a561cf0ad7de"
   }
  }
 },
 "nbformat": 4,
 "nbformat_minor": 1
}
